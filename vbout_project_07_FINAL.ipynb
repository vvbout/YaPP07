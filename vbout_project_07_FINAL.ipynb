{
 "cells": [
  {
   "cell_type": "markdown",
   "metadata": {},
   "source": [
    "# Приоритезация гипотез для увеличения выручки\n",
    "# Анализ результатов A/B-теста для крупного интернет магазина\n",
    "\n",
    "**Задача проекта** на основании предоставленных данных:\n",
    "\n",
    "* **Файл /datasets/hypothesis.csv**\n",
    "* Hypothesis — краткое описание гипотезы\n",
    "* Reach — охват пользователей по 10-балльной шкале\n",
    "* Impact — влияние на пользователей по 10-балльной шкале\n",
    "* Confidence — уверенность в гипотезе по 10-балльной шкале\n",
    "* Efforts — затраты ресурсов на проверку гипотезы по 10-балльной шкале. Чем больше значение Efforts, тем дороже проверка гипотезы\n",
    "\n",
    "* **Файл /datasets/orders.csv**\n",
    "* transactionId — идентификатор заказа\n",
    "* visitorId — идентификатор пользователя, совершившего заказ\n",
    "* date — дата, когда был совершён заказ\n",
    "* revenue — выручка заказа\n",
    "* group — группа A/B-теста, в которую попал заказ\n",
    "\n",
    "* **Файл /datasets/visitors.csv**\n",
    "* date — дата\n",
    "* group — группа A/B-теста\n",
    "* visitors — количество пользователей в указанную дату в указанной группе A/B-теста\n",
    "\n",
    "**Провести** ПРИОРИТЕЗАЦИЮ ГИПОТЕЗ.\n",
    "\n",
    "**Проанализировать** РЕЗУЛЬТАТЫ А/В ТЕСТА.\n",
    "\n",
    "**Принять** РЕШЕНИЕ ПО РЕЗУЛЬТАТАМ А/В ТЕСТА:\n",
    "1. Остановить тест, зафиксировать победу одной из групп\n",
    "2. Остановить тест, зафиксировать отсутствие различий между группами\n",
    "3. Продолжить тест"
   ]
  },
  {
   "cell_type": "markdown",
   "metadata": {},
   "source": [
    "## Загрузка и подготовка данных к анализу\n",
    "\n",
    "Путь к файлам:\n",
    "* /datasets/hypothesis.csv\n",
    "\n",
    "* /datasets/orders.csv\n",
    "\n",
    "* /datasets/visitors.csv"
   ]
  },
  {
   "cell_type": "markdown",
   "metadata": {},
   "source": [
    "### Загрузка данных"
   ]
  },
  {
   "cell_type": "code",
   "execution_count": 1,
   "metadata": {},
   "outputs": [],
   "source": [
    "# импортируем библиотеки, подготавливаем рабочую среду\n",
    "\n",
    "import pandas as pd\n",
    "from scipy import stats as st\n",
    "from scipy.stats import ttest_ind\n",
    "import numpy as np\n",
    "import math as mth\n",
    "from datetime import datetime, timedelta\n",
    "from matplotlib import pyplot as plt\n",
    "import seaborn as sns\n",
    "\n",
    "pd.set_option('display.max_columns', None)\n",
    "pd.set_option('max_colwidth', 110)"
   ]
  },
  {
   "cell_type": "code",
   "execution_count": 2,
   "metadata": {},
   "outputs": [
    {
     "data": {
      "text/html": [
       "<div>\n",
       "<style scoped>\n",
       "    .dataframe tbody tr th:only-of-type {\n",
       "        vertical-align: middle;\n",
       "    }\n",
       "\n",
       "    .dataframe tbody tr th {\n",
       "        vertical-align: top;\n",
       "    }\n",
       "\n",
       "    .dataframe thead th {\n",
       "        text-align: right;\n",
       "    }\n",
       "</style>\n",
       "<table border=\"1\" class=\"dataframe\">\n",
       "  <thead>\n",
       "    <tr style=\"text-align: right;\">\n",
       "      <th></th>\n",
       "      <th>Hypothesis</th>\n",
       "      <th>Reach</th>\n",
       "      <th>Impact</th>\n",
       "      <th>Confidence</th>\n",
       "      <th>Efforts</th>\n",
       "    </tr>\n",
       "  </thead>\n",
       "  <tbody>\n",
       "    <tr>\n",
       "      <td>0</td>\n",
       "      <td>Добавить два новых канала привлечения трафика, что позволит привлекать на 30% больше пользователей</td>\n",
       "      <td>3</td>\n",
       "      <td>10</td>\n",
       "      <td>8</td>\n",
       "      <td>6</td>\n",
       "    </tr>\n",
       "    <tr>\n",
       "      <td>1</td>\n",
       "      <td>Запустить собственную службу доставки, что сократит срок доставки заказов</td>\n",
       "      <td>2</td>\n",
       "      <td>5</td>\n",
       "      <td>4</td>\n",
       "      <td>10</td>\n",
       "    </tr>\n",
       "    <tr>\n",
       "      <td>2</td>\n",
       "      <td>Добавить блоки рекомендаций товаров на сайт интернет магазина, чтобы повысить конверсию и средний чек заказа</td>\n",
       "      <td>8</td>\n",
       "      <td>3</td>\n",
       "      <td>7</td>\n",
       "      <td>3</td>\n",
       "    </tr>\n",
       "    <tr>\n",
       "      <td>3</td>\n",
       "      <td>Изменить структура категорий, что увеличит конверсию, т.к. пользователи быстрее найдут нужный товар</td>\n",
       "      <td>8</td>\n",
       "      <td>3</td>\n",
       "      <td>3</td>\n",
       "      <td>8</td>\n",
       "    </tr>\n",
       "    <tr>\n",
       "      <td>4</td>\n",
       "      <td>Изменить цвет фона главной страницы, чтобы увеличить вовлеченность пользователей</td>\n",
       "      <td>3</td>\n",
       "      <td>1</td>\n",
       "      <td>1</td>\n",
       "      <td>1</td>\n",
       "    </tr>\n",
       "    <tr>\n",
       "      <td>5</td>\n",
       "      <td>Добавить страницу отзывов клиентов о магазине, что позволит увеличить количество заказов</td>\n",
       "      <td>3</td>\n",
       "      <td>2</td>\n",
       "      <td>2</td>\n",
       "      <td>3</td>\n",
       "    </tr>\n",
       "    <tr>\n",
       "      <td>6</td>\n",
       "      <td>Показать на главной странице баннеры с актуальными акциями и распродажами, чтобы увеличить конверсию</td>\n",
       "      <td>5</td>\n",
       "      <td>3</td>\n",
       "      <td>8</td>\n",
       "      <td>3</td>\n",
       "    </tr>\n",
       "    <tr>\n",
       "      <td>7</td>\n",
       "      <td>Добавить форму подписки на все основные страницы, чтобы собрать базу клиентов для email-рассылок</td>\n",
       "      <td>10</td>\n",
       "      <td>7</td>\n",
       "      <td>8</td>\n",
       "      <td>5</td>\n",
       "    </tr>\n",
       "    <tr>\n",
       "      <td>8</td>\n",
       "      <td>Запустить акцию, дающую скидку на товар в день рождения</td>\n",
       "      <td>1</td>\n",
       "      <td>9</td>\n",
       "      <td>9</td>\n",
       "      <td>5</td>\n",
       "    </tr>\n",
       "  </tbody>\n",
       "</table>\n",
       "</div>"
      ],
      "text/plain": [
       "                                                                                                     Hypothesis  \\\n",
       "0            Добавить два новых канала привлечения трафика, что позволит привлекать на 30% больше пользователей   \n",
       "1                                     Запустить собственную службу доставки, что сократит срок доставки заказов   \n",
       "2  Добавить блоки рекомендаций товаров на сайт интернет магазина, чтобы повысить конверсию и средний чек заказа   \n",
       "3           Изменить структура категорий, что увеличит конверсию, т.к. пользователи быстрее найдут нужный товар   \n",
       "4                              Изменить цвет фона главной страницы, чтобы увеличить вовлеченность пользователей   \n",
       "5                      Добавить страницу отзывов клиентов о магазине, что позволит увеличить количество заказов   \n",
       "6          Показать на главной странице баннеры с актуальными акциями и распродажами, чтобы увеличить конверсию   \n",
       "7              Добавить форму подписки на все основные страницы, чтобы собрать базу клиентов для email-рассылок   \n",
       "8                                                       Запустить акцию, дающую скидку на товар в день рождения   \n",
       "\n",
       "   Reach  Impact  Confidence  Efforts  \n",
       "0      3      10           8        6  \n",
       "1      2       5           4       10  \n",
       "2      8       3           7        3  \n",
       "3      8       3           3        8  \n",
       "4      3       1           1        1  \n",
       "5      3       2           2        3  \n",
       "6      5       3           8        3  \n",
       "7     10       7           8        5  \n",
       "8      1       9           9        5  "
      ]
     },
     "metadata": {},
     "output_type": "display_data"
    },
    {
     "name": "stdout",
     "output_type": "stream",
     "text": [
      "\n",
      "<class 'pandas.core.frame.DataFrame'>\n",
      "RangeIndex: 1197 entries, 0 to 1196\n",
      "Data columns (total 5 columns):\n",
      "transactionId    1197 non-null int64\n",
      "visitorId        1197 non-null int64\n",
      "date             1197 non-null object\n",
      "revenue          1197 non-null int64\n",
      "group            1197 non-null object\n",
      "dtypes: int64(3), object(2)\n",
      "memory usage: 46.9+ KB\n"
     ]
    },
    {
     "data": {
      "text/plain": [
       "None"
      ]
     },
     "metadata": {},
     "output_type": "display_data"
    },
    {
     "data": {
      "text/html": [
       "<div>\n",
       "<style scoped>\n",
       "    .dataframe tbody tr th:only-of-type {\n",
       "        vertical-align: middle;\n",
       "    }\n",
       "\n",
       "    .dataframe tbody tr th {\n",
       "        vertical-align: top;\n",
       "    }\n",
       "\n",
       "    .dataframe thead th {\n",
       "        text-align: right;\n",
       "    }\n",
       "</style>\n",
       "<table border=\"1\" class=\"dataframe\">\n",
       "  <thead>\n",
       "    <tr style=\"text-align: right;\">\n",
       "      <th></th>\n",
       "      <th>transactionId</th>\n",
       "      <th>visitorId</th>\n",
       "      <th>date</th>\n",
       "      <th>revenue</th>\n",
       "      <th>group</th>\n",
       "    </tr>\n",
       "  </thead>\n",
       "  <tbody>\n",
       "    <tr>\n",
       "      <td>0</td>\n",
       "      <td>3667963787</td>\n",
       "      <td>3312258926</td>\n",
       "      <td>2019-08-15</td>\n",
       "      <td>1650</td>\n",
       "      <td>B</td>\n",
       "    </tr>\n",
       "    <tr>\n",
       "      <td>1</td>\n",
       "      <td>2804400009</td>\n",
       "      <td>3642806036</td>\n",
       "      <td>2019-08-15</td>\n",
       "      <td>730</td>\n",
       "      <td>B</td>\n",
       "    </tr>\n",
       "    <tr>\n",
       "      <td>2</td>\n",
       "      <td>2961555356</td>\n",
       "      <td>4069496402</td>\n",
       "      <td>2019-08-15</td>\n",
       "      <td>400</td>\n",
       "      <td>A</td>\n",
       "    </tr>\n",
       "    <tr>\n",
       "      <td>3</td>\n",
       "      <td>3797467345</td>\n",
       "      <td>1196621759</td>\n",
       "      <td>2019-08-15</td>\n",
       "      <td>9759</td>\n",
       "      <td>B</td>\n",
       "    </tr>\n",
       "    <tr>\n",
       "      <td>4</td>\n",
       "      <td>2282983706</td>\n",
       "      <td>2322279887</td>\n",
       "      <td>2019-08-15</td>\n",
       "      <td>2308</td>\n",
       "      <td>B</td>\n",
       "    </tr>\n",
       "  </tbody>\n",
       "</table>\n",
       "</div>"
      ],
      "text/plain": [
       "   transactionId   visitorId        date  revenue group\n",
       "0     3667963787  3312258926  2019-08-15     1650     B\n",
       "1     2804400009  3642806036  2019-08-15      730     B\n",
       "2     2961555356  4069496402  2019-08-15      400     A\n",
       "3     3797467345  1196621759  2019-08-15     9759     B\n",
       "4     2282983706  2322279887  2019-08-15     2308     B"
      ]
     },
     "metadata": {},
     "output_type": "display_data"
    },
    {
     "name": "stdout",
     "output_type": "stream",
     "text": [
      "\n",
      "<class 'pandas.core.frame.DataFrame'>\n",
      "RangeIndex: 62 entries, 0 to 61\n",
      "Data columns (total 3 columns):\n",
      "date        62 non-null object\n",
      "group       62 non-null object\n",
      "visitors    62 non-null int64\n",
      "dtypes: int64(1), object(2)\n",
      "memory usage: 1.6+ KB\n"
     ]
    },
    {
     "data": {
      "text/plain": [
       "None"
      ]
     },
     "metadata": {},
     "output_type": "display_data"
    },
    {
     "data": {
      "text/html": [
       "<div>\n",
       "<style scoped>\n",
       "    .dataframe tbody tr th:only-of-type {\n",
       "        vertical-align: middle;\n",
       "    }\n",
       "\n",
       "    .dataframe tbody tr th {\n",
       "        vertical-align: top;\n",
       "    }\n",
       "\n",
       "    .dataframe thead th {\n",
       "        text-align: right;\n",
       "    }\n",
       "</style>\n",
       "<table border=\"1\" class=\"dataframe\">\n",
       "  <thead>\n",
       "    <tr style=\"text-align: right;\">\n",
       "      <th></th>\n",
       "      <th>date</th>\n",
       "      <th>group</th>\n",
       "      <th>visitors</th>\n",
       "    </tr>\n",
       "  </thead>\n",
       "  <tbody>\n",
       "    <tr>\n",
       "      <td>0</td>\n",
       "      <td>2019-08-01</td>\n",
       "      <td>A</td>\n",
       "      <td>719</td>\n",
       "    </tr>\n",
       "    <tr>\n",
       "      <td>1</td>\n",
       "      <td>2019-08-02</td>\n",
       "      <td>A</td>\n",
       "      <td>619</td>\n",
       "    </tr>\n",
       "    <tr>\n",
       "      <td>2</td>\n",
       "      <td>2019-08-03</td>\n",
       "      <td>A</td>\n",
       "      <td>507</td>\n",
       "    </tr>\n",
       "    <tr>\n",
       "      <td>3</td>\n",
       "      <td>2019-08-04</td>\n",
       "      <td>A</td>\n",
       "      <td>717</td>\n",
       "    </tr>\n",
       "    <tr>\n",
       "      <td>4</td>\n",
       "      <td>2019-08-05</td>\n",
       "      <td>A</td>\n",
       "      <td>756</td>\n",
       "    </tr>\n",
       "    <tr>\n",
       "      <td>...</td>\n",
       "      <td>...</td>\n",
       "      <td>...</td>\n",
       "      <td>...</td>\n",
       "    </tr>\n",
       "    <tr>\n",
       "      <td>57</td>\n",
       "      <td>2019-08-27</td>\n",
       "      <td>B</td>\n",
       "      <td>720</td>\n",
       "    </tr>\n",
       "    <tr>\n",
       "      <td>58</td>\n",
       "      <td>2019-08-28</td>\n",
       "      <td>B</td>\n",
       "      <td>654</td>\n",
       "    </tr>\n",
       "    <tr>\n",
       "      <td>59</td>\n",
       "      <td>2019-08-29</td>\n",
       "      <td>B</td>\n",
       "      <td>531</td>\n",
       "    </tr>\n",
       "    <tr>\n",
       "      <td>60</td>\n",
       "      <td>2019-08-30</td>\n",
       "      <td>B</td>\n",
       "      <td>490</td>\n",
       "    </tr>\n",
       "    <tr>\n",
       "      <td>61</td>\n",
       "      <td>2019-08-31</td>\n",
       "      <td>B</td>\n",
       "      <td>718</td>\n",
       "    </tr>\n",
       "  </tbody>\n",
       "</table>\n",
       "<p>62 rows × 3 columns</p>\n",
       "</div>"
      ],
      "text/plain": [
       "          date group  visitors\n",
       "0   2019-08-01     A       719\n",
       "1   2019-08-02     A       619\n",
       "2   2019-08-03     A       507\n",
       "3   2019-08-04     A       717\n",
       "4   2019-08-05     A       756\n",
       "..         ...   ...       ...\n",
       "57  2019-08-27     B       720\n",
       "58  2019-08-28     B       654\n",
       "59  2019-08-29     B       531\n",
       "60  2019-08-30     B       490\n",
       "61  2019-08-31     B       718\n",
       "\n",
       "[62 rows x 3 columns]"
      ]
     },
     "metadata": {},
     "output_type": "display_data"
    }
   ],
   "source": [
    "# загружаем данные,\n",
    "# выводим данные и информацию о данных\n",
    "\n",
    "hypothesis = pd.read_csv('/datasets/hypothesis.csv')\n",
    "orders = pd.read_csv('/datasets/orders.csv')\n",
    "visitors = pd.read_csv('/datasets/visitors.csv')\n",
    "\n",
    "display(hypothesis)\n",
    "print() \n",
    "display(orders.info(), orders.head(5))\n",
    "print()\n",
    "display(visitors.info(), visitors)\n"
   ]
  },
  {
   "cell_type": "markdown",
   "metadata": {},
   "source": [
    "### Проверка и преобразование данных"
   ]
  },
  {
   "cell_type": "code",
   "execution_count": 3,
   "metadata": {},
   "outputs": [
    {
     "data": {
      "text/plain": [
       "Index(['hypothesis', 'reach', 'impact', 'confidence', 'efforts'], dtype='object')"
      ]
     },
     "metadata": {},
     "output_type": "display_data"
    }
   ],
   "source": [
    "# приводим названия колонок в таблице hypothesis к нижнему регистру\n",
    "\n",
    "hypothesis.columns = map(str.lower, hypothesis.columns)\n",
    "display(hypothesis.columns)"
   ]
  },
  {
   "cell_type": "code",
   "execution_count": 4,
   "metadata": {},
   "outputs": [
    {
     "name": "stdout",
     "output_type": "stream",
     "text": [
      "Кол-во дубликатов в таблице orders: 0\n",
      "\n",
      "Кол-во дубликатов в таблице visitors: 0\n"
     ]
    }
   ],
   "source": [
    "# проверяем наличие дубликатов в таблицах orders и visitors\n",
    "\n",
    "print('Кол-во дубликатов в таблице orders:', orders.duplicated().sum())\n",
    "print()\n",
    "print('Кол-во дубликатов в таблице visitors:', visitors.duplicated().sum())"
   ]
  },
  {
   "cell_type": "code",
   "execution_count": 5,
   "metadata": {},
   "outputs": [
    {
     "data": {
      "text/plain": [
       "transactionId             int64\n",
       "visitorId                 int64\n",
       "date             datetime64[ns]\n",
       "revenue                   int64\n",
       "group                    object\n",
       "dtype: object"
      ]
     },
     "metadata": {},
     "output_type": "display_data"
    },
    {
     "data": {
      "text/plain": [
       "date        datetime64[ns]\n",
       "group               object\n",
       "visitors             int64\n",
       "dtype: object"
      ]
     },
     "metadata": {},
     "output_type": "display_data"
    }
   ],
   "source": [
    "# приводим данные в колонках date в таблицах\n",
    "# orders и visitors к формату datetime\n",
    "\n",
    "orders['date'] = orders['date'].map(lambda x: datetime.strptime(x, '%Y-%m-%d'))\n",
    "visitors['date'] = visitors['date'].map(lambda x: datetime.strptime(x, '%Y-%m-%d'))\n",
    "display(orders.dtypes, visitors.dtypes)"
   ]
  },
  {
   "cell_type": "code",
   "execution_count": 6,
   "metadata": {},
   "outputs": [
    {
     "name": "stdout",
     "output_type": "stream",
     "text": [
      "Таблица orders - мин дата: 2019-08-01 00:00:00, макс дата: 2019-08-31 00:00:00\n",
      "\n",
      "Таблица visitors - мин дата: 2019-08-01 00:00:00, макс дата: 2019-08-31 00:00:00\n"
     ]
    }
   ],
   "source": [
    "# проверяем минимальные и максимальные значения колонок date в таблицах orders и visitors\n",
    "\n",
    "print('Таблица orders - мин дата: {}, макс дата: {}'.format(orders['date'].min(), orders['date'].max()))\n",
    "print()\n",
    "print('Таблица visitors - мин дата: {}, макс дата: {}'.format(visitors['date'].min(), visitors['date'].max()))"
   ]
  },
  {
   "cell_type": "markdown",
   "metadata": {},
   "source": [
    "### Анализ распределение пользователей по группам"
   ]
  },
  {
   "cell_type": "code",
   "execution_count": 7,
   "metadata": {},
   "outputs": [
    {
     "data": {
      "text/html": [
       "<div>\n",
       "<style scoped>\n",
       "    .dataframe tbody tr th:only-of-type {\n",
       "        vertical-align: middle;\n",
       "    }\n",
       "\n",
       "    .dataframe tbody tr th {\n",
       "        vertical-align: top;\n",
       "    }\n",
       "\n",
       "    .dataframe thead th {\n",
       "        text-align: right;\n",
       "    }\n",
       "</style>\n",
       "<table border=\"1\" class=\"dataframe\">\n",
       "  <thead>\n",
       "    <tr style=\"text-align: right;\">\n",
       "      <th>group</th>\n",
       "      <th>visitorId</th>\n",
       "      <th>A</th>\n",
       "      <th>B</th>\n",
       "    </tr>\n",
       "  </thead>\n",
       "  <tbody>\n",
       "    <tr>\n",
       "      <td>591</td>\n",
       "      <td>2458001652</td>\n",
       "      <td>5.0</td>\n",
       "      <td>6.0</td>\n",
       "    </tr>\n",
       "    <tr>\n",
       "      <td>569</td>\n",
       "      <td>2378935119</td>\n",
       "      <td>4.0</td>\n",
       "      <td>5.0</td>\n",
       "    </tr>\n",
       "    <tr>\n",
       "      <td>897</td>\n",
       "      <td>3717692402</td>\n",
       "      <td>1.0</td>\n",
       "      <td>4.0</td>\n",
       "    </tr>\n",
       "    <tr>\n",
       "      <td>917</td>\n",
       "      <td>3803269165</td>\n",
       "      <td>1.0</td>\n",
       "      <td>4.0</td>\n",
       "    </tr>\n",
       "    <tr>\n",
       "      <td>744</td>\n",
       "      <td>3062433592</td>\n",
       "      <td>1.0</td>\n",
       "      <td>4.0</td>\n",
       "    </tr>\n",
       "    <tr>\n",
       "      <td>1023</td>\n",
       "      <td>4256040402</td>\n",
       "      <td>7.0</td>\n",
       "      <td>4.0</td>\n",
       "    </tr>\n",
       "    <tr>\n",
       "      <td>619</td>\n",
       "      <td>2587333274</td>\n",
       "      <td>1.0</td>\n",
       "      <td>3.0</td>\n",
       "    </tr>\n",
       "    <tr>\n",
       "      <td>667</td>\n",
       "      <td>2742574263</td>\n",
       "      <td>0.0</td>\n",
       "      <td>3.0</td>\n",
       "    </tr>\n",
       "    <tr>\n",
       "      <td>487</td>\n",
       "      <td>2038680547</td>\n",
       "      <td>5.0</td>\n",
       "      <td>3.0</td>\n",
       "    </tr>\n",
       "    <tr>\n",
       "      <td>114</td>\n",
       "      <td>457167155</td>\n",
       "      <td>1.0</td>\n",
       "      <td>3.0</td>\n",
       "    </tr>\n",
       "  </tbody>\n",
       "</table>\n",
       "</div>"
      ],
      "text/plain": [
       "group   visitorId    A    B\n",
       "591    2458001652  5.0  6.0\n",
       "569    2378935119  4.0  5.0\n",
       "897    3717692402  1.0  4.0\n",
       "917    3803269165  1.0  4.0\n",
       "744    3062433592  1.0  4.0\n",
       "1023   4256040402  7.0  4.0\n",
       "619    2587333274  1.0  3.0\n",
       "667    2742574263  0.0  3.0\n",
       "487    2038680547  5.0  3.0\n",
       "114     457167155  1.0  3.0"
      ]
     },
     "metadata": {},
     "output_type": "display_data"
    }
   ],
   "source": [
    "# строим сводную таблицу с распределением заказаов\n",
    "# по каждому уникальному id пользователя между группами теста\n",
    "\n",
    "orders_split = orders.pivot_table(index = 'visitorId', columns = 'group', values = 'transactionId', aggfunc = ('count')).reset_index()\n",
    "orders_split = orders_split.fillna(0)\n",
    "display(orders_split.sort_values(by='B', ascending=False).head(10))\n"
   ]
  },
  {
   "cell_type": "code",
   "execution_count": 8,
   "metadata": {},
   "outputs": [
    {
     "data": {
      "text/plain": [
       "group\n",
       "visitorId    58\n",
       "A            58\n",
       "B            58\n",
       "group_mix    58\n",
       "dtype: int64"
      ]
     },
     "metadata": {},
     "output_type": "display_data"
    }
   ],
   "source": [
    "# строим функцию, через которую каждому уникальному id пользователя\n",
    "# присваиваем статус деления трафика: если заказы в обеих группах - mix,\n",
    "# если заказы чисто в группе А или группе В - pure\n",
    "\n",
    "def traffic_mix(row):\n",
    "    A=row['A']\n",
    "    B=row['B']\n",
    "    if A > 0:\n",
    "        if B > 0:\n",
    "            return \"mix\"\n",
    "    if A == 0:\n",
    "        if B > 0:\n",
    "            return \"pure\"\n",
    "    if B == 0:\n",
    "        if A > 0:\n",
    "            return \"pure\"\n",
    "\n",
    "orders_split[\"group_mix\"] = orders_split.apply(traffic_mix, axis=1)\n",
    "display(orders_split[orders_split['group_mix'] == 'mix'].count())"
   ]
  },
  {
   "cell_type": "code",
   "execution_count": 9,
   "metadata": {},
   "outputs": [
    {
     "data": {
      "text/plain": [
       "group_mix\n",
       "mix      6.0\n",
       "pure    94.0\n",
       "Name: visitorId, dtype: float64"
      ]
     },
     "metadata": {},
     "output_type": "display_data"
    }
   ],
   "source": [
    "# считаем процент распределения траффика по клиентам\n",
    "\n",
    "display((orders_split.groupby('group_mix')['visitorId'].count() / 1031 * 100).round())"
   ]
  },
  {
   "cell_type": "code",
   "execution_count": 10,
   "metadata": {},
   "outputs": [
    {
     "data": {
      "text/plain": [
       "group_mix\n",
       "mix     16.0\n",
       "pure    84.0\n",
       "Name: revenue, dtype: float64"
      ]
     },
     "metadata": {},
     "output_type": "display_data"
    }
   ],
   "source": [
    "# считаем процент распределения траффика по выручке\n",
    "\n",
    "orders_merged = orders.merge(orders_split, on='visitorId', how = 'left')\n",
    "\n",
    "display((orders_merged.groupby('group_mix')['revenue'].sum() / orders_merged['revenue'].sum() * 100).round())"
   ]
  },
  {
   "cell_type": "code",
   "execution_count": 11,
   "metadata": {},
   "outputs": [
    {
     "data": {
      "text/html": [
       "<div>\n",
       "<style scoped>\n",
       "    .dataframe tbody tr th:only-of-type {\n",
       "        vertical-align: middle;\n",
       "    }\n",
       "\n",
       "    .dataframe tbody tr th {\n",
       "        vertical-align: top;\n",
       "    }\n",
       "\n",
       "    .dataframe thead th {\n",
       "        text-align: right;\n",
       "    }\n",
       "</style>\n",
       "<table border=\"1\" class=\"dataframe\">\n",
       "  <thead>\n",
       "    <tr style=\"text-align: right;\">\n",
       "      <th></th>\n",
       "      <th>group</th>\n",
       "      <th>visitorId</th>\n",
       "    </tr>\n",
       "    <tr>\n",
       "      <th>group</th>\n",
       "      <th></th>\n",
       "      <th></th>\n",
       "    </tr>\n",
       "  </thead>\n",
       "  <tbody>\n",
       "    <tr>\n",
       "      <td>A</td>\n",
       "      <td>A</td>\n",
       "      <td>503</td>\n",
       "    </tr>\n",
       "    <tr>\n",
       "      <td>B</td>\n",
       "      <td>B</td>\n",
       "      <td>586</td>\n",
       "    </tr>\n",
       "  </tbody>\n",
       "</table>\n",
       "</div>"
      ],
      "text/plain": [
       "      group  visitorId\n",
       "group                 \n",
       "A         A        503\n",
       "B         B        586"
      ]
     },
     "metadata": {},
     "output_type": "display_data"
    }
   ],
   "source": [
    "# считаем распределение пользователей по группам\n",
    "\n",
    "display(orders.sort_values(by='date', ascending=True).groupby('group').agg({'group':'first', 'visitorId':'nunique'}))"
   ]
  },
  {
   "cell_type": "markdown",
   "metadata": {},
   "source": [
    "**ВЫВОДЫ:**\n",
    "\n",
    "Анализ распределения трафика по группам показал, что сплит не работает корректно:\n",
    "* 6% пользователей попали как в контрольную, так и в тестовую группы\n",
    "* с точки зрения выручки 16% приходится на миксованный траффик\n",
    "* Пользователи поделились по группам не в равных долях: группа А = 503 пользователя, группа В = 586 пользователей. Относительное различие равно 15%"
   ]
  },
  {
   "cell_type": "markdown",
   "metadata": {},
   "source": [
    "### Выводы\n",
    "\n",
    "* данные представлены в 3-х таблицах\n",
    "\n",
    "* **таблица hypothesis** содержит текстовую информацию о 9 гипотезах для увеличения выручки с распределением баллов по параметрам: *охват, влияние, уверенность, ресурсоемкость*. В качестве преобразований названия колонок в таблице приведены к нижнему регистру.\n",
    "\n",
    "* **таблица orders** содержит 1 197 записей об уникальных заказах, участвовавших в А/В тесте. Не содержит дубликатов. В качестве преобразований значения колонки date приведены к формату datetime.\n",
    "\n",
    "* **таблица visitors** содержит 62 записи о суммарном количестве пользователей на каждую дату теста в разбивке по группам А и В. Не содержит дубликатов. В качестве преобразований значения колонки date приведены к формату datetime.\n",
    "\n",
    "* Минимальные и максимальные даты в таблицах orders и visitors совпадают. Согласно предоставленным данным тест проводился в период с 01.08.2019 по 31.08.2019.\n",
    "\n",
    "* Некорректный сплит по группам должен быть учтен при очистке данных"
   ]
  },
  {
   "cell_type": "markdown",
   "metadata": {},
   "source": [
    "## Приоритезация гипотез\n",
    "\n",
    "* фреймворк ICE c сортировкой по убыванию приоритета\n",
    "* фреймворк RICE с сортировкой по убыванию приоритета\n",
    "* интерпретация причин изменения приоритизации гипотез при применении RICE вместо ICE"
   ]
  },
  {
   "cell_type": "markdown",
   "metadata": {},
   "source": [
    "### Фреймворк ICE c сортировкой по убыванию приоритета"
   ]
  },
  {
   "cell_type": "code",
   "execution_count": 12,
   "metadata": {},
   "outputs": [
    {
     "data": {
      "text/html": [
       "<style  type=\"text/css\" >\n",
       "    #T_b291ab34_697f_11ec_8247_02420a397522row0_col1 {\n",
       "            : ;\n",
       "            background-color:  yellow;\n",
       "        }    #T_b291ab34_697f_11ec_8247_02420a397522row0_col3 {\n",
       "            background-color:  lightgreen;\n",
       "            : ;\n",
       "        }    #T_b291ab34_697f_11ec_8247_02420a397522row0_col5 {\n",
       "            background-color:  lightgreen;\n",
       "            : ;\n",
       "        }    #T_b291ab34_697f_11ec_8247_02420a397522row1_col2 {\n",
       "            background-color:  lightgreen;\n",
       "            : ;\n",
       "        }    #T_b291ab34_697f_11ec_8247_02420a397522row2_col1 {\n",
       "            background-color:  lightgreen;\n",
       "            : ;\n",
       "        }    #T_b291ab34_697f_11ec_8247_02420a397522row5_col4 {\n",
       "            background-color:  lightgreen;\n",
       "            : ;\n",
       "        }    #T_b291ab34_697f_11ec_8247_02420a397522row8_col2 {\n",
       "            : ;\n",
       "            background-color:  yellow;\n",
       "        }    #T_b291ab34_697f_11ec_8247_02420a397522row8_col3 {\n",
       "            : ;\n",
       "            background-color:  yellow;\n",
       "        }    #T_b291ab34_697f_11ec_8247_02420a397522row8_col4 {\n",
       "            : ;\n",
       "            background-color:  yellow;\n",
       "        }    #T_b291ab34_697f_11ec_8247_02420a397522row8_col5 {\n",
       "            : ;\n",
       "            background-color:  yellow;\n",
       "        }</style><table id=\"T_b291ab34_697f_11ec_8247_02420a397522\" ><thead>    <tr>        <th class=\"blank level0\" ></th>        <th class=\"col_heading level0 col0\" >hypothesis</th>        <th class=\"col_heading level0 col1\" >reach</th>        <th class=\"col_heading level0 col2\" >impact</th>        <th class=\"col_heading level0 col3\" >confidence</th>        <th class=\"col_heading level0 col4\" >efforts</th>        <th class=\"col_heading level0 col5\" >ICE</th>    </tr></thead><tbody>\n",
       "                <tr>\n",
       "                        <th id=\"T_b291ab34_697f_11ec_8247_02420a397522level0_row0\" class=\"row_heading level0 row0\" >8</th>\n",
       "                        <td id=\"T_b291ab34_697f_11ec_8247_02420a397522row0_col0\" class=\"data row0 col0\" >Запустить акцию, дающую скидку на товар в день рождения</td>\n",
       "                        <td id=\"T_b291ab34_697f_11ec_8247_02420a397522row0_col1\" class=\"data row0 col1\" >1</td>\n",
       "                        <td id=\"T_b291ab34_697f_11ec_8247_02420a397522row0_col2\" class=\"data row0 col2\" >9</td>\n",
       "                        <td id=\"T_b291ab34_697f_11ec_8247_02420a397522row0_col3\" class=\"data row0 col3\" >9</td>\n",
       "                        <td id=\"T_b291ab34_697f_11ec_8247_02420a397522row0_col4\" class=\"data row0 col4\" >5</td>\n",
       "                        <td id=\"T_b291ab34_697f_11ec_8247_02420a397522row0_col5\" class=\"data row0 col5\" >16.2</td>\n",
       "            </tr>\n",
       "            <tr>\n",
       "                        <th id=\"T_b291ab34_697f_11ec_8247_02420a397522level0_row1\" class=\"row_heading level0 row1\" >0</th>\n",
       "                        <td id=\"T_b291ab34_697f_11ec_8247_02420a397522row1_col0\" class=\"data row1 col0\" >Добавить два новых канала привлечения трафика, что позволит привлекать на 30% больше пользователей</td>\n",
       "                        <td id=\"T_b291ab34_697f_11ec_8247_02420a397522row1_col1\" class=\"data row1 col1\" >3</td>\n",
       "                        <td id=\"T_b291ab34_697f_11ec_8247_02420a397522row1_col2\" class=\"data row1 col2\" >10</td>\n",
       "                        <td id=\"T_b291ab34_697f_11ec_8247_02420a397522row1_col3\" class=\"data row1 col3\" >8</td>\n",
       "                        <td id=\"T_b291ab34_697f_11ec_8247_02420a397522row1_col4\" class=\"data row1 col4\" >6</td>\n",
       "                        <td id=\"T_b291ab34_697f_11ec_8247_02420a397522row1_col5\" class=\"data row1 col5\" >13.3</td>\n",
       "            </tr>\n",
       "            <tr>\n",
       "                        <th id=\"T_b291ab34_697f_11ec_8247_02420a397522level0_row2\" class=\"row_heading level0 row2\" >7</th>\n",
       "                        <td id=\"T_b291ab34_697f_11ec_8247_02420a397522row2_col0\" class=\"data row2 col0\" >Добавить форму подписки на все основные страницы, чтобы собрать базу клиентов для email-рассылок</td>\n",
       "                        <td id=\"T_b291ab34_697f_11ec_8247_02420a397522row2_col1\" class=\"data row2 col1\" >10</td>\n",
       "                        <td id=\"T_b291ab34_697f_11ec_8247_02420a397522row2_col2\" class=\"data row2 col2\" >7</td>\n",
       "                        <td id=\"T_b291ab34_697f_11ec_8247_02420a397522row2_col3\" class=\"data row2 col3\" >8</td>\n",
       "                        <td id=\"T_b291ab34_697f_11ec_8247_02420a397522row2_col4\" class=\"data row2 col4\" >5</td>\n",
       "                        <td id=\"T_b291ab34_697f_11ec_8247_02420a397522row2_col5\" class=\"data row2 col5\" >11.2</td>\n",
       "            </tr>\n",
       "            <tr>\n",
       "                        <th id=\"T_b291ab34_697f_11ec_8247_02420a397522level0_row3\" class=\"row_heading level0 row3\" >6</th>\n",
       "                        <td id=\"T_b291ab34_697f_11ec_8247_02420a397522row3_col0\" class=\"data row3 col0\" >Показать на главной странице баннеры с актуальными акциями и распродажами, чтобы увеличить конверсию</td>\n",
       "                        <td id=\"T_b291ab34_697f_11ec_8247_02420a397522row3_col1\" class=\"data row3 col1\" >5</td>\n",
       "                        <td id=\"T_b291ab34_697f_11ec_8247_02420a397522row3_col2\" class=\"data row3 col2\" >3</td>\n",
       "                        <td id=\"T_b291ab34_697f_11ec_8247_02420a397522row3_col3\" class=\"data row3 col3\" >8</td>\n",
       "                        <td id=\"T_b291ab34_697f_11ec_8247_02420a397522row3_col4\" class=\"data row3 col4\" >3</td>\n",
       "                        <td id=\"T_b291ab34_697f_11ec_8247_02420a397522row3_col5\" class=\"data row3 col5\" >8</td>\n",
       "            </tr>\n",
       "            <tr>\n",
       "                        <th id=\"T_b291ab34_697f_11ec_8247_02420a397522level0_row4\" class=\"row_heading level0 row4\" >2</th>\n",
       "                        <td id=\"T_b291ab34_697f_11ec_8247_02420a397522row4_col0\" class=\"data row4 col0\" >Добавить блоки рекомендаций товаров на сайт интернет магазина, чтобы повысить конверсию и средний чек заказа</td>\n",
       "                        <td id=\"T_b291ab34_697f_11ec_8247_02420a397522row4_col1\" class=\"data row4 col1\" >8</td>\n",
       "                        <td id=\"T_b291ab34_697f_11ec_8247_02420a397522row4_col2\" class=\"data row4 col2\" >3</td>\n",
       "                        <td id=\"T_b291ab34_697f_11ec_8247_02420a397522row4_col3\" class=\"data row4 col3\" >7</td>\n",
       "                        <td id=\"T_b291ab34_697f_11ec_8247_02420a397522row4_col4\" class=\"data row4 col4\" >3</td>\n",
       "                        <td id=\"T_b291ab34_697f_11ec_8247_02420a397522row4_col5\" class=\"data row4 col5\" >7</td>\n",
       "            </tr>\n",
       "            <tr>\n",
       "                        <th id=\"T_b291ab34_697f_11ec_8247_02420a397522level0_row5\" class=\"row_heading level0 row5\" >1</th>\n",
       "                        <td id=\"T_b291ab34_697f_11ec_8247_02420a397522row5_col0\" class=\"data row5 col0\" >Запустить собственную службу доставки, что сократит срок доставки заказов</td>\n",
       "                        <td id=\"T_b291ab34_697f_11ec_8247_02420a397522row5_col1\" class=\"data row5 col1\" >2</td>\n",
       "                        <td id=\"T_b291ab34_697f_11ec_8247_02420a397522row5_col2\" class=\"data row5 col2\" >5</td>\n",
       "                        <td id=\"T_b291ab34_697f_11ec_8247_02420a397522row5_col3\" class=\"data row5 col3\" >4</td>\n",
       "                        <td id=\"T_b291ab34_697f_11ec_8247_02420a397522row5_col4\" class=\"data row5 col4\" >10</td>\n",
       "                        <td id=\"T_b291ab34_697f_11ec_8247_02420a397522row5_col5\" class=\"data row5 col5\" >2</td>\n",
       "            </tr>\n",
       "            <tr>\n",
       "                        <th id=\"T_b291ab34_697f_11ec_8247_02420a397522level0_row6\" class=\"row_heading level0 row6\" >5</th>\n",
       "                        <td id=\"T_b291ab34_697f_11ec_8247_02420a397522row6_col0\" class=\"data row6 col0\" >Добавить страницу отзывов клиентов о магазине, что позволит увеличить количество заказов</td>\n",
       "                        <td id=\"T_b291ab34_697f_11ec_8247_02420a397522row6_col1\" class=\"data row6 col1\" >3</td>\n",
       "                        <td id=\"T_b291ab34_697f_11ec_8247_02420a397522row6_col2\" class=\"data row6 col2\" >2</td>\n",
       "                        <td id=\"T_b291ab34_697f_11ec_8247_02420a397522row6_col3\" class=\"data row6 col3\" >2</td>\n",
       "                        <td id=\"T_b291ab34_697f_11ec_8247_02420a397522row6_col4\" class=\"data row6 col4\" >3</td>\n",
       "                        <td id=\"T_b291ab34_697f_11ec_8247_02420a397522row6_col5\" class=\"data row6 col5\" >1.3</td>\n",
       "            </tr>\n",
       "            <tr>\n",
       "                        <th id=\"T_b291ab34_697f_11ec_8247_02420a397522level0_row7\" class=\"row_heading level0 row7\" >3</th>\n",
       "                        <td id=\"T_b291ab34_697f_11ec_8247_02420a397522row7_col0\" class=\"data row7 col0\" >Изменить структура категорий, что увеличит конверсию, т.к. пользователи быстрее найдут нужный товар</td>\n",
       "                        <td id=\"T_b291ab34_697f_11ec_8247_02420a397522row7_col1\" class=\"data row7 col1\" >8</td>\n",
       "                        <td id=\"T_b291ab34_697f_11ec_8247_02420a397522row7_col2\" class=\"data row7 col2\" >3</td>\n",
       "                        <td id=\"T_b291ab34_697f_11ec_8247_02420a397522row7_col3\" class=\"data row7 col3\" >3</td>\n",
       "                        <td id=\"T_b291ab34_697f_11ec_8247_02420a397522row7_col4\" class=\"data row7 col4\" >8</td>\n",
       "                        <td id=\"T_b291ab34_697f_11ec_8247_02420a397522row7_col5\" class=\"data row7 col5\" >1.1</td>\n",
       "            </tr>\n",
       "            <tr>\n",
       "                        <th id=\"T_b291ab34_697f_11ec_8247_02420a397522level0_row8\" class=\"row_heading level0 row8\" >4</th>\n",
       "                        <td id=\"T_b291ab34_697f_11ec_8247_02420a397522row8_col0\" class=\"data row8 col0\" >Изменить цвет фона главной страницы, чтобы увеличить вовлеченность пользователей</td>\n",
       "                        <td id=\"T_b291ab34_697f_11ec_8247_02420a397522row8_col1\" class=\"data row8 col1\" >3</td>\n",
       "                        <td id=\"T_b291ab34_697f_11ec_8247_02420a397522row8_col2\" class=\"data row8 col2\" >1</td>\n",
       "                        <td id=\"T_b291ab34_697f_11ec_8247_02420a397522row8_col3\" class=\"data row8 col3\" >1</td>\n",
       "                        <td id=\"T_b291ab34_697f_11ec_8247_02420a397522row8_col4\" class=\"data row8 col4\" >1</td>\n",
       "                        <td id=\"T_b291ab34_697f_11ec_8247_02420a397522row8_col5\" class=\"data row8 col5\" >1</td>\n",
       "            </tr>\n",
       "    </tbody></table>"
      ],
      "text/plain": [
       "<pandas.io.formats.style.Styler at 0x7fced6d63f90>"
      ]
     },
     "metadata": {},
     "output_type": "display_data"
    }
   ],
   "source": [
    "# добавляем в таблицу hypothesis колонку с расчетным значением ICE\n",
    "\n",
    "hypothesis['ICE'] = (hypothesis['impact'] * hypothesis['confidence'] / hypothesis['efforts']).round(1)\n",
    "\n",
    "display(hypothesis.sort_values(by='ICE', ascending=False).style.highlight_max(color = 'lightgreen').highlight_min(color = 'yellow'))"
   ]
  },
  {
   "cell_type": "markdown",
   "metadata": {},
   "source": [
    "**ВЫВОДЫ ПО РАСЧЕТАМ:**\n",
    "\n",
    "Методика приоретизации гипотез ICE учитывает 3 компонента:\n",
    "* **I**mpact - влияние на пользователей\n",
    "* **C**onfidence - сила уверенности в гипотезе\n",
    "* **E**fforts - ресурсоемкость\n",
    "\n",
    "И рсчитывается по формуле:\n",
    "\n",
    "$$ICE = \\frac{Impact * Confidence}{Efforts}$$\n",
    "\n",
    "Влияние и уверенность усиливают друг друга, тогда как ресурсоемкость играет на понижение общего балла. В ТОП 3 по оценке ICE вошли гипотезы с максимальными или близкими к максимальным баллами оценки влияния на пользователей и силы уверенности команды а также средними значениями оценки ресурсоемкости реализации:\n",
    "* **8** Запустить акцию, дающую скидку на товар в день рождения\n",
    "* **0** Добавить 2 новых канала привлечения трафика, что позволит привлекать на 30% больше пользователей\n",
    "* **7** Добавить форму подписки на все основные страницы, чтобы собрать базу клиентов для email-рассылок\n",
    "\n",
    "Команда оценивает силу влияния этих гипотез как: 9 - 10 - 7 (из 10)\n",
    "\n",
    "Близко к максимуму верит в эти гипотезы: 9 - 8 - 8 (из 10)\n",
    "\n",
    "И оценивает количество ресурсов на реализацию как среднее: 5 - 6 - 5 (из 10)"
   ]
  },
  {
   "cell_type": "markdown",
   "metadata": {},
   "source": [
    "### Фреймворк RICE с сортировкой по убыванию приоритета"
   ]
  },
  {
   "cell_type": "code",
   "execution_count": 13,
   "metadata": {},
   "outputs": [
    {
     "data": {
      "text/html": [
       "<style  type=\"text/css\" >\n",
       "    #T_b2a0a972_697f_11ec_8247_02420a397522row0_col1 {\n",
       "            background-color:  lightgreen;\n",
       "            : ;\n",
       "        }    #T_b2a0a972_697f_11ec_8247_02420a397522row0_col6 {\n",
       "            background-color:  lightgreen;\n",
       "            : ;\n",
       "        }    #T_b2a0a972_697f_11ec_8247_02420a397522row2_col2 {\n",
       "            background-color:  lightgreen;\n",
       "            : ;\n",
       "        }    #T_b2a0a972_697f_11ec_8247_02420a397522row4_col1 {\n",
       "            : ;\n",
       "            background-color:  yellow;\n",
       "        }    #T_b2a0a972_697f_11ec_8247_02420a397522row4_col3 {\n",
       "            background-color:  lightgreen;\n",
       "            : ;\n",
       "        }    #T_b2a0a972_697f_11ec_8247_02420a397522row4_col5 {\n",
       "            background-color:  lightgreen;\n",
       "            : ;\n",
       "        }    #T_b2a0a972_697f_11ec_8247_02420a397522row6_col4 {\n",
       "            background-color:  lightgreen;\n",
       "            : ;\n",
       "        }    #T_b2a0a972_697f_11ec_8247_02420a397522row8_col2 {\n",
       "            : ;\n",
       "            background-color:  yellow;\n",
       "        }    #T_b2a0a972_697f_11ec_8247_02420a397522row8_col3 {\n",
       "            : ;\n",
       "            background-color:  yellow;\n",
       "        }    #T_b2a0a972_697f_11ec_8247_02420a397522row8_col4 {\n",
       "            : ;\n",
       "            background-color:  yellow;\n",
       "        }    #T_b2a0a972_697f_11ec_8247_02420a397522row8_col5 {\n",
       "            : ;\n",
       "            background-color:  yellow;\n",
       "        }    #T_b2a0a972_697f_11ec_8247_02420a397522row8_col6 {\n",
       "            : ;\n",
       "            background-color:  yellow;\n",
       "        }</style><table id=\"T_b2a0a972_697f_11ec_8247_02420a397522\" ><thead>    <tr>        <th class=\"blank level0\" ></th>        <th class=\"col_heading level0 col0\" >hypothesis</th>        <th class=\"col_heading level0 col1\" >reach</th>        <th class=\"col_heading level0 col2\" >impact</th>        <th class=\"col_heading level0 col3\" >confidence</th>        <th class=\"col_heading level0 col4\" >efforts</th>        <th class=\"col_heading level0 col5\" >ICE</th>        <th class=\"col_heading level0 col6\" >RICE</th>    </tr></thead><tbody>\n",
       "                <tr>\n",
       "                        <th id=\"T_b2a0a972_697f_11ec_8247_02420a397522level0_row0\" class=\"row_heading level0 row0\" >7</th>\n",
       "                        <td id=\"T_b2a0a972_697f_11ec_8247_02420a397522row0_col0\" class=\"data row0 col0\" >Добавить форму подписки на все основные страницы, чтобы собрать базу клиентов для email-рассылок</td>\n",
       "                        <td id=\"T_b2a0a972_697f_11ec_8247_02420a397522row0_col1\" class=\"data row0 col1\" >10</td>\n",
       "                        <td id=\"T_b2a0a972_697f_11ec_8247_02420a397522row0_col2\" class=\"data row0 col2\" >7</td>\n",
       "                        <td id=\"T_b2a0a972_697f_11ec_8247_02420a397522row0_col3\" class=\"data row0 col3\" >8</td>\n",
       "                        <td id=\"T_b2a0a972_697f_11ec_8247_02420a397522row0_col4\" class=\"data row0 col4\" >5</td>\n",
       "                        <td id=\"T_b2a0a972_697f_11ec_8247_02420a397522row0_col5\" class=\"data row0 col5\" >11.2</td>\n",
       "                        <td id=\"T_b2a0a972_697f_11ec_8247_02420a397522row0_col6\" class=\"data row0 col6\" >112</td>\n",
       "            </tr>\n",
       "            <tr>\n",
       "                        <th id=\"T_b2a0a972_697f_11ec_8247_02420a397522level0_row1\" class=\"row_heading level0 row1\" >2</th>\n",
       "                        <td id=\"T_b2a0a972_697f_11ec_8247_02420a397522row1_col0\" class=\"data row1 col0\" >Добавить блоки рекомендаций товаров на сайт интернет магазина, чтобы повысить конверсию и средний чек заказа</td>\n",
       "                        <td id=\"T_b2a0a972_697f_11ec_8247_02420a397522row1_col1\" class=\"data row1 col1\" >8</td>\n",
       "                        <td id=\"T_b2a0a972_697f_11ec_8247_02420a397522row1_col2\" class=\"data row1 col2\" >3</td>\n",
       "                        <td id=\"T_b2a0a972_697f_11ec_8247_02420a397522row1_col3\" class=\"data row1 col3\" >7</td>\n",
       "                        <td id=\"T_b2a0a972_697f_11ec_8247_02420a397522row1_col4\" class=\"data row1 col4\" >3</td>\n",
       "                        <td id=\"T_b2a0a972_697f_11ec_8247_02420a397522row1_col5\" class=\"data row1 col5\" >7</td>\n",
       "                        <td id=\"T_b2a0a972_697f_11ec_8247_02420a397522row1_col6\" class=\"data row1 col6\" >56</td>\n",
       "            </tr>\n",
       "            <tr>\n",
       "                        <th id=\"T_b2a0a972_697f_11ec_8247_02420a397522level0_row2\" class=\"row_heading level0 row2\" >0</th>\n",
       "                        <td id=\"T_b2a0a972_697f_11ec_8247_02420a397522row2_col0\" class=\"data row2 col0\" >Добавить два новых канала привлечения трафика, что позволит привлекать на 30% больше пользователей</td>\n",
       "                        <td id=\"T_b2a0a972_697f_11ec_8247_02420a397522row2_col1\" class=\"data row2 col1\" >3</td>\n",
       "                        <td id=\"T_b2a0a972_697f_11ec_8247_02420a397522row2_col2\" class=\"data row2 col2\" >10</td>\n",
       "                        <td id=\"T_b2a0a972_697f_11ec_8247_02420a397522row2_col3\" class=\"data row2 col3\" >8</td>\n",
       "                        <td id=\"T_b2a0a972_697f_11ec_8247_02420a397522row2_col4\" class=\"data row2 col4\" >6</td>\n",
       "                        <td id=\"T_b2a0a972_697f_11ec_8247_02420a397522row2_col5\" class=\"data row2 col5\" >13.3</td>\n",
       "                        <td id=\"T_b2a0a972_697f_11ec_8247_02420a397522row2_col6\" class=\"data row2 col6\" >40</td>\n",
       "            </tr>\n",
       "            <tr>\n",
       "                        <th id=\"T_b2a0a972_697f_11ec_8247_02420a397522level0_row3\" class=\"row_heading level0 row3\" >6</th>\n",
       "                        <td id=\"T_b2a0a972_697f_11ec_8247_02420a397522row3_col0\" class=\"data row3 col0\" >Показать на главной странице баннеры с актуальными акциями и распродажами, чтобы увеличить конверсию</td>\n",
       "                        <td id=\"T_b2a0a972_697f_11ec_8247_02420a397522row3_col1\" class=\"data row3 col1\" >5</td>\n",
       "                        <td id=\"T_b2a0a972_697f_11ec_8247_02420a397522row3_col2\" class=\"data row3 col2\" >3</td>\n",
       "                        <td id=\"T_b2a0a972_697f_11ec_8247_02420a397522row3_col3\" class=\"data row3 col3\" >8</td>\n",
       "                        <td id=\"T_b2a0a972_697f_11ec_8247_02420a397522row3_col4\" class=\"data row3 col4\" >3</td>\n",
       "                        <td id=\"T_b2a0a972_697f_11ec_8247_02420a397522row3_col5\" class=\"data row3 col5\" >8</td>\n",
       "                        <td id=\"T_b2a0a972_697f_11ec_8247_02420a397522row3_col6\" class=\"data row3 col6\" >40</td>\n",
       "            </tr>\n",
       "            <tr>\n",
       "                        <th id=\"T_b2a0a972_697f_11ec_8247_02420a397522level0_row4\" class=\"row_heading level0 row4\" >8</th>\n",
       "                        <td id=\"T_b2a0a972_697f_11ec_8247_02420a397522row4_col0\" class=\"data row4 col0\" >Запустить акцию, дающую скидку на товар в день рождения</td>\n",
       "                        <td id=\"T_b2a0a972_697f_11ec_8247_02420a397522row4_col1\" class=\"data row4 col1\" >1</td>\n",
       "                        <td id=\"T_b2a0a972_697f_11ec_8247_02420a397522row4_col2\" class=\"data row4 col2\" >9</td>\n",
       "                        <td id=\"T_b2a0a972_697f_11ec_8247_02420a397522row4_col3\" class=\"data row4 col3\" >9</td>\n",
       "                        <td id=\"T_b2a0a972_697f_11ec_8247_02420a397522row4_col4\" class=\"data row4 col4\" >5</td>\n",
       "                        <td id=\"T_b2a0a972_697f_11ec_8247_02420a397522row4_col5\" class=\"data row4 col5\" >16.2</td>\n",
       "                        <td id=\"T_b2a0a972_697f_11ec_8247_02420a397522row4_col6\" class=\"data row4 col6\" >16.2</td>\n",
       "            </tr>\n",
       "            <tr>\n",
       "                        <th id=\"T_b2a0a972_697f_11ec_8247_02420a397522level0_row5\" class=\"row_heading level0 row5\" >3</th>\n",
       "                        <td id=\"T_b2a0a972_697f_11ec_8247_02420a397522row5_col0\" class=\"data row5 col0\" >Изменить структура категорий, что увеличит конверсию, т.к. пользователи быстрее найдут нужный товар</td>\n",
       "                        <td id=\"T_b2a0a972_697f_11ec_8247_02420a397522row5_col1\" class=\"data row5 col1\" >8</td>\n",
       "                        <td id=\"T_b2a0a972_697f_11ec_8247_02420a397522row5_col2\" class=\"data row5 col2\" >3</td>\n",
       "                        <td id=\"T_b2a0a972_697f_11ec_8247_02420a397522row5_col3\" class=\"data row5 col3\" >3</td>\n",
       "                        <td id=\"T_b2a0a972_697f_11ec_8247_02420a397522row5_col4\" class=\"data row5 col4\" >8</td>\n",
       "                        <td id=\"T_b2a0a972_697f_11ec_8247_02420a397522row5_col5\" class=\"data row5 col5\" >1.1</td>\n",
       "                        <td id=\"T_b2a0a972_697f_11ec_8247_02420a397522row5_col6\" class=\"data row5 col6\" >9</td>\n",
       "            </tr>\n",
       "            <tr>\n",
       "                        <th id=\"T_b2a0a972_697f_11ec_8247_02420a397522level0_row6\" class=\"row_heading level0 row6\" >1</th>\n",
       "                        <td id=\"T_b2a0a972_697f_11ec_8247_02420a397522row6_col0\" class=\"data row6 col0\" >Запустить собственную службу доставки, что сократит срок доставки заказов</td>\n",
       "                        <td id=\"T_b2a0a972_697f_11ec_8247_02420a397522row6_col1\" class=\"data row6 col1\" >2</td>\n",
       "                        <td id=\"T_b2a0a972_697f_11ec_8247_02420a397522row6_col2\" class=\"data row6 col2\" >5</td>\n",
       "                        <td id=\"T_b2a0a972_697f_11ec_8247_02420a397522row6_col3\" class=\"data row6 col3\" >4</td>\n",
       "                        <td id=\"T_b2a0a972_697f_11ec_8247_02420a397522row6_col4\" class=\"data row6 col4\" >10</td>\n",
       "                        <td id=\"T_b2a0a972_697f_11ec_8247_02420a397522row6_col5\" class=\"data row6 col5\" >2</td>\n",
       "                        <td id=\"T_b2a0a972_697f_11ec_8247_02420a397522row6_col6\" class=\"data row6 col6\" >4</td>\n",
       "            </tr>\n",
       "            <tr>\n",
       "                        <th id=\"T_b2a0a972_697f_11ec_8247_02420a397522level0_row7\" class=\"row_heading level0 row7\" >5</th>\n",
       "                        <td id=\"T_b2a0a972_697f_11ec_8247_02420a397522row7_col0\" class=\"data row7 col0\" >Добавить страницу отзывов клиентов о магазине, что позволит увеличить количество заказов</td>\n",
       "                        <td id=\"T_b2a0a972_697f_11ec_8247_02420a397522row7_col1\" class=\"data row7 col1\" >3</td>\n",
       "                        <td id=\"T_b2a0a972_697f_11ec_8247_02420a397522row7_col2\" class=\"data row7 col2\" >2</td>\n",
       "                        <td id=\"T_b2a0a972_697f_11ec_8247_02420a397522row7_col3\" class=\"data row7 col3\" >2</td>\n",
       "                        <td id=\"T_b2a0a972_697f_11ec_8247_02420a397522row7_col4\" class=\"data row7 col4\" >3</td>\n",
       "                        <td id=\"T_b2a0a972_697f_11ec_8247_02420a397522row7_col5\" class=\"data row7 col5\" >1.3</td>\n",
       "                        <td id=\"T_b2a0a972_697f_11ec_8247_02420a397522row7_col6\" class=\"data row7 col6\" >4</td>\n",
       "            </tr>\n",
       "            <tr>\n",
       "                        <th id=\"T_b2a0a972_697f_11ec_8247_02420a397522level0_row8\" class=\"row_heading level0 row8\" >4</th>\n",
       "                        <td id=\"T_b2a0a972_697f_11ec_8247_02420a397522row8_col0\" class=\"data row8 col0\" >Изменить цвет фона главной страницы, чтобы увеличить вовлеченность пользователей</td>\n",
       "                        <td id=\"T_b2a0a972_697f_11ec_8247_02420a397522row8_col1\" class=\"data row8 col1\" >3</td>\n",
       "                        <td id=\"T_b2a0a972_697f_11ec_8247_02420a397522row8_col2\" class=\"data row8 col2\" >1</td>\n",
       "                        <td id=\"T_b2a0a972_697f_11ec_8247_02420a397522row8_col3\" class=\"data row8 col3\" >1</td>\n",
       "                        <td id=\"T_b2a0a972_697f_11ec_8247_02420a397522row8_col4\" class=\"data row8 col4\" >1</td>\n",
       "                        <td id=\"T_b2a0a972_697f_11ec_8247_02420a397522row8_col5\" class=\"data row8 col5\" >1</td>\n",
       "                        <td id=\"T_b2a0a972_697f_11ec_8247_02420a397522row8_col6\" class=\"data row8 col6\" >3</td>\n",
       "            </tr>\n",
       "    </tbody></table>"
      ],
      "text/plain": [
       "<pandas.io.formats.style.Styler at 0x7fced6b8b6d0>"
      ]
     },
     "metadata": {},
     "output_type": "display_data"
    }
   ],
   "source": [
    "# добавляем в таблицу hypothesis колонку с расчетным значением RICE\n",
    "\n",
    "hypothesis['RICE'] = hypothesis['reach'] * hypothesis['impact'] * hypothesis['confidence'] / hypothesis['efforts']\n",
    "display(hypothesis.sort_values(by='RICE', ascending=False).style.highlight_max(color = 'lightgreen').highlight_min(color = 'yellow'))   "
   ]
  },
  {
   "cell_type": "markdown",
   "metadata": {},
   "source": [
    "**ВЫВОДЫ ПО РАСЧЕТАМ:**\n",
    "\n",
    "Методика приоретизации гипотез RICE учитывает 4 компонента:\n",
    "* **R**each - охват пользователей\n",
    "* **I**mpact - влияние на пользователей\n",
    "* **C**onfidence - сила уверенности в гипотезе\n",
    "* **E**fforts - ресурсоемкость\n",
    "\n",
    "И рассчитывается по формуле:\n",
    "\n",
    "$$RICE = \\frac{Rearch * Impact * Confidence}{Efforts}$$\n",
    "\n",
    "Ожидаемый охват пользователей усиливает влияние и уверенность, тогда как ресурсоемкость по прежнему играет на понижение общего балла. В ТОП 3 по оценке RICE вошли гипотезы с максимальными или стремящимися к максимальным баллами оценки охвата, влияния на пользователей и силы уверенности команды а также средними и ниже среднего значениями оценки ресурсоемкости реализации:\n",
    "* **7** Добавить форму подписки на все основные страницы, чтобы собрать базу клиентов для email-рассылок\n",
    "* **2** Добавить блоки рекомендаций товаров на сайт интернет магазина, чтобы повысить конверсию и средний чек заказа\n",
    "* **0** Добавить два новых канала привлечения трафика, что позволит привлекать на 30% больше пользователей\n",
    "\n",
    "Гипотеза **7** получила максимальный балл 10 охвата пользовыателей: 10 * 7 * 8 / 5\n",
    "\n",
    "Гипотеза **2** получила сильные баллы по охвату и вере команды в нее, и при этом ниже среднего оценку ресурсоемкости: 8 * 3 * 7  / 3\n",
    "\n",
    "Гипотеза **0** получила максимальный балл оценки силы влияния на пользователей, выше среднего оценнку веры команды и среднюю оценку ресурсоемкости: 3 * 10 * 8 / 6"
   ]
  },
  {
   "cell_type": "markdown",
   "metadata": {},
   "source": [
    "### Интерпретация причин изменения приоритизации гипотез при применении RICE вместо ICE"
   ]
  },
  {
   "cell_type": "markdown",
   "metadata": {},
   "source": [
    "Оценки ICE и RICE могут расходиться из-за разного количества факторов, учтенных во фреймворках, имеющих взаимное усиливающее влияние. Фреймворк ICE не учитывает оценку широты охвата пользователей (R). Если какая-либо из гипотез получает от команды максимальные или близкие к максимальным баллы по этому фактору, у нее появляется возможность повлиять на перераспределение позийций в рейтинге приоретизации, составленному в рамках фреймворка ICE."
   ]
  },
  {
   "cell_type": "markdown",
   "metadata": {},
   "source": [
    "### Выводы"
   ]
  },
  {
   "cell_type": "markdown",
   "metadata": {},
   "source": [
    "Так как целью гипотез является увеличение выручки, охват аудитории становится важным фактором оценки, который целесообразно учесть. Предлагается принять к дальнейшей проработке результат приоритезации по фреймворку RICE, тем более, что он существенно не расходится с результатами фреймворка ICE.\n",
    "\n",
    "Приоретизация гипотез, проведенная по фреймворку RICE показала, что:\n",
    "        \n",
    "* команда видит **наибольший охват** пользователей у гипотезы **7** - \"добавить форму подписки на все основные страницы\"\n",
    "* команда **сильнее всего верит** в гипотезу **0** - \"добавить 2 новых канала привлечения трафика\"\n",
    "* при достаточно **низкой ресурсоемкости** команда верит в гипотезу **2** и видит **широкий охват** пользователей\n",
    "\n",
    "Данные гипотезы попали в ТОП 3 оценки по фрейворку RICE и рекомендуются к дальнейшей проверке и реализации."
   ]
  },
  {
   "cell_type": "markdown",
   "metadata": {},
   "source": [
    "## Анализ А/В теста\n",
    "\n",
    "Примите решение по результатам теста и объясните его. Варианты решений:\n",
    "1. Остановить тест, зафиксировать победу одной из групп.\n",
    "2. Остановить тест, зафиксировать отсутствие различий между группами.\n",
    "3. Продолжить тест."
   ]
  },
  {
   "cell_type": "markdown",
   "metadata": {},
   "source": [
    "**Создаем таблицу агрегированных данных для дальнейшего построения графиков:**"
   ]
  },
  {
   "cell_type": "code",
   "execution_count": 14,
   "metadata": {},
   "outputs": [],
   "source": [
    "# создаем массив уникальных пар значений дат и групп теста\n",
    "\n",
    "datesGroups = orders[['date', 'group']].drop_duplicates()"
   ]
  },
  {
   "cell_type": "code",
   "execution_count": 15,
   "metadata": {},
   "outputs": [
    {
     "data": {
      "text/html": [
       "<div>\n",
       "<style scoped>\n",
       "    .dataframe tbody tr th:only-of-type {\n",
       "        vertical-align: middle;\n",
       "    }\n",
       "\n",
       "    .dataframe tbody tr th {\n",
       "        vertical-align: top;\n",
       "    }\n",
       "\n",
       "    .dataframe thead th {\n",
       "        text-align: right;\n",
       "    }\n",
       "</style>\n",
       "<table border=\"1\" class=\"dataframe\">\n",
       "  <thead>\n",
       "    <tr style=\"text-align: right;\">\n",
       "      <th></th>\n",
       "      <th>date</th>\n",
       "      <th>group</th>\n",
       "      <th>transactionId</th>\n",
       "      <th>visitorId</th>\n",
       "      <th>revenue</th>\n",
       "    </tr>\n",
       "  </thead>\n",
       "  <tbody>\n",
       "    <tr>\n",
       "      <td>55</td>\n",
       "      <td>2019-08-01</td>\n",
       "      <td>A</td>\n",
       "      <td>24</td>\n",
       "      <td>20</td>\n",
       "      <td>148579</td>\n",
       "    </tr>\n",
       "    <tr>\n",
       "      <td>66</td>\n",
       "      <td>2019-08-01</td>\n",
       "      <td>B</td>\n",
       "      <td>21</td>\n",
       "      <td>20</td>\n",
       "      <td>101217</td>\n",
       "    </tr>\n",
       "    <tr>\n",
       "      <td>175</td>\n",
       "      <td>2019-08-02</td>\n",
       "      <td>A</td>\n",
       "      <td>44</td>\n",
       "      <td>38</td>\n",
       "      <td>242401</td>\n",
       "    </tr>\n",
       "    <tr>\n",
       "      <td>173</td>\n",
       "      <td>2019-08-02</td>\n",
       "      <td>B</td>\n",
       "      <td>45</td>\n",
       "      <td>43</td>\n",
       "      <td>266748</td>\n",
       "    </tr>\n",
       "    <tr>\n",
       "      <td>291</td>\n",
       "      <td>2019-08-03</td>\n",
       "      <td>A</td>\n",
       "      <td>68</td>\n",
       "      <td>62</td>\n",
       "      <td>354874</td>\n",
       "    </tr>\n",
       "    <tr>\n",
       "      <td>...</td>\n",
       "      <td>...</td>\n",
       "      <td>...</td>\n",
       "      <td>...</td>\n",
       "      <td>...</td>\n",
       "      <td>...</td>\n",
       "    </tr>\n",
       "    <tr>\n",
       "      <td>496</td>\n",
       "      <td>2019-08-29</td>\n",
       "      <td>B</td>\n",
       "      <td>596</td>\n",
       "      <td>544</td>\n",
       "      <td>5559398</td>\n",
       "    </tr>\n",
       "    <tr>\n",
       "      <td>730</td>\n",
       "      <td>2019-08-30</td>\n",
       "      <td>A</td>\n",
       "      <td>545</td>\n",
       "      <td>493</td>\n",
       "      <td>4022970</td>\n",
       "    </tr>\n",
       "    <tr>\n",
       "      <td>690</td>\n",
       "      <td>2019-08-30</td>\n",
       "      <td>B</td>\n",
       "      <td>620</td>\n",
       "      <td>567</td>\n",
       "      <td>5774631</td>\n",
       "    </tr>\n",
       "    <tr>\n",
       "      <td>958</td>\n",
       "      <td>2019-08-31</td>\n",
       "      <td>A</td>\n",
       "      <td>557</td>\n",
       "      <td>503</td>\n",
       "      <td>4084803</td>\n",
       "    </tr>\n",
       "    <tr>\n",
       "      <td>930</td>\n",
       "      <td>2019-08-31</td>\n",
       "      <td>B</td>\n",
       "      <td>640</td>\n",
       "      <td>586</td>\n",
       "      <td>5907760</td>\n",
       "    </tr>\n",
       "  </tbody>\n",
       "</table>\n",
       "<p>62 rows × 5 columns</p>\n",
       "</div>"
      ],
      "text/plain": [
       "          date group  transactionId  visitorId  revenue\n",
       "55  2019-08-01     A             24         20   148579\n",
       "66  2019-08-01     B             21         20   101217\n",
       "175 2019-08-02     A             44         38   242401\n",
       "173 2019-08-02     B             45         43   266748\n",
       "291 2019-08-03     A             68         62   354874\n",
       "..         ...   ...            ...        ...      ...\n",
       "496 2019-08-29     B            596        544  5559398\n",
       "730 2019-08-30     A            545        493  4022970\n",
       "690 2019-08-30     B            620        567  5774631\n",
       "958 2019-08-31     A            557        503  4084803\n",
       "930 2019-08-31     B            640        586  5907760\n",
       "\n",
       "[62 rows x 5 columns]"
      ]
     },
     "metadata": {},
     "output_type": "display_data"
    }
   ],
   "source": [
    "# получаем агрегированные кумулятивные по дням данные о заказах \n",
    "\n",
    "ordersAggregated = datesGroups.apply(\n",
    "    lambda x: orders[np.logical_and(orders['date'] <= x['date'], orders['group'] == x['group'])]\n",
    "    .agg({'date':'max', 'group':'max', 'transactionId':'nunique', 'visitorId':'nunique', 'revenue':'sum'})\n",
    "    , axis = 1).sort_values(by=['date', 'group'])\n",
    "display(ordersAggregated)"
   ]
  },
  {
   "cell_type": "code",
   "execution_count": 16,
   "metadata": {},
   "outputs": [
    {
     "data": {
      "text/html": [
       "<div>\n",
       "<style scoped>\n",
       "    .dataframe tbody tr th:only-of-type {\n",
       "        vertical-align: middle;\n",
       "    }\n",
       "\n",
       "    .dataframe tbody tr th {\n",
       "        vertical-align: top;\n",
       "    }\n",
       "\n",
       "    .dataframe thead th {\n",
       "        text-align: right;\n",
       "    }\n",
       "</style>\n",
       "<table border=\"1\" class=\"dataframe\">\n",
       "  <thead>\n",
       "    <tr style=\"text-align: right;\">\n",
       "      <th></th>\n",
       "      <th>date</th>\n",
       "      <th>group</th>\n",
       "      <th>visitors</th>\n",
       "    </tr>\n",
       "  </thead>\n",
       "  <tbody>\n",
       "    <tr>\n",
       "      <td>55</td>\n",
       "      <td>2019-08-01</td>\n",
       "      <td>A</td>\n",
       "      <td>719</td>\n",
       "    </tr>\n",
       "    <tr>\n",
       "      <td>66</td>\n",
       "      <td>2019-08-01</td>\n",
       "      <td>B</td>\n",
       "      <td>713</td>\n",
       "    </tr>\n",
       "    <tr>\n",
       "      <td>175</td>\n",
       "      <td>2019-08-02</td>\n",
       "      <td>A</td>\n",
       "      <td>1338</td>\n",
       "    </tr>\n",
       "    <tr>\n",
       "      <td>173</td>\n",
       "      <td>2019-08-02</td>\n",
       "      <td>B</td>\n",
       "      <td>1294</td>\n",
       "    </tr>\n",
       "    <tr>\n",
       "      <td>291</td>\n",
       "      <td>2019-08-03</td>\n",
       "      <td>A</td>\n",
       "      <td>1845</td>\n",
       "    </tr>\n",
       "    <tr>\n",
       "      <td>...</td>\n",
       "      <td>...</td>\n",
       "      <td>...</td>\n",
       "      <td>...</td>\n",
       "    </tr>\n",
       "    <tr>\n",
       "      <td>496</td>\n",
       "      <td>2019-08-29</td>\n",
       "      <td>B</td>\n",
       "      <td>17708</td>\n",
       "    </tr>\n",
       "    <tr>\n",
       "      <td>730</td>\n",
       "      <td>2019-08-30</td>\n",
       "      <td>A</td>\n",
       "      <td>18037</td>\n",
       "    </tr>\n",
       "    <tr>\n",
       "      <td>690</td>\n",
       "      <td>2019-08-30</td>\n",
       "      <td>B</td>\n",
       "      <td>18198</td>\n",
       "    </tr>\n",
       "    <tr>\n",
       "      <td>958</td>\n",
       "      <td>2019-08-31</td>\n",
       "      <td>A</td>\n",
       "      <td>18736</td>\n",
       "    </tr>\n",
       "    <tr>\n",
       "      <td>930</td>\n",
       "      <td>2019-08-31</td>\n",
       "      <td>B</td>\n",
       "      <td>18916</td>\n",
       "    </tr>\n",
       "  </tbody>\n",
       "</table>\n",
       "<p>62 rows × 3 columns</p>\n",
       "</div>"
      ],
      "text/plain": [
       "          date group  visitors\n",
       "55  2019-08-01     A       719\n",
       "66  2019-08-01     B       713\n",
       "175 2019-08-02     A      1338\n",
       "173 2019-08-02     B      1294\n",
       "291 2019-08-03     A      1845\n",
       "..         ...   ...       ...\n",
       "496 2019-08-29     B     17708\n",
       "730 2019-08-30     A     18037\n",
       "690 2019-08-30     B     18198\n",
       "958 2019-08-31     A     18736\n",
       "930 2019-08-31     B     18916\n",
       "\n",
       "[62 rows x 3 columns]"
      ]
     },
     "metadata": {},
     "output_type": "display_data"
    }
   ],
   "source": [
    "# получаем агрегированные кумулятивные по дням данные о посетителях \n",
    "\n",
    "visitorsAggregated = datesGroups.apply(lambda x: visitors[np.logical_and(visitors['date'] <= x['date']\\\n",
    "                                                                       , visitors['group'] == x['group'])]\\\n",
    "                                      .agg ({'date':'max', 'group':'max', 'visitors':'sum'})\\\n",
    "                                       , axis = 1). sort_values(by=['date', 'group'])\n",
    "display(visitorsAggregated)"
   ]
  },
  {
   "cell_type": "code",
   "execution_count": 17,
   "metadata": {},
   "outputs": [
    {
     "data": {
      "text/html": [
       "<div>\n",
       "<style scoped>\n",
       "    .dataframe tbody tr th:only-of-type {\n",
       "        vertical-align: middle;\n",
       "    }\n",
       "\n",
       "    .dataframe tbody tr th {\n",
       "        vertical-align: top;\n",
       "    }\n",
       "\n",
       "    .dataframe thead th {\n",
       "        text-align: right;\n",
       "    }\n",
       "</style>\n",
       "<table border=\"1\" class=\"dataframe\">\n",
       "  <thead>\n",
       "    <tr style=\"text-align: right;\">\n",
       "      <th></th>\n",
       "      <th>date</th>\n",
       "      <th>group</th>\n",
       "      <th>orders</th>\n",
       "      <th>buyers</th>\n",
       "      <th>revenue</th>\n",
       "      <th>visitors</th>\n",
       "    </tr>\n",
       "  </thead>\n",
       "  <tbody>\n",
       "    <tr>\n",
       "      <td>0</td>\n",
       "      <td>2019-08-01</td>\n",
       "      <td>A</td>\n",
       "      <td>24</td>\n",
       "      <td>20</td>\n",
       "      <td>148579</td>\n",
       "      <td>719</td>\n",
       "    </tr>\n",
       "    <tr>\n",
       "      <td>1</td>\n",
       "      <td>2019-08-01</td>\n",
       "      <td>B</td>\n",
       "      <td>21</td>\n",
       "      <td>20</td>\n",
       "      <td>101217</td>\n",
       "      <td>713</td>\n",
       "    </tr>\n",
       "    <tr>\n",
       "      <td>2</td>\n",
       "      <td>2019-08-02</td>\n",
       "      <td>A</td>\n",
       "      <td>44</td>\n",
       "      <td>38</td>\n",
       "      <td>242401</td>\n",
       "      <td>1338</td>\n",
       "    </tr>\n",
       "    <tr>\n",
       "      <td>3</td>\n",
       "      <td>2019-08-02</td>\n",
       "      <td>B</td>\n",
       "      <td>45</td>\n",
       "      <td>43</td>\n",
       "      <td>266748</td>\n",
       "      <td>1294</td>\n",
       "    </tr>\n",
       "    <tr>\n",
       "      <td>4</td>\n",
       "      <td>2019-08-03</td>\n",
       "      <td>A</td>\n",
       "      <td>68</td>\n",
       "      <td>62</td>\n",
       "      <td>354874</td>\n",
       "      <td>1845</td>\n",
       "    </tr>\n",
       "    <tr>\n",
       "      <td>...</td>\n",
       "      <td>...</td>\n",
       "      <td>...</td>\n",
       "      <td>...</td>\n",
       "      <td>...</td>\n",
       "      <td>...</td>\n",
       "      <td>...</td>\n",
       "    </tr>\n",
       "    <tr>\n",
       "      <td>57</td>\n",
       "      <td>2019-08-29</td>\n",
       "      <td>B</td>\n",
       "      <td>596</td>\n",
       "      <td>544</td>\n",
       "      <td>5559398</td>\n",
       "      <td>17708</td>\n",
       "    </tr>\n",
       "    <tr>\n",
       "      <td>58</td>\n",
       "      <td>2019-08-30</td>\n",
       "      <td>A</td>\n",
       "      <td>545</td>\n",
       "      <td>493</td>\n",
       "      <td>4022970</td>\n",
       "      <td>18037</td>\n",
       "    </tr>\n",
       "    <tr>\n",
       "      <td>59</td>\n",
       "      <td>2019-08-30</td>\n",
       "      <td>B</td>\n",
       "      <td>620</td>\n",
       "      <td>567</td>\n",
       "      <td>5774631</td>\n",
       "      <td>18198</td>\n",
       "    </tr>\n",
       "    <tr>\n",
       "      <td>60</td>\n",
       "      <td>2019-08-31</td>\n",
       "      <td>A</td>\n",
       "      <td>557</td>\n",
       "      <td>503</td>\n",
       "      <td>4084803</td>\n",
       "      <td>18736</td>\n",
       "    </tr>\n",
       "    <tr>\n",
       "      <td>61</td>\n",
       "      <td>2019-08-31</td>\n",
       "      <td>B</td>\n",
       "      <td>640</td>\n",
       "      <td>586</td>\n",
       "      <td>5907760</td>\n",
       "      <td>18916</td>\n",
       "    </tr>\n",
       "  </tbody>\n",
       "</table>\n",
       "<p>62 rows × 6 columns</p>\n",
       "</div>"
      ],
      "text/plain": [
       "         date group  orders  buyers  revenue  visitors\n",
       "0  2019-08-01     A      24      20   148579       719\n",
       "1  2019-08-01     B      21      20   101217       713\n",
       "2  2019-08-02     A      44      38   242401      1338\n",
       "3  2019-08-02     B      45      43   266748      1294\n",
       "4  2019-08-03     A      68      62   354874      1845\n",
       "..        ...   ...     ...     ...      ...       ...\n",
       "57 2019-08-29     B     596     544  5559398     17708\n",
       "58 2019-08-30     A     545     493  4022970     18037\n",
       "59 2019-08-30     B     620     567  5774631     18198\n",
       "60 2019-08-31     A     557     503  4084803     18736\n",
       "61 2019-08-31     B     640     586  5907760     18916\n",
       "\n",
       "[62 rows x 6 columns]"
      ]
     },
     "metadata": {},
     "output_type": "display_data"
    }
   ],
   "source": [
    "# объединяем все кумулятивные данные в одной таблице\n",
    "# переименовываем колонки\n",
    "\n",
    "cumData = ordersAggregated.merge(visitorsAggregated, left_on=['date', 'group'], right_on=['date', 'group'])\n",
    "cumData.columns = ['date', 'group', 'orders', 'buyers', 'revenue', 'visitors']\n",
    "display(cumData)"
   ]
  },
  {
   "cell_type": "markdown",
   "metadata": {},
   "source": [
    "### Анализ кумулятивной выручки по группам"
   ]
  },
  {
   "cell_type": "code",
   "execution_count": 18,
   "metadata": {},
   "outputs": [],
   "source": [
    "# строим датафрейм с кумулятивным кол-вом заказов и выручки по дням в группе А\n",
    "# и в группе В\n",
    "\n",
    "cumRevA = cumData[cumData['group'] == 'A'][['date', 'revenue', 'orders']]\n",
    "cumRevB = cumData[cumData['group'] == 'B'][['date', 'revenue', 'orders']]"
   ]
  },
  {
   "cell_type": "code",
   "execution_count": 19,
   "metadata": {},
   "outputs": [
    {
     "name": "stderr",
     "output_type": "stream",
     "text": [
      "/opt/conda/lib/python3.7/site-packages/pandas/plotting/_matplotlib/converter.py:103: FutureWarning: Using an implicitly registered datetime converter for a matplotlib plotting method. The converter was registered by pandas on import. Future versions of pandas will require you to explicitly register matplotlib converters.\n",
      "\n",
      "To register the converters:\n",
      "\t>>> from pandas.plotting import register_matplotlib_converters\n",
      "\t>>> register_matplotlib_converters()\n",
      "  warnings.warn(msg, FutureWarning)\n"
     ]
    },
    {
     "data": {
      "image/png": "[encoded data removed]",
      "text/plain": [
       "<Figure size 720x360 with 1 Axes>"
      ]
     },
     "metadata": {
      "needs_background": "light"
     },
     "output_type": "display_data"
    }
   ],
   "source": [
    "# строим графики выручки групп А и В\n",
    "\n",
    "plt.figure(figsize=(10,5))\n",
    "plt.plot(cumRevA['date'], cumRevA['revenue'], label = 'A')\n",
    "plt.plot(cumRevB['date'], cumRevB['revenue'], label = 'B')\n",
    "plt.grid()\n",
    "plt.xlabel('Даты')\n",
    "plt.ylabel('Выручка')\n",
    "plt.title('Грфик кумулятивной выручки по группам')\n",
    "plt.legend()\n",
    "plt.show()"
   ]
  },
  {
   "cell_type": "code",
   "execution_count": 20,
   "metadata": {},
   "outputs": [
    {
     "data": {
      "text/html": [
       "<div>\n",
       "<style scoped>\n",
       "    .dataframe tbody tr th:only-of-type {\n",
       "        vertical-align: middle;\n",
       "    }\n",
       "\n",
       "    .dataframe tbody tr th {\n",
       "        vertical-align: top;\n",
       "    }\n",
       "\n",
       "    .dataframe thead th {\n",
       "        text-align: right;\n",
       "    }\n",
       "</style>\n",
       "<table border=\"1\" class=\"dataframe\">\n",
       "  <thead>\n",
       "    <tr style=\"text-align: right;\">\n",
       "      <th></th>\n",
       "      <th>index</th>\n",
       "      <th>date</th>\n",
       "      <th>revenue</th>\n",
       "      <th>orders</th>\n",
       "      <th>rev_growth</th>\n",
       "      <th>orders_growth</th>\n",
       "    </tr>\n",
       "  </thead>\n",
       "  <tbody>\n",
       "    <tr>\n",
       "      <td>0</td>\n",
       "      <td>33</td>\n",
       "      <td>2019-08-17</td>\n",
       "      <td>2620790</td>\n",
       "      <td>373</td>\n",
       "      <td>NaN</td>\n",
       "      <td>NaN</td>\n",
       "    </tr>\n",
       "    <tr>\n",
       "      <td>1</td>\n",
       "      <td>35</td>\n",
       "      <td>2019-08-18</td>\n",
       "      <td>2686621</td>\n",
       "      <td>382</td>\n",
       "      <td>1.025119</td>\n",
       "      <td>1.024129</td>\n",
       "    </tr>\n",
       "    <tr>\n",
       "      <td>2</td>\n",
       "      <td>37</td>\n",
       "      <td>2019-08-19</td>\n",
       "      <td>4116541</td>\n",
       "      <td>403</td>\n",
       "      <td>1.532237</td>\n",
       "      <td>1.054974</td>\n",
       "    </tr>\n",
       "    <tr>\n",
       "      <td>3</td>\n",
       "      <td>39</td>\n",
       "      <td>2019-08-20</td>\n",
       "      <td>4263815</td>\n",
       "      <td>423</td>\n",
       "      <td>1.035776</td>\n",
       "      <td>1.049628</td>\n",
       "    </tr>\n",
       "    <tr>\n",
       "      <td>4</td>\n",
       "      <td>41</td>\n",
       "      <td>2019-08-21</td>\n",
       "      <td>4426892</td>\n",
       "      <td>437</td>\n",
       "      <td>1.038247</td>\n",
       "      <td>1.033097</td>\n",
       "    </tr>\n",
       "  </tbody>\n",
       "</table>\n",
       "</div>"
      ],
      "text/plain": [
       "   index       date  revenue  orders  rev_growth  orders_growth\n",
       "0     33 2019-08-17  2620790     373         NaN            NaN\n",
       "1     35 2019-08-18  2686621     382    1.025119       1.024129\n",
       "2     37 2019-08-19  4116541     403    1.532237       1.054974\n",
       "3     39 2019-08-20  4263815     423    1.035776       1.049628\n",
       "4     41 2019-08-21  4426892     437    1.038247       1.033097"
      ]
     },
     "metadata": {},
     "output_type": "display_data"
    }
   ],
   "source": [
    "# проверяем период \"скочка\" для группы В,\n",
    "# оцениваем изменения по дням относительно предыдущего\n",
    "\n",
    "cumRevB_jump = cumRevB[cumRevB['date'].between('2019-08-17', '2019-08-21')].reset_index()\n",
    "\n",
    "cumRevB_jump['rev_growth'] = cumRevB_jump.iloc[:, 2].div(cumRevB_jump.iloc[:, 2].shift())\n",
    "cumRevB_jump['orders_growth'] = cumRevB_jump.iloc[:, 3].div(cumRevB_jump.iloc[:, 3].shift())\n",
    "\n",
    "display(cumRevB_jump)"
   ]
  },
  {
   "cell_type": "markdown",
   "metadata": {},
   "source": [
    "**ВЫВОДЫ ПО ГРАФИКУ И РАСЧЕТАМ:**\n",
    "\n",
    "Выручка в обеих группах увеличивается в течении всего теста.\n",
    "\n",
    "* На начальном этапе выручки совпадают. Затем выручка  тестовой группы В подрастает относительно контрольной группы и к концу первой половины теста они опять встречаются на отметке в районе 1 800 000 рублей.\n",
    "* В начале второй половины теста происходит скачек в выручке группы В на уровень 4 000 000 рублей, тогда как рост контрольной группы происходит равномерно.\n",
    "* Скачек в выручке группы В происходит 19 августа на 53% относительно предыдущего дня. До 19 августа и после развитие кумулятивной выручки в группе В происходит равномерно. При этом количество заказов развивается достаточно планомерно.\n",
    "* После скачка развитие кумулятивной выручки в группах А и В идет опять параллельными курсами по возврастающей. К концу теста контрольная группа приближается к отметке 4 000 000 руб., тестовая - 6 000 000."
   ]
  },
  {
   "cell_type": "markdown",
   "metadata": {},
   "source": [
    "### Анализ кумулятивного среднего чека по группам"
   ]
  },
  {
   "cell_type": "code",
   "execution_count": 21,
   "metadata": {},
   "outputs": [
    {
     "data": {
      "image/png": "[encoded data removed]",
      "text/plain": [
       "<Figure size 720x360 with 1 Axes>"
      ]
     },
     "metadata": {
      "needs_background": "light"
     },
     "output_type": "display_data"
    }
   ],
   "source": [
    "plt.figure(figsize=(10,5))\n",
    "plt.plot(cumRevA['date'], cumRevA['revenue'] / cumRevA['orders'], label = 'A')\n",
    "plt.plot(cumRevB['date'], cumRevB['revenue'] / cumRevB['orders'], label = 'B')\n",
    "plt.grid()\n",
    "plt.xlabel('Даты')\n",
    "plt.ylabel('Средний чек')\n",
    "plt.title('Грфик кумулятивного среднего чека по группам')\n",
    "plt.legend()\n",
    "plt.show()"
   ]
  },
  {
   "cell_type": "markdown",
   "metadata": {},
   "source": [
    "**ВЫВОДЫ ПО ГРАФИКУ:**\n",
    "\n",
    "* Контрольная группа А начинает тест с падения среднего чека с уровня 6 100 руб до уровня 4 500 руб. В начале второй четверти динамика меняется на рост. В середине теста с отметки 7 500 руб начиается выравнивание.\n",
    "\n",
    "* Динамика среднего чека тестовой группы В начинается с отметки 4 500 руб в начале теста с дальнейшим ростом до уровня 7 000. В середине теста происходит резкий скачек с 7 до 10 000 с последующим спадом, продолжающимся и в конце теста.\n",
    "\n",
    "* Скачек в середине теста может быть вызван аномальной для магазина покупкой. Он очевидно повлиял на динамику кумулятивной выручки."
   ]
  },
  {
   "cell_type": "markdown",
   "metadata": {},
   "source": [
    "### Анализ относительного изменения кумулятивного среднего чека группы B к группе A"
   ]
  },
  {
   "cell_type": "code",
   "execution_count": 22,
   "metadata": {},
   "outputs": [
    {
     "data": {
      "image/png": "[encoded data removed]",
      "text/plain": [
       "<Figure size 720x360 with 1 Axes>"
      ]
     },
     "metadata": {
      "needs_background": "light"
     },
     "output_type": "display_data"
    }
   ],
   "source": [
    "# объединяем данные в одном датафрейме,\n",
    "# строим отношение средних чеков\n",
    "\n",
    "mergedCumRev = cumRevA.merge(cumRevB, left_on = 'date', right_on = 'date', how = 'left', suffixes = ['A', 'B'])\n",
    "plt.figure(figsize=(10,5))\n",
    "plt.plot(mergedCumRev['date'],\n",
    "         (mergedCumRev['revenueB'] / mergedCumRev['ordersB']) / (mergedCumRev['revenueA'] / mergedCumRev['ordersA']) - 1)\n",
    "plt.axhline(y = 0, color = 'black', linestyle = '--')\n",
    "plt.grid()\n",
    "plt.xlabel('Даты')\n",
    "plt.ylabel('Изменение чека')\n",
    "plt.title('График относительного изменения кумулятивного среднего чека группы B к группе A')\n",
    "plt.show()"
   ]
  },
  {
   "cell_type": "markdown",
   "metadata": {},
   "source": [
    "**ВЫВОДЫ ПО ГРАФИКУ:**\n",
    "\n",
    "* график относительного изменения кумулятивного среднего чека группы B к группе A показывает, что за период теста 3 раза чеки совпадали\n",
    "* В начале проекта чек тестовой группы был ниже контройльной\n",
    "* К концу второй четверти проекта чек контрольной группы превысил чек тестовой\n",
    "* В середине проекта в тестовой группе произошел практически двукратный скачек относительно чека контрольной\n",
    "* После скачка разница стала медленно, но верно сокращаться\n",
    "* В последние несколько дней теста разница выровнялась, но нельзя с уверенностью сказать, что это выход на плато. В случае продолжения теста, есть вероятность , что снижение может продолжиться\n"
   ]
  },
  {
   "cell_type": "markdown",
   "metadata": {},
   "source": [
    "### Анализ кумулятивной конверсии по группам"
   ]
  },
  {
   "cell_type": "code",
   "execution_count": 23,
   "metadata": {},
   "outputs": [
    {
     "data": {
      "image/png": "[encoded data removed]",
      "text/plain": [
       "<Figure size 720x360 with 1 Axes>"
      ]
     },
     "metadata": {
      "needs_background": "light"
     },
     "output_type": "display_data"
    }
   ],
   "source": [
    "# считаем кумулятивную конверсию,\n",
    "# отделяем данные по группам А и В,\n",
    "# строим графики\n",
    "\n",
    "cumData['conversion'] = cumData['orders'] / cumData['visitors']\n",
    "cumDataA = cumData[cumData['group'] == 'A']\n",
    "cumDataB = cumData[cumData['group'] == 'B']\n",
    "\n",
    "plt.figure(figsize=(10,5))\n",
    "plt.plot(cumDataA['date'], cumDataA['conversion'], label = 'A')\n",
    "plt.plot(cumDataB['date'], cumDataB['conversion'], label = 'B')\n",
    "plt.grid()\n",
    "plt.xlabel('Даты')\n",
    "plt.ylabel('Динамика конверсии')\n",
    "plt.title('График кумулятивной конверсии по группам')\n",
    "plt.legend()\n",
    "plt.show()"
   ]
  },
  {
   "cell_type": "markdown",
   "metadata": {},
   "source": [
    "**ВЫВОДЫ ПО ГРАФИКУ:**\n",
    "\n",
    "* Конверсии контрольной и тестовой групп имеют различный старт. Конверсия контрольной группы А входит в тест с существенно бульшим показателем 3,35%, тогда как группа В стартует с показателем конверсии 2,95%\n",
    "* В первые дни в обеих группах происходит скачек, после которого конверсия контрольной группы А начинает снижение с пика в 3,7% до уровня 3%, вдоль которого продолжает незначительные колебания до конца теста и практически выравнивается\n",
    "* Конверсия тестовой группы проваливается после первого скочка, но затем берет тренд на рост и начинает колебания в районе 3,4%\n",
    "* К концу теста обе кривые идут на спад"
   ]
  },
  {
   "cell_type": "markdown",
   "metadata": {},
   "source": [
    "### Анализ относительного изменения кумулятивной конверсии группы B к группе A"
   ]
  },
  {
   "cell_type": "code",
   "execution_count": 24,
   "metadata": {},
   "outputs": [
    {
     "data": {
      "image/png": "[encoded data removed]",
      "text/plain": [
       "<Figure size 720x360 with 1 Axes>"
      ]
     },
     "metadata": {
      "needs_background": "light"
     },
     "output_type": "display_data"
    }
   ],
   "source": [
    "# объединяем данные в одном датафрейме,\n",
    "# строим отношение кумулятивных конверсий групп\n",
    "\n",
    "mergedCumConv = cumDataA[['date', 'conversion']].merge(\n",
    "    cumDataB[['date', 'conversion']], left_on = 'date', right_on = 'date', how = 'left', suffixes = ['A', 'B'])\n",
    "\n",
    "plt.figure(figsize=(10,5))\n",
    "plt.plot(mergedCumConv['date'],\n",
    "        mergedCumConv['conversionB'] / mergedCumConv['conversionA'] - 1,\n",
    "         label = 'Относительный прирост конверсии группы В vs группа А')\n",
    "plt.legend()\n",
    "plt.axhline(y = 0, color = 'black', linestyle = '--')\n",
    "plt.axhline(y = 0, color = 'grey', linestyle = '--')\n",
    "plt.axis(['2019-08-01', '2019-08-31', -0.6, 0.6])\n",
    "plt.grid()\n",
    "plt.xlabel('Даты')\n",
    "plt.ylabel('Изменение конверсии')\n",
    "plt.title('График относительного изменения кумулятивной конверсии группы B к группе A')\n",
    "plt.show()"
   ]
  },
  {
   "cell_type": "markdown",
   "metadata": {},
   "source": [
    "**ВЫВОДЫ ПО ГРАФИКУ:**\n",
    "\n",
    "* В начале теста конверсии групп боролись за лидерство с переменным успехом\n",
    "* В начале второй четверти конверсия тестовой группы стала стабильно превышать конверсию контрольной\n",
    "* В этот же период начинается лидерство тестовой группы по выручке, динамика метрик коррелирует"
   ]
  },
  {
   "cell_type": "markdown",
   "metadata": {},
   "source": [
    "### Анализ количества заказов по пользователям"
   ]
  },
  {
   "cell_type": "code",
   "execution_count": 25,
   "metadata": {},
   "outputs": [
    {
     "data": {
      "text/html": [
       "<div>\n",
       "<style scoped>\n",
       "    .dataframe tbody tr th:only-of-type {\n",
       "        vertical-align: middle;\n",
       "    }\n",
       "\n",
       "    .dataframe tbody tr th {\n",
       "        vertical-align: top;\n",
       "    }\n",
       "\n",
       "    .dataframe thead th {\n",
       "        text-align: right;\n",
       "    }\n",
       "</style>\n",
       "<table border=\"1\" class=\"dataframe\">\n",
       "  <thead>\n",
       "    <tr style=\"text-align: right;\">\n",
       "      <th></th>\n",
       "      <th>userid</th>\n",
       "      <th>orders</th>\n",
       "    </tr>\n",
       "  </thead>\n",
       "  <tbody>\n",
       "    <tr>\n",
       "      <td>1023</td>\n",
       "      <td>4256040402</td>\n",
       "      <td>11</td>\n",
       "    </tr>\n",
       "    <tr>\n",
       "      <td>591</td>\n",
       "      <td>2458001652</td>\n",
       "      <td>11</td>\n",
       "    </tr>\n",
       "    <tr>\n",
       "      <td>569</td>\n",
       "      <td>2378935119</td>\n",
       "      <td>9</td>\n",
       "    </tr>\n",
       "    <tr>\n",
       "      <td>487</td>\n",
       "      <td>2038680547</td>\n",
       "      <td>8</td>\n",
       "    </tr>\n",
       "    <tr>\n",
       "      <td>44</td>\n",
       "      <td>199603092</td>\n",
       "      <td>5</td>\n",
       "    </tr>\n",
       "    <tr>\n",
       "      <td>744</td>\n",
       "      <td>3062433592</td>\n",
       "      <td>5</td>\n",
       "    </tr>\n",
       "    <tr>\n",
       "      <td>55</td>\n",
       "      <td>237748145</td>\n",
       "      <td>5</td>\n",
       "    </tr>\n",
       "    <tr>\n",
       "      <td>917</td>\n",
       "      <td>3803269165</td>\n",
       "      <td>5</td>\n",
       "    </tr>\n",
       "    <tr>\n",
       "      <td>299</td>\n",
       "      <td>1230306981</td>\n",
       "      <td>5</td>\n",
       "    </tr>\n",
       "    <tr>\n",
       "      <td>897</td>\n",
       "      <td>3717692402</td>\n",
       "      <td>5</td>\n",
       "    </tr>\n",
       "  </tbody>\n",
       "</table>\n",
       "</div>"
      ],
      "text/plain": [
       "          userid  orders\n",
       "1023  4256040402      11\n",
       "591   2458001652      11\n",
       "569   2378935119       9\n",
       "487   2038680547       8\n",
       "44     199603092       5\n",
       "744   3062433592       5\n",
       "55     237748145       5\n",
       "917   3803269165       5\n",
       "299   1230306981       5\n",
       "897   3717692402       5"
      ]
     },
     "metadata": {},
     "output_type": "display_data"
    }
   ],
   "source": [
    "# создаем таблицу для расчета кол-ва заказов по пользователям\n",
    "\n",
    "ordersByUsers = (orders.groupby('visitorId', as_index = False).agg({'transactionId': pd.Series.nunique}))\n",
    "ordersByUsers.columns = ['userid', 'orders']\n",
    "display(ordersByUsers.sort_values(by = 'orders', ascending=False).head(10))"
   ]
  },
  {
   "cell_type": "code",
   "execution_count": 26,
   "metadata": {},
   "outputs": [
    {
     "data": {
      "image/png": "[encoded data removed]",
      "text/plain": [
       "<Figure size 432x288 with 1 Axes>"
      ]
     },
     "metadata": {
      "needs_background": "light"
     },
     "output_type": "display_data"
    }
   ],
   "source": [
    "# строим гистограмму плотности распределения заказов по пользователям\n",
    "\n",
    "ordersByUsers['orders'].plot(kind='hist', bins=10, title='Гистограмма плотности распределения заказов по пользователям')\n",
    "plt.grid()\n",
    "plt.xlabel('Кол-во заказов')\n",
    "plt.show()"
   ]
  },
  {
   "cell_type": "code",
   "execution_count": 27,
   "metadata": {},
   "outputs": [
    {
     "data": {
      "image/png": "[encoded data removed]",
      "text/plain": [
       "<Figure size 720x360 with 1 Axes>"
      ]
     },
     "metadata": {
      "needs_background": "light"
     },
     "output_type": "display_data"
    }
   ],
   "source": [
    "# строим точечную диагармму распределения кол-ва заказов на одного пользователя\n",
    "\n",
    "plt.figure(figsize=(10,5))\n",
    "x_values = pd.Series(range(0, len(ordersByUsers)))\n",
    "plt.scatter(x_values, ordersByUsers['orders'])\n",
    "plt.grid()\n",
    "plt.ylabel('Кол-во заказов')\n",
    "plt.title('Точечный график количества заказов по пользователям')\n",
    "plt.show()"
   ]
  },
  {
   "cell_type": "markdown",
   "metadata": {},
   "source": [
    "**ВЫВОДЫ ПО ТАБЛИЦЕ И ГРАФИКАМ:**\n",
    "\n",
    "* Большинство пользователей сделали от 1 до 2 заказов за период теста (01.08.2019 - 31.08.2019)\n",
    "* Есть единичный случай оформления 8 заказов, единичный случай - 9 заказов и 2 случая оформления по 11 заказов"
   ]
  },
  {
   "cell_type": "markdown",
   "metadata": {},
   "source": [
    "**Расчет 95-го и 99-го перцентилей количества заказов на пользователя**"
   ]
  },
  {
   "cell_type": "code",
   "execution_count": 28,
   "metadata": {},
   "outputs": [
    {
     "name": "stdout",
     "output_type": "stream",
     "text": [
      "[2. 4.]\n"
     ]
    }
   ],
   "source": [
    "print(np.percentile(ordersByUsers['orders'], [95, 99]))"
   ]
  },
  {
   "cell_type": "markdown",
   "metadata": {},
   "source": [
    "**ВЫВОДЫ ПО РАСЧЕТАМ:**\n",
    "\n",
    "* 99% пользователей сделали за тестовый период до 4 заказов включительно\n",
    "\n"
   ]
  },
  {
   "cell_type": "markdown",
   "metadata": {},
   "source": [
    "**Проверяем заказы ТОП 3-х пользователей по количеству**"
   ]
  },
  {
   "cell_type": "code",
   "execution_count": 29,
   "metadata": {},
   "outputs": [
    {
     "data": {
      "text/html": [
       "<div>\n",
       "<style scoped>\n",
       "    .dataframe tbody tr th:only-of-type {\n",
       "        vertical-align: middle;\n",
       "    }\n",
       "\n",
       "    .dataframe tbody tr th {\n",
       "        vertical-align: top;\n",
       "    }\n",
       "\n",
       "    .dataframe thead th {\n",
       "        text-align: right;\n",
       "    }\n",
       "</style>\n",
       "<table border=\"1\" class=\"dataframe\">\n",
       "  <thead>\n",
       "    <tr style=\"text-align: right;\">\n",
       "      <th></th>\n",
       "      <th>transactionId</th>\n",
       "      <th>visitorId</th>\n",
       "      <th>date</th>\n",
       "      <th>revenue</th>\n",
       "      <th>group</th>\n",
       "    </tr>\n",
       "  </thead>\n",
       "  <tbody>\n",
       "    <tr>\n",
       "      <td>114</td>\n",
       "      <td>1120327437</td>\n",
       "      <td>4256040402</td>\n",
       "      <td>2019-08-01</td>\n",
       "      <td>5800</td>\n",
       "      <td>A</td>\n",
       "    </tr>\n",
       "    <tr>\n",
       "      <td>873</td>\n",
       "      <td>2519737434</td>\n",
       "      <td>4256040402</td>\n",
       "      <td>2019-08-08</td>\n",
       "      <td>58220</td>\n",
       "      <td>B</td>\n",
       "    </tr>\n",
       "    <tr>\n",
       "      <td>1091</td>\n",
       "      <td>750632879</td>\n",
       "      <td>4256040402</td>\n",
       "      <td>2019-08-12</td>\n",
       "      <td>50</td>\n",
       "      <td>A</td>\n",
       "    </tr>\n",
       "    <tr>\n",
       "      <td>60</td>\n",
       "      <td>1421016313</td>\n",
       "      <td>4256040402</td>\n",
       "      <td>2019-08-16</td>\n",
       "      <td>56650</td>\n",
       "      <td>B</td>\n",
       "    </tr>\n",
       "    <tr>\n",
       "      <td>187</td>\n",
       "      <td>2048878902</td>\n",
       "      <td>4256040402</td>\n",
       "      <td>2019-08-17</td>\n",
       "      <td>1550</td>\n",
       "      <td>A</td>\n",
       "    </tr>\n",
       "    <tr>\n",
       "      <td>263</td>\n",
       "      <td>2575861846</td>\n",
       "      <td>4256040402</td>\n",
       "      <td>2019-08-18</td>\n",
       "      <td>10970</td>\n",
       "      <td>B</td>\n",
       "    </tr>\n",
       "    <tr>\n",
       "      <td>588</td>\n",
       "      <td>3700356838</td>\n",
       "      <td>4256040402</td>\n",
       "      <td>2019-08-20</td>\n",
       "      <td>17650</td>\n",
       "      <td>A</td>\n",
       "    </tr>\n",
       "    <tr>\n",
       "      <td>253</td>\n",
       "      <td>1610091760</td>\n",
       "      <td>4256040402</td>\n",
       "      <td>2019-08-23</td>\n",
       "      <td>16950</td>\n",
       "      <td>A</td>\n",
       "    </tr>\n",
       "    <tr>\n",
       "      <td>901</td>\n",
       "      <td>3402467119</td>\n",
       "      <td>4256040402</td>\n",
       "      <td>2019-08-27</td>\n",
       "      <td>1630</td>\n",
       "      <td>A</td>\n",
       "    </tr>\n",
       "    <tr>\n",
       "      <td>1018</td>\n",
       "      <td>1415970216</td>\n",
       "      <td>4256040402</td>\n",
       "      <td>2019-08-31</td>\n",
       "      <td>5170</td>\n",
       "      <td>A</td>\n",
       "    </tr>\n",
       "    <tr>\n",
       "      <td>1019</td>\n",
       "      <td>453824282</td>\n",
       "      <td>4256040402</td>\n",
       "      <td>2019-08-31</td>\n",
       "      <td>1850</td>\n",
       "      <td>B</td>\n",
       "    </tr>\n",
       "  </tbody>\n",
       "</table>\n",
       "</div>"
      ],
      "text/plain": [
       "      transactionId   visitorId       date  revenue group\n",
       "114      1120327437  4256040402 2019-08-01     5800     A\n",
       "873      2519737434  4256040402 2019-08-08    58220     B\n",
       "1091      750632879  4256040402 2019-08-12       50     A\n",
       "60       1421016313  4256040402 2019-08-16    56650     B\n",
       "187      2048878902  4256040402 2019-08-17     1550     A\n",
       "263      2575861846  4256040402 2019-08-18    10970     B\n",
       "588      3700356838  4256040402 2019-08-20    17650     A\n",
       "253      1610091760  4256040402 2019-08-23    16950     A\n",
       "901      3402467119  4256040402 2019-08-27     1630     A\n",
       "1018     1415970216  4256040402 2019-08-31     5170     A\n",
       "1019      453824282  4256040402 2019-08-31     1850     B"
      ]
     },
     "metadata": {},
     "output_type": "display_data"
    }
   ],
   "source": [
    "display(orders.query('visitorId == 4256040402').sort_values(by='date', ascending=True))"
   ]
  },
  {
   "cell_type": "code",
   "execution_count": 30,
   "metadata": {},
   "outputs": [
    {
     "data": {
      "text/html": [
       "<div>\n",
       "<style scoped>\n",
       "    .dataframe tbody tr th:only-of-type {\n",
       "        vertical-align: middle;\n",
       "    }\n",
       "\n",
       "    .dataframe tbody tr th {\n",
       "        vertical-align: top;\n",
       "    }\n",
       "\n",
       "    .dataframe thead th {\n",
       "        text-align: right;\n",
       "    }\n",
       "</style>\n",
       "<table border=\"1\" class=\"dataframe\">\n",
       "  <thead>\n",
       "    <tr style=\"text-align: right;\">\n",
       "      <th></th>\n",
       "      <th>transactionId</th>\n",
       "      <th>visitorId</th>\n",
       "      <th>date</th>\n",
       "      <th>revenue</th>\n",
       "      <th>group</th>\n",
       "    </tr>\n",
       "  </thead>\n",
       "  <tbody>\n",
       "    <tr>\n",
       "      <td>611</td>\n",
       "      <td>1244084011</td>\n",
       "      <td>2458001652</td>\n",
       "      <td>2019-08-04</td>\n",
       "      <td>340</td>\n",
       "      <td>A</td>\n",
       "    </tr>\n",
       "    <tr>\n",
       "      <td>883</td>\n",
       "      <td>2412219836</td>\n",
       "      <td>2458001652</td>\n",
       "      <td>2019-08-05</td>\n",
       "      <td>2420</td>\n",
       "      <td>B</td>\n",
       "    </tr>\n",
       "    <tr>\n",
       "      <td>454</td>\n",
       "      <td>3755354294</td>\n",
       "      <td>2458001652</td>\n",
       "      <td>2019-08-06</td>\n",
       "      <td>7349</td>\n",
       "      <td>B</td>\n",
       "    </tr>\n",
       "    <tr>\n",
       "      <td>456</td>\n",
       "      <td>543654048</td>\n",
       "      <td>2458001652</td>\n",
       "      <td>2019-08-06</td>\n",
       "      <td>1620</td>\n",
       "      <td>A</td>\n",
       "    </tr>\n",
       "    <tr>\n",
       "      <td>483</td>\n",
       "      <td>2280027650</td>\n",
       "      <td>2458001652</td>\n",
       "      <td>2019-08-06</td>\n",
       "      <td>6681</td>\n",
       "      <td>B</td>\n",
       "    </tr>\n",
       "    <tr>\n",
       "      <td>727</td>\n",
       "      <td>3959083601</td>\n",
       "      <td>2458001652</td>\n",
       "      <td>2019-08-07</td>\n",
       "      <td>17379</td>\n",
       "      <td>A</td>\n",
       "    </tr>\n",
       "    <tr>\n",
       "      <td>916</td>\n",
       "      <td>527333943</td>\n",
       "      <td>2458001652</td>\n",
       "      <td>2019-08-08</td>\n",
       "      <td>5227</td>\n",
       "      <td>B</td>\n",
       "    </tr>\n",
       "    <tr>\n",
       "      <td>692</td>\n",
       "      <td>3586870909</td>\n",
       "      <td>2458001652</td>\n",
       "      <td>2019-08-09</td>\n",
       "      <td>5227</td>\n",
       "      <td>B</td>\n",
       "    </tr>\n",
       "    <tr>\n",
       "      <td>1062</td>\n",
       "      <td>1817215137</td>\n",
       "      <td>2458001652</td>\n",
       "      <td>2019-08-11</td>\n",
       "      <td>8280</td>\n",
       "      <td>A</td>\n",
       "    </tr>\n",
       "    <tr>\n",
       "      <td>133</td>\n",
       "      <td>3060563671</td>\n",
       "      <td>2458001652</td>\n",
       "      <td>2019-08-22</td>\n",
       "      <td>5190</td>\n",
       "      <td>A</td>\n",
       "    </tr>\n",
       "    <tr>\n",
       "      <td>380</td>\n",
       "      <td>1177690313</td>\n",
       "      <td>2458001652</td>\n",
       "      <td>2019-08-25</td>\n",
       "      <td>2385</td>\n",
       "      <td>B</td>\n",
       "    </tr>\n",
       "  </tbody>\n",
       "</table>\n",
       "</div>"
      ],
      "text/plain": [
       "      transactionId   visitorId       date  revenue group\n",
       "611      1244084011  2458001652 2019-08-04      340     A\n",
       "883      2412219836  2458001652 2019-08-05     2420     B\n",
       "454      3755354294  2458001652 2019-08-06     7349     B\n",
       "456       543654048  2458001652 2019-08-06     1620     A\n",
       "483      2280027650  2458001652 2019-08-06     6681     B\n",
       "727      3959083601  2458001652 2019-08-07    17379     A\n",
       "916       527333943  2458001652 2019-08-08     5227     B\n",
       "692      3586870909  2458001652 2019-08-09     5227     B\n",
       "1062     1817215137  2458001652 2019-08-11     8280     A\n",
       "133      3060563671  2458001652 2019-08-22     5190     A\n",
       "380      1177690313  2458001652 2019-08-25     2385     B"
      ]
     },
     "metadata": {},
     "output_type": "display_data"
    }
   ],
   "source": [
    "display(orders.query('visitorId == 2458001652').sort_values(by='date', ascending=True))"
   ]
  },
  {
   "cell_type": "code",
   "execution_count": 31,
   "metadata": {},
   "outputs": [
    {
     "data": {
      "text/html": [
       "<div>\n",
       "<style scoped>\n",
       "    .dataframe tbody tr th:only-of-type {\n",
       "        vertical-align: middle;\n",
       "    }\n",
       "\n",
       "    .dataframe tbody tr th {\n",
       "        vertical-align: top;\n",
       "    }\n",
       "\n",
       "    .dataframe thead th {\n",
       "        text-align: right;\n",
       "    }\n",
       "</style>\n",
       "<table border=\"1\" class=\"dataframe\">\n",
       "  <thead>\n",
       "    <tr style=\"text-align: right;\">\n",
       "      <th></th>\n",
       "      <th>transactionId</th>\n",
       "      <th>visitorId</th>\n",
       "      <th>date</th>\n",
       "      <th>revenue</th>\n",
       "      <th>group</th>\n",
       "    </tr>\n",
       "  </thead>\n",
       "  <tbody>\n",
       "    <tr>\n",
       "      <td>697</td>\n",
       "      <td>1612868255</td>\n",
       "      <td>2378935119</td>\n",
       "      <td>2019-08-09</td>\n",
       "      <td>30649</td>\n",
       "      <td>B</td>\n",
       "    </tr>\n",
       "    <tr>\n",
       "      <td>1029</td>\n",
       "      <td>469609643</td>\n",
       "      <td>2378935119</td>\n",
       "      <td>2019-08-10</td>\n",
       "      <td>58220</td>\n",
       "      <td>A</td>\n",
       "    </tr>\n",
       "    <tr>\n",
       "      <td>1031</td>\n",
       "      <td>1661772358</td>\n",
       "      <td>2378935119</td>\n",
       "      <td>2019-08-10</td>\n",
       "      <td>2640</td>\n",
       "      <td>B</td>\n",
       "    </tr>\n",
       "    <tr>\n",
       "      <td>33</td>\n",
       "      <td>486237576</td>\n",
       "      <td>2378935119</td>\n",
       "      <td>2019-08-15</td>\n",
       "      <td>1650</td>\n",
       "      <td>A</td>\n",
       "    </tr>\n",
       "    <tr>\n",
       "      <td>179</td>\n",
       "      <td>1784270968</td>\n",
       "      <td>2378935119</td>\n",
       "      <td>2019-08-17</td>\n",
       "      <td>310</td>\n",
       "      <td>A</td>\n",
       "    </tr>\n",
       "    <tr>\n",
       "      <td>118</td>\n",
       "      <td>4233533907</td>\n",
       "      <td>2378935119</td>\n",
       "      <td>2019-08-22</td>\n",
       "      <td>3390</td>\n",
       "      <td>A</td>\n",
       "    </tr>\n",
       "    <tr>\n",
       "      <td>391</td>\n",
       "      <td>2213813903</td>\n",
       "      <td>2378935119</td>\n",
       "      <td>2019-08-25</td>\n",
       "      <td>21220</td>\n",
       "      <td>B</td>\n",
       "    </tr>\n",
       "    <tr>\n",
       "      <td>435</td>\n",
       "      <td>2430683444</td>\n",
       "      <td>2378935119</td>\n",
       "      <td>2019-08-28</td>\n",
       "      <td>20450</td>\n",
       "      <td>B</td>\n",
       "    </tr>\n",
       "    <tr>\n",
       "      <td>473</td>\n",
       "      <td>3224706027</td>\n",
       "      <td>2378935119</td>\n",
       "      <td>2019-08-28</td>\n",
       "      <td>4410</td>\n",
       "      <td>B</td>\n",
       "    </tr>\n",
       "  </tbody>\n",
       "</table>\n",
       "</div>"
      ],
      "text/plain": [
       "      transactionId   visitorId       date  revenue group\n",
       "697      1612868255  2378935119 2019-08-09    30649     B\n",
       "1029      469609643  2378935119 2019-08-10    58220     A\n",
       "1031     1661772358  2378935119 2019-08-10     2640     B\n",
       "33        486237576  2378935119 2019-08-15     1650     A\n",
       "179      1784270968  2378935119 2019-08-17      310     A\n",
       "118      4233533907  2378935119 2019-08-22     3390     A\n",
       "391      2213813903  2378935119 2019-08-25    21220     B\n",
       "435      2430683444  2378935119 2019-08-28    20450     B\n",
       "473      3224706027  2378935119 2019-08-28     4410     B"
      ]
     },
     "metadata": {},
     "output_type": "display_data"
    }
   ],
   "source": [
    "display(orders.query('visitorId == 2378935119').sort_values(by='date', ascending=True))"
   ]
  },
  {
   "cell_type": "markdown",
   "metadata": {},
   "source": [
    "**ВЫВОДЫ ПО ПРОВЕРКЕ:**\n",
    "\n",
    "* поведение пользователей, сделавших самое большое количество покупок выглядит вполне адекватным:\n",
    ">\n",
    "> покупки происходят регулярно с первых до последних дней теста\n",
    ">\n",
    "> у всех 3-х пользователей есть дни, в которые они делали 2 - 3 заказа; можно предположить, что один из этих заказов является основным, а остальные вспомогательными, когда пользователь \"забыл что-то положить в корзину\"\n",
    "\n",
    "* Проблемой является то, что эти пользователи мигрируют между группами и будут исключены при очистке данных"
   ]
  },
  {
   "cell_type": "markdown",
   "metadata": {},
   "source": [
    "### Анализ стоимостей заказов"
   ]
  },
  {
   "cell_type": "code",
   "execution_count": 32,
   "metadata": {},
   "outputs": [
    {
     "name": "stdout",
     "output_type": "stream",
     "text": [
      "count    1.197000e+03\n",
      "mean     8.348006e+03\n",
      "std      3.919113e+04\n",
      "min      5.000000e+01\n",
      "25%      1.220000e+03\n",
      "50%      2.978000e+03\n",
      "75%      8.290000e+03\n",
      "max      1.294500e+06\n",
      "Name: revenue, dtype: float64\n"
     ]
    },
    {
     "data": {
      "image/png": "[encoded data removed]",
      "text/plain": [
       "<Figure size 720x360 with 1 Axes>"
      ]
     },
     "metadata": {
      "needs_background": "light"
     },
     "output_type": "display_data"
    }
   ],
   "source": [
    "# выводим стат данные о заказах по выручке\n",
    "# строим точечную диаграмму\n",
    "\n",
    "print(orders['revenue'].describe())\n",
    "\n",
    "plt.figure(figsize=(10,5))\n",
    "x_values = pd.Series(range(0,len(orders['revenue'])))\n",
    "plt.scatter(x_values, orders['revenue'])\n",
    "plt.grid()\n",
    "plt.ylabel('Стоимость заказа')\n",
    "plt.title('Точечный график стоимостей заказов')\n",
    "plt.show()"
   ]
  },
  {
   "cell_type": "code",
   "execution_count": 33,
   "metadata": {},
   "outputs": [
    {
     "data": {
      "text/html": [
       "<div>\n",
       "<style scoped>\n",
       "    .dataframe tbody tr th:only-of-type {\n",
       "        vertical-align: middle;\n",
       "    }\n",
       "\n",
       "    .dataframe tbody tr th {\n",
       "        vertical-align: top;\n",
       "    }\n",
       "\n",
       "    .dataframe thead th {\n",
       "        text-align: right;\n",
       "    }\n",
       "</style>\n",
       "<table border=\"1\" class=\"dataframe\">\n",
       "  <thead>\n",
       "    <tr style=\"text-align: right;\">\n",
       "      <th></th>\n",
       "      <th>transactionId</th>\n",
       "      <th>visitorId</th>\n",
       "      <th>date</th>\n",
       "      <th>revenue</th>\n",
       "      <th>group</th>\n",
       "    </tr>\n",
       "  </thead>\n",
       "  <tbody>\n",
       "    <tr>\n",
       "      <td>425</td>\n",
       "      <td>590470918</td>\n",
       "      <td>1920142716</td>\n",
       "      <td>2019-08-19</td>\n",
       "      <td>1294500</td>\n",
       "      <td>B</td>\n",
       "    </tr>\n",
       "  </tbody>\n",
       "</table>\n",
       "</div>"
      ],
      "text/plain": [
       "     transactionId   visitorId       date  revenue group\n",
       "425      590470918  1920142716 2019-08-19  1294500     B"
      ]
     },
     "metadata": {},
     "output_type": "display_data"
    }
   ],
   "source": [
    "# выводим информацию об аномальном заказе\n",
    "\n",
    "display(orders.query('revenue >= 1294500'))"
   ]
  },
  {
   "cell_type": "code",
   "execution_count": 34,
   "metadata": {},
   "outputs": [
    {
     "data": {
      "text/html": [
       "<div>\n",
       "<style scoped>\n",
       "    .dataframe tbody tr th:only-of-type {\n",
       "        vertical-align: middle;\n",
       "    }\n",
       "\n",
       "    .dataframe tbody tr th {\n",
       "        vertical-align: top;\n",
       "    }\n",
       "\n",
       "    .dataframe thead th {\n",
       "        text-align: right;\n",
       "    }\n",
       "</style>\n",
       "<table border=\"1\" class=\"dataframe\">\n",
       "  <thead>\n",
       "    <tr style=\"text-align: right;\">\n",
       "      <th></th>\n",
       "      <th>transactionId</th>\n",
       "      <th>visitorId</th>\n",
       "      <th>date</th>\n",
       "      <th>revenue</th>\n",
       "      <th>group</th>\n",
       "    </tr>\n",
       "  </thead>\n",
       "  <tbody>\n",
       "    <tr>\n",
       "      <td>425</td>\n",
       "      <td>590470918</td>\n",
       "      <td>1920142716</td>\n",
       "      <td>2019-08-19</td>\n",
       "      <td>1294500</td>\n",
       "      <td>B</td>\n",
       "    </tr>\n",
       "  </tbody>\n",
       "</table>\n",
       "</div>"
      ],
      "text/plain": [
       "     transactionId   visitorId       date  revenue group\n",
       "425      590470918  1920142716 2019-08-19  1294500     B"
      ]
     },
     "metadata": {},
     "output_type": "display_data"
    }
   ],
   "source": [
    "# выводим информацию о заказах пользователя,\n",
    "# сделавшего аномальный заказ\n",
    "\n",
    "display(orders.query('visitorId == 1920142716').sort_values(by='date', ascending=True))"
   ]
  },
  {
   "cell_type": "markdown",
   "metadata": {},
   "source": [
    "**ВЫВОДЫ ПО ГРАФИКУ И ТАБЛИЦАМ:**\n",
    "\n",
    "* минимальный заказ равен 50 рублям\n",
    "* среднее значение равно 8 348 рублей\n",
    "* медиана равна 2 978 руб\n",
    "* 75% заказов находятся в диапазоне до 8 290 руб\n",
    "* имеется 1 аномальный заказ на сумму 1 294 500 руб, который существенно влияет на статистику\n",
    "* аномальный заказ был сделан 19.08.2019 пользователем из группы В и является единственным заказом этого пользователя в тестовый период\n",
    "* аномальный заказ повлиял на поведение выручки и среднего чека группы В в рамках теста"
   ]
  },
  {
   "cell_type": "markdown",
   "metadata": {},
   "source": [
    "**Расчет 95-го и 99-го перцентилей стоимости заказов**"
   ]
  },
  {
   "cell_type": "code",
   "execution_count": 35,
   "metadata": {},
   "outputs": [
    {
     "name": "stdout",
     "output_type": "stream",
     "text": [
      "[28000.  58233.2]\n"
     ]
    }
   ],
   "source": [
    "print(np.percentile(orders['revenue'], [95, 99]))"
   ]
  },
  {
   "cell_type": "markdown",
   "metadata": {},
   "source": [
    "**ВЫВОДЫ ПО РАСЧЕТАМ:**\n",
    "\n",
    "* 99% заказов имеют стоимость в диапазоне до 58 233 руб\n",
    "* Границу аномальных заказов предлагается установить на уровне 99 перцентиля"
   ]
  },
  {
   "cell_type": "markdown",
   "metadata": {},
   "source": [
    "### Расчет стат значимости различий в конверсии м/у группами по «сырым» данным"
   ]
  },
  {
   "cell_type": "markdown",
   "metadata": {},
   "source": [
    "#### Подготовка данных"
   ]
  },
  {
   "cell_type": "code",
   "execution_count": 36,
   "metadata": {},
   "outputs": [],
   "source": [
    "# подготавливаем данные по группе А - пользователи:\n",
    "# кол-во пользоватлей в день, кумулятивное кол-во пользователей\n",
    "\n",
    "visitorsADaily = visitors[visitors['group'] == 'A'][['date', 'visitors']]\n",
    "visitorsADaily.columns = ['date', 'visitorsPerDateA']\n",
    "\n",
    "visitorsACum = visitorsADaily.apply(lambda x: visitorsADaily[visitorsADaily['date'] <= x['date']]\\\n",
    "                                    .agg({'date':'max', 'visitorsPerDateA':'sum'}), axis = 1)\n",
    "visitorsACum.columns = ['date', 'visitorsCumA']\n",
    "\n",
    "# подготавливаем данные по группе B - пользователи:\n",
    "# кол-во пользоватлей в день, кумулятивное кол-во пользователей\n",
    "\n",
    "visitorsBDaily = visitors[visitors['group'] == 'B'][['date', 'visitors']]\n",
    "visitorsBDaily.columns = ['date', 'visitorsPerDateB']\n",
    "\n",
    "visitorsBCum = visitorsBDaily.apply(lambda x: visitorsBDaily[visitorsBDaily['date'] <= x['date']]\\\n",
    "                                    .agg({'date':'max', 'visitorsPerDateB':'sum'}), axis = 1)\n",
    "visitorsBCum.columns = ['date', 'visitorsCumB']"
   ]
  },
  {
   "cell_type": "code",
   "execution_count": 37,
   "metadata": {},
   "outputs": [],
   "source": [
    "# подготавливаем данные по группе А - заказы:\n",
    "# кол-во заказов и сумма выручки в день\n",
    "\n",
    "ordersADaily = orders[orders['group'] == 'A'][['date', 'transactionId','visitorId', 'revenue']]\\\n",
    "                .groupby('date', as_index = False).agg({'transactionId' : pd.Series.nunique, 'revenue':'sum'})\n",
    "ordersADaily.columns = ['date', 'ordersPerDateA', 'revenuePerDateA']\n",
    "\n",
    "ordersACum = ordersADaily.apply(lambda x: ordersADaily[ordersADaily['date'] <= x['date']]\\\n",
    "                                .agg({'date':'max', 'ordersPerDateA':'sum', 'revenuePerDateA':'sum'}), axis = 1)\\\n",
    "                                .sort_values(by=['date'])\n",
    "\n",
    "ordersACum.columns = ['date', 'ordersCumA', 'revenueCumA']\n",
    "\n",
    "# подготавливаем данные по группе B - заказы:\n",
    "# кол-во заказов и сумма выручки в день\n",
    "\n",
    "ordersBDaily = orders[orders['group'] == 'B'][['date', 'transactionId','visitorId', 'revenue']]\\\n",
    "                .groupby('date', as_index = False).agg({'transactionId' : pd.Series.nunique, 'revenue':'sum'})\n",
    "ordersBDaily.columns = ['date', 'ordersPerDateB', 'revenuePerDateB']\n",
    "\n",
    "ordersBCum = ordersBDaily.apply(lambda x: ordersBDaily[ordersBDaily['date'] <= x['date']]\\\n",
    "                                .agg({'date':'max', 'ordersPerDateB':'sum', 'revenuePerDateB':'sum'}), axis = 1)\\\n",
    "                                .sort_values(by=['date'])\n",
    "\n",
    "ordersBCum.columns = ['date', 'ordersCumB', 'revenueCumB']"
   ]
  },
  {
   "cell_type": "code",
   "execution_count": 38,
   "metadata": {},
   "outputs": [
    {
     "data": {
      "text/html": [
       "<div>\n",
       "<style scoped>\n",
       "    .dataframe tbody tr th:only-of-type {\n",
       "        vertical-align: middle;\n",
       "    }\n",
       "\n",
       "    .dataframe tbody tr th {\n",
       "        vertical-align: top;\n",
       "    }\n",
       "\n",
       "    .dataframe thead th {\n",
       "        text-align: right;\n",
       "    }\n",
       "</style>\n",
       "<table border=\"1\" class=\"dataframe\">\n",
       "  <thead>\n",
       "    <tr style=\"text-align: right;\">\n",
       "      <th></th>\n",
       "      <th>date</th>\n",
       "      <th>ordersPerDateA</th>\n",
       "      <th>revenuePerDateA</th>\n",
       "      <th>ordersPerDateB</th>\n",
       "      <th>revenuePerDateB</th>\n",
       "      <th>ordersCumA</th>\n",
       "      <th>revenueCumA</th>\n",
       "      <th>ordersCumB</th>\n",
       "      <th>revenueCumB</th>\n",
       "      <th>visitorsPerDateA</th>\n",
       "      <th>visitorsPerDateB</th>\n",
       "      <th>visitorsCumA</th>\n",
       "      <th>visitorsCumB</th>\n",
       "    </tr>\n",
       "  </thead>\n",
       "  <tbody>\n",
       "    <tr>\n",
       "      <td>20</td>\n",
       "      <td>2019-08-21</td>\n",
       "      <td>23</td>\n",
       "      <td>174309</td>\n",
       "      <td>14</td>\n",
       "      <td>163077</td>\n",
       "      <td>385</td>\n",
       "      <td>2643838</td>\n",
       "      <td>437</td>\n",
       "      <td>4426892</td>\n",
       "      <td>646</td>\n",
       "      <td>656</td>\n",
       "      <td>12850</td>\n",
       "      <td>12874</td>\n",
       "    </tr>\n",
       "    <tr>\n",
       "      <td>2</td>\n",
       "      <td>2019-08-03</td>\n",
       "      <td>24</td>\n",
       "      <td>112473</td>\n",
       "      <td>16</td>\n",
       "      <td>114248</td>\n",
       "      <td>68</td>\n",
       "      <td>354874</td>\n",
       "      <td>61</td>\n",
       "      <td>380996</td>\n",
       "      <td>507</td>\n",
       "      <td>509</td>\n",
       "      <td>1845</td>\n",
       "      <td>1803</td>\n",
       "    </tr>\n",
       "    <tr>\n",
       "      <td>10</td>\n",
       "      <td>2019-08-11</td>\n",
       "      <td>13</td>\n",
       "      <td>77585</td>\n",
       "      <td>13</td>\n",
       "      <td>53310</td>\n",
       "      <td>206</td>\n",
       "      <td>1313683</td>\n",
       "      <td>241</td>\n",
       "      <td>1592513</td>\n",
       "      <td>718</td>\n",
       "      <td>721</td>\n",
       "      <td>6980</td>\n",
       "      <td>6998</td>\n",
       "    </tr>\n",
       "    <tr>\n",
       "      <td>11</td>\n",
       "      <td>2019-08-12</td>\n",
       "      <td>24</td>\n",
       "      <td>249190</td>\n",
       "      <td>23</td>\n",
       "      <td>141554</td>\n",
       "      <td>230</td>\n",
       "      <td>1562873</td>\n",
       "      <td>264</td>\n",
       "      <td>1734067</td>\n",
       "      <td>595</td>\n",
       "      <td>543</td>\n",
       "      <td>7575</td>\n",
       "      <td>7541</td>\n",
       "    </tr>\n",
       "    <tr>\n",
       "      <td>16</td>\n",
       "      <td>2019-08-17</td>\n",
       "      <td>10</td>\n",
       "      <td>50861</td>\n",
       "      <td>14</td>\n",
       "      <td>81155</td>\n",
       "      <td>311</td>\n",
       "      <td>2129769</td>\n",
       "      <td>373</td>\n",
       "      <td>2620790</td>\n",
       "      <td>412</td>\n",
       "      <td>421</td>\n",
       "      <td>10459</td>\n",
       "      <td>10434</td>\n",
       "    </tr>\n",
       "  </tbody>\n",
       "</table>\n",
       "</div>"
      ],
      "text/plain": [
       "         date  ordersPerDateA  revenuePerDateA  ordersPerDateB  \\\n",
       "20 2019-08-21              23           174309              14   \n",
       "2  2019-08-03              24           112473              16   \n",
       "10 2019-08-11              13            77585              13   \n",
       "11 2019-08-12              24           249190              23   \n",
       "16 2019-08-17              10            50861              14   \n",
       "\n",
       "    revenuePerDateB  ordersCumA  revenueCumA  ordersCumB  revenueCumB  \\\n",
       "20           163077         385      2643838         437      4426892   \n",
       "2            114248          68       354874          61       380996   \n",
       "10            53310         206      1313683         241      1592513   \n",
       "11           141554         230      1562873         264      1734067   \n",
       "16            81155         311      2129769         373      2620790   \n",
       "\n",
       "    visitorsPerDateA  visitorsPerDateB  visitorsCumA  visitorsCumB  \n",
       "20               646               656         12850         12874  \n",
       "2                507               509          1845          1803  \n",
       "10               718               721          6980          6998  \n",
       "11               595               543          7575          7541  \n",
       "16               412               421         10459         10434  "
      ]
     },
     "metadata": {},
     "output_type": "display_data"
    }
   ],
   "source": [
    "# сводим подготовленные данные по группам в единую таблицу\n",
    "\n",
    "data = (\n",
    "    ordersADaily.merge(\n",
    "        ordersBDaily, left_on = 'date', right_on = 'date', how = 'left'\n",
    "    )\n",
    "       .merge(ordersACum, left_on = 'date',right_on = 'date', how = 'left')\n",
    "       .merge(ordersBCum, left_on = 'date',right_on = 'date', how = 'left')\n",
    "       .merge(visitorsADaily, left_on = 'date', right_on = 'date', how = 'left')\n",
    "       .merge(visitorsBDaily, left_on = 'date', right_on = 'date', how = 'left')\n",
    "       .merge(visitorsACum, left_on = 'date', right_on = 'date', how = 'left')\n",
    "       .merge(visitorsBCum, left_on = 'date', right_on = 'date', how = 'left')\n",
    ")\n",
    "display(data.sample(5))"
   ]
  },
  {
   "cell_type": "code",
   "execution_count": 39,
   "metadata": {},
   "outputs": [],
   "source": [
    "# рассчитываем число заказов на каждого пользователя\n",
    "# в группах А и В\n",
    "\n",
    "ordersByUsersA = (\n",
    "    orders[orders['group'] == 'A']\n",
    ".groupby('visitorId', as_index = False)\n",
    ".agg({'transactionId':pd.Series.nunique})\n",
    ")\n",
    "ordersByUsersA.columns = ['userid', 'orders']\n",
    "\n",
    "ordersByUsersB = (\n",
    "    orders[orders['group'] == 'B']\n",
    ".groupby('visitorId', as_index = False)\n",
    ".agg({'transactionId':pd.Series.nunique})\n",
    ")\n",
    "ordersByUsersB.columns = ['userid', 'orders']"
   ]
  },
  {
   "cell_type": "code",
   "execution_count": 40,
   "metadata": {},
   "outputs": [],
   "source": [
    "# создаем переменные для обозначения выборок групп А и В,\n",
    "# в которых каждому пользователю соответствует кол-во заказов, включая \"0\"\n",
    "\n",
    "sampleA = pd.concat([ordersByUsersA['orders'], pd.Series(0, index=np.arange(data['visitorsPerDateA']\\\n",
    "                                                   .sum() - len(ordersByUsersA['orders'])),name = 'orders')],axis = 0)\n",
    "\n",
    "sampleB = pd.concat([ordersByUsersB['orders'], pd.Series(0, index=np.arange(data['visitorsPerDateB']\\\n",
    "                                                    .sum() - len(ordersByUsersB['orders'])),name = 'orders')], axis = 0)"
   ]
  },
  {
   "cell_type": "markdown",
   "metadata": {},
   "source": [
    "#### Проверка гипотезы о нормальности распределения данных в выборках для принятия решения о выборе метода определения стат значимости различий в конверсии между группами. Н0 = распределение нормально"
   ]
  },
  {
   "cell_type": "code",
   "execution_count": 41,
   "metadata": {},
   "outputs": [
    {
     "name": "stdout",
     "output_type": "stream",
     "text": [
      "p-значение: 0.0\n",
      "Отвергаем нулевую гипотезу: распределение не нормально\n"
     ]
    },
    {
     "name": "stderr",
     "output_type": "stream",
     "text": [
      "/opt/conda/lib/python3.7/site-packages/scipy/stats/morestats.py:1676: UserWarning: p-value may not be accurate for N > 5000.\n",
      "  warnings.warn(\"p-value may not be accurate for N > 5000.\")\n"
     ]
    }
   ],
   "source": [
    "# проверяем нормальность распределения выборки А методом\n",
    "# Шапиро - Уилка\n",
    "\n",
    "alpha = 0.05 # устанавливаем уровень критической значимости\n",
    "results = st.shapiro(sampleA)\n",
    "p_value = results[1]\n",
    "\n",
    "print('p-значение:', p_value)\n",
    "\n",
    "if (p_value < alpha):\n",
    "    print(\"Отвергаем нулевую гипотезу: распределение не нормально\")\n",
    "else:\n",
    "        print(\"Не получилось отвергнуть нулевую гипотезу: распределение нормально\")"
   ]
  },
  {
   "cell_type": "code",
   "execution_count": 42,
   "metadata": {},
   "outputs": [
    {
     "name": "stdout",
     "output_type": "stream",
     "text": [
      "p-значение: 0.0\n",
      "Отвергаем нулевую гипотезу: распределение не нормально\n"
     ]
    }
   ],
   "source": [
    "# проверяем нормальность распределения методом B\n",
    "# Шапиро - Уилка\n",
    "\n",
    "alpha = 0.05 # устанавливаем уровень критической значимости\n",
    "results = st.shapiro(sampleB)\n",
    "p_value = results[1]\n",
    "\n",
    "print('p-значение:', p_value)\n",
    "\n",
    "if (p_value < alpha):\n",
    "    print(\"Отвергаем нулевую гипотезу: распределение не нормально\")\n",
    "else:\n",
    "        print(\"Не получилось отвергнуть нулевую гипотезу: распределение нормально\")"
   ]
  },
  {
   "cell_type": "markdown",
   "metadata": {},
   "source": [
    "**ВЫВОДЫ ПО ПРОВЕРКЕ ГИПОТЕЗЫ О НОРМАЛЬНОСТИ РАСПРЕДЕЛЕНИЯ В ВЫБОРКАХ:**\n",
    "\n",
    "Проверка выборок контрольной и тестовой групп методом Шапиро - Уилка показала, что вычесленное значение р в обеих группах стремится к 0, т.е. значительно меньше установленного уровня критической значимости, равного 0,05. Данный факт позволяет отклонить нулевую гипотезу о нормальности распределения данных в выборках. Для определения стат значимости различий в конверсии между группами будет использован непармаетрический метод Манна - Уитни."
   ]
  },
  {
   "cell_type": "markdown",
   "metadata": {},
   "source": [
    "#### Проверка гипотезы об отсутствии статистически значимых различий в конверсии между группами. Н0 = различия отсутствуют"
   ]
  },
  {
   "cell_type": "markdown",
   "metadata": {},
   "source": [
    "**В рамках сформулированной гипотезы об отсутствии различий применяем параметр двустороннего теста 'alternative=\"two-sided\"'**"
   ]
  },
  {
   "cell_type": "code",
   "execution_count": 43,
   "metadata": {},
   "outputs": [
    {
     "name": "stdout",
     "output_type": "stream",
     "text": [
      "0.017\n",
      "\n",
      "0.138\n"
     ]
    }
   ],
   "source": [
    "# в связи с ненормальностью распределения применяем непараметрический метод\n",
    "# Манна - Уитни для определения стат значимости различий в конверсии м/у группами по «сырым» данным\n",
    "# выводим относительный прирост конверсии группы В\n",
    "\n",
    "alpha = 0.05 # устанавливаем уровень критической значимости\n",
    "\n",
    "print('{0:.3f}'.format(st.mannwhitneyu(sampleA, sampleB, alternative=\"two-sided\")[1]))\n",
    "print()\n",
    "print('{0:.3f}'.format(sampleB.mean() / sampleA.mean() - 1))"
   ]
  },
  {
   "cell_type": "markdown",
   "metadata": {},
   "source": [
    "**ВЫВОДЫ ПО РАСЧЕТАМ:**\n",
    "\n",
    "По \"сырым\" данным различия в конверсии между группами А и В существуют. Значение p-value, полученное в результате двустороннего теста методом Манна - Уитни, составило 0,017, что меньше уровня критической значимости 0,05, что позволяет отвергнуть нулевую гипотезу об отсутствии статистически значимых различий в конверсии между группами. Относительное преимущество группы В в конверсии составило 13,8%."
   ]
  },
  {
   "cell_type": "markdown",
   "metadata": {},
   "source": [
    "### Расчет стат значимости различий в среднем чеке заказа м/у группами по «сырым» данным. Проверка гипотезы об отсутствии различий. Н0 = различия отсутствуют"
   ]
  },
  {
   "cell_type": "markdown",
   "metadata": {},
   "source": [
    "**В рамках сформулированной гипотезы об отсутствии различий применяем параметр двустороннего теста 'alternative=\"two-sided\"'**"
   ]
  },
  {
   "cell_type": "code",
   "execution_count": 44,
   "metadata": {},
   "outputs": [
    {
     "name": "stdout",
     "output_type": "stream",
     "text": [
      "0.729\n",
      "\n",
      "0.259\n"
     ]
    }
   ],
   "source": [
    "# применяем непараметрический метод Манна - Уитни для расчета\n",
    "# стат значимости различий в среднем чеке заказа м/у группами по «сырым» данным\n",
    "# выводим относительный прирост чека группы В\n",
    "\n",
    "alpha = 0.05 # устанавливаем уровень критической значимости\n",
    "\n",
    "\n",
    "print('{0:.3f}'.format(st.mannwhitneyu(orders[orders['group'] == 'A']['revenue'],orders[orders['group'] == 'B']\\\n",
    "                                       ['revenue'], alternative=\"two-sided\")[1]))\n",
    "print()\n",
    "print('{0:.3f}'.format(orders[orders['group'] == 'B']['revenue'].mean() / orders[orders['group'] == 'A']['revenue'].mean() - 1))"
   ]
  },
  {
   "cell_type": "markdown",
   "metadata": {},
   "source": [
    "**ВЫВОДЫ ПО РАСЧЕТАМ:**\n",
    "\n",
    "По \"сырым\" данным различия в среднем чеке между группами А и В отсутствуют. Значение p-value, полученное в результате теста методом Манна - Уитни, составило 0,729, что значительно больше уровня критической значимости 0,05, что позволяет принять нулевую гипотезу об отсутствии статистически значимых различий в среднем чеке между группами. Хотя среднеий чек группы В ниже среднего чека группы А."
   ]
  },
  {
   "cell_type": "markdown",
   "metadata": {},
   "source": [
    "### Расчет стат значимости различий в конверсии м/у группами по «очищенным» данным"
   ]
  },
  {
   "cell_type": "markdown",
   "metadata": {},
   "source": [
    "#### очистка данных от пользователей со смешанным трафиком"
   ]
  },
  {
   "cell_type": "code",
   "execution_count": 45,
   "metadata": {},
   "outputs": [],
   "source": [
    "# формируем данные, исключающие пользователей, проявивших смешанное поведение\n",
    "\n",
    "orders_split_pure = orders_split[orders_split['group_mix'] == 'pure']\n",
    "\n",
    "orders_pure = orders[orders['visitorId'].isin(orders_split_pure['visitorId'])]"
   ]
  },
  {
   "cell_type": "code",
   "execution_count": 46,
   "metadata": {},
   "outputs": [
    {
     "data": {
      "text/html": [
       "<div>\n",
       "<style scoped>\n",
       "    .dataframe tbody tr th:only-of-type {\n",
       "        vertical-align: middle;\n",
       "    }\n",
       "\n",
       "    .dataframe tbody tr th {\n",
       "        vertical-align: top;\n",
       "    }\n",
       "\n",
       "    .dataframe thead th {\n",
       "        text-align: right;\n",
       "    }\n",
       "</style>\n",
       "<table border=\"1\" class=\"dataframe\">\n",
       "  <thead>\n",
       "    <tr style=\"text-align: right;\">\n",
       "      <th></th>\n",
       "      <th>group</th>\n",
       "      <th>visitorId</th>\n",
       "    </tr>\n",
       "    <tr>\n",
       "      <th>group</th>\n",
       "      <th></th>\n",
       "      <th></th>\n",
       "    </tr>\n",
       "  </thead>\n",
       "  <tbody>\n",
       "    <tr>\n",
       "      <td>A</td>\n",
       "      <td>A</td>\n",
       "      <td>445</td>\n",
       "    </tr>\n",
       "    <tr>\n",
       "      <td>B</td>\n",
       "      <td>B</td>\n",
       "      <td>528</td>\n",
       "    </tr>\n",
       "  </tbody>\n",
       "</table>\n",
       "</div>"
      ],
      "text/plain": [
       "      group  visitorId\n",
       "group                 \n",
       "A         A        445\n",
       "B         B        528"
      ]
     },
     "metadata": {},
     "output_type": "display_data"
    }
   ],
   "source": [
    "# проверяем распределение по данным, очищенным от смешенного трафика\n",
    "\n",
    "display(orders_pure.sort_values(by='date', ascending=True).groupby('group').agg({'group':'first', 'visitorId':'nunique'}))"
   ]
  },
  {
   "cell_type": "code",
   "execution_count": 47,
   "metadata": {},
   "outputs": [
    {
     "name": "stdout",
     "output_type": "stream",
     "text": [
      "count    1.016000e+03\n",
      "mean     8.300815e+03\n",
      "std      4.212199e+04\n",
      "min      5.000000e+01\n",
      "25%      1.190000e+03\n",
      "50%      2.955000e+03\n",
      "75%      8.134250e+03\n",
      "max      1.294500e+06\n",
      "Name: revenue, dtype: float64\n"
     ]
    },
    {
     "data": {
      "image/png": "[encoded data removed]",
      "text/plain": [
       "<Figure size 720x360 with 1 Axes>"
      ]
     },
     "metadata": {
      "needs_background": "light"
     },
     "output_type": "display_data"
    }
   ],
   "source": [
    "# выводим стат данные о заказах по выручке на основе данных, очищенных от смешанного трафика\n",
    "# строим точечную диаграмму\n",
    "\n",
    "print(orders_pure['revenue'].describe())\n",
    "\n",
    "plt.figure(figsize=(10,5))\n",
    "x_values = pd.Series(range(0,len(orders_pure['revenue'])))\n",
    "plt.scatter(x_values, orders_pure['revenue'])\n",
    "plt.grid()\n",
    "plt.ylabel('Стоимость заказа')\n",
    "plt.title('Точечный график стоимостей заказов, чистый трафик')\n",
    "plt.show()"
   ]
  },
  {
   "cell_type": "code",
   "execution_count": 48,
   "metadata": {},
   "outputs": [
    {
     "name": "stdout",
     "output_type": "stream",
     "text": [
      "[26785. 53904.]\n"
     ]
    }
   ],
   "source": [
    "# рассчитываем 95 и 99 перцентиль по данным о выручке с чистым трафиком\n",
    "\n",
    "print(np.percentile(orders_pure['revenue'], [95, 99]))"
   ]
  },
  {
   "cell_type": "markdown",
   "metadata": {},
   "source": [
    "**ВЫВОДЫ ПО ОЧИСТКЕ ДАННЫХ ОТ СМЕШАННОГО ТРАФИКА:**\n",
    "\n",
    "В результате очистки данных от смешанного трафика из расчетов выбыло 58 пользователей. Распределение между группами осталось неравномерным:\n",
    "* группа А = 445 пользователей\n",
    "* группа В = 528 пользователей\n",
    "\n",
    "Средние параметры выручки изменились в меньшую сторону:\n",
    "* среднее - было 8 348 / стало 8 300\n",
    "* медиана - было 2 978 / стало 2 955\n",
    "* максимальное значение осталось неизменным - 1 294 500\n",
    "* 95-й перцентиль - было 28 000 / стало 26 785\n",
    "* 99-й перцентиль - было 58 233 / стало 53 904"
   ]
  },
  {
   "cell_type": "markdown",
   "metadata": {},
   "source": [
    "#### очистка данных от аномальных заказов стоимостью выше 99 персентиля"
   ]
  },
  {
   "cell_type": "code",
   "execution_count": 49,
   "metadata": {},
   "outputs": [
    {
     "data": {
      "text/plain": [
       "count     1007.000000\n",
       "mean      6393.414101\n",
       "std       8714.198006\n",
       "min         50.000000\n",
       "25%       1190.000000\n",
       "50%       2938.000000\n",
       "75%       7990.000000\n",
       "max      53904.000000\n",
       "Name: revenue, dtype: float64"
      ]
     },
     "metadata": {},
     "output_type": "display_data"
    }
   ],
   "source": [
    "# отфильтровываем обновленные данные по 99-му перцентилю\n",
    "# выводим стат информацию о выручке\n",
    "\n",
    "orders_pure_clean_rev = orders_pure[orders_pure['revenue'] <= 54000]\n",
    "display(orders_pure_clean_rev['revenue'].describe())"
   ]
  },
  {
   "cell_type": "code",
   "execution_count": 50,
   "metadata": {},
   "outputs": [],
   "source": [
    "# производим перерасчет числа заказов на каждого пользователя\n",
    "# в группах А и В\n",
    "\n",
    "ordersByUsersA_pure_clean_rev = (\n",
    "    orders_pure_clean_rev[orders_pure_clean_rev['group'] == 'A']\n",
    ".groupby('visitorId', as_index = False)\n",
    ".agg({'transactionId':pd.Series.nunique})\n",
    ")\n",
    "ordersByUsersA_pure_clean_rev.columns = ['userid', 'orders']\n",
    "\n",
    "ordersByUsersB_pure_clean_rev = (\n",
    "    orders_pure_clean_rev[orders_pure_clean_rev['group'] == 'B']\n",
    ".groupby('visitorId', as_index = False)\n",
    ".agg({'transactionId':pd.Series.nunique})\n",
    ")\n",
    "ordersByUsersB_pure_clean_rev.columns = ['userid', 'orders']"
   ]
  },
  {
   "cell_type": "code",
   "execution_count": 51,
   "metadata": {},
   "outputs": [],
   "source": [
    "# создаем переменные для обозначения выборок групп А и В c чистым разделением трафика,\n",
    "# в которых каждому пользователю соответствует кол-во заказов, включая \"0\"\n",
    "\n",
    "sampleA_pure_clean_rev = pd.concat([ordersByUsersA_pure_clean_rev['orders']\\\n",
    "                                    ,pd.Series(0, index=np.arange(data['visitorsPerDateA']\\\n",
    "                                    .sum() - len(ordersByUsersA_pure_clean_rev['orders']))\\\n",
    "                                    ,name = 'orders')],axis = 0)\n",
    "\n",
    "sampleB_pure_clean_rev = pd.concat([ordersByUsersB_pure_clean_rev['orders']\\\n",
    "                                    ,pd.Series(0, index=np.arange(data['visitorsPerDateB']\\\n",
    "                                    .sum() - len(ordersByUsersB_pure_clean_rev['orders']))\\\n",
    "                                    ,name = 'orders')], axis = 0)"
   ]
  },
  {
   "cell_type": "markdown",
   "metadata": {},
   "source": [
    "#### Проверка гипотезы об отсутствии статистически значимых различий в конверсии между группами по \"очищенным\" данным. Н0 = различия отсутствуют"
   ]
  },
  {
   "cell_type": "markdown",
   "metadata": {},
   "source": [
    "**В рамках сформулированной гипотезы об отсутствии различий применяем параметр двустороннего теста 'alternative=\"two-sided\"'**"
   ]
  },
  {
   "cell_type": "code",
   "execution_count": 52,
   "metadata": {},
   "outputs": [
    {
     "name": "stdout",
     "output_type": "stream",
     "text": [
      "0.010\n",
      "\n",
      "0.164\n"
     ]
    }
   ],
   "source": [
    "# применяем непараметрический метод Манна - Уитни\n",
    "# для определения стат значимости различий в конверсии м/у группами по «очищенным» данным\n",
    "# выводим относительный прирост конверсии группы В\n",
    "\n",
    "alpha = 0.05 # устанавливаем уровень критической значимости\n",
    "\n",
    "print('{0:.3f}'.format(st.mannwhitneyu(sampleA_pure_clean_rev, sampleB_pure_clean_rev, alternative=\"two-sided\")[1]))\n",
    "print()\n",
    "print('{0:.3f}'.format(sampleB_pure_clean_rev.mean() / sampleA_pure_clean_rev.mean() - 1))"
   ]
  },
  {
   "cell_type": "markdown",
   "metadata": {},
   "source": [
    "**ВЫВОДЫ ПО РАСЧЕТАМ:**\n",
    "\n",
    "По \"очищенным\" данным различия в конверсии между группами А и В существуют. Значение p-value, полученное в результате теста методом Манна - Уитни, составило 0,010, что меньше уровня критической значимости 0,05, что позволяет отвергнуть нулевую гипотезу об отсутствии статистически значимых различий в конверсии между группами. Относительное преимущество группы В в конверсии составило 16,4%."
   ]
  },
  {
   "cell_type": "markdown",
   "metadata": {},
   "source": [
    "### Расчет стат значимости различий в среднем чеке заказа м/у группами по «очищенным» данным/ Проверка гипотезы об отсутствии различий. Н0 = различия отсутствуют"
   ]
  },
  {
   "cell_type": "markdown",
   "metadata": {},
   "source": [
    "**В рамках сформулированной гипотезы об отсутствии различий применяем параметр двустороннего теста 'alternative=\"two-sided\"'**"
   ]
  },
  {
   "cell_type": "code",
   "execution_count": 53,
   "metadata": {},
   "outputs": [
    {
     "name": "stdout",
     "output_type": "stream",
     "text": [
      "0.901\n",
      "\n",
      "-0.032\n"
     ]
    }
   ],
   "source": [
    "# применяем непараметрический метод Манна - Уитни для расчета\n",
    "# стат значимости различий в среднем чеке заказа м/у группами по «очищенным» данным\n",
    "# выводим относительный прирост чека группы В\n",
    "\n",
    "print('{0:.3f}'.format(st.mannwhitneyu(orders_pure_clean_rev[orders_pure_clean_rev['group'] == 'A']['revenue'],\n",
    "                                      orders_pure_clean_rev[orders_pure_clean_rev['group'] == 'B']['revenue']\\\n",
    "                                      , alternative=\"two-sided\")[1]))\n",
    "print()\n",
    "print('{0:.3f}'.format(orders_pure_clean_rev[orders_pure_clean_rev['group'] == 'B']['revenue'].mean()\\\n",
    "                       / orders_pure_clean_rev[orders_pure_clean_rev['group'] == 'A']['revenue'].mean() - 1))"
   ]
  },
  {
   "cell_type": "markdown",
   "metadata": {},
   "source": [
    "**ВЫВОДЫ ПО РАСЧЕТАМ:**\n",
    "\n",
    "По \"очищенным\" данным различия в среднем чеке между группами А и В отсутствуют. Значение p-value, полученное в результате теста методом Манна - Уитни, составило 0,901, что значительно больше уровня критической значимости 0,05, что позволяет принять нулевую гипотезу об отсутствии статистически значимых различий в среднем чеке между группами. Хотя среднеий чек группы В ниже среднего чека группы А."
   ]
  },
  {
   "cell_type": "markdown",
   "metadata": {},
   "source": [
    "## Решение по результатам теста\n",
    "\n",
    "1. Остановить тест, зафиксировать победу одной из групп\n",
    "2. Остановить тест, зафиксировать отсутствие различий между группами\n",
    "3. Продолжить тест"
   ]
  },
  {
   "cell_type": "markdown",
   "metadata": {},
   "source": [
    "Тест проводился в период с 01.08.2019 по 31.08.2019.\n",
    "\n",
    "**Анализ распределения пользователей** по группам показал 2 ошибки в дизайне и организации теста:\n",
    "> кол-во пользователей в группах не совпадало - А (контрольная группа) = 503 пользователя, В (тестовая группа) = 586 пользователей\n",
    ">\n",
    "> 58 (или 6%) пользователей проявили смешанное поведение (попали в обе группы при фиксации результатов)\n",
    "\n",
    "Количественно выборки позволили произвести очистку данных, проигнорировать неравномерное распределение и продолжить анализ. Рекомендация отделу маркетинга произвести анализ причин ошибок неравномерности распределения пользователей по группам, а также деления трафика и исключить их возможность для будущих тестов.\n",
    "\n",
    "По результатам теста была проведена **проверка 2-х гипотез**:\n",
    "> \n",
    "> \"об отсутствии статистически значимых различий в конверсии между контрольной и тестовой группами\"\n",
    ">\n",
    "> \"об отсутствии статистически значимых различий в среднем чеке заказа между контрольной и тестовой группами\"\n",
    "\n",
    "Проверка производилась как на \"сырых\", так и на \"очищенных\" (за исключением пользователей со смешанным поведением и одного заказа с аномальной стоимостью) данных. Для оценки стат значимости был использован двусторонний непараметрический тест Манна - Уитни. Оба набора данных показали одинаковый результат:\n",
    ">\n",
    "> **Подтвердилась** статистическая значимость различий **в конверсии**\n",
    ">\n",
    "> **НЕ подтвердилась** статистическая значимость различий **в среднем чеке**\n",
    "\n",
    "Анализ кумулятивной конверсии по группам и относительного изменения кумулятивной конверсии группы В к группе А подтверждают и иллюстрируют наличие различий.\n",
    "\n",
    "Анализ кумулятивного среднего чека по группам и относительного изменения среднего чека группы В к группе А показывает близость значений, что усиливается после очистки данных от аномального чека от 19.08.2019 на сумму 1 294 500 рублей, вызвашего \"скочек\" данных в группе В по выручке и среднему чеку.\n",
    "\n",
    "Предлагается остановить тест и зафиксировать победу тестовой группы В с точки зрения улучшения конверсии при неизменном среднем чеке относительно контрольной группы А."
   ]
  }
 ],
 "metadata": {
  "ExecuteTimeLog": [
   {
    "duration": 211,
    "start_time": "2021-12-22T11:32:37.860Z"
   },
   {
    "duration": 1084,
    "start_time": "2021-12-22T11:32:55.948Z"
   },
   {
    "duration": 90,
    "start_time": "2021-12-22T11:32:57.034Z"
   },
   {
    "duration": 352,
    "start_time": "2021-12-22T11:35:25.199Z"
   },
   {
    "duration": 97,
    "start_time": "2021-12-22T11:36:20.077Z"
   },
   {
    "duration": 276,
    "start_time": "2021-12-22T17:59:10.009Z"
   },
   {
    "duration": 1151,
    "start_time": "2021-12-22T18:00:06.013Z"
   },
   {
    "duration": 92,
    "start_time": "2021-12-22T18:00:07.166Z"
   },
   {
    "duration": 4,
    "start_time": "2021-12-22T18:00:07.260Z"
   },
   {
    "duration": 1264,
    "start_time": "2021-12-22T18:07:06.033Z"
   },
   {
    "duration": 1074,
    "start_time": "2021-12-22T18:07:35.573Z"
   },
   {
    "duration": 93,
    "start_time": "2021-12-22T18:07:36.649Z"
   },
   {
    "duration": 5,
    "start_time": "2021-12-22T18:07:36.744Z"
   },
   {
    "duration": 1232,
    "start_time": "2021-12-22T18:07:36.750Z"
   },
   {
    "duration": 8,
    "start_time": "2021-12-22T18:19:16.630Z"
   },
   {
    "duration": 1262,
    "start_time": "2021-12-22T18:35:24.934Z"
   },
   {
    "duration": 97,
    "start_time": "2021-12-22T18:35:26.198Z"
   },
   {
    "duration": 4,
    "start_time": "2021-12-22T18:35:26.297Z"
   },
   {
    "duration": 13,
    "start_time": "2021-12-22T18:35:26.303Z"
   },
   {
    "duration": 1378,
    "start_time": "2021-12-22T18:35:26.318Z"
   },
   {
    "duration": 23,
    "start_time": "2021-12-22T18:36:56.246Z"
   },
   {
    "duration": 1322,
    "start_time": "2021-12-22T18:51:48.969Z"
   },
   {
    "duration": 108,
    "start_time": "2021-12-22T18:51:50.293Z"
   },
   {
    "duration": 4,
    "start_time": "2021-12-22T18:51:50.403Z"
   },
   {
    "duration": 8,
    "start_time": "2021-12-22T18:51:50.409Z"
   },
   {
    "duration": 18,
    "start_time": "2021-12-22T18:51:50.418Z"
   },
   {
    "duration": 1078,
    "start_time": "2021-12-22T18:57:09.303Z"
   },
   {
    "duration": 94,
    "start_time": "2021-12-22T18:57:10.383Z"
   },
   {
    "duration": 4,
    "start_time": "2021-12-22T18:57:10.478Z"
   },
   {
    "duration": 10,
    "start_time": "2021-12-22T18:57:10.484Z"
   },
   {
    "duration": 17,
    "start_time": "2021-12-22T18:57:10.495Z"
   },
   {
    "duration": 1195,
    "start_time": "2021-12-22T19:28:33.532Z"
   },
   {
    "duration": 96,
    "start_time": "2021-12-22T19:28:34.728Z"
   },
   {
    "duration": 4,
    "start_time": "2021-12-22T19:28:34.826Z"
   },
   {
    "duration": 14,
    "start_time": "2021-12-22T19:28:34.831Z"
   },
   {
    "duration": 22,
    "start_time": "2021-12-22T19:28:34.847Z"
   },
   {
    "duration": 1343,
    "start_time": "2021-12-22T19:34:13.127Z"
   },
   {
    "duration": 91,
    "start_time": "2021-12-22T19:34:14.472Z"
   },
   {
    "duration": 4,
    "start_time": "2021-12-22T19:34:14.565Z"
   },
   {
    "duration": 9,
    "start_time": "2021-12-22T19:34:14.570Z"
   },
   {
    "duration": 16,
    "start_time": "2021-12-22T19:34:14.581Z"
   },
   {
    "duration": 1247,
    "start_time": "2021-12-22T19:36:32.977Z"
   },
   {
    "duration": 92,
    "start_time": "2021-12-22T19:36:34.226Z"
   },
   {
    "duration": 4,
    "start_time": "2021-12-22T19:36:34.320Z"
   },
   {
    "duration": 8,
    "start_time": "2021-12-22T19:36:34.325Z"
   },
   {
    "duration": 17,
    "start_time": "2021-12-22T19:36:34.335Z"
   },
   {
    "duration": 1083,
    "start_time": "2021-12-22T19:40:06.078Z"
   },
   {
    "duration": 93,
    "start_time": "2021-12-22T19:40:07.163Z"
   },
   {
    "duration": 4,
    "start_time": "2021-12-22T19:40:07.259Z"
   },
   {
    "duration": 9,
    "start_time": "2021-12-22T19:40:07.265Z"
   },
   {
    "duration": 25,
    "start_time": "2021-12-22T19:40:07.276Z"
   },
   {
    "duration": 324,
    "start_time": "2021-12-22T19:51:17.538Z"
   },
   {
    "duration": 15,
    "start_time": "2021-12-22T19:51:42.084Z"
   },
   {
    "duration": 10,
    "start_time": "2021-12-22T19:59:01.722Z"
   },
   {
    "duration": 11,
    "start_time": "2021-12-22T19:59:13.935Z"
   },
   {
    "duration": 11,
    "start_time": "2021-12-22T20:02:46.008Z"
   },
   {
    "duration": 1083,
    "start_time": "2021-12-22T20:03:32.074Z"
   },
   {
    "duration": 107,
    "start_time": "2021-12-22T20:03:33.159Z"
   },
   {
    "duration": 5,
    "start_time": "2021-12-22T20:03:33.268Z"
   },
   {
    "duration": 9,
    "start_time": "2021-12-22T20:03:33.275Z"
   },
   {
    "duration": 20,
    "start_time": "2021-12-22T20:03:33.286Z"
   },
   {
    "duration": 49,
    "start_time": "2021-12-22T20:03:33.308Z"
   },
   {
    "duration": 16,
    "start_time": "2021-12-22T20:03:33.359Z"
   },
   {
    "duration": 15,
    "start_time": "2021-12-22T20:03:57.627Z"
   },
   {
    "duration": 1107,
    "start_time": "2021-12-22T20:04:24.143Z"
   },
   {
    "duration": 89,
    "start_time": "2021-12-22T20:04:25.252Z"
   },
   {
    "duration": 4,
    "start_time": "2021-12-22T20:04:25.343Z"
   },
   {
    "duration": 13,
    "start_time": "2021-12-22T20:04:25.349Z"
   },
   {
    "duration": 23,
    "start_time": "2021-12-22T20:04:25.364Z"
   },
   {
    "duration": 18,
    "start_time": "2021-12-22T20:04:25.389Z"
   },
   {
    "duration": 11,
    "start_time": "2021-12-22T20:04:25.408Z"
   },
   {
    "duration": 641,
    "start_time": "2021-12-22T20:18:17.240Z"
   },
   {
    "duration": 339,
    "start_time": "2021-12-22T20:19:00.243Z"
   },
   {
    "duration": 192,
    "start_time": "2021-12-22T20:19:23.010Z"
   },
   {
    "duration": 1089,
    "start_time": "2021-12-22T20:20:42.697Z"
   },
   {
    "duration": 92,
    "start_time": "2021-12-22T20:20:43.788Z"
   },
   {
    "duration": 3,
    "start_time": "2021-12-22T20:20:43.882Z"
   },
   {
    "duration": 13,
    "start_time": "2021-12-22T20:20:43.888Z"
   },
   {
    "duration": 19,
    "start_time": "2021-12-22T20:20:43.903Z"
   },
   {
    "duration": 40,
    "start_time": "2021-12-22T20:20:43.923Z"
   },
   {
    "duration": 190,
    "start_time": "2021-12-22T20:20:43.965Z"
   },
   {
    "duration": 12,
    "start_time": "2021-12-22T20:20:44.158Z"
   },
   {
    "duration": 7,
    "start_time": "2021-12-22T20:22:11.029Z"
   },
   {
    "duration": 26,
    "start_time": "2021-12-22T20:22:26.312Z"
   },
   {
    "duration": 195,
    "start_time": "2021-12-22T20:24:08.506Z"
   },
   {
    "duration": 1193,
    "start_time": "2021-12-22T20:24:45.990Z"
   },
   {
    "duration": 106,
    "start_time": "2021-12-22T20:24:47.185Z"
   },
   {
    "duration": 5,
    "start_time": "2021-12-22T20:24:47.294Z"
   },
   {
    "duration": 23,
    "start_time": "2021-12-22T20:24:47.301Z"
   },
   {
    "duration": 20,
    "start_time": "2021-12-22T20:24:47.326Z"
   },
   {
    "duration": 22,
    "start_time": "2021-12-22T20:24:47.359Z"
   },
   {
    "duration": 213,
    "start_time": "2021-12-22T20:24:47.383Z"
   },
   {
    "duration": 13,
    "start_time": "2021-12-22T20:24:47.598Z"
   },
   {
    "duration": 1101,
    "start_time": "2021-12-23T09:44:26.427Z"
   },
   {
    "duration": 85,
    "start_time": "2021-12-23T09:44:27.530Z"
   },
   {
    "duration": 3,
    "start_time": "2021-12-23T09:44:27.617Z"
   },
   {
    "duration": 9,
    "start_time": "2021-12-23T09:44:27.622Z"
   },
   {
    "duration": 17,
    "start_time": "2021-12-23T09:44:27.632Z"
   },
   {
    "duration": 50,
    "start_time": "2021-12-23T09:44:27.651Z"
   },
   {
    "duration": 11,
    "start_time": "2021-12-23T09:44:27.703Z"
   },
   {
    "duration": 5,
    "start_time": "2021-12-23T10:23:16.090Z"
   },
   {
    "duration": 7,
    "start_time": "2021-12-23T10:24:36.425Z"
   },
   {
    "duration": 58,
    "start_time": "2021-12-23T10:51:50.433Z"
   },
   {
    "duration": 61,
    "start_time": "2021-12-23T10:52:37.344Z"
   },
   {
    "duration": 63,
    "start_time": "2021-12-23T10:52:45.597Z"
   },
   {
    "duration": 58,
    "start_time": "2021-12-23T10:53:02.326Z"
   },
   {
    "duration": 57,
    "start_time": "2021-12-23T10:53:22.447Z"
   },
   {
    "duration": 278,
    "start_time": "2021-12-23T10:54:07.949Z"
   },
   {
    "duration": 1110,
    "start_time": "2021-12-23T10:54:35.393Z"
   },
   {
    "duration": 126,
    "start_time": "2021-12-23T10:54:36.505Z"
   },
   {
    "duration": 4,
    "start_time": "2021-12-23T10:54:36.632Z"
   },
   {
    "duration": 45,
    "start_time": "2021-12-23T10:54:36.638Z"
   },
   {
    "duration": 38,
    "start_time": "2021-12-23T10:54:36.685Z"
   },
   {
    "duration": 30,
    "start_time": "2021-12-23T10:54:36.725Z"
   },
   {
    "duration": 37,
    "start_time": "2021-12-23T10:54:36.756Z"
   },
   {
    "duration": 32,
    "start_time": "2021-12-23T10:54:36.795Z"
   },
   {
    "duration": 287,
    "start_time": "2021-12-23T10:54:36.828Z"
   },
   {
    "duration": -2264,
    "start_time": "2021-12-23T10:54:39.381Z"
   },
   {
    "duration": -2272,
    "start_time": "2021-12-23T10:54:39.390Z"
   },
   {
    "duration": 1092,
    "start_time": "2021-12-23T10:55:21.917Z"
   },
   {
    "duration": 109,
    "start_time": "2021-12-23T10:55:23.011Z"
   },
   {
    "duration": 4,
    "start_time": "2021-12-23T10:55:23.122Z"
   },
   {
    "duration": 10,
    "start_time": "2021-12-23T10:55:23.128Z"
   },
   {
    "duration": 53,
    "start_time": "2021-12-23T10:55:23.141Z"
   },
   {
    "duration": 5,
    "start_time": "2021-12-23T10:55:23.196Z"
   },
   {
    "duration": 13,
    "start_time": "2021-12-23T10:55:23.202Z"
   },
   {
    "duration": 11,
    "start_time": "2021-12-23T10:55:23.218Z"
   },
   {
    "duration": 5,
    "start_time": "2021-12-23T10:55:23.231Z"
   },
   {
    "duration": 267,
    "start_time": "2021-12-23T10:55:23.238Z"
   },
   {
    "duration": -2244,
    "start_time": "2021-12-23T10:55:25.751Z"
   },
   {
    "duration": 1102,
    "start_time": "2021-12-23T10:56:04.907Z"
   },
   {
    "duration": 97,
    "start_time": "2021-12-23T10:56:06.011Z"
   },
   {
    "duration": 6,
    "start_time": "2021-12-23T10:56:06.110Z"
   },
   {
    "duration": 9,
    "start_time": "2021-12-23T10:56:06.117Z"
   },
   {
    "duration": 20,
    "start_time": "2021-12-23T10:56:06.128Z"
   },
   {
    "duration": 7,
    "start_time": "2021-12-23T10:56:06.150Z"
   },
   {
    "duration": 36,
    "start_time": "2021-12-23T10:56:06.159Z"
   },
   {
    "duration": 12,
    "start_time": "2021-12-23T10:56:06.198Z"
   },
   {
    "duration": 5,
    "start_time": "2021-12-23T10:56:06.212Z"
   },
   {
    "duration": 4,
    "start_time": "2021-12-23T10:56:06.219Z"
   },
   {
    "duration": 215,
    "start_time": "2021-12-23T10:56:06.225Z"
   },
   {
    "duration": 55,
    "start_time": "2021-12-23T10:57:59.546Z"
   },
   {
    "duration": 62,
    "start_time": "2021-12-23T10:58:14.295Z"
   },
   {
    "duration": 226,
    "start_time": "2021-12-23T10:58:37.566Z"
   },
   {
    "duration": 17,
    "start_time": "2021-12-23T11:09:58.485Z"
   },
   {
    "duration": 16,
    "start_time": "2021-12-23T11:10:39.290Z"
   },
   {
    "duration": 16,
    "start_time": "2021-12-23T11:14:10.301Z"
   },
   {
    "duration": 16,
    "start_time": "2021-12-23T11:14:29.284Z"
   },
   {
    "duration": 274,
    "start_time": "2021-12-23T11:19:30.816Z"
   },
   {
    "duration": 1092,
    "start_time": "2021-12-23T11:19:54.332Z"
   },
   {
    "duration": 85,
    "start_time": "2021-12-23T11:19:55.426Z"
   },
   {
    "duration": 4,
    "start_time": "2021-12-23T11:19:55.513Z"
   },
   {
    "duration": 8,
    "start_time": "2021-12-23T11:19:55.519Z"
   },
   {
    "duration": 17,
    "start_time": "2021-12-23T11:19:55.529Z"
   },
   {
    "duration": 5,
    "start_time": "2021-12-23T11:19:55.547Z"
   },
   {
    "duration": 48,
    "start_time": "2021-12-23T11:19:55.553Z"
   },
   {
    "duration": 11,
    "start_time": "2021-12-23T11:19:55.603Z"
   },
   {
    "duration": 6,
    "start_time": "2021-12-23T11:19:55.616Z"
   },
   {
    "duration": 211,
    "start_time": "2021-12-23T11:19:55.623Z"
   },
   {
    "duration": 14,
    "start_time": "2021-12-23T11:19:55.836Z"
   },
   {
    "duration": 7,
    "start_time": "2021-12-23T11:19:55.852Z"
   },
   {
    "duration": 213,
    "start_time": "2021-12-23T11:19:55.860Z"
   },
   {
    "duration": 180,
    "start_time": "2021-12-23T11:20:25.737Z"
   },
   {
    "duration": 202,
    "start_time": "2021-12-23T11:20:43.320Z"
   },
   {
    "duration": 266,
    "start_time": "2021-12-23T11:50:11.505Z"
   },
   {
    "duration": 390,
    "start_time": "2021-12-23T11:50:35.391Z"
   },
   {
    "duration": 188,
    "start_time": "2021-12-23T11:50:46.208Z"
   },
   {
    "duration": 188,
    "start_time": "2021-12-23T11:51:27.732Z"
   },
   {
    "duration": 349,
    "start_time": "2021-12-23T12:27:01.448Z"
   },
   {
    "duration": 170,
    "start_time": "2021-12-23T12:27:28.028Z"
   },
   {
    "duration": 288,
    "start_time": "2021-12-23T12:27:50.452Z"
   },
   {
    "duration": 7585,
    "start_time": "2021-12-23T12:45:43.602Z"
   },
   {
    "duration": 191,
    "start_time": "2021-12-23T12:46:14.419Z"
   },
   {
    "duration": 330,
    "start_time": "2021-12-23T13:03:58.786Z"
   },
   {
    "duration": 347,
    "start_time": "2021-12-23T13:04:27.085Z"
   },
   {
    "duration": 407,
    "start_time": "2021-12-23T13:05:07.991Z"
   },
   {
    "duration": 329,
    "start_time": "2021-12-23T13:05:35.056Z"
   },
   {
    "duration": 321,
    "start_time": "2021-12-23T13:07:39.264Z"
   },
   {
    "duration": 337,
    "start_time": "2021-12-23T13:33:22.681Z"
   },
   {
    "duration": 284,
    "start_time": "2021-12-23T13:33:40.913Z"
   },
   {
    "duration": 429,
    "start_time": "2021-12-23T13:36:04.481Z"
   },
   {
    "duration": 282,
    "start_time": "2021-12-23T13:36:27.699Z"
   },
   {
    "duration": 275,
    "start_time": "2021-12-23T13:37:27.546Z"
   },
   {
    "duration": 1068,
    "start_time": "2021-12-23T13:49:32.354Z"
   },
   {
    "duration": 105,
    "start_time": "2021-12-23T13:49:33.424Z"
   },
   {
    "duration": 4,
    "start_time": "2021-12-23T13:49:33.531Z"
   },
   {
    "duration": 12,
    "start_time": "2021-12-23T13:49:33.537Z"
   },
   {
    "duration": 19,
    "start_time": "2021-12-23T13:49:33.551Z"
   },
   {
    "duration": 22,
    "start_time": "2021-12-23T13:49:33.572Z"
   },
   {
    "duration": 19,
    "start_time": "2021-12-23T13:49:33.596Z"
   },
   {
    "duration": 16,
    "start_time": "2021-12-23T13:49:33.617Z"
   },
   {
    "duration": 7,
    "start_time": "2021-12-23T13:49:33.636Z"
   },
   {
    "duration": 234,
    "start_time": "2021-12-23T13:49:33.645Z"
   },
   {
    "duration": 21,
    "start_time": "2021-12-23T13:49:33.881Z"
   },
   {
    "duration": 7,
    "start_time": "2021-12-23T13:49:33.904Z"
   },
   {
    "duration": 224,
    "start_time": "2021-12-23T13:49:33.912Z"
   },
   {
    "duration": 209,
    "start_time": "2021-12-23T13:49:34.138Z"
   },
   {
    "duration": 295,
    "start_time": "2021-12-23T13:49:34.349Z"
   },
   {
    "duration": 205,
    "start_time": "2021-12-23T13:49:34.645Z"
   },
   {
    "duration": 345,
    "start_time": "2021-12-23T13:49:34.852Z"
   },
   {
    "duration": 318,
    "start_time": "2021-12-23T13:49:35.198Z"
   },
   {
    "duration": 273,
    "start_time": "2021-12-23T14:03:53.499Z"
   },
   {
    "duration": 294,
    "start_time": "2021-12-23T14:04:58.146Z"
   },
   {
    "duration": 968,
    "start_time": "2021-12-23T14:05:14.748Z"
   },
   {
    "duration": 103,
    "start_time": "2021-12-23T14:05:33.620Z"
   },
   {
    "duration": 334,
    "start_time": "2021-12-23T14:10:14.784Z"
   },
   {
    "duration": 5,
    "start_time": "2021-12-23T14:16:44.825Z"
   },
   {
    "duration": 4,
    "start_time": "2021-12-23T14:17:34.342Z"
   },
   {
    "duration": 4572,
    "start_time": "2021-12-23T14:24:42.815Z"
   },
   {
    "duration": 210,
    "start_time": "2021-12-23T14:25:55.235Z"
   },
   {
    "duration": 8,
    "start_time": "2021-12-23T14:27:22.666Z"
   },
   {
    "duration": 1109,
    "start_time": "2021-12-23T14:27:43.009Z"
   },
   {
    "duration": 86,
    "start_time": "2021-12-23T14:27:44.120Z"
   },
   {
    "duration": 3,
    "start_time": "2021-12-23T14:27:44.208Z"
   },
   {
    "duration": 16,
    "start_time": "2021-12-23T14:27:44.213Z"
   },
   {
    "duration": 17,
    "start_time": "2021-12-23T14:27:44.231Z"
   },
   {
    "duration": 6,
    "start_time": "2021-12-23T14:27:44.250Z"
   },
   {
    "duration": 36,
    "start_time": "2021-12-23T14:27:44.258Z"
   },
   {
    "duration": 11,
    "start_time": "2021-12-23T14:27:44.297Z"
   },
   {
    "duration": 7,
    "start_time": "2021-12-23T14:27:44.310Z"
   },
   {
    "duration": 209,
    "start_time": "2021-12-23T14:27:44.318Z"
   },
   {
    "duration": 15,
    "start_time": "2021-12-23T14:27:44.529Z"
   },
   {
    "duration": 7,
    "start_time": "2021-12-23T14:27:44.545Z"
   },
   {
    "duration": 223,
    "start_time": "2021-12-23T14:27:44.553Z"
   },
   {
    "duration": 198,
    "start_time": "2021-12-23T14:27:44.778Z"
   },
   {
    "duration": 325,
    "start_time": "2021-12-23T14:27:44.978Z"
   },
   {
    "duration": 204,
    "start_time": "2021-12-23T14:27:45.305Z"
   },
   {
    "duration": 308,
    "start_time": "2021-12-23T14:27:45.512Z"
   },
   {
    "duration": 291,
    "start_time": "2021-12-23T14:27:45.822Z"
   },
   {
    "duration": 123,
    "start_time": "2021-12-23T14:27:46.115Z"
   },
   {
    "duration": 339,
    "start_time": "2021-12-23T14:27:46.240Z"
   },
   {
    "duration": 14,
    "start_time": "2021-12-23T14:27:46.580Z"
   },
   {
    "duration": 21,
    "start_time": "2021-12-23T14:27:46.596Z"
   },
   {
    "duration": 8,
    "start_time": "2021-12-23T14:29:42.724Z"
   },
   {
    "duration": 8,
    "start_time": "2021-12-23T14:30:39.110Z"
   },
   {
    "duration": 8,
    "start_time": "2021-12-23T14:32:13.432Z"
   },
   {
    "duration": 12,
    "start_time": "2021-12-23T14:32:28.126Z"
   },
   {
    "duration": 12,
    "start_time": "2021-12-23T14:33:10.969Z"
   },
   {
    "duration": 8,
    "start_time": "2021-12-23T14:34:01.819Z"
   },
   {
    "duration": 9,
    "start_time": "2021-12-23T14:37:16.854Z"
   },
   {
    "duration": 1129,
    "start_time": "2021-12-23T14:52:30.728Z"
   },
   {
    "duration": 131,
    "start_time": "2021-12-23T14:52:31.859Z"
   },
   {
    "duration": 5,
    "start_time": "2021-12-23T14:52:31.992Z"
   },
   {
    "duration": 10,
    "start_time": "2021-12-23T14:52:32.000Z"
   },
   {
    "duration": 18,
    "start_time": "2021-12-23T14:52:32.012Z"
   },
   {
    "duration": 16,
    "start_time": "2021-12-23T14:52:32.032Z"
   },
   {
    "duration": 20,
    "start_time": "2021-12-23T14:52:32.050Z"
   },
   {
    "duration": 29,
    "start_time": "2021-12-23T14:52:32.073Z"
   },
   {
    "duration": 16,
    "start_time": "2021-12-23T14:52:32.104Z"
   },
   {
    "duration": 212,
    "start_time": "2021-12-23T14:52:32.122Z"
   },
   {
    "duration": 16,
    "start_time": "2021-12-23T14:52:32.336Z"
   },
   {
    "duration": 7,
    "start_time": "2021-12-23T14:52:32.354Z"
   },
   {
    "duration": 246,
    "start_time": "2021-12-23T14:52:32.362Z"
   },
   {
    "duration": 212,
    "start_time": "2021-12-23T14:52:32.610Z"
   },
   {
    "duration": 313,
    "start_time": "2021-12-23T14:52:32.824Z"
   },
   {
    "duration": 230,
    "start_time": "2021-12-23T14:52:33.140Z"
   },
   {
    "duration": 359,
    "start_time": "2021-12-23T14:52:33.372Z"
   },
   {
    "duration": 116,
    "start_time": "2021-12-23T14:52:33.733Z"
   },
   {
    "duration": 269,
    "start_time": "2021-12-23T14:52:33.851Z"
   },
   {
    "duration": 6,
    "start_time": "2021-12-23T14:52:34.122Z"
   },
   {
    "duration": 15,
    "start_time": "2021-12-23T14:52:34.130Z"
   },
   {
    "duration": 9,
    "start_time": "2021-12-23T14:52:34.147Z"
   },
   {
    "duration": 33,
    "start_time": "2021-12-23T14:52:34.159Z"
   },
   {
    "duration": 367,
    "start_time": "2021-12-23T14:52:34.194Z"
   },
   {
    "duration": 281,
    "start_time": "2021-12-23T15:04:24.550Z"
   },
   {
    "duration": 59,
    "start_time": "2021-12-23T15:04:37.113Z"
   },
   {
    "duration": 255,
    "start_time": "2021-12-23T15:04:49.593Z"
   },
   {
    "duration": 18,
    "start_time": "2021-12-23T15:05:07.919Z"
   },
   {
    "duration": 21,
    "start_time": "2021-12-23T15:07:49.303Z"
   },
   {
    "duration": 18,
    "start_time": "2021-12-23T15:08:18.777Z"
   },
   {
    "duration": 19,
    "start_time": "2021-12-23T15:08:33.978Z"
   },
   {
    "duration": 19,
    "start_time": "2021-12-23T15:11:49.167Z"
   },
   {
    "duration": 19,
    "start_time": "2021-12-23T15:12:06.086Z"
   },
   {
    "duration": 19,
    "start_time": "2021-12-23T15:12:24.770Z"
   },
   {
    "duration": 5143,
    "start_time": "2021-12-23T16:05:58.849Z"
   },
   {
    "duration": 5858,
    "start_time": "2021-12-23T16:06:26.856Z"
   },
   {
    "duration": 1140,
    "start_time": "2021-12-23T16:06:41.364Z"
   },
   {
    "duration": 808,
    "start_time": "2021-12-23T16:06:42.505Z"
   },
   {
    "duration": 4,
    "start_time": "2021-12-23T16:06:43.315Z"
   },
   {
    "duration": 11,
    "start_time": "2021-12-23T16:06:43.320Z"
   },
   {
    "duration": 20,
    "start_time": "2021-12-23T16:06:43.333Z"
   },
   {
    "duration": 9,
    "start_time": "2021-12-23T16:06:43.355Z"
   },
   {
    "duration": 38,
    "start_time": "2021-12-23T16:06:43.366Z"
   },
   {
    "duration": 11,
    "start_time": "2021-12-23T16:06:43.406Z"
   },
   {
    "duration": 6,
    "start_time": "2021-12-23T16:06:43.420Z"
   },
   {
    "duration": 224,
    "start_time": "2021-12-23T16:06:43.428Z"
   },
   {
    "duration": 16,
    "start_time": "2021-12-23T16:06:43.654Z"
   },
   {
    "duration": 26,
    "start_time": "2021-12-23T16:06:43.671Z"
   },
   {
    "duration": 220,
    "start_time": "2021-12-23T16:06:43.699Z"
   },
   {
    "duration": 199,
    "start_time": "2021-12-23T16:06:43.920Z"
   },
   {
    "duration": 294,
    "start_time": "2021-12-23T16:06:44.121Z"
   },
   {
    "duration": 205,
    "start_time": "2021-12-23T16:06:44.417Z"
   },
   {
    "duration": 295,
    "start_time": "2021-12-23T16:06:44.624Z"
   },
   {
    "duration": 113,
    "start_time": "2021-12-23T16:06:44.920Z"
   },
   {
    "duration": 272,
    "start_time": "2021-12-23T16:06:45.035Z"
   },
   {
    "duration": 4,
    "start_time": "2021-12-23T16:06:45.309Z"
   },
   {
    "duration": 10,
    "start_time": "2021-12-23T16:06:45.314Z"
   },
   {
    "duration": 9,
    "start_time": "2021-12-23T16:06:45.326Z"
   },
   {
    "duration": 10,
    "start_time": "2021-12-23T16:06:45.337Z"
   },
   {
    "duration": 105,
    "start_time": "2021-12-23T16:06:45.348Z"
   },
   {
    "duration": 5652,
    "start_time": "2021-12-23T16:06:45.455Z"
   },
   {
    "duration": -377,
    "start_time": "2021-12-23T16:06:51.486Z"
   },
   {
    "duration": 20,
    "start_time": "2021-12-23T16:07:46.806Z"
   },
   {
    "duration": 21,
    "start_time": "2021-12-23T16:08:22.150Z"
   },
   {
    "duration": 1082,
    "start_time": "2021-12-23T16:08:42.326Z"
   },
   {
    "duration": 110,
    "start_time": "2021-12-23T16:08:43.410Z"
   },
   {
    "duration": 4,
    "start_time": "2021-12-23T16:08:43.521Z"
   },
   {
    "duration": 7,
    "start_time": "2021-12-23T16:08:43.527Z"
   },
   {
    "duration": 18,
    "start_time": "2021-12-23T16:08:43.536Z"
   },
   {
    "duration": 5,
    "start_time": "2021-12-23T16:08:43.555Z"
   },
   {
    "duration": 12,
    "start_time": "2021-12-23T16:08:43.591Z"
   },
   {
    "duration": 12,
    "start_time": "2021-12-23T16:08:43.605Z"
   },
   {
    "duration": 8,
    "start_time": "2021-12-23T16:08:43.618Z"
   },
   {
    "duration": 211,
    "start_time": "2021-12-23T16:08:43.628Z"
   },
   {
    "duration": 14,
    "start_time": "2021-12-23T16:08:43.841Z"
   },
   {
    "duration": 7,
    "start_time": "2021-12-23T16:08:43.856Z"
   },
   {
    "duration": 219,
    "start_time": "2021-12-23T16:08:43.864Z"
   },
   {
    "duration": 194,
    "start_time": "2021-12-23T16:08:44.084Z"
   },
   {
    "duration": 331,
    "start_time": "2021-12-23T16:08:44.280Z"
   },
   {
    "duration": 212,
    "start_time": "2021-12-23T16:08:44.612Z"
   },
   {
    "duration": 300,
    "start_time": "2021-12-23T16:08:44.826Z"
   },
   {
    "duration": 114,
    "start_time": "2021-12-23T16:08:45.128Z"
   },
   {
    "duration": 249,
    "start_time": "2021-12-23T16:08:45.244Z"
   },
   {
    "duration": 4,
    "start_time": "2021-12-23T16:08:45.495Z"
   },
   {
    "duration": 19,
    "start_time": "2021-12-23T16:08:45.500Z"
   },
   {
    "duration": 20,
    "start_time": "2021-12-23T16:08:45.520Z"
   },
   {
    "duration": 10,
    "start_time": "2021-12-23T16:08:45.543Z"
   },
   {
    "duration": 31,
    "start_time": "2021-12-23T16:08:45.555Z"
   },
   {
    "duration": 5108,
    "start_time": "2021-12-23T16:08:45.588Z"
   },
   {
    "duration": -362,
    "start_time": "2021-12-23T16:08:51.060Z"
   },
   {
    "duration": 5423,
    "start_time": "2021-12-23T16:10:52.262Z"
   },
   {
    "duration": 1081,
    "start_time": "2021-12-23T16:11:29.847Z"
   },
   {
    "duration": 109,
    "start_time": "2021-12-23T16:11:30.930Z"
   },
   {
    "duration": 4,
    "start_time": "2021-12-23T16:11:31.041Z"
   },
   {
    "duration": 13,
    "start_time": "2021-12-23T16:11:31.047Z"
   },
   {
    "duration": 30,
    "start_time": "2021-12-23T16:11:31.062Z"
   },
   {
    "duration": 5,
    "start_time": "2021-12-23T16:11:31.095Z"
   },
   {
    "duration": 18,
    "start_time": "2021-12-23T16:11:31.102Z"
   },
   {
    "duration": 12,
    "start_time": "2021-12-23T16:11:31.124Z"
   },
   {
    "duration": 18,
    "start_time": "2021-12-23T16:11:31.139Z"
   },
   {
    "duration": 216,
    "start_time": "2021-12-23T16:11:31.159Z"
   },
   {
    "duration": 26,
    "start_time": "2021-12-23T16:11:31.377Z"
   },
   {
    "duration": 8,
    "start_time": "2021-12-23T16:11:31.405Z"
   },
   {
    "duration": 220,
    "start_time": "2021-12-23T16:11:31.415Z"
   },
   {
    "duration": 204,
    "start_time": "2021-12-23T16:11:31.637Z"
   },
   {
    "duration": 279,
    "start_time": "2021-12-23T16:11:31.843Z"
   },
   {
    "duration": 215,
    "start_time": "2021-12-23T16:11:32.124Z"
   },
   {
    "duration": 301,
    "start_time": "2021-12-23T16:11:32.341Z"
   },
   {
    "duration": 119,
    "start_time": "2021-12-23T16:11:32.643Z"
   },
   {
    "duration": 309,
    "start_time": "2021-12-23T16:11:32.763Z"
   },
   {
    "duration": 4,
    "start_time": "2021-12-23T16:11:33.074Z"
   },
   {
    "duration": 19,
    "start_time": "2021-12-23T16:11:33.080Z"
   },
   {
    "duration": 9,
    "start_time": "2021-12-23T16:11:33.101Z"
   },
   {
    "duration": 7,
    "start_time": "2021-12-23T16:11:33.113Z"
   },
   {
    "duration": 21,
    "start_time": "2021-12-23T16:11:33.122Z"
   },
   {
    "duration": 5352,
    "start_time": "2021-12-23T16:11:33.145Z"
   },
   {
    "duration": -334,
    "start_time": "2021-12-23T16:11:38.833Z"
   },
   {
    "duration": 32,
    "start_time": "2021-12-23T16:15:32.813Z"
   },
   {
    "duration": 6623,
    "start_time": "2021-12-23T16:15:44.609Z"
   },
   {
    "duration": 30,
    "start_time": "2021-12-23T16:16:30.882Z"
   },
   {
    "duration": 32,
    "start_time": "2021-12-23T16:16:46.538Z"
   },
   {
    "duration": 2657,
    "start_time": "2021-12-23T16:17:19.019Z"
   },
   {
    "duration": 33,
    "start_time": "2021-12-23T16:18:18.965Z"
   },
   {
    "duration": 8,
    "start_time": "2021-12-23T16:22:46.306Z"
   },
   {
    "duration": 6,
    "start_time": "2021-12-23T16:24:48.993Z"
   },
   {
    "duration": 7,
    "start_time": "2021-12-23T16:24:57.109Z"
   },
   {
    "duration": 88,
    "start_time": "2021-12-23T16:25:53.348Z"
   },
   {
    "duration": 7,
    "start_time": "2021-12-23T16:26:27.832Z"
   },
   {
    "duration": 7,
    "start_time": "2021-12-23T16:39:08.345Z"
   },
   {
    "duration": 187,
    "start_time": "2021-12-23T17:03:53.662Z"
   },
   {
    "duration": 186,
    "start_time": "2021-12-23T17:04:19.029Z"
   },
   {
    "duration": 189,
    "start_time": "2021-12-23T17:04:42.911Z"
   },
   {
    "duration": 31,
    "start_time": "2021-12-23T17:05:46.802Z"
   },
   {
    "duration": 59,
    "start_time": "2021-12-23T17:07:11.724Z"
   },
   {
    "duration": 12,
    "start_time": "2021-12-23T17:07:22.896Z"
   },
   {
    "duration": 12,
    "start_time": "2021-12-23T17:09:08.840Z"
   },
   {
    "duration": 1210,
    "start_time": "2021-12-23T17:13:46.666Z"
   },
   {
    "duration": 97,
    "start_time": "2021-12-23T17:13:47.879Z"
   },
   {
    "duration": 4,
    "start_time": "2021-12-23T17:13:47.978Z"
   },
   {
    "duration": 8,
    "start_time": "2021-12-23T17:13:47.984Z"
   },
   {
    "duration": 17,
    "start_time": "2021-12-23T17:13:47.994Z"
   },
   {
    "duration": 5,
    "start_time": "2021-12-23T17:13:48.013Z"
   },
   {
    "duration": 15,
    "start_time": "2021-12-23T17:13:48.020Z"
   },
   {
    "duration": 16,
    "start_time": "2021-12-23T17:13:48.039Z"
   },
   {
    "duration": 37,
    "start_time": "2021-12-23T17:13:48.058Z"
   },
   {
    "duration": 220,
    "start_time": "2021-12-23T17:13:48.097Z"
   },
   {
    "duration": 15,
    "start_time": "2021-12-23T17:13:48.319Z"
   },
   {
    "duration": 10,
    "start_time": "2021-12-23T17:13:48.335Z"
   },
   {
    "duration": 229,
    "start_time": "2021-12-23T17:13:48.346Z"
   },
   {
    "duration": 203,
    "start_time": "2021-12-23T17:13:48.576Z"
   },
   {
    "duration": 357,
    "start_time": "2021-12-23T17:13:48.781Z"
   },
   {
    "duration": 229,
    "start_time": "2021-12-23T17:13:49.139Z"
   },
   {
    "duration": 341,
    "start_time": "2021-12-23T17:13:49.370Z"
   },
   {
    "duration": 158,
    "start_time": "2021-12-23T17:13:49.714Z"
   },
   {
    "duration": 320,
    "start_time": "2021-12-23T17:13:49.873Z"
   },
   {
    "duration": 5,
    "start_time": "2021-12-23T17:13:50.195Z"
   },
   {
    "duration": 12,
    "start_time": "2021-12-23T17:13:50.202Z"
   },
   {
    "duration": 13,
    "start_time": "2021-12-23T17:13:50.216Z"
   },
   {
    "duration": 9,
    "start_time": "2021-12-23T17:13:50.233Z"
   },
   {
    "duration": 117,
    "start_time": "2021-12-23T17:13:50.244Z"
   },
   {
    "duration": 38,
    "start_time": "2021-12-23T17:13:50.362Z"
   },
   {
    "duration": 6,
    "start_time": "2021-12-23T17:13:50.402Z"
   },
   {
    "duration": 13,
    "start_time": "2021-12-23T17:13:50.410Z"
   },
   {
    "duration": 3,
    "start_time": "2021-12-23T17:13:50.425Z"
   },
   {
    "duration": 407,
    "start_time": "2021-12-23T17:13:50.430Z"
   },
   {
    "duration": 61,
    "start_time": "2021-12-23T17:13:50.839Z"
   },
   {
    "duration": 551,
    "start_time": "2021-12-23T17:13:50.351Z"
   },
   {
    "duration": 541,
    "start_time": "2021-12-23T17:13:50.361Z"
   },
   {
    "duration": 532,
    "start_time": "2021-12-23T17:13:50.371Z"
   },
   {
    "duration": 521,
    "start_time": "2021-12-23T17:13:50.384Z"
   },
   {
    "duration": 511,
    "start_time": "2021-12-23T17:13:50.394Z"
   },
   {
    "duration": 504,
    "start_time": "2021-12-23T17:13:50.403Z"
   },
   {
    "duration": 492,
    "start_time": "2021-12-23T17:13:50.416Z"
   },
   {
    "duration": 482,
    "start_time": "2021-12-23T17:13:50.427Z"
   },
   {
    "duration": 475,
    "start_time": "2021-12-23T17:13:50.435Z"
   },
   {
    "duration": 449,
    "start_time": "2021-12-23T17:13:50.462Z"
   },
   {
    "duration": 442,
    "start_time": "2021-12-23T17:13:50.470Z"
   },
   {
    "duration": 62,
    "start_time": "2021-12-23T17:15:21.626Z"
   },
   {
    "duration": 6,
    "start_time": "2021-12-23T17:23:25.418Z"
   },
   {
    "duration": 11,
    "start_time": "2021-12-23T17:36:55.769Z"
   },
   {
    "duration": 297,
    "start_time": "2021-12-23T17:37:17.632Z"
   },
   {
    "duration": 11,
    "start_time": "2021-12-23T17:38:23.845Z"
   },
   {
    "duration": 242,
    "start_time": "2021-12-23T17:39:44.732Z"
   },
   {
    "duration": 12,
    "start_time": "2021-12-23T17:40:07.087Z"
   },
   {
    "duration": 12,
    "start_time": "2021-12-23T17:42:18.569Z"
   },
   {
    "duration": 349,
    "start_time": "2021-12-24T13:40:42.138Z"
   },
   {
    "duration": 1536,
    "start_time": "2021-12-24T13:41:06.141Z"
   },
   {
    "duration": 106,
    "start_time": "2021-12-24T13:41:07.680Z"
   },
   {
    "duration": 5,
    "start_time": "2021-12-24T13:41:07.789Z"
   },
   {
    "duration": 10,
    "start_time": "2021-12-24T13:41:07.797Z"
   },
   {
    "duration": 58,
    "start_time": "2021-12-24T13:41:07.809Z"
   },
   {
    "duration": 7,
    "start_time": "2021-12-24T13:41:07.870Z"
   },
   {
    "duration": 20,
    "start_time": "2021-12-24T13:41:07.879Z"
   },
   {
    "duration": 18,
    "start_time": "2021-12-24T13:41:07.903Z"
   },
   {
    "duration": 45,
    "start_time": "2021-12-24T13:41:07.924Z"
   },
   {
    "duration": 360,
    "start_time": "2021-12-24T13:41:07.971Z"
   },
   {
    "duration": 31,
    "start_time": "2021-12-24T13:41:08.334Z"
   },
   {
    "duration": 12,
    "start_time": "2021-12-24T13:41:08.368Z"
   },
   {
    "duration": 363,
    "start_time": "2021-12-24T13:41:08.383Z"
   },
   {
    "duration": 341,
    "start_time": "2021-12-24T13:41:08.748Z"
   },
   {
    "duration": 411,
    "start_time": "2021-12-24T13:41:09.092Z"
   },
   {
    "duration": 323,
    "start_time": "2021-12-24T13:41:09.506Z"
   },
   {
    "duration": 439,
    "start_time": "2021-12-24T13:41:09.831Z"
   },
   {
    "duration": 212,
    "start_time": "2021-12-24T13:41:10.273Z"
   },
   {
    "duration": 378,
    "start_time": "2021-12-24T13:41:10.488Z"
   },
   {
    "duration": 7,
    "start_time": "2021-12-24T13:41:10.868Z"
   },
   {
    "duration": 15,
    "start_time": "2021-12-24T13:41:10.878Z"
   },
   {
    "duration": 12,
    "start_time": "2021-12-24T13:41:10.895Z"
   },
   {
    "duration": 50,
    "start_time": "2021-12-24T13:41:10.912Z"
   },
   {
    "duration": 31,
    "start_time": "2021-12-24T13:41:10.965Z"
   },
   {
    "duration": 137,
    "start_time": "2021-12-24T13:41:10.998Z"
   },
   {
    "duration": 8,
    "start_time": "2021-12-24T13:41:11.138Z"
   },
   {
    "duration": 30,
    "start_time": "2021-12-24T13:41:11.148Z"
   },
   {
    "duration": 15,
    "start_time": "2021-12-24T13:41:11.181Z"
   },
   {
    "duration": 451,
    "start_time": "2021-12-24T13:41:11.199Z"
   },
   {
    "duration": 13,
    "start_time": "2021-12-24T13:41:11.653Z"
   },
   {
    "duration": 491,
    "start_time": "2021-12-24T13:41:11.668Z"
   },
   {
    "duration": 337,
    "start_time": "2021-12-24T13:41:30.163Z"
   },
   {
    "duration": 268,
    "start_time": "2021-12-24T13:41:52.073Z"
   },
   {
    "duration": 105,
    "start_time": "2021-12-24T13:49:18.990Z"
   },
   {
    "duration": 105,
    "start_time": "2021-12-24T13:49:45.431Z"
   },
   {
    "duration": 99,
    "start_time": "2021-12-24T13:50:15.964Z"
   },
   {
    "duration": 139,
    "start_time": "2021-12-24T13:51:12.837Z"
   },
   {
    "duration": 114,
    "start_time": "2021-12-24T13:52:01.953Z"
   },
   {
    "duration": 98,
    "start_time": "2021-12-24T13:56:16.831Z"
   },
   {
    "duration": 95,
    "start_time": "2021-12-24T13:58:49.461Z"
   },
   {
    "duration": 105,
    "start_time": "2021-12-24T13:59:39.803Z"
   },
   {
    "duration": 1289,
    "start_time": "2021-12-24T14:00:56.060Z"
   },
   {
    "duration": 1509,
    "start_time": "2021-12-24T14:01:19.733Z"
   },
   {
    "duration": 108,
    "start_time": "2021-12-24T14:01:21.244Z"
   },
   {
    "duration": 5,
    "start_time": "2021-12-24T14:01:21.355Z"
   },
   {
    "duration": 9,
    "start_time": "2021-12-24T14:01:21.363Z"
   },
   {
    "duration": 28,
    "start_time": "2021-12-24T14:01:21.374Z"
   },
   {
    "duration": 9,
    "start_time": "2021-12-24T14:01:21.404Z"
   },
   {
    "duration": 52,
    "start_time": "2021-12-24T14:01:21.416Z"
   },
   {
    "duration": 19,
    "start_time": "2021-12-24T14:01:21.473Z"
   },
   {
    "duration": 10,
    "start_time": "2021-12-24T14:01:21.496Z"
   },
   {
    "duration": 463,
    "start_time": "2021-12-24T14:01:21.509Z"
   },
   {
    "duration": 25,
    "start_time": "2021-12-24T14:01:21.975Z"
   },
   {
    "duration": 10,
    "start_time": "2021-12-24T14:01:22.003Z"
   },
   {
    "duration": 353,
    "start_time": "2021-12-24T14:01:22.015Z"
   },
   {
    "duration": 315,
    "start_time": "2021-12-24T14:01:22.371Z"
   },
   {
    "duration": 384,
    "start_time": "2021-12-24T14:01:22.688Z"
   },
   {
    "duration": 339,
    "start_time": "2021-12-24T14:01:23.075Z"
   },
   {
    "duration": 475,
    "start_time": "2021-12-24T14:01:23.416Z"
   },
   {
    "duration": 224,
    "start_time": "2021-12-24T14:01:23.893Z"
   },
   {
    "duration": 477,
    "start_time": "2021-12-24T14:01:24.119Z"
   },
   {
    "duration": 6,
    "start_time": "2021-12-24T14:01:24.599Z"
   },
   {
    "duration": 12,
    "start_time": "2021-12-24T14:01:24.608Z"
   },
   {
    "duration": 41,
    "start_time": "2021-12-24T14:01:24.623Z"
   },
   {
    "duration": 13,
    "start_time": "2021-12-24T14:01:24.669Z"
   },
   {
    "duration": 31,
    "start_time": "2021-12-24T14:01:24.685Z"
   },
   {
    "duration": 144,
    "start_time": "2021-12-24T14:01:24.719Z"
   },
   {
    "duration": 10,
    "start_time": "2021-12-24T14:01:24.865Z"
   },
   {
    "duration": 23,
    "start_time": "2021-12-24T14:01:24.878Z"
   },
   {
    "duration": 18,
    "start_time": "2021-12-24T14:01:24.904Z"
   },
   {
    "duration": 484,
    "start_time": "2021-12-24T14:01:24.925Z"
   },
   {
    "duration": 5,
    "start_time": "2021-12-24T14:01:25.411Z"
   },
   {
    "duration": 778,
    "start_time": "2021-12-24T14:01:25.419Z"
   },
   {
    "duration": 616,
    "start_time": "2021-12-24T14:04:03.387Z"
   },
   {
    "duration": 1632,
    "start_time": "2021-12-24T14:04:28.845Z"
   },
   {
    "duration": 109,
    "start_time": "2021-12-24T14:04:30.480Z"
   },
   {
    "duration": 6,
    "start_time": "2021-12-24T14:04:30.593Z"
   },
   {
    "duration": 15,
    "start_time": "2021-12-24T14:04:30.602Z"
   },
   {
    "duration": 62,
    "start_time": "2021-12-24T14:04:30.620Z"
   },
   {
    "duration": 7,
    "start_time": "2021-12-24T14:04:30.684Z"
   },
   {
    "duration": 31,
    "start_time": "2021-12-24T14:04:30.693Z"
   },
   {
    "duration": 44,
    "start_time": "2021-12-24T14:04:30.728Z"
   },
   {
    "duration": 12,
    "start_time": "2021-12-24T14:04:30.775Z"
   },
   {
    "duration": 338,
    "start_time": "2021-12-24T14:04:30.790Z"
   },
   {
    "duration": 35,
    "start_time": "2021-12-24T14:04:31.131Z"
   },
   {
    "duration": 10,
    "start_time": "2021-12-24T14:04:31.169Z"
   },
   {
    "duration": 335,
    "start_time": "2021-12-24T14:04:31.181Z"
   },
   {
    "duration": 310,
    "start_time": "2021-12-24T14:04:31.519Z"
   },
   {
    "duration": 434,
    "start_time": "2021-12-24T14:04:31.831Z"
   },
   {
    "duration": 339,
    "start_time": "2021-12-24T14:04:32.268Z"
   },
   {
    "duration": 499,
    "start_time": "2021-12-24T14:04:32.609Z"
   },
   {
    "duration": 209,
    "start_time": "2021-12-24T14:04:33.111Z"
   },
   {
    "duration": 397,
    "start_time": "2021-12-24T14:04:33.323Z"
   },
   {
    "duration": 6,
    "start_time": "2021-12-24T14:04:33.722Z"
   },
   {
    "duration": 36,
    "start_time": "2021-12-24T14:04:33.731Z"
   },
   {
    "duration": 15,
    "start_time": "2021-12-24T14:04:33.770Z"
   },
   {
    "duration": 13,
    "start_time": "2021-12-24T14:04:33.791Z"
   },
   {
    "duration": 61,
    "start_time": "2021-12-24T14:04:33.807Z"
   },
   {
    "duration": 137,
    "start_time": "2021-12-24T14:04:33.872Z"
   },
   {
    "duration": 8,
    "start_time": "2021-12-24T14:04:34.012Z"
   },
   {
    "duration": 16,
    "start_time": "2021-12-24T14:04:34.022Z"
   },
   {
    "duration": 37,
    "start_time": "2021-12-24T14:04:34.040Z"
   },
   {
    "duration": 475,
    "start_time": "2021-12-24T14:04:34.079Z"
   },
   {
    "duration": 7,
    "start_time": "2021-12-24T14:04:34.562Z"
   },
   {
    "duration": 1083,
    "start_time": "2021-12-24T14:04:34.572Z"
   },
   {
    "duration": 638,
    "start_time": "2021-12-24T14:05:48.438Z"
   },
   {
    "duration": 311,
    "start_time": "2021-12-27T12:18:18.279Z"
   },
   {
    "duration": 1406,
    "start_time": "2021-12-27T12:18:28.906Z"
   },
   {
    "duration": 93,
    "start_time": "2021-12-27T12:18:30.314Z"
   },
   {
    "duration": 5,
    "start_time": "2021-12-27T12:18:30.409Z"
   },
   {
    "duration": 21,
    "start_time": "2021-12-27T12:18:30.416Z"
   },
   {
    "duration": 29,
    "start_time": "2021-12-27T12:18:30.440Z"
   },
   {
    "duration": 47,
    "start_time": "2021-12-27T12:18:30.471Z"
   },
   {
    "duration": 40,
    "start_time": "2021-12-27T12:18:30.520Z"
   },
   {
    "duration": 15,
    "start_time": "2021-12-27T12:18:30.563Z"
   },
   {
    "duration": 17,
    "start_time": "2021-12-27T12:18:30.580Z"
   },
   {
    "duration": 231,
    "start_time": "2021-12-27T12:18:30.599Z"
   },
   {
    "duration": 16,
    "start_time": "2021-12-27T12:18:30.832Z"
   },
   {
    "duration": 50,
    "start_time": "2021-12-27T12:18:30.849Z"
   },
   {
    "duration": 546,
    "start_time": "2021-12-27T12:18:30.902Z"
   },
   {
    "duration": 224,
    "start_time": "2021-12-27T12:18:31.450Z"
   },
   {
    "duration": 307,
    "start_time": "2021-12-27T12:18:31.676Z"
   },
   {
    "duration": 222,
    "start_time": "2021-12-27T12:18:31.985Z"
   },
   {
    "duration": 312,
    "start_time": "2021-12-27T12:18:32.209Z"
   },
   {
    "duration": 139,
    "start_time": "2021-12-27T12:18:32.523Z"
   },
   {
    "duration": 277,
    "start_time": "2021-12-27T12:18:32.664Z"
   },
   {
    "duration": 4,
    "start_time": "2021-12-27T12:18:32.943Z"
   },
   {
    "duration": 10,
    "start_time": "2021-12-27T12:18:32.960Z"
   },
   {
    "duration": 13,
    "start_time": "2021-12-27T12:18:32.972Z"
   },
   {
    "duration": 13,
    "start_time": "2021-12-27T12:18:32.988Z"
   },
   {
    "duration": 44,
    "start_time": "2021-12-27T12:18:33.004Z"
   },
   {
    "duration": 166,
    "start_time": "2021-12-27T12:18:33.050Z"
   },
   {
    "duration": 6,
    "start_time": "2021-12-27T12:18:33.218Z"
   },
   {
    "duration": 18,
    "start_time": "2021-12-27T12:18:33.226Z"
   },
   {
    "duration": 24,
    "start_time": "2021-12-27T12:18:33.246Z"
   },
   {
    "duration": 325,
    "start_time": "2021-12-27T12:18:33.271Z"
   },
   {
    "duration": 4,
    "start_time": "2021-12-27T12:18:33.598Z"
   },
   {
    "duration": 492,
    "start_time": "2021-12-27T12:18:33.604Z"
   },
   {
    "duration": 233,
    "start_time": "2021-12-27T12:19:29.738Z"
   },
   {
    "duration": 246,
    "start_time": "2021-12-27T12:20:21.264Z"
   },
   {
    "duration": 538,
    "start_time": "2021-12-27T12:21:38.666Z"
   },
   {
    "duration": 459,
    "start_time": "2021-12-27T12:22:38.472Z"
   },
   {
    "duration": 460,
    "start_time": "2021-12-27T12:22:49.152Z"
   },
   {
    "duration": 477,
    "start_time": "2021-12-27T12:24:12.494Z"
   },
   {
    "duration": 491,
    "start_time": "2021-12-27T12:24:37.094Z"
   },
   {
    "duration": 586,
    "start_time": "2021-12-27T12:24:58.527Z"
   },
   {
    "duration": 335,
    "start_time": "2021-12-27T12:25:06.971Z"
   },
   {
    "duration": 257,
    "start_time": "2021-12-27T12:25:31.272Z"
   },
   {
    "duration": 311,
    "start_time": "2021-12-27T12:26:50.016Z"
   },
   {
    "duration": 238,
    "start_time": "2021-12-27T12:27:52.541Z"
   },
   {
    "duration": 460,
    "start_time": "2021-12-27T12:30:00.213Z"
   },
   {
    "duration": 400,
    "start_time": "2021-12-27T12:30:29.833Z"
   },
   {
    "duration": 247,
    "start_time": "2021-12-27T12:32:14.073Z"
   },
   {
    "duration": 359,
    "start_time": "2021-12-27T12:34:41.509Z"
   },
   {
    "duration": 343,
    "start_time": "2021-12-27T12:37:28.632Z"
   },
   {
    "duration": 361,
    "start_time": "2021-12-27T12:39:16.251Z"
   },
   {
    "duration": 384,
    "start_time": "2021-12-27T12:41:19.945Z"
   },
   {
    "duration": 368,
    "start_time": "2021-12-27T12:41:44.727Z"
   },
   {
    "duration": 261,
    "start_time": "2021-12-27T13:15:18.275Z"
   },
   {
    "duration": 488,
    "start_time": "2021-12-27T13:15:39.038Z"
   },
   {
    "duration": 1050,
    "start_time": "2021-12-27T13:20:15.594Z"
   },
   {
    "duration": 443,
    "start_time": "2021-12-27T13:21:01.642Z"
   },
   {
    "duration": 135,
    "start_time": "2021-12-27T13:21:40.194Z"
   },
   {
    "duration": 122,
    "start_time": "2021-12-27T13:23:19.298Z"
   },
   {
    "duration": 327,
    "start_time": "2021-12-27T13:29:47.936Z"
   },
   {
    "duration": 348,
    "start_time": "2021-12-27T13:39:09.765Z"
   },
   {
    "duration": 7385,
    "start_time": "2021-12-27T13:39:46.605Z"
   },
   {
    "duration": 402,
    "start_time": "2021-12-27T13:47:00.175Z"
   },
   {
    "duration": 162,
    "start_time": "2021-12-27T13:47:36.840Z"
   },
   {
    "duration": 154,
    "start_time": "2021-12-27T13:48:01.697Z"
   },
   {
    "duration": 378,
    "start_time": "2021-12-27T13:54:23.667Z"
   },
   {
    "duration": 437,
    "start_time": "2021-12-27T13:55:42.957Z"
   },
   {
    "duration": 279,
    "start_time": "2021-12-27T13:56:18.010Z"
   },
   {
    "duration": 1224,
    "start_time": "2021-12-27T13:57:02.985Z"
   },
   {
    "duration": 95,
    "start_time": "2021-12-27T13:57:04.211Z"
   },
   {
    "duration": 5,
    "start_time": "2021-12-27T13:57:04.308Z"
   },
   {
    "duration": 10,
    "start_time": "2021-12-27T13:57:04.314Z"
   },
   {
    "duration": 47,
    "start_time": "2021-12-27T13:57:04.326Z"
   },
   {
    "duration": 9,
    "start_time": "2021-12-27T13:57:04.376Z"
   },
   {
    "duration": 14,
    "start_time": "2021-12-27T13:57:04.387Z"
   },
   {
    "duration": 12,
    "start_time": "2021-12-27T13:57:04.405Z"
   },
   {
    "duration": 7,
    "start_time": "2021-12-27T13:57:04.419Z"
   },
   {
    "duration": 262,
    "start_time": "2021-12-27T13:57:04.428Z"
   },
   {
    "duration": 16,
    "start_time": "2021-12-27T13:57:04.692Z"
   },
   {
    "duration": 7,
    "start_time": "2021-12-27T13:57:04.710Z"
   },
   {
    "duration": 314,
    "start_time": "2021-12-27T13:57:04.718Z"
   },
   {
    "duration": 272,
    "start_time": "2021-12-27T13:57:05.033Z"
   },
   {
    "duration": 376,
    "start_time": "2021-12-27T13:57:05.307Z"
   },
   {
    "duration": 266,
    "start_time": "2021-12-27T13:57:05.685Z"
   },
   {
    "duration": 391,
    "start_time": "2021-12-27T13:57:05.953Z"
   },
   {
    "duration": 151,
    "start_time": "2021-12-27T13:57:06.346Z"
   },
   {
    "duration": 330,
    "start_time": "2021-12-27T13:57:06.499Z"
   },
   {
    "duration": 5,
    "start_time": "2021-12-27T13:57:06.831Z"
   },
   {
    "duration": 26,
    "start_time": "2021-12-27T13:57:06.838Z"
   },
   {
    "duration": 21,
    "start_time": "2021-12-27T13:57:06.867Z"
   },
   {
    "duration": 11,
    "start_time": "2021-12-27T13:57:06.892Z"
   },
   {
    "duration": 22,
    "start_time": "2021-12-27T13:57:06.905Z"
   },
   {
    "duration": 131,
    "start_time": "2021-12-27T13:57:06.929Z"
   },
   {
    "duration": 9,
    "start_time": "2021-12-27T13:57:07.063Z"
   },
   {
    "duration": 20,
    "start_time": "2021-12-27T13:57:07.074Z"
   },
   {
    "duration": 10,
    "start_time": "2021-12-27T13:57:07.096Z"
   },
   {
    "duration": 353,
    "start_time": "2021-12-27T13:57:07.108Z"
   },
   {
    "duration": 6,
    "start_time": "2021-12-27T13:57:07.463Z"
   },
   {
    "duration": 136,
    "start_time": "2021-12-27T13:57:07.471Z"
   },
   {
    "duration": 146,
    "start_time": "2021-12-27T13:57:07.608Z"
   },
   {
    "duration": 368,
    "start_time": "2021-12-27T13:57:07.756Z"
   },
   {
    "duration": 384,
    "start_time": "2021-12-27T13:57:07.742Z"
   },
   {
    "duration": 269,
    "start_time": "2021-12-27T13:57:37.344Z"
   },
   {
    "duration": 287,
    "start_time": "2021-12-27T13:58:16.755Z"
   },
   {
    "duration": 337,
    "start_time": "2021-12-27T13:58:56.043Z"
   },
   {
    "duration": 329,
    "start_time": "2021-12-27T14:00:01.742Z"
   },
   {
    "duration": 33,
    "start_time": "2021-12-27T14:01:07.315Z"
   },
   {
    "duration": 25,
    "start_time": "2021-12-27T14:01:42.092Z"
   },
   {
    "duration": 256,
    "start_time": "2021-12-27T14:16:35.991Z"
   },
   {
    "duration": 1124,
    "start_time": "2021-12-27T14:17:10.083Z"
   },
   {
    "duration": 91,
    "start_time": "2021-12-27T14:17:11.212Z"
   },
   {
    "duration": 4,
    "start_time": "2021-12-27T14:17:11.305Z"
   },
   {
    "duration": 11,
    "start_time": "2021-12-27T14:17:11.310Z"
   },
   {
    "duration": 18,
    "start_time": "2021-12-27T14:17:11.323Z"
   },
   {
    "duration": 22,
    "start_time": "2021-12-27T14:17:11.343Z"
   },
   {
    "duration": 14,
    "start_time": "2021-12-27T14:17:11.368Z"
   },
   {
    "duration": 11,
    "start_time": "2021-12-27T14:17:11.384Z"
   },
   {
    "duration": 7,
    "start_time": "2021-12-27T14:17:11.397Z"
   },
   {
    "duration": 220,
    "start_time": "2021-12-27T14:17:11.406Z"
   },
   {
    "duration": 18,
    "start_time": "2021-12-27T14:17:11.627Z"
   },
   {
    "duration": 8,
    "start_time": "2021-12-27T14:17:11.660Z"
   },
   {
    "duration": 345,
    "start_time": "2021-12-27T14:17:11.671Z"
   },
   {
    "duration": 271,
    "start_time": "2021-12-27T14:17:12.018Z"
   },
   {
    "duration": 358,
    "start_time": "2021-12-27T14:17:12.291Z"
   },
   {
    "duration": 274,
    "start_time": "2021-12-27T14:17:12.651Z"
   },
   {
    "duration": 395,
    "start_time": "2021-12-27T14:17:12.927Z"
   },
   {
    "duration": 138,
    "start_time": "2021-12-27T14:17:13.324Z"
   },
   {
    "duration": 326,
    "start_time": "2021-12-27T14:17:13.464Z"
   },
   {
    "duration": 4,
    "start_time": "2021-12-27T14:17:13.792Z"
   },
   {
    "duration": 18,
    "start_time": "2021-12-27T14:17:13.798Z"
   },
   {
    "duration": 23,
    "start_time": "2021-12-27T14:17:13.820Z"
   },
   {
    "duration": 27,
    "start_time": "2021-12-27T14:17:13.845Z"
   },
   {
    "duration": 42,
    "start_time": "2021-12-27T14:17:13.874Z"
   },
   {
    "duration": 103,
    "start_time": "2021-12-27T14:17:13.918Z"
   },
   {
    "duration": 6,
    "start_time": "2021-12-27T14:17:14.023Z"
   },
   {
    "duration": 49,
    "start_time": "2021-12-27T14:17:14.031Z"
   },
   {
    "duration": 11,
    "start_time": "2021-12-27T14:17:14.082Z"
   },
   {
    "duration": 334,
    "start_time": "2021-12-27T14:17:14.095Z"
   },
   {
    "duration": 4,
    "start_time": "2021-12-27T14:17:14.431Z"
   },
   {
    "duration": 125,
    "start_time": "2021-12-27T14:17:14.437Z"
   },
   {
    "duration": 146,
    "start_time": "2021-12-27T14:17:14.564Z"
   },
   {
    "duration": 23,
    "start_time": "2021-12-27T14:17:14.712Z"
   },
   {
    "duration": 147,
    "start_time": "2021-12-27T14:17:14.737Z"
   },
   {
    "duration": 606,
    "start_time": "2021-12-27T14:17:14.886Z"
   },
   {
    "duration": 277,
    "start_time": "2021-12-27T14:22:22.034Z"
   },
   {
    "duration": 1152,
    "start_time": "2021-12-27T14:23:24.356Z"
   },
   {
    "duration": 87,
    "start_time": "2021-12-27T14:23:25.510Z"
   },
   {
    "duration": 3,
    "start_time": "2021-12-27T14:23:25.599Z"
   },
   {
    "duration": 9,
    "start_time": "2021-12-27T14:23:25.604Z"
   },
   {
    "duration": 21,
    "start_time": "2021-12-27T14:23:25.614Z"
   },
   {
    "duration": 25,
    "start_time": "2021-12-27T14:23:25.636Z"
   },
   {
    "duration": 12,
    "start_time": "2021-12-27T14:23:25.662Z"
   },
   {
    "duration": 11,
    "start_time": "2021-12-27T14:23:25.677Z"
   },
   {
    "duration": 7,
    "start_time": "2021-12-27T14:23:25.690Z"
   },
   {
    "duration": 214,
    "start_time": "2021-12-27T14:23:25.698Z"
   },
   {
    "duration": 16,
    "start_time": "2021-12-27T14:23:25.914Z"
   },
   {
    "duration": 29,
    "start_time": "2021-12-27T14:23:25.932Z"
   },
   {
    "duration": 256,
    "start_time": "2021-12-27T14:23:25.963Z"
   },
   {
    "duration": 247,
    "start_time": "2021-12-27T14:23:26.220Z"
   },
   {
    "duration": 383,
    "start_time": "2021-12-27T14:23:26.468Z"
   },
   {
    "duration": 262,
    "start_time": "2021-12-27T14:23:26.854Z"
   },
   {
    "duration": 357,
    "start_time": "2021-12-27T14:23:27.118Z"
   },
   {
    "duration": 113,
    "start_time": "2021-12-27T14:23:27.477Z"
   },
   {
    "duration": 294,
    "start_time": "2021-12-27T14:23:27.592Z"
   },
   {
    "duration": 4,
    "start_time": "2021-12-27T14:23:27.888Z"
   },
   {
    "duration": 11,
    "start_time": "2021-12-27T14:23:27.894Z"
   },
   {
    "duration": 10,
    "start_time": "2021-12-27T14:23:27.906Z"
   },
   {
    "duration": 11,
    "start_time": "2021-12-27T14:23:27.919Z"
   },
   {
    "duration": 41,
    "start_time": "2021-12-27T14:23:27.932Z"
   },
   {
    "duration": 106,
    "start_time": "2021-12-27T14:23:27.975Z"
   },
   {
    "duration": 6,
    "start_time": "2021-12-27T14:23:28.083Z"
   },
   {
    "duration": 13,
    "start_time": "2021-12-27T14:23:28.090Z"
   },
   {
    "duration": 9,
    "start_time": "2021-12-27T14:23:28.104Z"
   },
   {
    "duration": 404,
    "start_time": "2021-12-27T14:23:28.115Z"
   },
   {
    "duration": 4,
    "start_time": "2021-12-27T14:23:28.520Z"
   },
   {
    "duration": 121,
    "start_time": "2021-12-27T14:23:28.525Z"
   },
   {
    "duration": 138,
    "start_time": "2021-12-27T14:23:28.648Z"
   },
   {
    "duration": 22,
    "start_time": "2021-12-27T14:23:28.788Z"
   },
   {
    "duration": 127,
    "start_time": "2021-12-27T14:23:28.812Z"
   },
   {
    "duration": 19,
    "start_time": "2021-12-27T14:23:28.941Z"
   },
   {
    "duration": 6,
    "start_time": "2021-12-27T14:25:33.216Z"
   },
   {
    "duration": 217,
    "start_time": "2021-12-27T14:32:14.866Z"
   },
   {
    "duration": 256,
    "start_time": "2021-12-27T14:32:28.684Z"
   },
   {
    "duration": 308,
    "start_time": "2021-12-27T14:33:11.176Z"
   },
   {
    "duration": 242,
    "start_time": "2021-12-27T14:33:33.010Z"
   },
   {
    "duration": 88,
    "start_time": "2021-12-27T14:49:04.342Z"
   },
   {
    "duration": 475,
    "start_time": "2021-12-27T14:49:19.442Z"
   },
   {
    "duration": 5,
    "start_time": "2021-12-27T14:49:40.146Z"
   },
   {
    "duration": 5,
    "start_time": "2021-12-27T14:50:27.317Z"
   },
   {
    "duration": 260,
    "start_time": "2021-12-27T15:05:31.311Z"
   },
   {
    "duration": 1299,
    "start_time": "2021-12-27T15:06:12.244Z"
   },
   {
    "duration": 93,
    "start_time": "2021-12-27T15:06:13.546Z"
   },
   {
    "duration": 4,
    "start_time": "2021-12-27T15:06:13.641Z"
   },
   {
    "duration": 20,
    "start_time": "2021-12-27T15:06:13.647Z"
   },
   {
    "duration": 32,
    "start_time": "2021-12-27T15:06:13.670Z"
   },
   {
    "duration": 7,
    "start_time": "2021-12-27T15:06:13.704Z"
   },
   {
    "duration": 16,
    "start_time": "2021-12-27T15:06:13.713Z"
   },
   {
    "duration": 29,
    "start_time": "2021-12-27T15:06:13.732Z"
   },
   {
    "duration": 8,
    "start_time": "2021-12-27T15:06:13.763Z"
   },
   {
    "duration": 215,
    "start_time": "2021-12-27T15:06:13.773Z"
   },
   {
    "duration": 21,
    "start_time": "2021-12-27T15:06:13.991Z"
   },
   {
    "duration": 8,
    "start_time": "2021-12-27T15:06:14.014Z"
   },
   {
    "duration": 274,
    "start_time": "2021-12-27T15:06:14.024Z"
   },
   {
    "duration": 269,
    "start_time": "2021-12-27T15:06:14.301Z"
   },
   {
    "duration": 372,
    "start_time": "2021-12-27T15:06:14.572Z"
   },
   {
    "duration": 255,
    "start_time": "2021-12-27T15:06:14.946Z"
   },
   {
    "duration": 349,
    "start_time": "2021-12-27T15:06:15.202Z"
   },
   {
    "duration": 137,
    "start_time": "2021-12-27T15:06:15.553Z"
   },
   {
    "duration": 307,
    "start_time": "2021-12-27T15:06:15.692Z"
   },
   {
    "duration": 5,
    "start_time": "2021-12-27T15:06:16.000Z"
   },
   {
    "duration": 33,
    "start_time": "2021-12-27T15:06:16.007Z"
   },
   {
    "duration": 29,
    "start_time": "2021-12-27T15:06:16.043Z"
   },
   {
    "duration": 28,
    "start_time": "2021-12-27T15:06:16.077Z"
   },
   {
    "duration": 116,
    "start_time": "2021-12-27T15:06:16.108Z"
   },
   {
    "duration": 40,
    "start_time": "2021-12-27T15:06:16.226Z"
   },
   {
    "duration": 17,
    "start_time": "2021-12-27T15:06:16.268Z"
   },
   {
    "duration": 13,
    "start_time": "2021-12-27T15:06:16.288Z"
   },
   {
    "duration": 14,
    "start_time": "2021-12-27T15:06:16.303Z"
   },
   {
    "duration": 492,
    "start_time": "2021-12-27T15:06:16.319Z"
   },
   {
    "duration": 6,
    "start_time": "2021-12-27T15:06:16.813Z"
   },
   {
    "duration": 124,
    "start_time": "2021-12-27T15:06:16.821Z"
   },
   {
    "duration": 168,
    "start_time": "2021-12-27T15:06:16.947Z"
   },
   {
    "duration": 22,
    "start_time": "2021-12-27T15:06:17.117Z"
   },
   {
    "duration": 137,
    "start_time": "2021-12-27T15:06:17.141Z"
   },
   {
    "duration": 6,
    "start_time": "2021-12-27T15:06:17.280Z"
   },
   {
    "duration": 29,
    "start_time": "2021-12-27T15:06:17.288Z"
   },
   {
    "duration": 26,
    "start_time": "2021-12-27T15:06:17.319Z"
   },
   {
    "duration": 374,
    "start_time": "2021-12-27T15:06:17.347Z"
   },
   {
    "duration": 9,
    "start_time": "2021-12-27T15:07:27.551Z"
   },
   {
    "duration": 11,
    "start_time": "2021-12-27T15:32:26.675Z"
   },
   {
    "duration": 106,
    "start_time": "2021-12-27T15:53:59.998Z"
   },
   {
    "duration": 87,
    "start_time": "2021-12-27T15:58:25.920Z"
   },
   {
    "duration": 15,
    "start_time": "2021-12-27T15:59:24.562Z"
   },
   {
    "duration": 10,
    "start_time": "2021-12-27T16:04:56.847Z"
   },
   {
    "duration": 35,
    "start_time": "2021-12-27T16:07:06.484Z"
   },
   {
    "duration": 29,
    "start_time": "2021-12-27T16:07:16.492Z"
   },
   {
    "duration": 120,
    "start_time": "2021-12-27T16:16:21.373Z"
   },
   {
    "duration": 8,
    "start_time": "2021-12-27T16:18:45.374Z"
   },
   {
    "duration": 10,
    "start_time": "2021-12-27T16:20:11.894Z"
   },
   {
    "duration": 8,
    "start_time": "2021-12-27T16:22:08.936Z"
   },
   {
    "duration": 8,
    "start_time": "2021-12-27T16:22:11.178Z"
   },
   {
    "duration": 7,
    "start_time": "2021-12-27T16:27:18.564Z"
   },
   {
    "duration": 12,
    "start_time": "2021-12-27T16:29:17.572Z"
   },
   {
    "duration": 440,
    "start_time": "2021-12-27T16:33:39.941Z"
   },
   {
    "duration": 5,
    "start_time": "2021-12-27T16:36:34.728Z"
   },
   {
    "duration": 12,
    "start_time": "2021-12-27T16:51:35.324Z"
   },
   {
    "duration": 12,
    "start_time": "2021-12-27T16:51:56.765Z"
   },
   {
    "duration": 122,
    "start_time": "2021-12-27T16:55:42.612Z"
   },
   {
    "duration": 6,
    "start_time": "2021-12-27T16:55:44.725Z"
   },
   {
    "duration": 128,
    "start_time": "2021-12-27T16:57:13.590Z"
   },
   {
    "duration": 7,
    "start_time": "2021-12-27T16:57:17.363Z"
   },
   {
    "duration": 1398,
    "start_time": "2021-12-27T16:57:35.137Z"
   },
   {
    "duration": 137,
    "start_time": "2021-12-27T16:57:36.537Z"
   },
   {
    "duration": 5,
    "start_time": "2021-12-27T16:57:36.677Z"
   },
   {
    "duration": 18,
    "start_time": "2021-12-27T16:57:36.685Z"
   },
   {
    "duration": 64,
    "start_time": "2021-12-27T16:57:36.704Z"
   },
   {
    "duration": 21,
    "start_time": "2021-12-27T16:57:36.771Z"
   },
   {
    "duration": 20,
    "start_time": "2021-12-27T16:57:36.794Z"
   },
   {
    "duration": 14,
    "start_time": "2021-12-27T16:57:36.817Z"
   },
   {
    "duration": 8,
    "start_time": "2021-12-27T16:57:36.833Z"
   },
   {
    "duration": 271,
    "start_time": "2021-12-27T16:57:36.843Z"
   },
   {
    "duration": 24,
    "start_time": "2021-12-27T16:57:37.116Z"
   },
   {
    "duration": 29,
    "start_time": "2021-12-27T16:57:37.142Z"
   },
   {
    "duration": 398,
    "start_time": "2021-12-27T16:57:37.174Z"
   },
   {
    "duration": 361,
    "start_time": "2021-12-27T16:57:37.575Z"
   },
   {
    "duration": 442,
    "start_time": "2021-12-27T16:57:37.938Z"
   },
   {
    "duration": 370,
    "start_time": "2021-12-27T16:57:38.382Z"
   },
   {
    "duration": 465,
    "start_time": "2021-12-27T16:57:38.755Z"
   },
   {
    "duration": 153,
    "start_time": "2021-12-27T16:57:39.222Z"
   },
   {
    "duration": 408,
    "start_time": "2021-12-27T16:57:39.377Z"
   },
   {
    "duration": 6,
    "start_time": "2021-12-27T16:57:39.787Z"
   },
   {
    "duration": 13,
    "start_time": "2021-12-27T16:57:39.795Z"
   },
   {
    "duration": 15,
    "start_time": "2021-12-27T16:57:39.810Z"
   },
   {
    "duration": 14,
    "start_time": "2021-12-27T16:57:39.828Z"
   },
   {
    "duration": 109,
    "start_time": "2021-12-27T16:57:39.861Z"
   },
   {
    "duration": 46,
    "start_time": "2021-12-27T16:57:39.974Z"
   },
   {
    "duration": 8,
    "start_time": "2021-12-27T16:57:40.023Z"
   },
   {
    "duration": 46,
    "start_time": "2021-12-27T16:57:40.033Z"
   },
   {
    "duration": 12,
    "start_time": "2021-12-27T16:57:40.082Z"
   },
   {
    "duration": 430,
    "start_time": "2021-12-27T16:57:40.096Z"
   },
   {
    "duration": 6,
    "start_time": "2021-12-27T16:57:40.529Z"
   },
   {
    "duration": 195,
    "start_time": "2021-12-27T16:57:40.537Z"
   },
   {
    "duration": 213,
    "start_time": "2021-12-27T16:57:40.735Z"
   },
   {
    "duration": 35,
    "start_time": "2021-12-27T16:57:40.950Z"
   },
   {
    "duration": 240,
    "start_time": "2021-12-27T16:57:40.987Z"
   },
   {
    "duration": 8,
    "start_time": "2021-12-27T16:57:41.229Z"
   },
   {
    "duration": 22,
    "start_time": "2021-12-27T16:57:41.239Z"
   },
   {
    "duration": 10,
    "start_time": "2021-12-27T16:57:41.264Z"
   },
   {
    "duration": 21,
    "start_time": "2021-12-27T16:57:41.276Z"
   },
   {
    "duration": 15,
    "start_time": "2021-12-27T16:57:41.299Z"
   },
   {
    "duration": 7,
    "start_time": "2021-12-27T16:57:41.317Z"
   },
   {
    "duration": 16,
    "start_time": "2021-12-27T16:57:41.326Z"
   },
   {
    "duration": 399,
    "start_time": "2021-12-27T16:57:41.365Z"
   },
   {
    "duration": 5,
    "start_time": "2021-12-27T16:57:41.767Z"
   },
   {
    "duration": 28,
    "start_time": "2021-12-27T16:57:41.774Z"
   },
   {
    "duration": 134,
    "start_time": "2021-12-27T16:57:41.804Z"
   },
   {
    "duration": 7,
    "start_time": "2021-12-27T16:57:41.940Z"
   },
   {
    "duration": 384,
    "start_time": "2021-12-27T16:57:41.964Z"
   },
   {
    "duration": 10,
    "start_time": "2021-12-27T16:58:15.720Z"
   },
   {
    "duration": 11,
    "start_time": "2021-12-27T18:18:48.673Z"
   },
   {
    "duration": 12,
    "start_time": "2021-12-27T18:22:07.503Z"
   },
   {
    "duration": 1330,
    "start_time": "2021-12-27T19:20:55.544Z"
   },
   {
    "duration": 90,
    "start_time": "2021-12-27T19:20:56.876Z"
   },
   {
    "duration": 5,
    "start_time": "2021-12-27T19:20:56.968Z"
   },
   {
    "duration": 33,
    "start_time": "2021-12-27T19:20:56.975Z"
   },
   {
    "duration": 43,
    "start_time": "2021-12-27T19:20:57.010Z"
   },
   {
    "duration": 28,
    "start_time": "2021-12-27T19:20:57.055Z"
   },
   {
    "duration": 29,
    "start_time": "2021-12-27T19:20:57.085Z"
   },
   {
    "duration": 29,
    "start_time": "2021-12-27T19:20:57.116Z"
   },
   {
    "duration": 26,
    "start_time": "2021-12-27T19:20:57.147Z"
   },
   {
    "duration": 209,
    "start_time": "2021-12-27T19:20:57.175Z"
   },
   {
    "duration": 17,
    "start_time": "2021-12-27T19:20:57.386Z"
   },
   {
    "duration": 25,
    "start_time": "2021-12-27T19:20:57.405Z"
   },
   {
    "duration": 261,
    "start_time": "2021-12-27T19:20:57.432Z"
   },
   {
    "duration": 251,
    "start_time": "2021-12-27T19:20:57.695Z"
   },
   {
    "duration": 362,
    "start_time": "2021-12-27T19:20:57.948Z"
   },
   {
    "duration": 258,
    "start_time": "2021-12-27T19:20:58.312Z"
   },
   {
    "duration": 457,
    "start_time": "2021-12-27T19:20:58.572Z"
   },
   {
    "duration": 107,
    "start_time": "2021-12-27T19:20:59.032Z"
   },
   {
    "duration": 367,
    "start_time": "2021-12-27T19:20:59.141Z"
   },
   {
    "duration": 5,
    "start_time": "2021-12-27T19:20:59.510Z"
   },
   {
    "duration": 26,
    "start_time": "2021-12-27T19:20:59.517Z"
   },
   {
    "duration": 30,
    "start_time": "2021-12-27T19:20:59.545Z"
   },
   {
    "duration": 48,
    "start_time": "2021-12-27T19:20:59.580Z"
   },
   {
    "duration": 134,
    "start_time": "2021-12-27T19:20:59.632Z"
   },
   {
    "duration": 45,
    "start_time": "2021-12-27T19:20:59.768Z"
   },
   {
    "duration": 18,
    "start_time": "2021-12-27T19:20:59.814Z"
   },
   {
    "duration": 17,
    "start_time": "2021-12-27T19:20:59.834Z"
   },
   {
    "duration": 47,
    "start_time": "2021-12-27T19:20:59.852Z"
   },
   {
    "duration": 346,
    "start_time": "2021-12-27T19:20:59.902Z"
   },
   {
    "duration": 5,
    "start_time": "2021-12-27T19:21:00.260Z"
   },
   {
    "duration": 182,
    "start_time": "2021-12-27T19:21:00.267Z"
   },
   {
    "duration": 209,
    "start_time": "2021-12-27T19:21:00.451Z"
   },
   {
    "duration": 34,
    "start_time": "2021-12-27T19:21:00.662Z"
   },
   {
    "duration": 219,
    "start_time": "2021-12-27T19:21:00.698Z"
   },
   {
    "duration": 10,
    "start_time": "2021-12-27T19:21:00.919Z"
   },
   {
    "duration": 21,
    "start_time": "2021-12-27T19:21:00.931Z"
   },
   {
    "duration": 17,
    "start_time": "2021-12-27T19:21:00.953Z"
   },
   {
    "duration": 24,
    "start_time": "2021-12-27T19:21:00.972Z"
   },
   {
    "duration": 20,
    "start_time": "2021-12-27T19:21:00.998Z"
   },
   {
    "duration": 37,
    "start_time": "2021-12-27T19:21:01.020Z"
   },
   {
    "duration": 40,
    "start_time": "2021-12-27T19:21:01.059Z"
   },
   {
    "duration": 369,
    "start_time": "2021-12-27T19:21:01.101Z"
   },
   {
    "duration": 4,
    "start_time": "2021-12-27T19:21:01.473Z"
   },
   {
    "duration": 46,
    "start_time": "2021-12-27T19:21:01.479Z"
   },
   {
    "duration": 195,
    "start_time": "2021-12-27T19:21:01.527Z"
   },
   {
    "duration": 8,
    "start_time": "2021-12-27T19:21:01.725Z"
   },
   {
    "duration": 57,
    "start_time": "2021-12-27T19:21:01.735Z"
   },
   {
    "duration": 57,
    "start_time": "2021-12-27T19:21:01.794Z"
   },
   {
    "duration": 101,
    "start_time": "2021-12-28T07:59:27.949Z"
   },
   {
    "duration": 332,
    "start_time": "2021-12-28T07:59:35.553Z"
   },
   {
    "duration": 1436,
    "start_time": "2021-12-28T07:59:55.704Z"
   },
   {
    "duration": 106,
    "start_time": "2021-12-28T07:59:57.143Z"
   },
   {
    "duration": 6,
    "start_time": "2021-12-28T07:59:57.251Z"
   },
   {
    "duration": 15,
    "start_time": "2021-12-28T07:59:57.259Z"
   },
   {
    "duration": 28,
    "start_time": "2021-12-28T07:59:57.276Z"
   },
   {
    "duration": 7,
    "start_time": "2021-12-28T07:59:57.307Z"
   },
   {
    "duration": 51,
    "start_time": "2021-12-28T07:59:57.316Z"
   },
   {
    "duration": 18,
    "start_time": "2021-12-28T07:59:57.371Z"
   },
   {
    "duration": 10,
    "start_time": "2021-12-28T07:59:57.393Z"
   },
   {
    "duration": 379,
    "start_time": "2021-12-28T07:59:57.405Z"
   },
   {
    "duration": 29,
    "start_time": "2021-12-28T07:59:57.786Z"
   },
   {
    "duration": 11,
    "start_time": "2021-12-28T07:59:57.817Z"
   },
   {
    "duration": 466,
    "start_time": "2021-12-28T07:59:57.830Z"
   },
   {
    "duration": 146,
    "start_time": "2021-12-28T07:59:58.299Z"
   },
   {
    "duration": -780,
    "start_time": "2021-12-28T07:59:59.229Z"
   },
   {
    "duration": -790,
    "start_time": "2021-12-28T07:59:59.240Z"
   },
   {
    "duration": -802,
    "start_time": "2021-12-28T07:59:59.254Z"
   },
   {
    "duration": -812,
    "start_time": "2021-12-28T07:59:59.265Z"
   },
   {
    "duration": -896,
    "start_time": "2021-12-28T07:59:59.351Z"
   },
   {
    "duration": -908,
    "start_time": "2021-12-28T07:59:59.364Z"
   },
   {
    "duration": -920,
    "start_time": "2021-12-28T07:59:59.378Z"
   },
   {
    "duration": -932,
    "start_time": "2021-12-28T07:59:59.391Z"
   },
   {
    "duration": -943,
    "start_time": "2021-12-28T07:59:59.404Z"
   },
   {
    "duration": -955,
    "start_time": "2021-12-28T07:59:59.417Z"
   },
   {
    "duration": -968,
    "start_time": "2021-12-28T07:59:59.432Z"
   },
   {
    "duration": -999,
    "start_time": "2021-12-28T07:59:59.464Z"
   },
   {
    "duration": -1011,
    "start_time": "2021-12-28T07:59:59.477Z"
   },
   {
    "duration": -1024,
    "start_time": "2021-12-28T07:59:59.491Z"
   },
   {
    "duration": -1035,
    "start_time": "2021-12-28T07:59:59.504Z"
   },
   {
    "duration": -1045,
    "start_time": "2021-12-28T07:59:59.515Z"
   },
   {
    "duration": -1055,
    "start_time": "2021-12-28T07:59:59.527Z"
   },
   {
    "duration": -1065,
    "start_time": "2021-12-28T07:59:59.538Z"
   },
   {
    "duration": -1077,
    "start_time": "2021-12-28T07:59:59.551Z"
   },
   {
    "duration": -1106,
    "start_time": "2021-12-28T07:59:59.582Z"
   },
   {
    "duration": -1118,
    "start_time": "2021-12-28T07:59:59.595Z"
   },
   {
    "duration": -1130,
    "start_time": "2021-12-28T07:59:59.609Z"
   },
   {
    "duration": -1142,
    "start_time": "2021-12-28T07:59:59.622Z"
   },
   {
    "duration": -1152,
    "start_time": "2021-12-28T07:59:59.633Z"
   },
   {
    "duration": -1162,
    "start_time": "2021-12-28T07:59:59.645Z"
   },
   {
    "duration": -1172,
    "start_time": "2021-12-28T07:59:59.656Z"
   },
   {
    "duration": -1183,
    "start_time": "2021-12-28T07:59:59.669Z"
   },
   {
    "duration": -1211,
    "start_time": "2021-12-28T07:59:59.698Z"
   },
   {
    "duration": -1224,
    "start_time": "2021-12-28T07:59:59.713Z"
   },
   {
    "duration": -1234,
    "start_time": "2021-12-28T07:59:59.724Z"
   },
   {
    "duration": -1247,
    "start_time": "2021-12-28T07:59:59.738Z"
   },
   {
    "duration": -1257,
    "start_time": "2021-12-28T07:59:59.750Z"
   },
   {
    "duration": -1268,
    "start_time": "2021-12-28T07:59:59.762Z"
   },
   {
    "duration": -1277,
    "start_time": "2021-12-28T07:59:59.773Z"
   },
   {
    "duration": -1289,
    "start_time": "2021-12-28T07:59:59.786Z"
   },
   {
    "duration": 13,
    "start_time": "2021-12-28T08:01:46.999Z"
   },
   {
    "duration": 94,
    "start_time": "2021-12-28T08:04:56.219Z"
   },
   {
    "duration": 579,
    "start_time": "2021-12-28T08:05:06.408Z"
   },
   {
    "duration": 12,
    "start_time": "2021-12-28T08:05:41.397Z"
   },
   {
    "duration": 12,
    "start_time": "2021-12-28T08:06:05.208Z"
   },
   {
    "duration": 320,
    "start_time": "2021-12-28T08:12:13.333Z"
   },
   {
    "duration": 335,
    "start_time": "2021-12-28T08:12:43.894Z"
   },
   {
    "duration": 297,
    "start_time": "2021-12-28T08:13:28.479Z"
   },
   {
    "duration": 303,
    "start_time": "2021-12-28T08:15:02.564Z"
   },
   {
    "duration": 327,
    "start_time": "2021-12-28T08:15:36.405Z"
   },
   {
    "duration": 309,
    "start_time": "2021-12-28T08:16:02.170Z"
   },
   {
    "duration": 427,
    "start_time": "2021-12-28T08:16:55.928Z"
   },
   {
    "duration": 372,
    "start_time": "2021-12-28T08:29:00.411Z"
   },
   {
    "duration": 298,
    "start_time": "2021-12-28T08:34:36.529Z"
   },
   {
    "duration": 314,
    "start_time": "2021-12-28T08:35:00.637Z"
   },
   {
    "duration": 410,
    "start_time": "2021-12-28T08:37:41.875Z"
   },
   {
    "duration": 309,
    "start_time": "2021-12-28T08:42:52.345Z"
   },
   {
    "duration": 425,
    "start_time": "2021-12-28T08:43:48.787Z"
   },
   {
    "duration": 423,
    "start_time": "2021-12-28T08:46:05.614Z"
   },
   {
    "duration": 318,
    "start_time": "2021-12-28T08:48:45.869Z"
   },
   {
    "duration": 316,
    "start_time": "2021-12-28T09:00:32.036Z"
   },
   {
    "duration": 303,
    "start_time": "2021-12-28T09:01:11.369Z"
   },
   {
    "duration": 25,
    "start_time": "2021-12-28T09:05:32.931Z"
   },
   {
    "duration": 24,
    "start_time": "2021-12-28T09:06:28.017Z"
   },
   {
    "duration": 19,
    "start_time": "2021-12-28T09:08:20.927Z"
   },
   {
    "duration": 18,
    "start_time": "2021-12-28T09:09:42.832Z"
   },
   {
    "duration": 18,
    "start_time": "2021-12-28T09:10:02.129Z"
   },
   {
    "duration": 18,
    "start_time": "2021-12-28T09:14:51.684Z"
   },
   {
    "duration": 154,
    "start_time": "2021-12-28T09:16:03.941Z"
   },
   {
    "duration": 336,
    "start_time": "2021-12-28T09:16:17.445Z"
   },
   {
    "duration": 18,
    "start_time": "2021-12-28T09:16:35.557Z"
   },
   {
    "duration": 30,
    "start_time": "2021-12-28T09:17:39.695Z"
   },
   {
    "duration": 20,
    "start_time": "2021-12-28T09:18:18.769Z"
   },
   {
    "duration": 299,
    "start_time": "2021-12-28T09:32:14.524Z"
   },
   {
    "duration": 303,
    "start_time": "2021-12-28T09:32:47.912Z"
   },
   {
    "duration": 397,
    "start_time": "2021-12-28T09:33:39.937Z"
   },
   {
    "duration": 438,
    "start_time": "2021-12-28T09:34:04.668Z"
   },
   {
    "duration": 834,
    "start_time": "2021-12-28T09:34:09.868Z"
   },
   {
    "duration": 319,
    "start_time": "2021-12-28T09:34:31.907Z"
   },
   {
    "duration": 316,
    "start_time": "2021-12-28T09:35:24.960Z"
   },
   {
    "duration": 19,
    "start_time": "2021-12-28T09:35:51.139Z"
   },
   {
    "duration": 293,
    "start_time": "2021-12-28T09:37:31.529Z"
   },
   {
    "duration": 304,
    "start_time": "2021-12-28T09:38:17.341Z"
   },
   {
    "duration": 21,
    "start_time": "2021-12-28T09:39:04.495Z"
   },
   {
    "duration": 27,
    "start_time": "2021-12-28T09:39:49.150Z"
   },
   {
    "duration": 17,
    "start_time": "2021-12-28T09:41:23.761Z"
   },
   {
    "duration": 17,
    "start_time": "2021-12-28T09:41:41.135Z"
   },
   {
    "duration": 308,
    "start_time": "2021-12-28T09:42:14.366Z"
   },
   {
    "duration": 300,
    "start_time": "2021-12-28T09:42:39.537Z"
   },
   {
    "duration": 19,
    "start_time": "2021-12-28T09:52:30.413Z"
   },
   {
    "duration": 22,
    "start_time": "2021-12-28T09:53:43.675Z"
   },
   {
    "duration": 1531,
    "start_time": "2021-12-28T10:01:03.032Z"
   },
   {
    "duration": 106,
    "start_time": "2021-12-28T10:01:04.565Z"
   },
   {
    "duration": 6,
    "start_time": "2021-12-28T10:01:04.674Z"
   },
   {
    "duration": 13,
    "start_time": "2021-12-28T10:01:04.684Z"
   },
   {
    "duration": 68,
    "start_time": "2021-12-28T10:01:04.700Z"
   },
   {
    "duration": 7,
    "start_time": "2021-12-28T10:01:04.770Z"
   },
   {
    "duration": 17,
    "start_time": "2021-12-28T10:01:04.779Z"
   },
   {
    "duration": 17,
    "start_time": "2021-12-28T10:01:04.798Z"
   },
   {
    "duration": 49,
    "start_time": "2021-12-28T10:01:04.820Z"
   },
   {
    "duration": 349,
    "start_time": "2021-12-28T10:01:04.872Z"
   },
   {
    "duration": 40,
    "start_time": "2021-12-28T10:01:05.223Z"
   },
   {
    "duration": 14,
    "start_time": "2021-12-28T10:01:05.265Z"
   },
   {
    "duration": 428,
    "start_time": "2021-12-28T10:01:05.281Z"
   },
   {
    "duration": 21,
    "start_time": "2021-12-28T10:01:05.712Z"
   },
   {
    "duration": 401,
    "start_time": "2021-12-28T10:01:05.736Z"
   },
   {
    "duration": 569,
    "start_time": "2021-12-28T10:01:06.139Z"
   },
   {
    "duration": 432,
    "start_time": "2021-12-28T10:01:06.711Z"
   },
   {
    "duration": 521,
    "start_time": "2021-12-28T10:01:07.146Z"
   },
   {
    "duration": 226,
    "start_time": "2021-12-28T10:01:07.670Z"
   },
   {
    "duration": 429,
    "start_time": "2021-12-28T10:01:07.899Z"
   },
   {
    "duration": 5,
    "start_time": "2021-12-28T10:01:08.331Z"
   },
   {
    "duration": 30,
    "start_time": "2021-12-28T10:01:08.338Z"
   },
   {
    "duration": 12,
    "start_time": "2021-12-28T10:01:08.371Z"
   },
   {
    "duration": 99,
    "start_time": "2021-12-28T10:01:08.385Z"
   },
   {
    "duration": 34,
    "start_time": "2021-12-28T10:01:08.486Z"
   },
   {
    "duration": 61,
    "start_time": "2021-12-28T10:01:08.522Z"
   },
   {
    "duration": 10,
    "start_time": "2021-12-28T10:01:08.588Z"
   },
   {
    "duration": 21,
    "start_time": "2021-12-28T10:01:08.601Z"
   },
   {
    "duration": 47,
    "start_time": "2021-12-28T10:01:08.624Z"
   },
   {
    "duration": 477,
    "start_time": "2021-12-28T10:01:08.673Z"
   },
   {
    "duration": 10,
    "start_time": "2021-12-28T10:01:09.153Z"
   },
   {
    "duration": 223,
    "start_time": "2021-12-28T10:01:09.168Z"
   },
   {
    "duration": 241,
    "start_time": "2021-12-28T10:01:09.394Z"
   },
   {
    "duration": 46,
    "start_time": "2021-12-28T10:01:09.637Z"
   },
   {
    "duration": 215,
    "start_time": "2021-12-28T10:01:09.686Z"
   },
   {
    "duration": 8,
    "start_time": "2021-12-28T10:01:09.904Z"
   },
   {
    "duration": 20,
    "start_time": "2021-12-28T10:01:09.914Z"
   },
   {
    "duration": 26,
    "start_time": "2021-12-28T10:01:09.936Z"
   },
   {
    "duration": 10,
    "start_time": "2021-12-28T10:01:09.965Z"
   },
   {
    "duration": 14,
    "start_time": "2021-12-28T10:01:09.978Z"
   },
   {
    "duration": 9,
    "start_time": "2021-12-28T10:01:09.995Z"
   },
   {
    "duration": 15,
    "start_time": "2021-12-28T10:01:10.006Z"
   },
   {
    "duration": 489,
    "start_time": "2021-12-28T10:01:10.064Z"
   },
   {
    "duration": 9,
    "start_time": "2021-12-28T10:01:10.556Z"
   },
   {
    "duration": 13,
    "start_time": "2021-12-28T10:01:10.568Z"
   },
   {
    "duration": 251,
    "start_time": "2021-12-28T10:01:10.583Z"
   },
   {
    "duration": 8,
    "start_time": "2021-12-28T10:01:10.836Z"
   },
   {
    "duration": 24,
    "start_time": "2021-12-28T10:01:10.846Z"
   },
   {
    "duration": 16,
    "start_time": "2021-12-28T10:01:10.872Z"
   },
   {
    "duration": 236,
    "start_time": "2021-12-28T10:11:10.289Z"
   },
   {
    "duration": 232,
    "start_time": "2021-12-28T10:11:55.043Z"
   },
   {
    "duration": 264,
    "start_time": "2021-12-28T10:12:25.004Z"
   },
   {
    "duration": 291,
    "start_time": "2021-12-28T10:13:05.409Z"
   },
   {
    "duration": 716,
    "start_time": "2021-12-28T10:14:15.068Z"
   },
   {
    "duration": 303,
    "start_time": "2021-12-28T10:14:45.889Z"
   },
   {
    "duration": 302,
    "start_time": "2021-12-28T10:15:45.891Z"
   },
   {
    "duration": 293,
    "start_time": "2021-12-28T10:16:41.662Z"
   },
   {
    "duration": 270,
    "start_time": "2021-12-28T10:17:54.767Z"
   },
   {
    "duration": 377,
    "start_time": "2021-12-28T10:18:09.783Z"
   },
   {
    "duration": 332,
    "start_time": "2021-12-28T10:45:39.235Z"
   },
   {
    "duration": 17,
    "start_time": "2021-12-28T10:46:59.386Z"
   },
   {
    "duration": 17,
    "start_time": "2021-12-28T10:47:12.274Z"
   },
   {
    "duration": 18,
    "start_time": "2021-12-28T10:47:30.146Z"
   },
   {
    "duration": 15,
    "start_time": "2021-12-28T10:49:14.871Z"
   },
   {
    "duration": 45,
    "start_time": "2021-12-28T10:50:27.480Z"
   },
   {
    "duration": 98,
    "start_time": "2021-12-28T10:55:13.531Z"
   },
   {
    "duration": 15,
    "start_time": "2021-12-28T10:55:32.691Z"
   },
   {
    "duration": 15,
    "start_time": "2021-12-28T10:57:58.353Z"
   },
   {
    "duration": 52,
    "start_time": "2021-12-28T11:05:06.215Z"
   },
   {
    "duration": 17,
    "start_time": "2021-12-28T11:26:59.402Z"
   },
   {
    "duration": 10,
    "start_time": "2021-12-28T11:27:58.489Z"
   },
   {
    "duration": 2033,
    "start_time": "2021-12-28T11:31:20.950Z"
   },
   {
    "duration": 116,
    "start_time": "2021-12-28T11:31:22.986Z"
   },
   {
    "duration": 6,
    "start_time": "2021-12-28T11:31:23.105Z"
   },
   {
    "duration": 51,
    "start_time": "2021-12-28T11:31:23.114Z"
   },
   {
    "duration": 46,
    "start_time": "2021-12-28T11:31:23.168Z"
   },
   {
    "duration": 10,
    "start_time": "2021-12-28T11:31:23.218Z"
   },
   {
    "duration": 49,
    "start_time": "2021-12-28T11:31:23.232Z"
   },
   {
    "duration": 25,
    "start_time": "2021-12-28T11:31:23.285Z"
   },
   {
    "duration": 10,
    "start_time": "2021-12-28T11:31:23.314Z"
   },
   {
    "duration": 538,
    "start_time": "2021-12-28T11:31:23.362Z"
   },
   {
    "duration": 34,
    "start_time": "2021-12-28T11:31:23.904Z"
   },
   {
    "duration": 11,
    "start_time": "2021-12-28T11:31:23.963Z"
   },
   {
    "duration": 530,
    "start_time": "2021-12-28T11:31:23.977Z"
   },
   {
    "duration": 29,
    "start_time": "2021-12-28T11:31:24.510Z"
   },
   {
    "duration": 415,
    "start_time": "2021-12-28T11:31:24.542Z"
   },
   {
    "duration": 616,
    "start_time": "2021-12-28T11:31:24.962Z"
   },
   {
    "duration": 537,
    "start_time": "2021-12-28T11:31:25.581Z"
   },
   {
    "duration": 546,
    "start_time": "2021-12-28T11:31:26.120Z"
   },
   {
    "duration": 245,
    "start_time": "2021-12-28T11:31:26.669Z"
   },
   {
    "duration": 451,
    "start_time": "2021-12-28T11:31:26.917Z"
   },
   {
    "duration": 550,
    "start_time": "2021-12-28T11:31:27.372Z"
   },
   {
    "duration": 7,
    "start_time": "2021-12-28T11:31:27.925Z"
   },
   {
    "duration": 47,
    "start_time": "2021-12-28T11:31:27.940Z"
   },
   {
    "duration": 20,
    "start_time": "2021-12-28T11:31:27.991Z"
   },
   {
    "duration": 54,
    "start_time": "2021-12-28T11:31:28.014Z"
   },
   {
    "duration": 33,
    "start_time": "2021-12-28T11:31:28.072Z"
   },
   {
    "duration": 92,
    "start_time": "2021-12-28T11:31:28.108Z"
   },
   {
    "duration": 10,
    "start_time": "2021-12-28T11:31:28.202Z"
   },
   {
    "duration": 47,
    "start_time": "2021-12-28T11:31:28.216Z"
   },
   {
    "duration": 17,
    "start_time": "2021-12-28T11:31:28.266Z"
   },
   {
    "duration": 477,
    "start_time": "2021-12-28T11:31:28.286Z"
   },
   {
    "duration": 16,
    "start_time": "2021-12-28T11:31:28.766Z"
   },
   {
    "duration": 17,
    "start_time": "2021-12-28T11:31:28.785Z"
   },
   {
    "duration": 6,
    "start_time": "2021-12-28T11:31:28.805Z"
   },
   {
    "duration": 259,
    "start_time": "2021-12-28T11:31:28.814Z"
   },
   {
    "duration": 318,
    "start_time": "2021-12-28T11:31:29.076Z"
   },
   {
    "duration": 85,
    "start_time": "2021-12-28T11:31:29.397Z"
   },
   {
    "duration": 333,
    "start_time": "2021-12-28T11:31:29.486Z"
   },
   {
    "duration": 11,
    "start_time": "2021-12-28T11:31:29.823Z"
   },
   {
    "duration": 31,
    "start_time": "2021-12-28T11:31:29.837Z"
   },
   {
    "duration": 15,
    "start_time": "2021-12-28T11:31:29.872Z"
   },
   {
    "duration": 15,
    "start_time": "2021-12-28T11:31:29.890Z"
   },
   {
    "duration": 60,
    "start_time": "2021-12-28T11:31:29.908Z"
   },
   {
    "duration": 8,
    "start_time": "2021-12-28T11:31:29.971Z"
   },
   {
    "duration": 19,
    "start_time": "2021-12-28T11:31:29.982Z"
   },
   {
    "duration": 547,
    "start_time": "2021-12-28T11:31:30.004Z"
   },
   {
    "duration": 14,
    "start_time": "2021-12-28T11:31:30.555Z"
   },
   {
    "duration": 12,
    "start_time": "2021-12-28T11:31:30.572Z"
   },
   {
    "duration": 227,
    "start_time": "2021-12-28T11:31:30.587Z"
   },
   {
    "duration": 9,
    "start_time": "2021-12-28T11:31:30.817Z"
   },
   {
    "duration": 39,
    "start_time": "2021-12-28T11:31:30.829Z"
   },
   {
    "duration": 19,
    "start_time": "2021-12-28T11:31:30.871Z"
   },
   {
    "duration": 1497,
    "start_time": "2021-12-28T11:34:32.171Z"
   },
   {
    "duration": 111,
    "start_time": "2021-12-28T11:34:33.671Z"
   },
   {
    "duration": 6,
    "start_time": "2021-12-28T11:34:33.785Z"
   },
   {
    "duration": 12,
    "start_time": "2021-12-28T11:34:33.794Z"
   },
   {
    "duration": 70,
    "start_time": "2021-12-28T11:34:33.809Z"
   },
   {
    "duration": 7,
    "start_time": "2021-12-28T11:34:33.882Z"
   },
   {
    "duration": 20,
    "start_time": "2021-12-28T11:34:33.892Z"
   },
   {
    "duration": 60,
    "start_time": "2021-12-28T11:34:33.916Z"
   },
   {
    "duration": 11,
    "start_time": "2021-12-28T11:34:33.981Z"
   },
   {
    "duration": 555,
    "start_time": "2021-12-28T11:34:33.995Z"
   },
   {
    "duration": 34,
    "start_time": "2021-12-28T11:34:34.553Z"
   },
   {
    "duration": 10,
    "start_time": "2021-12-28T11:34:34.589Z"
   },
   {
    "duration": 446,
    "start_time": "2021-12-28T11:34:34.602Z"
   },
   {
    "duration": 27,
    "start_time": "2021-12-28T11:34:35.051Z"
   },
   {
    "duration": 408,
    "start_time": "2021-12-28T11:34:35.080Z"
   },
   {
    "duration": 484,
    "start_time": "2021-12-28T11:34:35.490Z"
   },
   {
    "duration": 414,
    "start_time": "2021-12-28T11:34:35.977Z"
   },
   {
    "duration": 569,
    "start_time": "2021-12-28T11:34:36.394Z"
   },
   {
    "duration": 256,
    "start_time": "2021-12-28T11:34:36.966Z"
   },
   {
    "duration": 311,
    "start_time": "2021-12-28T11:34:37.224Z"
   },
   {
    "duration": 652,
    "start_time": "2021-12-28T11:34:37.539Z"
   },
   {
    "duration": 7,
    "start_time": "2021-12-28T11:34:38.194Z"
   },
   {
    "duration": 25,
    "start_time": "2021-12-28T11:34:38.211Z"
   },
   {
    "duration": 25,
    "start_time": "2021-12-28T11:34:38.262Z"
   },
   {
    "duration": 25,
    "start_time": "2021-12-28T11:34:38.290Z"
   },
   {
    "duration": 78,
    "start_time": "2021-12-28T11:34:38.318Z"
   },
   {
    "duration": 65,
    "start_time": "2021-12-28T11:34:38.399Z"
   },
   {
    "duration": 9,
    "start_time": "2021-12-28T11:34:38.467Z"
   },
   {
    "duration": 20,
    "start_time": "2021-12-28T11:34:38.478Z"
   },
   {
    "duration": 15,
    "start_time": "2021-12-28T11:34:38.500Z"
   },
   {
    "duration": 545,
    "start_time": "2021-12-28T11:34:38.518Z"
   },
   {
    "duration": 21,
    "start_time": "2021-12-28T11:34:39.066Z"
   },
   {
    "duration": 15,
    "start_time": "2021-12-28T11:34:39.089Z"
   },
   {
    "duration": 7,
    "start_time": "2021-12-28T11:34:39.106Z"
   },
   {
    "duration": 248,
    "start_time": "2021-12-28T11:34:39.116Z"
   },
   {
    "duration": 238,
    "start_time": "2021-12-28T11:34:39.367Z"
   },
   {
    "duration": 66,
    "start_time": "2021-12-28T11:34:39.608Z"
   },
   {
    "duration": 242,
    "start_time": "2021-12-28T11:34:39.676Z"
   },
   {
    "duration": 9,
    "start_time": "2021-12-28T11:34:39.920Z"
   },
   {
    "duration": 9,
    "start_time": "2021-12-28T11:34:39.931Z"
   },
   {
    "duration": 7,
    "start_time": "2021-12-28T11:34:39.964Z"
   },
   {
    "duration": 10,
    "start_time": "2021-12-28T11:34:39.974Z"
   },
   {
    "duration": 13,
    "start_time": "2021-12-28T11:34:39.987Z"
   },
   {
    "duration": 62,
    "start_time": "2021-12-28T11:34:40.003Z"
   },
   {
    "duration": 16,
    "start_time": "2021-12-28T11:34:40.067Z"
   },
   {
    "duration": 456,
    "start_time": "2021-12-28T11:34:40.085Z"
   },
   {
    "duration": 6,
    "start_time": "2021-12-28T11:34:40.543Z"
   },
   {
    "duration": 12,
    "start_time": "2021-12-28T11:34:40.563Z"
   },
   {
    "duration": 253,
    "start_time": "2021-12-28T11:34:40.578Z"
   },
   {
    "duration": 8,
    "start_time": "2021-12-28T11:34:40.834Z"
   },
   {
    "duration": 23,
    "start_time": "2021-12-28T11:34:40.844Z"
   },
   {
    "duration": 13,
    "start_time": "2021-12-28T11:34:40.870Z"
   },
   {
    "duration": 1529,
    "start_time": "2021-12-28T11:54:19.266Z"
   },
   {
    "duration": 105,
    "start_time": "2021-12-28T11:54:20.797Z"
   },
   {
    "duration": 8,
    "start_time": "2021-12-28T11:54:20.906Z"
   },
   {
    "duration": 44,
    "start_time": "2021-12-28T11:54:20.918Z"
   },
   {
    "duration": 30,
    "start_time": "2021-12-28T11:54:20.965Z"
   },
   {
    "duration": 8,
    "start_time": "2021-12-28T11:54:20.997Z"
   },
   {
    "duration": 58,
    "start_time": "2021-12-28T11:54:21.008Z"
   },
   {
    "duration": 20,
    "start_time": "2021-12-28T11:54:21.070Z"
   },
   {
    "duration": 8,
    "start_time": "2021-12-28T11:54:21.093Z"
   },
   {
    "duration": 360,
    "start_time": "2021-12-28T11:54:21.103Z"
   },
   {
    "duration": 38,
    "start_time": "2021-12-28T11:54:21.466Z"
   },
   {
    "duration": 13,
    "start_time": "2021-12-28T11:54:21.507Z"
   },
   {
    "duration": 469,
    "start_time": "2021-12-28T11:54:21.523Z"
   },
   {
    "duration": 22,
    "start_time": "2021-12-28T11:54:21.995Z"
   },
   {
    "duration": 408,
    "start_time": "2021-12-28T11:54:22.020Z"
   },
   {
    "duration": 543,
    "start_time": "2021-12-28T11:54:22.431Z"
   },
   {
    "duration": 417,
    "start_time": "2021-12-28T11:54:22.977Z"
   },
   {
    "duration": 524,
    "start_time": "2021-12-28T11:54:23.396Z"
   },
   {
    "duration": 208,
    "start_time": "2021-12-28T11:54:23.923Z"
   },
   {
    "duration": 341,
    "start_time": "2021-12-28T11:54:24.133Z"
   },
   {
    "duration": 695,
    "start_time": "2021-12-28T11:54:24.477Z"
   },
   {
    "duration": 7,
    "start_time": "2021-12-28T11:54:25.174Z"
   },
   {
    "duration": 16,
    "start_time": "2021-12-28T11:54:25.187Z"
   },
   {
    "duration": 17,
    "start_time": "2021-12-28T11:54:25.207Z"
   },
   {
    "duration": 49,
    "start_time": "2021-12-28T11:54:25.226Z"
   },
   {
    "duration": 31,
    "start_time": "2021-12-28T11:54:25.277Z"
   },
   {
    "duration": 70,
    "start_time": "2021-12-28T11:54:25.311Z"
   },
   {
    "duration": 10,
    "start_time": "2021-12-28T11:54:25.384Z"
   },
   {
    "duration": 23,
    "start_time": "2021-12-28T11:54:25.397Z"
   },
   {
    "duration": 51,
    "start_time": "2021-12-28T11:54:25.422Z"
   },
   {
    "duration": 646,
    "start_time": "2021-12-28T11:54:25.476Z"
   },
   {
    "duration": 20,
    "start_time": "2021-12-28T11:54:26.125Z"
   },
   {
    "duration": 21,
    "start_time": "2021-12-28T11:54:26.163Z"
   },
   {
    "duration": 8,
    "start_time": "2021-12-28T11:54:26.188Z"
   },
   {
    "duration": 220,
    "start_time": "2021-12-28T11:54:26.199Z"
   },
   {
    "duration": 266,
    "start_time": "2021-12-28T11:54:26.421Z"
   },
   {
    "duration": 52,
    "start_time": "2021-12-28T11:54:26.689Z"
   },
   {
    "duration": 320,
    "start_time": "2021-12-28T11:54:26.743Z"
   },
   {
    "duration": 9,
    "start_time": "2021-12-28T11:54:27.065Z"
   },
   {
    "duration": 10,
    "start_time": "2021-12-28T11:54:27.077Z"
   },
   {
    "duration": 9,
    "start_time": "2021-12-28T11:54:27.090Z"
   },
   {
    "duration": 59,
    "start_time": "2021-12-28T11:54:27.103Z"
   },
   {
    "duration": 23,
    "start_time": "2021-12-28T11:54:27.165Z"
   },
   {
    "duration": 10,
    "start_time": "2021-12-28T11:54:27.191Z"
   },
   {
    "duration": 21,
    "start_time": "2021-12-28T11:54:27.204Z"
   },
   {
    "duration": 497,
    "start_time": "2021-12-28T11:54:27.228Z"
   },
   {
    "duration": 6,
    "start_time": "2021-12-28T11:54:27.727Z"
   },
   {
    "duration": 36,
    "start_time": "2021-12-28T11:54:27.735Z"
   },
   {
    "duration": 210,
    "start_time": "2021-12-28T11:54:27.774Z"
   },
   {
    "duration": 9,
    "start_time": "2021-12-28T11:54:27.986Z"
   },
   {
    "duration": 10,
    "start_time": "2021-12-28T11:54:27.997Z"
   },
   {
    "duration": 14,
    "start_time": "2021-12-28T11:54:28.010Z"
   },
   {
    "duration": 1744,
    "start_time": "2021-12-28T11:55:30.452Z"
   },
   {
    "duration": 109,
    "start_time": "2021-12-28T11:55:32.199Z"
   },
   {
    "duration": 7,
    "start_time": "2021-12-28T11:55:32.311Z"
   },
   {
    "duration": 42,
    "start_time": "2021-12-28T11:55:32.321Z"
   },
   {
    "duration": 40,
    "start_time": "2021-12-28T11:55:32.366Z"
   },
   {
    "duration": 7,
    "start_time": "2021-12-28T11:55:32.409Z"
   },
   {
    "duration": 53,
    "start_time": "2021-12-28T11:55:32.419Z"
   },
   {
    "duration": 18,
    "start_time": "2021-12-28T11:55:32.477Z"
   },
   {
    "duration": 11,
    "start_time": "2021-12-28T11:55:32.500Z"
   },
   {
    "duration": 381,
    "start_time": "2021-12-28T11:55:32.514Z"
   },
   {
    "duration": 27,
    "start_time": "2021-12-28T11:55:32.897Z"
   },
   {
    "duration": 39,
    "start_time": "2021-12-28T11:55:32.927Z"
   },
   {
    "duration": 444,
    "start_time": "2021-12-28T11:55:32.970Z"
   },
   {
    "duration": 23,
    "start_time": "2021-12-28T11:55:33.417Z"
   },
   {
    "duration": 443,
    "start_time": "2021-12-28T11:55:33.463Z"
   },
   {
    "duration": 576,
    "start_time": "2021-12-28T11:55:33.909Z"
   },
   {
    "duration": 469,
    "start_time": "2021-12-28T11:55:34.489Z"
   },
   {
    "duration": 499,
    "start_time": "2021-12-28T11:55:34.964Z"
   },
   {
    "duration": 247,
    "start_time": "2021-12-28T11:55:35.465Z"
   },
   {
    "duration": 314,
    "start_time": "2021-12-28T11:55:35.714Z"
   },
   {
    "duration": 556,
    "start_time": "2021-12-28T11:55:36.031Z"
   },
   {
    "duration": 7,
    "start_time": "2021-12-28T11:55:36.591Z"
   },
   {
    "duration": 55,
    "start_time": "2021-12-28T11:55:36.608Z"
   },
   {
    "duration": 18,
    "start_time": "2021-12-28T11:55:36.667Z"
   },
   {
    "duration": 18,
    "start_time": "2021-12-28T11:55:36.688Z"
   },
   {
    "duration": 73,
    "start_time": "2021-12-28T11:55:36.708Z"
   },
   {
    "duration": 47,
    "start_time": "2021-12-28T11:55:36.784Z"
   },
   {
    "duration": 31,
    "start_time": "2021-12-28T11:55:36.833Z"
   },
   {
    "duration": 20,
    "start_time": "2021-12-28T11:55:36.868Z"
   },
   {
    "duration": 15,
    "start_time": "2021-12-28T11:55:36.891Z"
   },
   {
    "duration": 581,
    "start_time": "2021-12-28T11:55:36.908Z"
   },
   {
    "duration": 16,
    "start_time": "2021-12-28T11:55:37.491Z"
   },
   {
    "duration": 14,
    "start_time": "2021-12-28T11:55:37.510Z"
   },
   {
    "duration": 35,
    "start_time": "2021-12-28T11:55:37.528Z"
   },
   {
    "duration": 244,
    "start_time": "2021-12-28T11:55:37.566Z"
   },
   {
    "duration": 244,
    "start_time": "2021-12-28T11:55:37.813Z"
   },
   {
    "duration": 69,
    "start_time": "2021-12-28T11:55:38.060Z"
   },
   {
    "duration": 287,
    "start_time": "2021-12-28T11:55:38.133Z"
   },
   {
    "duration": 8,
    "start_time": "2021-12-28T11:55:38.423Z"
   },
   {
    "duration": 30,
    "start_time": "2021-12-28T11:55:38.434Z"
   },
   {
    "duration": 7,
    "start_time": "2021-12-28T11:55:38.467Z"
   },
   {
    "duration": 12,
    "start_time": "2021-12-28T11:55:38.477Z"
   },
   {
    "duration": 16,
    "start_time": "2021-12-28T11:55:38.491Z"
   },
   {
    "duration": 55,
    "start_time": "2021-12-28T11:55:38.510Z"
   },
   {
    "duration": 35,
    "start_time": "2021-12-28T11:55:38.568Z"
   },
   {
    "duration": 508,
    "start_time": "2021-12-28T11:55:38.606Z"
   },
   {
    "duration": 7,
    "start_time": "2021-12-28T11:55:39.117Z"
   },
   {
    "duration": 47,
    "start_time": "2021-12-28T11:55:39.127Z"
   },
   {
    "duration": 345,
    "start_time": "2021-12-28T11:55:39.177Z"
   },
   {
    "duration": 11,
    "start_time": "2021-12-28T11:55:39.526Z"
   },
   {
    "duration": 24,
    "start_time": "2021-12-28T11:55:39.541Z"
   },
   {
    "duration": 19,
    "start_time": "2021-12-28T11:55:39.568Z"
   },
   {
    "duration": 412,
    "start_time": "2021-12-28T12:07:26.855Z"
   },
   {
    "duration": 1485,
    "start_time": "2021-12-28T12:07:55.653Z"
   },
   {
    "duration": 108,
    "start_time": "2021-12-28T12:07:57.141Z"
   },
   {
    "duration": 5,
    "start_time": "2021-12-28T12:07:57.252Z"
   },
   {
    "duration": 11,
    "start_time": "2021-12-28T12:07:57.260Z"
   },
   {
    "duration": 27,
    "start_time": "2021-12-28T12:07:57.274Z"
   },
   {
    "duration": 8,
    "start_time": "2021-12-28T12:07:57.303Z"
   },
   {
    "duration": 56,
    "start_time": "2021-12-28T12:07:57.314Z"
   },
   {
    "duration": 18,
    "start_time": "2021-12-28T12:07:57.375Z"
   },
   {
    "duration": 11,
    "start_time": "2021-12-28T12:07:57.396Z"
   },
   {
    "duration": 357,
    "start_time": "2021-12-28T12:07:57.410Z"
   },
   {
    "duration": 24,
    "start_time": "2021-12-28T12:07:57.769Z"
   },
   {
    "duration": 10,
    "start_time": "2021-12-28T12:07:57.796Z"
   },
   {
    "duration": 453,
    "start_time": "2021-12-28T12:07:57.809Z"
   },
   {
    "duration": 21,
    "start_time": "2021-12-28T12:07:58.265Z"
   },
   {
    "duration": 405,
    "start_time": "2021-12-28T12:07:58.288Z"
   },
   {
    "duration": 478,
    "start_time": "2021-12-28T12:07:58.695Z"
   },
   {
    "duration": 422,
    "start_time": "2021-12-28T12:07:59.176Z"
   },
   {
    "duration": 577,
    "start_time": "2021-12-28T12:07:59.601Z"
   },
   {
    "duration": 246,
    "start_time": "2021-12-28T12:08:00.180Z"
   },
   {
    "duration": 322,
    "start_time": "2021-12-28T12:08:00.429Z"
   },
   {
    "duration": 566,
    "start_time": "2021-12-28T12:08:00.754Z"
   },
   {
    "duration": 6,
    "start_time": "2021-12-28T12:08:01.323Z"
   },
   {
    "duration": 34,
    "start_time": "2021-12-28T12:08:01.334Z"
   },
   {
    "duration": 22,
    "start_time": "2021-12-28T12:08:01.372Z"
   },
   {
    "duration": 20,
    "start_time": "2021-12-28T12:08:01.396Z"
   },
   {
    "duration": 62,
    "start_time": "2021-12-28T12:08:01.419Z"
   },
   {
    "duration": 44,
    "start_time": "2021-12-28T12:08:01.484Z"
   },
   {
    "duration": 32,
    "start_time": "2021-12-28T12:08:01.531Z"
   },
   {
    "duration": 18,
    "start_time": "2021-12-28T12:08:01.565Z"
   },
   {
    "duration": 14,
    "start_time": "2021-12-28T12:08:01.586Z"
   },
   {
    "duration": 564,
    "start_time": "2021-12-28T12:08:01.603Z"
   },
   {
    "duration": 14,
    "start_time": "2021-12-28T12:08:02.170Z"
   },
   {
    "duration": 17,
    "start_time": "2021-12-28T12:08:02.187Z"
   },
   {
    "duration": 10,
    "start_time": "2021-12-28T12:08:02.207Z"
   },
   {
    "duration": 243,
    "start_time": "2021-12-28T12:08:02.220Z"
   },
   {
    "duration": 257,
    "start_time": "2021-12-28T12:08:02.466Z"
   },
   {
    "duration": 63,
    "start_time": "2021-12-28T12:08:02.726Z"
   },
   {
    "duration": 267,
    "start_time": "2021-12-28T12:08:02.791Z"
   },
   {
    "duration": 9,
    "start_time": "2021-12-28T12:08:03.061Z"
   },
   {
    "duration": 7,
    "start_time": "2021-12-28T12:08:03.073Z"
   },
   {
    "duration": 16,
    "start_time": "2021-12-28T12:08:03.083Z"
   },
   {
    "duration": 14,
    "start_time": "2021-12-28T12:08:03.102Z"
   },
   {
    "duration": 47,
    "start_time": "2021-12-28T12:08:03.119Z"
   },
   {
    "duration": 8,
    "start_time": "2021-12-28T12:08:03.168Z"
   },
   {
    "duration": 15,
    "start_time": "2021-12-28T12:08:03.178Z"
   },
   {
    "duration": 539,
    "start_time": "2021-12-28T12:08:03.196Z"
   },
   {
    "duration": 6,
    "start_time": "2021-12-28T12:08:03.739Z"
   },
   {
    "duration": 15,
    "start_time": "2021-12-28T12:08:03.763Z"
   },
   {
    "duration": 231,
    "start_time": "2021-12-28T12:08:03.781Z"
   },
   {
    "duration": 10,
    "start_time": "2021-12-28T12:08:04.015Z"
   },
   {
    "duration": 33,
    "start_time": "2021-12-28T12:08:04.029Z"
   },
   {
    "duration": 9,
    "start_time": "2021-12-28T12:08:04.065Z"
   },
   {
    "duration": 474,
    "start_time": "2021-12-28T12:08:04.077Z"
   },
   {
    "duration": 17,
    "start_time": "2021-12-28T12:08:04.553Z"
   },
   {
    "duration": 1459,
    "start_time": "2021-12-28T12:16:41.500Z"
   },
   {
    "duration": 106,
    "start_time": "2021-12-28T12:16:42.964Z"
   },
   {
    "duration": 8,
    "start_time": "2021-12-28T12:16:43.074Z"
   },
   {
    "duration": 11,
    "start_time": "2021-12-28T12:16:43.084Z"
   },
   {
    "duration": 28,
    "start_time": "2021-12-28T12:16:43.098Z"
   },
   {
    "duration": 42,
    "start_time": "2021-12-28T12:16:43.128Z"
   },
   {
    "duration": 19,
    "start_time": "2021-12-28T12:16:43.173Z"
   },
   {
    "duration": 17,
    "start_time": "2021-12-28T12:16:43.196Z"
   },
   {
    "duration": 9,
    "start_time": "2021-12-28T12:16:43.216Z"
   },
   {
    "duration": 373,
    "start_time": "2021-12-28T12:16:43.227Z"
   },
   {
    "duration": 24,
    "start_time": "2021-12-28T12:16:43.603Z"
   },
   {
    "duration": 41,
    "start_time": "2021-12-28T12:16:43.630Z"
   },
   {
    "duration": 418,
    "start_time": "2021-12-28T12:16:43.674Z"
   },
   {
    "duration": 21,
    "start_time": "2021-12-28T12:16:44.095Z"
   },
   {
    "duration": 418,
    "start_time": "2021-12-28T12:16:44.119Z"
   },
   {
    "duration": 523,
    "start_time": "2021-12-28T12:16:44.540Z"
   },
   {
    "duration": 413,
    "start_time": "2021-12-28T12:16:45.066Z"
   },
   {
    "duration": 500,
    "start_time": "2021-12-28T12:16:45.481Z"
   },
   {
    "duration": 228,
    "start_time": "2021-12-28T12:16:45.984Z"
   },
   {
    "duration": 316,
    "start_time": "2021-12-28T12:16:46.215Z"
   },
   {
    "duration": 548,
    "start_time": "2021-12-28T12:16:46.534Z"
   },
   {
    "duration": 6,
    "start_time": "2021-12-28T12:16:47.084Z"
   },
   {
    "duration": 16,
    "start_time": "2021-12-28T12:16:47.096Z"
   },
   {
    "duration": 53,
    "start_time": "2021-12-28T12:16:47.115Z"
   },
   {
    "duration": 20,
    "start_time": "2021-12-28T12:16:47.172Z"
   },
   {
    "duration": 33,
    "start_time": "2021-12-28T12:16:47.194Z"
   },
   {
    "duration": 74,
    "start_time": "2021-12-28T12:16:47.229Z"
   },
   {
    "duration": 9,
    "start_time": "2021-12-28T12:16:47.305Z"
   },
   {
    "duration": 60,
    "start_time": "2021-12-28T12:16:47.316Z"
   },
   {
    "duration": 14,
    "start_time": "2021-12-28T12:16:47.379Z"
   },
   {
    "duration": 481,
    "start_time": "2021-12-28T12:16:47.396Z"
   },
   {
    "duration": 16,
    "start_time": "2021-12-28T12:16:47.880Z"
   },
   {
    "duration": 17,
    "start_time": "2021-12-28T12:16:47.899Z"
   },
   {
    "duration": 9,
    "start_time": "2021-12-28T12:16:47.919Z"
   },
   {
    "duration": 217,
    "start_time": "2021-12-28T12:16:47.964Z"
   },
   {
    "duration": 244,
    "start_time": "2021-12-28T12:16:48.184Z"
   },
   {
    "duration": 60,
    "start_time": "2021-12-28T12:16:48.431Z"
   },
   {
    "duration": 249,
    "start_time": "2021-12-28T12:16:48.493Z"
   },
   {
    "duration": 19,
    "start_time": "2021-12-28T12:16:48.745Z"
   },
   {
    "duration": 10,
    "start_time": "2021-12-28T12:16:48.772Z"
   },
   {
    "duration": 14,
    "start_time": "2021-12-28T12:16:48.784Z"
   },
   {
    "duration": 15,
    "start_time": "2021-12-28T12:16:48.801Z"
   },
   {
    "duration": 51,
    "start_time": "2021-12-28T12:16:48.819Z"
   },
   {
    "duration": 11,
    "start_time": "2021-12-28T12:16:48.873Z"
   },
   {
    "duration": 16,
    "start_time": "2021-12-28T12:16:48.887Z"
   },
   {
    "duration": 640,
    "start_time": "2021-12-28T12:16:48.905Z"
   },
   {
    "duration": 7,
    "start_time": "2021-12-28T12:16:49.548Z"
   },
   {
    "duration": 15,
    "start_time": "2021-12-28T12:16:49.558Z"
   },
   {
    "duration": 251,
    "start_time": "2021-12-28T12:16:49.576Z"
   },
   {
    "duration": 7,
    "start_time": "2021-12-28T12:16:49.830Z"
   },
   {
    "duration": 34,
    "start_time": "2021-12-28T12:16:49.840Z"
   },
   {
    "duration": 17,
    "start_time": "2021-12-28T12:16:49.876Z"
   },
   {
    "duration": 1525,
    "start_time": "2021-12-28T13:02:53.595Z"
   },
   {
    "duration": 108,
    "start_time": "2021-12-28T13:02:55.123Z"
   },
   {
    "duration": 6,
    "start_time": "2021-12-28T13:02:55.234Z"
   },
   {
    "duration": 27,
    "start_time": "2021-12-28T13:02:55.243Z"
   },
   {
    "duration": 28,
    "start_time": "2021-12-28T13:02:55.273Z"
   },
   {
    "duration": 9,
    "start_time": "2021-12-28T13:02:55.304Z"
   },
   {
    "duration": 59,
    "start_time": "2021-12-28T13:02:55.315Z"
   },
   {
    "duration": 21,
    "start_time": "2021-12-28T13:02:55.378Z"
   },
   {
    "duration": 11,
    "start_time": "2021-12-28T13:02:55.402Z"
   },
   {
    "duration": 427,
    "start_time": "2021-12-28T13:02:55.415Z"
   },
   {
    "duration": 34,
    "start_time": "2021-12-28T13:02:55.844Z"
   },
   {
    "duration": 10,
    "start_time": "2021-12-28T13:02:55.881Z"
   },
   {
    "duration": 439,
    "start_time": "2021-12-28T13:02:55.894Z"
   },
   {
    "duration": 29,
    "start_time": "2021-12-28T13:02:56.336Z"
   },
   {
    "duration": 403,
    "start_time": "2021-12-28T13:02:56.368Z"
   },
   {
    "duration": 490,
    "start_time": "2021-12-28T13:02:56.775Z"
   },
   {
    "duration": 403,
    "start_time": "2021-12-28T13:02:57.268Z"
   },
   {
    "duration": 492,
    "start_time": "2021-12-28T13:02:57.674Z"
   },
   {
    "duration": 227,
    "start_time": "2021-12-28T13:02:58.168Z"
   },
   {
    "duration": 316,
    "start_time": "2021-12-28T13:02:58.397Z"
   },
   {
    "duration": 513,
    "start_time": "2021-12-28T13:02:58.716Z"
   },
   {
    "duration": 6,
    "start_time": "2021-12-28T13:02:59.232Z"
   },
   {
    "duration": 25,
    "start_time": "2021-12-28T13:02:59.263Z"
   },
   {
    "duration": 18,
    "start_time": "2021-12-28T13:02:59.293Z"
   },
   {
    "duration": 56,
    "start_time": "2021-12-28T13:02:59.314Z"
   },
   {
    "duration": 33,
    "start_time": "2021-12-28T13:02:59.373Z"
   },
   {
    "duration": 66,
    "start_time": "2021-12-28T13:02:59.408Z"
   },
   {
    "duration": 9,
    "start_time": "2021-12-28T13:02:59.477Z"
   },
   {
    "duration": 23,
    "start_time": "2021-12-28T13:02:59.489Z"
   },
   {
    "duration": 53,
    "start_time": "2021-12-28T13:02:59.515Z"
   },
   {
    "duration": 484,
    "start_time": "2021-12-28T13:02:59.572Z"
   },
   {
    "duration": 13,
    "start_time": "2021-12-28T13:03:00.062Z"
   },
   {
    "duration": 14,
    "start_time": "2021-12-28T13:03:00.078Z"
   },
   {
    "duration": 16,
    "start_time": "2021-12-28T13:03:00.095Z"
   },
   {
    "duration": 217,
    "start_time": "2021-12-28T13:03:00.113Z"
   },
   {
    "duration": 246,
    "start_time": "2021-12-28T13:03:00.333Z"
   },
   {
    "duration": 52,
    "start_time": "2021-12-28T13:03:00.581Z"
   },
   {
    "duration": 275,
    "start_time": "2021-12-28T13:03:00.635Z"
   },
   {
    "duration": 8,
    "start_time": "2021-12-28T13:03:00.913Z"
   },
   {
    "duration": 19,
    "start_time": "2021-12-28T13:03:00.924Z"
   },
   {
    "duration": 22,
    "start_time": "2021-12-28T13:03:00.946Z"
   },
   {
    "duration": 20,
    "start_time": "2021-12-28T13:03:00.971Z"
   },
   {
    "duration": 14,
    "start_time": "2021-12-28T13:03:00.994Z"
   },
   {
    "duration": 10,
    "start_time": "2021-12-28T13:03:01.011Z"
   },
   {
    "duration": 44,
    "start_time": "2021-12-28T13:03:01.023Z"
   },
   {
    "duration": 470,
    "start_time": "2021-12-28T13:03:01.070Z"
   },
   {
    "duration": 5,
    "start_time": "2021-12-28T13:03:01.542Z"
   },
   {
    "duration": 23,
    "start_time": "2021-12-28T13:03:01.549Z"
   },
   {
    "duration": 219,
    "start_time": "2021-12-28T13:03:01.575Z"
   },
   {
    "duration": 8,
    "start_time": "2021-12-28T13:03:01.796Z"
   },
   {
    "duration": 15,
    "start_time": "2021-12-28T13:03:01.806Z"
   },
   {
    "duration": 39,
    "start_time": "2021-12-28T13:03:01.824Z"
   },
   {
    "duration": 1070,
    "start_time": "2021-12-28T19:52:47.489Z"
   },
   {
    "duration": 101,
    "start_time": "2021-12-28T19:52:48.560Z"
   },
   {
    "duration": 4,
    "start_time": "2021-12-28T19:52:48.665Z"
   },
   {
    "duration": 11,
    "start_time": "2021-12-28T19:52:48.671Z"
   },
   {
    "duration": 17,
    "start_time": "2021-12-28T19:52:48.683Z"
   },
   {
    "duration": 5,
    "start_time": "2021-12-28T19:52:48.701Z"
   },
   {
    "duration": 40,
    "start_time": "2021-12-28T19:52:48.708Z"
   },
   {
    "duration": 12,
    "start_time": "2021-12-28T19:52:48.750Z"
   },
   {
    "duration": 6,
    "start_time": "2021-12-28T19:52:48.764Z"
   },
   {
    "duration": 202,
    "start_time": "2021-12-28T19:52:48.772Z"
   },
   {
    "duration": 14,
    "start_time": "2021-12-28T19:52:48.976Z"
   },
   {
    "duration": 9,
    "start_time": "2021-12-28T19:52:48.992Z"
   },
   {
    "duration": 251,
    "start_time": "2021-12-28T19:52:49.002Z"
   },
   {
    "duration": 14,
    "start_time": "2021-12-28T19:52:49.255Z"
   },
   {
    "duration": 345,
    "start_time": "2021-12-28T19:52:49.271Z"
   },
   {
    "duration": 453,
    "start_time": "2021-12-28T19:52:49.617Z"
   },
   {
    "duration": 333,
    "start_time": "2021-12-28T19:52:50.072Z"
   },
   {
    "duration": 460,
    "start_time": "2021-12-28T19:52:50.407Z"
   },
   {
    "duration": 122,
    "start_time": "2021-12-28T19:52:50.868Z"
   },
   {
    "duration": 186,
    "start_time": "2021-12-28T19:52:50.992Z"
   },
   {
    "duration": 398,
    "start_time": "2021-12-28T19:52:51.180Z"
   },
   {
    "duration": 3,
    "start_time": "2021-12-28T19:52:51.582Z"
   },
   {
    "duration": 12,
    "start_time": "2021-12-28T19:52:51.587Z"
   },
   {
    "duration": 11,
    "start_time": "2021-12-28T19:52:51.600Z"
   },
   {
    "duration": 35,
    "start_time": "2021-12-28T19:52:51.613Z"
   },
   {
    "duration": 26,
    "start_time": "2021-12-28T19:52:51.650Z"
   },
   {
    "duration": 39,
    "start_time": "2021-12-28T19:52:51.678Z"
   },
   {
    "duration": 26,
    "start_time": "2021-12-28T19:52:51.719Z"
   },
   {
    "duration": 18,
    "start_time": "2021-12-28T19:52:51.747Z"
   },
   {
    "duration": 10,
    "start_time": "2021-12-28T19:52:51.767Z"
   },
   {
    "duration": 397,
    "start_time": "2021-12-28T19:52:51.779Z"
   },
   {
    "duration": 10,
    "start_time": "2021-12-28T19:52:52.177Z"
   },
   {
    "duration": 14,
    "start_time": "2021-12-28T19:52:52.188Z"
   },
   {
    "duration": 5,
    "start_time": "2021-12-28T19:52:52.203Z"
   },
   {
    "duration": 131,
    "start_time": "2021-12-28T19:52:52.210Z"
   },
   {
    "duration": 137,
    "start_time": "2021-12-28T19:52:52.343Z"
   },
   {
    "duration": 29,
    "start_time": "2021-12-28T19:52:52.482Z"
   },
   {
    "duration": 120,
    "start_time": "2021-12-28T19:52:52.512Z"
   },
   {
    "duration": 11,
    "start_time": "2021-12-28T19:52:52.634Z"
   },
   {
    "duration": 21,
    "start_time": "2021-12-28T19:52:52.647Z"
   },
   {
    "duration": 6,
    "start_time": "2021-12-28T19:52:52.670Z"
   },
   {
    "duration": 8,
    "start_time": "2021-12-28T19:52:52.677Z"
   },
   {
    "duration": 9,
    "start_time": "2021-12-28T19:52:52.686Z"
   },
   {
    "duration": 5,
    "start_time": "2021-12-28T19:52:52.697Z"
   },
   {
    "duration": 47,
    "start_time": "2021-12-28T19:52:52.703Z"
   },
   {
    "duration": 340,
    "start_time": "2021-12-28T19:52:52.751Z"
   },
   {
    "duration": 4,
    "start_time": "2021-12-28T19:52:53.093Z"
   },
   {
    "duration": 10,
    "start_time": "2021-12-28T19:52:53.099Z"
   },
   {
    "duration": 100,
    "start_time": "2021-12-28T19:52:53.124Z"
   },
   {
    "duration": 6,
    "start_time": "2021-12-28T19:52:53.226Z"
   },
   {
    "duration": 18,
    "start_time": "2021-12-28T19:52:53.233Z"
   },
   {
    "duration": 19,
    "start_time": "2021-12-28T19:52:53.253Z"
   },
   {
    "duration": 426,
    "start_time": "2021-12-29T10:17:40.699Z"
   },
   {
    "duration": 2165,
    "start_time": "2021-12-29T10:17:55.421Z"
   },
   {
    "duration": 2216,
    "start_time": "2021-12-29T10:17:57.588Z"
   },
   {
    "duration": -2313,
    "start_time": "2021-12-29T10:18:02.122Z"
   },
   {
    "duration": -2329,
    "start_time": "2021-12-29T10:18:02.140Z"
   },
   {
    "duration": -2346,
    "start_time": "2021-12-29T10:18:02.158Z"
   },
   {
    "duration": -2377,
    "start_time": "2021-12-29T10:18:02.191Z"
   },
   {
    "duration": -2393,
    "start_time": "2021-12-29T10:18:02.208Z"
   },
   {
    "duration": -2406,
    "start_time": "2021-12-29T10:18:02.223Z"
   },
   {
    "duration": -2427,
    "start_time": "2021-12-29T10:18:02.246Z"
   },
   {
    "duration": -2452,
    "start_time": "2021-12-29T10:18:02.273Z"
   },
   {
    "duration": -2491,
    "start_time": "2021-12-29T10:18:02.314Z"
   },
   {
    "duration": -2503,
    "start_time": "2021-12-29T10:18:02.328Z"
   },
   {
    "duration": -2517,
    "start_time": "2021-12-29T10:18:02.345Z"
   },
   {
    "duration": -2531,
    "start_time": "2021-12-29T10:18:02.361Z"
   },
   {
    "duration": -2544,
    "start_time": "2021-12-29T10:18:02.376Z"
   },
   {
    "duration": -2557,
    "start_time": "2021-12-29T10:18:02.391Z"
   },
   {
    "duration": -2594,
    "start_time": "2021-12-29T10:18:02.430Z"
   },
   {
    "duration": -2608,
    "start_time": "2021-12-29T10:18:02.446Z"
   },
   {
    "duration": -2622,
    "start_time": "2021-12-29T10:18:02.462Z"
   },
   {
    "duration": -2634,
    "start_time": "2021-12-29T10:18:02.476Z"
   },
   {
    "duration": -2646,
    "start_time": "2021-12-29T10:18:02.492Z"
   },
   {
    "duration": -2639,
    "start_time": "2021-12-29T10:18:02.506Z"
   },
   {
    "duration": -2653,
    "start_time": "2021-12-29T10:18:02.521Z"
   },
   {
    "duration": -2686,
    "start_time": "2021-12-29T10:18:02.556Z"
   },
   {
    "duration": -2706,
    "start_time": "2021-12-29T10:18:02.578Z"
   },
   {
    "duration": -2719,
    "start_time": "2021-12-29T10:18:02.592Z"
   },
   {
    "duration": -2734,
    "start_time": "2021-12-29T10:18:02.608Z"
   },
   {
    "duration": -2746,
    "start_time": "2021-12-29T10:18:02.622Z"
   },
   {
    "duration": -2760,
    "start_time": "2021-12-29T10:18:02.637Z"
   },
   {
    "duration": -2789,
    "start_time": "2021-12-29T10:18:02.668Z"
   },
   {
    "duration": -2804,
    "start_time": "2021-12-29T10:18:02.684Z"
   },
   {
    "duration": -2845,
    "start_time": "2021-12-29T10:18:02.726Z"
   },
   {
    "duration": -2860,
    "start_time": "2021-12-29T10:18:02.742Z"
   },
   {
    "duration": -2872,
    "start_time": "2021-12-29T10:18:02.756Z"
   },
   {
    "duration": -2906,
    "start_time": "2021-12-29T10:18:02.791Z"
   },
   {
    "duration": -2919,
    "start_time": "2021-12-29T10:18:02.805Z"
   },
   {
    "duration": -2933,
    "start_time": "2021-12-29T10:18:02.821Z"
   },
   {
    "duration": -2945,
    "start_time": "2021-12-29T10:18:02.834Z"
   },
   {
    "duration": -2959,
    "start_time": "2021-12-29T10:18:02.849Z"
   },
   {
    "duration": -2971,
    "start_time": "2021-12-29T10:18:02.863Z"
   },
   {
    "duration": -2985,
    "start_time": "2021-12-29T10:18:02.878Z"
   },
   {
    "duration": -3016,
    "start_time": "2021-12-29T10:18:02.910Z"
   },
   {
    "duration": -3030,
    "start_time": "2021-12-29T10:18:02.926Z"
   },
   {
    "duration": -3044,
    "start_time": "2021-12-29T10:18:02.942Z"
   },
   {
    "duration": -3058,
    "start_time": "2021-12-29T10:18:02.957Z"
   },
   {
    "duration": -3072,
    "start_time": "2021-12-29T10:18:02.972Z"
   },
   {
    "duration": -3085,
    "start_time": "2021-12-29T10:18:02.987Z"
   },
   {
    "duration": -3097,
    "start_time": "2021-12-29T10:18:03.000Z"
   },
   {
    "duration": -3130,
    "start_time": "2021-12-29T10:18:03.034Z"
   },
   {
    "duration": -3085,
    "start_time": "2021-12-29T10:18:03.051Z"
   },
   {
    "duration": -3099,
    "start_time": "2021-12-29T10:18:03.067Z"
   },
   {
    "duration": -3112,
    "start_time": "2021-12-29T10:18:03.082Z"
   },
   {
    "duration": 1530,
    "start_time": "2021-12-29T10:20:30.148Z"
   },
   {
    "duration": 108,
    "start_time": "2021-12-29T10:20:31.681Z"
   },
   {
    "duration": 6,
    "start_time": "2021-12-29T10:20:31.793Z"
   },
   {
    "duration": 22,
    "start_time": "2021-12-29T10:20:31.803Z"
   },
   {
    "duration": 60,
    "start_time": "2021-12-29T10:20:31.828Z"
   },
   {
    "duration": 19,
    "start_time": "2021-12-29T10:20:31.891Z"
   },
   {
    "duration": 27,
    "start_time": "2021-12-29T10:20:31.913Z"
   },
   {
    "duration": 37,
    "start_time": "2021-12-29T10:20:31.944Z"
   },
   {
    "duration": 9,
    "start_time": "2021-12-29T10:20:31.984Z"
   },
   {
    "duration": 354,
    "start_time": "2021-12-29T10:20:31.996Z"
   },
   {
    "duration": 43,
    "start_time": "2021-12-29T10:20:32.353Z"
   },
   {
    "duration": 12,
    "start_time": "2021-12-29T10:20:32.399Z"
   },
   {
    "duration": 460,
    "start_time": "2021-12-29T10:20:32.414Z"
   },
   {
    "duration": 22,
    "start_time": "2021-12-29T10:20:32.877Z"
   },
   {
    "duration": 431,
    "start_time": "2021-12-29T10:20:32.901Z"
   },
   {
    "duration": 558,
    "start_time": "2021-12-29T10:20:33.335Z"
   },
   {
    "duration": 428,
    "start_time": "2021-12-29T10:20:33.896Z"
   },
   {
    "duration": 551,
    "start_time": "2021-12-29T10:20:34.327Z"
   },
   {
    "duration": 231,
    "start_time": "2021-12-29T10:20:34.880Z"
   },
   {
    "duration": 323,
    "start_time": "2021-12-29T10:20:35.114Z"
   },
   {
    "duration": 525,
    "start_time": "2021-12-29T10:20:35.439Z"
   },
   {
    "duration": 5,
    "start_time": "2021-12-29T10:20:35.967Z"
   },
   {
    "duration": 21,
    "start_time": "2021-12-29T10:20:35.978Z"
   },
   {
    "duration": 21,
    "start_time": "2021-12-29T10:20:36.002Z"
   },
   {
    "duration": 54,
    "start_time": "2021-12-29T10:20:36.026Z"
   },
   {
    "duration": 34,
    "start_time": "2021-12-29T10:20:36.082Z"
   },
   {
    "duration": 79,
    "start_time": "2021-12-29T10:20:36.119Z"
   },
   {
    "duration": 11,
    "start_time": "2021-12-29T10:20:36.200Z"
   },
   {
    "duration": 19,
    "start_time": "2021-12-29T10:20:36.214Z"
   },
   {
    "duration": 47,
    "start_time": "2021-12-29T10:20:36.236Z"
   },
   {
    "duration": 482,
    "start_time": "2021-12-29T10:20:36.285Z"
   },
   {
    "duration": 15,
    "start_time": "2021-12-29T10:20:36.769Z"
   },
   {
    "duration": 16,
    "start_time": "2021-12-29T10:20:36.787Z"
   },
   {
    "duration": 5,
    "start_time": "2021-12-29T10:20:36.806Z"
   },
   {
    "duration": 238,
    "start_time": "2021-12-29T10:20:36.814Z"
   },
   {
    "duration": 253,
    "start_time": "2021-12-29T10:20:37.055Z"
   },
   {
    "duration": 71,
    "start_time": "2021-12-29T10:20:37.310Z"
   },
   {
    "duration": 251,
    "start_time": "2021-12-29T10:20:37.384Z"
   },
   {
    "duration": 8,
    "start_time": "2021-12-29T10:20:37.637Z"
   },
   {
    "duration": 14,
    "start_time": "2021-12-29T10:20:37.667Z"
   },
   {
    "duration": 6,
    "start_time": "2021-12-29T10:20:37.683Z"
   },
   {
    "duration": 14,
    "start_time": "2021-12-29T10:20:37.691Z"
   },
   {
    "duration": 14,
    "start_time": "2021-12-29T10:20:37.708Z"
   },
   {
    "duration": 44,
    "start_time": "2021-12-29T10:20:37.724Z"
   },
   {
    "duration": 14,
    "start_time": "2021-12-29T10:20:37.771Z"
   },
   {
    "duration": 483,
    "start_time": "2021-12-29T10:20:37.787Z"
   },
   {
    "duration": 6,
    "start_time": "2021-12-29T10:20:38.272Z"
   },
   {
    "duration": 17,
    "start_time": "2021-12-29T10:20:38.281Z"
   },
   {
    "duration": 207,
    "start_time": "2021-12-29T10:20:38.301Z"
   },
   {
    "duration": 8,
    "start_time": "2021-12-29T10:20:38.511Z"
   },
   {
    "duration": 13,
    "start_time": "2021-12-29T10:20:38.521Z"
   },
   {
    "duration": 39,
    "start_time": "2021-12-29T10:20:38.537Z"
   },
   {
    "duration": 2030,
    "start_time": "2021-12-29T10:44:58.092Z"
   },
   {
    "duration": -2257,
    "start_time": "2021-12-29T10:45:02.384Z"
   },
   {
    "duration": -2283,
    "start_time": "2021-12-29T10:45:02.412Z"
   },
   {
    "duration": -2300,
    "start_time": "2021-12-29T10:45:02.430Z"
   },
   {
    "duration": -2337,
    "start_time": "2021-12-29T10:45:02.469Z"
   },
   {
    "duration": -2351,
    "start_time": "2021-12-29T10:45:02.485Z"
   },
   {
    "duration": -2364,
    "start_time": "2021-12-29T10:45:02.500Z"
   },
   {
    "duration": -2377,
    "start_time": "2021-12-29T10:45:02.514Z"
   },
   {
    "duration": -2395,
    "start_time": "2021-12-29T10:45:02.534Z"
   },
   {
    "duration": -2413,
    "start_time": "2021-12-29T10:45:02.553Z"
   },
   {
    "duration": -2446,
    "start_time": "2021-12-29T10:45:02.588Z"
   },
   {
    "duration": -2460,
    "start_time": "2021-12-29T10:45:02.603Z"
   },
   {
    "duration": -2477,
    "start_time": "2021-12-29T10:45:02.622Z"
   },
   {
    "duration": -2499,
    "start_time": "2021-12-29T10:45:02.645Z"
   },
   {
    "duration": -2518,
    "start_time": "2021-12-29T10:45:02.665Z"
   },
   {
    "duration": -2538,
    "start_time": "2021-12-29T10:45:02.687Z"
   },
   {
    "duration": -2601,
    "start_time": "2021-12-29T10:45:02.751Z"
   },
   {
    "duration": -2617,
    "start_time": "2021-12-29T10:45:02.769Z"
   },
   {
    "duration": -2633,
    "start_time": "2021-12-29T10:45:02.786Z"
   },
   {
    "duration": -2646,
    "start_time": "2021-12-29T10:45:02.801Z"
   },
   {
    "duration": -2661,
    "start_time": "2021-12-29T10:45:02.817Z"
   },
   {
    "duration": -2673,
    "start_time": "2021-12-29T10:45:02.830Z"
   },
   {
    "duration": -2705,
    "start_time": "2021-12-29T10:45:02.864Z"
   },
   {
    "duration": -2718,
    "start_time": "2021-12-29T10:45:02.879Z"
   },
   {
    "duration": -2727,
    "start_time": "2021-12-29T10:45:02.893Z"
   },
   {
    "duration": -2739,
    "start_time": "2021-12-29T10:45:02.906Z"
   },
   {
    "duration": -2752,
    "start_time": "2021-12-29T10:45:02.920Z"
   },
   {
    "duration": -2764,
    "start_time": "2021-12-29T10:45:02.934Z"
   },
   {
    "duration": -2780,
    "start_time": "2021-12-29T10:45:02.952Z"
   },
   {
    "duration": -2819,
    "start_time": "2021-12-29T10:45:02.992Z"
   },
   {
    "duration": -2864,
    "start_time": "2021-12-29T10:45:03.039Z"
   },
   {
    "duration": -2878,
    "start_time": "2021-12-29T10:45:03.054Z"
   },
   {
    "duration": -2897,
    "start_time": "2021-12-29T10:45:03.074Z"
   },
   {
    "duration": -2963,
    "start_time": "2021-12-29T10:45:03.142Z"
   },
   {
    "duration": -3010,
    "start_time": "2021-12-29T10:45:03.190Z"
   },
   {
    "duration": -3024,
    "start_time": "2021-12-29T10:45:03.206Z"
   },
   {
    "duration": -3061,
    "start_time": "2021-12-29T10:45:03.245Z"
   },
   {
    "duration": -3075,
    "start_time": "2021-12-29T10:45:03.260Z"
   },
   {
    "duration": -3091,
    "start_time": "2021-12-29T10:45:03.278Z"
   },
   {
    "duration": -3106,
    "start_time": "2021-12-29T10:45:03.295Z"
   },
   {
    "duration": -3125,
    "start_time": "2021-12-29T10:45:03.315Z"
   },
   {
    "duration": -3154,
    "start_time": "2021-12-29T10:45:03.346Z"
   },
   {
    "duration": -3190,
    "start_time": "2021-12-29T10:45:03.383Z"
   },
   {
    "duration": -3205,
    "start_time": "2021-12-29T10:45:03.400Z"
   },
   {
    "duration": -3221,
    "start_time": "2021-12-29T10:45:03.418Z"
   },
   {
    "duration": -3235,
    "start_time": "2021-12-29T10:45:03.433Z"
   },
   {
    "duration": -3250,
    "start_time": "2021-12-29T10:45:03.449Z"
   },
   {
    "duration": -3264,
    "start_time": "2021-12-29T10:45:03.465Z"
   },
   {
    "duration": -3319,
    "start_time": "2021-12-29T10:45:03.521Z"
   },
   {
    "duration": -3273,
    "start_time": "2021-12-29T10:45:03.540Z"
   },
   {
    "duration": -3289,
    "start_time": "2021-12-29T10:45:03.557Z"
   },
   {
    "duration": -3303,
    "start_time": "2021-12-29T10:45:03.573Z"
   },
   {
    "duration": 2051,
    "start_time": "2021-12-29T10:45:39.119Z"
   },
   {
    "duration": -2199,
    "start_time": "2021-12-29T10:45:43.375Z"
   },
   {
    "duration": -2217,
    "start_time": "2021-12-29T10:45:43.394Z"
   },
   {
    "duration": -2231,
    "start_time": "2021-12-29T10:45:43.410Z"
   },
   {
    "duration": -2244,
    "start_time": "2021-12-29T10:45:43.424Z"
   },
   {
    "duration": -2284,
    "start_time": "2021-12-29T10:45:43.465Z"
   },
   {
    "duration": -2303,
    "start_time": "2021-12-29T10:45:43.486Z"
   },
   {
    "duration": -2318,
    "start_time": "2021-12-29T10:45:43.502Z"
   },
   {
    "duration": -2336,
    "start_time": "2021-12-29T10:45:43.521Z"
   },
   {
    "duration": -2362,
    "start_time": "2021-12-29T10:45:43.549Z"
   },
   {
    "duration": -2399,
    "start_time": "2021-12-29T10:45:43.587Z"
   },
   {
    "duration": -2415,
    "start_time": "2021-12-29T10:45:43.604Z"
   },
   {
    "duration": -2428,
    "start_time": "2021-12-29T10:45:43.619Z"
   },
   {
    "duration": -2444,
    "start_time": "2021-12-29T10:45:43.636Z"
   },
   {
    "duration": -2457,
    "start_time": "2021-12-29T10:45:43.650Z"
   },
   {
    "duration": -2470,
    "start_time": "2021-12-29T10:45:43.664Z"
   },
   {
    "duration": -2482,
    "start_time": "2021-12-29T10:45:43.677Z"
   },
   {
    "duration": -2524,
    "start_time": "2021-12-29T10:45:43.721Z"
   },
   {
    "duration": -2538,
    "start_time": "2021-12-29T10:45:43.736Z"
   },
   {
    "duration": -2551,
    "start_time": "2021-12-29T10:45:43.750Z"
   },
   {
    "duration": -2562,
    "start_time": "2021-12-29T10:45:43.762Z"
   },
   {
    "duration": -2575,
    "start_time": "2021-12-29T10:45:43.777Z"
   },
   {
    "duration": -2586,
    "start_time": "2021-12-29T10:45:43.789Z"
   },
   {
    "duration": -2598,
    "start_time": "2021-12-29T10:45:43.803Z"
   },
   {
    "duration": -2636,
    "start_time": "2021-12-29T10:45:43.842Z"
   },
   {
    "duration": -2650,
    "start_time": "2021-12-29T10:45:43.857Z"
   },
   {
    "duration": -2662,
    "start_time": "2021-12-29T10:45:43.870Z"
   },
   {
    "duration": -2675,
    "start_time": "2021-12-29T10:45:43.885Z"
   },
   {
    "duration": -2687,
    "start_time": "2021-12-29T10:45:43.898Z"
   },
   {
    "duration": -2700,
    "start_time": "2021-12-29T10:45:43.912Z"
   },
   {
    "duration": -2803,
    "start_time": "2021-12-29T10:45:44.016Z"
   },
   {
    "duration": -2764,
    "start_time": "2021-12-29T10:45:44.031Z"
   },
   {
    "duration": -2777,
    "start_time": "2021-12-29T10:45:44.045Z"
   },
   {
    "duration": -2788,
    "start_time": "2021-12-29T10:45:44.058Z"
   },
   {
    "duration": -2801,
    "start_time": "2021-12-29T10:45:44.072Z"
   },
   {
    "duration": -2813,
    "start_time": "2021-12-29T10:45:44.085Z"
   },
   {
    "duration": -2825,
    "start_time": "2021-12-29T10:45:44.099Z"
   },
   {
    "duration": -2857,
    "start_time": "2021-12-29T10:45:44.132Z"
   },
   {
    "duration": -2870,
    "start_time": "2021-12-29T10:45:44.146Z"
   },
   {
    "duration": -2883,
    "start_time": "2021-12-29T10:45:44.160Z"
   },
   {
    "duration": -2894,
    "start_time": "2021-12-29T10:45:44.173Z"
   },
   {
    "duration": -2940,
    "start_time": "2021-12-29T10:45:44.220Z"
   },
   {
    "duration": -2970,
    "start_time": "2021-12-29T10:45:44.252Z"
   },
   {
    "duration": -2985,
    "start_time": "2021-12-29T10:45:44.268Z"
   },
   {
    "duration": -2998,
    "start_time": "2021-12-29T10:45:44.282Z"
   },
   {
    "duration": -3013,
    "start_time": "2021-12-29T10:45:44.299Z"
   },
   {
    "duration": -3028,
    "start_time": "2021-12-29T10:45:44.315Z"
   },
   {
    "duration": -3042,
    "start_time": "2021-12-29T10:45:44.330Z"
   },
   {
    "duration": -3053,
    "start_time": "2021-12-29T10:45:44.343Z"
   },
   {
    "duration": -3092,
    "start_time": "2021-12-29T10:45:44.383Z"
   },
   {
    "duration": -3115,
    "start_time": "2021-12-29T10:45:44.408Z"
   },
   {
    "duration": -3129,
    "start_time": "2021-12-29T10:45:44.423Z"
   },
   {
    "duration": 5,
    "start_time": "2021-12-29T10:48:17.366Z"
   },
   {
    "duration": 1491,
    "start_time": "2021-12-29T10:48:33.397Z"
   },
   {
    "duration": 133,
    "start_time": "2021-12-29T10:48:34.891Z"
   },
   {
    "duration": 5,
    "start_time": "2021-12-29T10:48:35.027Z"
   },
   {
    "duration": 36,
    "start_time": "2021-12-29T10:48:35.035Z"
   },
   {
    "duration": 29,
    "start_time": "2021-12-29T10:48:35.073Z"
   },
   {
    "duration": 7,
    "start_time": "2021-12-29T10:48:35.105Z"
   },
   {
    "duration": 22,
    "start_time": "2021-12-29T10:48:35.114Z"
   },
   {
    "duration": 26,
    "start_time": "2021-12-29T10:48:35.170Z"
   },
   {
    "duration": 11,
    "start_time": "2021-12-29T10:48:35.200Z"
   },
   {
    "duration": 370,
    "start_time": "2021-12-29T10:48:35.214Z"
   },
   {
    "duration": 26,
    "start_time": "2021-12-29T10:48:35.587Z"
   },
   {
    "duration": 11,
    "start_time": "2021-12-29T10:48:35.617Z"
   },
   {
    "duration": 464,
    "start_time": "2021-12-29T10:48:35.630Z"
   },
   {
    "duration": 20,
    "start_time": "2021-12-29T10:48:36.097Z"
   },
   {
    "duration": 409,
    "start_time": "2021-12-29T10:48:36.119Z"
   },
   {
    "duration": 557,
    "start_time": "2021-12-29T10:48:36.531Z"
   },
   {
    "duration": 422,
    "start_time": "2021-12-29T10:48:37.091Z"
   },
   {
    "duration": 542,
    "start_time": "2021-12-29T10:48:37.515Z"
   },
   {
    "duration": 207,
    "start_time": "2021-12-29T10:48:38.067Z"
   },
   {
    "duration": 314,
    "start_time": "2021-12-29T10:48:38.277Z"
   },
   {
    "duration": 526,
    "start_time": "2021-12-29T10:48:38.595Z"
   },
   {
    "duration": 6,
    "start_time": "2021-12-29T10:48:39.124Z"
   },
   {
    "duration": 34,
    "start_time": "2021-12-29T10:48:39.135Z"
   },
   {
    "duration": 17,
    "start_time": "2021-12-29T10:48:39.173Z"
   },
   {
    "duration": 17,
    "start_time": "2021-12-29T10:48:39.193Z"
   },
   {
    "duration": 72,
    "start_time": "2021-12-29T10:48:39.213Z"
   },
   {
    "duration": 48,
    "start_time": "2021-12-29T10:48:39.288Z"
   },
   {
    "duration": 33,
    "start_time": "2021-12-29T10:48:39.340Z"
   },
   {
    "duration": 20,
    "start_time": "2021-12-29T10:48:39.376Z"
   },
   {
    "duration": 17,
    "start_time": "2021-12-29T10:48:39.399Z"
   },
   {
    "duration": 539,
    "start_time": "2021-12-29T10:48:39.418Z"
   },
   {
    "duration": 14,
    "start_time": "2021-12-29T10:48:39.966Z"
   },
   {
    "duration": 19,
    "start_time": "2021-12-29T10:48:39.984Z"
   },
   {
    "duration": 16,
    "start_time": "2021-12-29T10:48:40.006Z"
   },
   {
    "duration": 227,
    "start_time": "2021-12-29T10:48:40.025Z"
   },
   {
    "duration": 256,
    "start_time": "2021-12-29T10:48:40.255Z"
   },
   {
    "duration": 67,
    "start_time": "2021-12-29T10:48:40.514Z"
   },
   {
    "duration": 240,
    "start_time": "2021-12-29T10:48:40.584Z"
   },
   {
    "duration": 10,
    "start_time": "2021-12-29T10:48:40.826Z"
   },
   {
    "duration": 31,
    "start_time": "2021-12-29T10:48:40.839Z"
   },
   {
    "duration": 8,
    "start_time": "2021-12-29T10:48:40.874Z"
   },
   {
    "duration": 14,
    "start_time": "2021-12-29T10:48:40.885Z"
   },
   {
    "duration": 65,
    "start_time": "2021-12-29T10:48:40.902Z"
   },
   {
    "duration": 13,
    "start_time": "2021-12-29T10:48:40.972Z"
   },
   {
    "duration": 18,
    "start_time": "2021-12-29T10:48:40.988Z"
   },
   {
    "duration": 551,
    "start_time": "2021-12-29T10:48:41.009Z"
   },
   {
    "duration": 10,
    "start_time": "2021-12-29T10:48:41.563Z"
   },
   {
    "duration": 17,
    "start_time": "2021-12-29T10:48:41.577Z"
   },
   {
    "duration": 228,
    "start_time": "2021-12-29T10:48:41.597Z"
   },
   {
    "duration": 8,
    "start_time": "2021-12-29T10:48:41.827Z"
   },
   {
    "duration": 32,
    "start_time": "2021-12-29T10:48:41.837Z"
   },
   {
    "duration": 14,
    "start_time": "2021-12-29T10:48:41.872Z"
   },
   {
    "duration": 513,
    "start_time": "2021-12-29T10:53:50.983Z"
   },
   {
    "duration": 323,
    "start_time": "2021-12-29T10:55:03.998Z"
   },
   {
    "duration": 5,
    "start_time": "2021-12-29T10:55:19.138Z"
   },
   {
    "duration": 5,
    "start_time": "2021-12-29T10:55:38.536Z"
   },
   {
    "duration": 5,
    "start_time": "2021-12-29T10:55:51.052Z"
   },
   {
    "duration": 120,
    "start_time": "2021-12-29T10:56:01.408Z"
   },
   {
    "duration": 6,
    "start_time": "2021-12-29T10:56:23.188Z"
   },
   {
    "duration": 98,
    "start_time": "2021-12-29T10:56:24.631Z"
   },
   {
    "duration": 6,
    "start_time": "2021-12-29T10:56:42.424Z"
   },
   {
    "duration": 122,
    "start_time": "2021-12-29T10:56:44.056Z"
   },
   {
    "duration": 6,
    "start_time": "2021-12-29T10:56:54.128Z"
   },
   {
    "duration": 112,
    "start_time": "2021-12-29T10:56:55.546Z"
   },
   {
    "duration": 5,
    "start_time": "2021-12-29T10:57:24.914Z"
   },
   {
    "duration": 92,
    "start_time": "2021-12-29T10:57:25.942Z"
   },
   {
    "duration": 1458,
    "start_time": "2021-12-29T10:58:56.814Z"
   },
   {
    "duration": 103,
    "start_time": "2021-12-29T10:58:58.275Z"
   },
   {
    "duration": 6,
    "start_time": "2021-12-29T10:58:58.381Z"
   },
   {
    "duration": 21,
    "start_time": "2021-12-29T10:58:58.390Z"
   },
   {
    "duration": 54,
    "start_time": "2021-12-29T10:58:58.413Z"
   },
   {
    "duration": 11,
    "start_time": "2021-12-29T10:58:58.471Z"
   },
   {
    "duration": 22,
    "start_time": "2021-12-29T10:58:58.484Z"
   },
   {
    "duration": 19,
    "start_time": "2021-12-29T10:58:58.510Z"
   },
   {
    "duration": 8,
    "start_time": "2021-12-29T10:58:58.570Z"
   },
   {
    "duration": 352,
    "start_time": "2021-12-29T10:58:58.580Z"
   },
   {
    "duration": 38,
    "start_time": "2021-12-29T10:58:58.934Z"
   },
   {
    "duration": 11,
    "start_time": "2021-12-29T10:58:58.975Z"
   },
   {
    "duration": 427,
    "start_time": "2021-12-29T10:58:58.988Z"
   },
   {
    "duration": 22,
    "start_time": "2021-12-29T10:58:59.417Z"
   },
   {
    "duration": 514,
    "start_time": "2021-12-29T10:58:59.441Z"
   },
   {
    "duration": 542,
    "start_time": "2021-12-29T10:58:59.957Z"
   },
   {
    "duration": 419,
    "start_time": "2021-12-29T10:59:00.501Z"
   },
   {
    "duration": 532,
    "start_time": "2021-12-29T10:59:00.922Z"
   },
   {
    "duration": 221,
    "start_time": "2021-12-29T10:59:01.456Z"
   },
   {
    "duration": 318,
    "start_time": "2021-12-29T10:59:01.680Z"
   },
   {
    "duration": 530,
    "start_time": "2021-12-29T10:59:02.001Z"
   },
   {
    "duration": 5,
    "start_time": "2021-12-29T10:59:02.534Z"
   },
   {
    "duration": 35,
    "start_time": "2021-12-29T10:59:02.545Z"
   },
   {
    "duration": 25,
    "start_time": "2021-12-29T10:59:02.583Z"
   },
   {
    "duration": 23,
    "start_time": "2021-12-29T10:59:02.611Z"
   },
   {
    "duration": 60,
    "start_time": "2021-12-29T10:59:02.637Z"
   },
   {
    "duration": 45,
    "start_time": "2021-12-29T10:59:02.699Z"
   },
   {
    "duration": 27,
    "start_time": "2021-12-29T10:59:02.747Z"
   },
   {
    "duration": 35,
    "start_time": "2021-12-29T10:59:02.776Z"
   },
   {
    "duration": 17,
    "start_time": "2021-12-29T10:59:02.813Z"
   },
   {
    "duration": 510,
    "start_time": "2021-12-29T10:59:02.832Z"
   },
   {
    "duration": 24,
    "start_time": "2021-12-29T10:59:03.344Z"
   },
   {
    "duration": 15,
    "start_time": "2021-12-29T10:59:03.371Z"
   },
   {
    "duration": 10,
    "start_time": "2021-12-29T10:59:03.388Z"
   },
   {
    "duration": 215,
    "start_time": "2021-12-29T10:59:03.400Z"
   },
   {
    "duration": 238,
    "start_time": "2021-12-29T10:59:03.617Z"
   },
   {
    "duration": 53,
    "start_time": "2021-12-29T10:59:03.858Z"
   },
   {
    "duration": 228,
    "start_time": "2021-12-29T10:59:03.913Z"
   },
   {
    "duration": 8,
    "start_time": "2021-12-29T10:59:04.144Z"
   },
   {
    "duration": 16,
    "start_time": "2021-12-29T10:59:04.155Z"
   },
   {
    "duration": 8,
    "start_time": "2021-12-29T10:59:04.175Z"
   },
   {
    "duration": 13,
    "start_time": "2021-12-29T10:59:04.186Z"
   },
   {
    "duration": 15,
    "start_time": "2021-12-29T10:59:04.202Z"
   },
   {
    "duration": 7,
    "start_time": "2021-12-29T10:59:04.268Z"
   },
   {
    "duration": 15,
    "start_time": "2021-12-29T10:59:04.277Z"
   },
   {
    "duration": 462,
    "start_time": "2021-12-29T10:59:04.294Z"
   },
   {
    "duration": 11,
    "start_time": "2021-12-29T10:59:04.759Z"
   },
   {
    "duration": 16,
    "start_time": "2021-12-29T10:59:04.772Z"
   },
   {
    "duration": 227,
    "start_time": "2021-12-29T10:59:04.791Z"
   },
   {
    "duration": 7,
    "start_time": "2021-12-29T10:59:05.021Z"
   },
   {
    "duration": 13,
    "start_time": "2021-12-29T10:59:05.031Z"
   },
   {
    "duration": 17,
    "start_time": "2021-12-29T10:59:05.068Z"
   },
   {
    "duration": 1196,
    "start_time": "2021-12-29T12:00:36.492Z"
   },
   {
    "duration": 310,
    "start_time": "2021-12-29T12:04:24.340Z"
   },
   {
    "duration": 382,
    "start_time": "2021-12-29T12:06:33.527Z"
   },
   {
    "duration": 273,
    "start_time": "2021-12-29T12:07:11.379Z"
   },
   {
    "duration": 22,
    "start_time": "2021-12-29T12:14:47.655Z"
   },
   {
    "duration": 1545,
    "start_time": "2021-12-29T12:15:33.643Z"
   },
   {
    "duration": 100,
    "start_time": "2021-12-29T12:15:35.190Z"
   },
   {
    "duration": 6,
    "start_time": "2021-12-29T12:15:35.293Z"
   },
   {
    "duration": 13,
    "start_time": "2021-12-29T12:15:35.303Z"
   },
   {
    "duration": 71,
    "start_time": "2021-12-29T12:15:35.318Z"
   },
   {
    "duration": 8,
    "start_time": "2021-12-29T12:15:35.392Z"
   },
   {
    "duration": 608,
    "start_time": "2021-12-29T12:15:35.403Z"
   },
   {
    "duration": 20,
    "start_time": "2021-12-29T12:15:36.015Z"
   },
   {
    "duration": 33,
    "start_time": "2021-12-29T12:15:36.038Z"
   },
   {
    "duration": 355,
    "start_time": "2021-12-29T12:15:36.073Z"
   },
   {
    "duration": 38,
    "start_time": "2021-12-29T12:15:36.431Z"
   },
   {
    "duration": 11,
    "start_time": "2021-12-29T12:15:36.472Z"
   },
   {
    "duration": 436,
    "start_time": "2021-12-29T12:15:36.485Z"
   },
   {
    "duration": 21,
    "start_time": "2021-12-29T12:15:36.923Z"
   },
   {
    "duration": 428,
    "start_time": "2021-12-29T12:15:36.946Z"
   },
   {
    "duration": 553,
    "start_time": "2021-12-29T12:15:37.376Z"
   },
   {
    "duration": 488,
    "start_time": "2021-12-29T12:15:37.931Z"
   },
   {
    "duration": 524,
    "start_time": "2021-12-29T12:15:38.421Z"
   },
   {
    "duration": 224,
    "start_time": "2021-12-29T12:15:38.948Z"
   },
   {
    "duration": 312,
    "start_time": "2021-12-29T12:15:39.175Z"
   },
   {
    "duration": 441,
    "start_time": "2021-12-29T12:15:39.490Z"
   },
   {
    "duration": 7,
    "start_time": "2021-12-29T12:15:39.933Z"
   },
   {
    "duration": 31,
    "start_time": "2021-12-29T12:15:39.946Z"
   },
   {
    "duration": 17,
    "start_time": "2021-12-29T12:15:39.981Z"
   },
   {
    "duration": 25,
    "start_time": "2021-12-29T12:15:40.001Z"
   },
   {
    "duration": 64,
    "start_time": "2021-12-29T12:15:40.029Z"
   },
   {
    "duration": 47,
    "start_time": "2021-12-29T12:15:40.096Z"
   },
   {
    "duration": 28,
    "start_time": "2021-12-29T12:15:40.145Z"
   },
   {
    "duration": 18,
    "start_time": "2021-12-29T12:15:40.175Z"
   },
   {
    "duration": 25,
    "start_time": "2021-12-29T12:15:40.196Z"
   },
   {
    "duration": 519,
    "start_time": "2021-12-29T12:15:40.224Z"
   },
   {
    "duration": 23,
    "start_time": "2021-12-29T12:15:40.746Z"
   },
   {
    "duration": 18,
    "start_time": "2021-12-29T12:15:40.772Z"
   },
   {
    "duration": 13,
    "start_time": "2021-12-29T12:15:40.792Z"
   },
   {
    "duration": 237,
    "start_time": "2021-12-29T12:15:40.808Z"
   },
   {
    "duration": 246,
    "start_time": "2021-12-29T12:15:41.048Z"
   },
   {
    "duration": 48,
    "start_time": "2021-12-29T12:15:41.297Z"
   },
   {
    "duration": 236,
    "start_time": "2021-12-29T12:15:41.347Z"
   },
   {
    "duration": 8,
    "start_time": "2021-12-29T12:15:41.586Z"
   },
   {
    "duration": 12,
    "start_time": "2021-12-29T12:15:41.597Z"
   },
   {
    "duration": 13,
    "start_time": "2021-12-29T12:15:41.612Z"
   },
   {
    "duration": 42,
    "start_time": "2021-12-29T12:15:41.628Z"
   },
   {
    "duration": 14,
    "start_time": "2021-12-29T12:15:41.672Z"
   },
   {
    "duration": 8,
    "start_time": "2021-12-29T12:15:41.689Z"
   },
   {
    "duration": 14,
    "start_time": "2021-12-29T12:15:41.699Z"
   },
   {
    "duration": 512,
    "start_time": "2021-12-29T12:15:41.716Z"
   },
   {
    "duration": 5,
    "start_time": "2021-12-29T12:15:42.231Z"
   },
   {
    "duration": 35,
    "start_time": "2021-12-29T12:15:42.239Z"
   },
   {
    "duration": 252,
    "start_time": "2021-12-29T12:15:42.276Z"
   },
   {
    "duration": 8,
    "start_time": "2021-12-29T12:15:42.531Z"
   },
   {
    "duration": 29,
    "start_time": "2021-12-29T12:15:42.541Z"
   },
   {
    "duration": 15,
    "start_time": "2021-12-29T12:15:42.572Z"
   },
   {
    "duration": 15,
    "start_time": "2021-12-29T12:19:40.026Z"
   },
   {
    "duration": 9,
    "start_time": "2021-12-29T12:20:20.641Z"
   },
   {
    "duration": 695,
    "start_time": "2021-12-29T12:25:18.260Z"
   },
   {
    "duration": 10,
    "start_time": "2021-12-29T12:25:35.415Z"
   },
   {
    "duration": 18,
    "start_time": "2021-12-29T12:26:08.370Z"
   },
   {
    "duration": 1659,
    "start_time": "2021-12-29T12:26:24.300Z"
   },
   {
    "duration": 104,
    "start_time": "2021-12-29T12:26:25.962Z"
   },
   {
    "duration": 6,
    "start_time": "2021-12-29T12:26:26.069Z"
   },
   {
    "duration": 15,
    "start_time": "2021-12-29T12:26:26.078Z"
   },
   {
    "duration": 30,
    "start_time": "2021-12-29T12:26:26.095Z"
   },
   {
    "duration": 42,
    "start_time": "2021-12-29T12:26:26.128Z"
   },
   {
    "duration": 34,
    "start_time": "2021-12-29T12:26:26.173Z"
   },
   {
    "duration": 18,
    "start_time": "2021-12-29T12:26:26.211Z"
   },
   {
    "duration": 18,
    "start_time": "2021-12-29T12:26:26.233Z"
   },
   {
    "duration": 340,
    "start_time": "2021-12-29T12:26:26.254Z"
   },
   {
    "duration": 26,
    "start_time": "2021-12-29T12:26:26.597Z"
   },
   {
    "duration": 45,
    "start_time": "2021-12-29T12:26:26.626Z"
   },
   {
    "duration": 433,
    "start_time": "2021-12-29T12:26:26.673Z"
   },
   {
    "duration": 23,
    "start_time": "2021-12-29T12:26:27.108Z"
   },
   {
    "duration": 416,
    "start_time": "2021-12-29T12:26:27.133Z"
   },
   {
    "duration": 525,
    "start_time": "2021-12-29T12:26:27.552Z"
   },
   {
    "duration": 425,
    "start_time": "2021-12-29T12:26:28.080Z"
   },
   {
    "duration": 524,
    "start_time": "2021-12-29T12:26:28.508Z"
   },
   {
    "duration": 250,
    "start_time": "2021-12-29T12:26:29.035Z"
   },
   {
    "duration": 346,
    "start_time": "2021-12-29T12:26:29.288Z"
   },
   {
    "duration": 546,
    "start_time": "2021-12-29T12:26:29.637Z"
   },
   {
    "duration": 8,
    "start_time": "2021-12-29T12:26:30.186Z"
   },
   {
    "duration": 44,
    "start_time": "2021-12-29T12:26:30.202Z"
   },
   {
    "duration": 67,
    "start_time": "2021-12-29T12:26:30.250Z"
   },
   {
    "duration": 36,
    "start_time": "2021-12-29T12:26:30.320Z"
   },
   {
    "duration": 43,
    "start_time": "2021-12-29T12:26:30.359Z"
   },
   {
    "duration": 50,
    "start_time": "2021-12-29T12:26:30.405Z"
   },
   {
    "duration": 19,
    "start_time": "2021-12-29T12:26:30.458Z"
   },
   {
    "duration": 43,
    "start_time": "2021-12-29T12:26:30.480Z"
   },
   {
    "duration": 20,
    "start_time": "2021-12-29T12:26:30.525Z"
   },
   {
    "duration": 648,
    "start_time": "2021-12-29T12:26:30.548Z"
   },
   {
    "duration": 14,
    "start_time": "2021-12-29T12:26:31.198Z"
   },
   {
    "duration": 28,
    "start_time": "2021-12-29T12:26:31.215Z"
   },
   {
    "duration": 26,
    "start_time": "2021-12-29T12:26:31.245Z"
   },
   {
    "duration": 267,
    "start_time": "2021-12-29T12:26:31.274Z"
   },
   {
    "duration": 255,
    "start_time": "2021-12-29T12:26:31.545Z"
   },
   {
    "duration": 69,
    "start_time": "2021-12-29T12:26:31.803Z"
   },
   {
    "duration": 238,
    "start_time": "2021-12-29T12:26:31.874Z"
   },
   {
    "duration": 9,
    "start_time": "2021-12-29T12:26:32.115Z"
   },
   {
    "duration": 12,
    "start_time": "2021-12-29T12:26:32.126Z"
   },
   {
    "duration": 26,
    "start_time": "2021-12-29T12:26:32.141Z"
   },
   {
    "duration": 11,
    "start_time": "2021-12-29T12:26:32.170Z"
   },
   {
    "duration": 16,
    "start_time": "2021-12-29T12:26:32.183Z"
   },
   {
    "duration": 12,
    "start_time": "2021-12-29T12:26:32.201Z"
   },
   {
    "duration": 58,
    "start_time": "2021-12-29T12:26:32.215Z"
   },
   {
    "duration": 481,
    "start_time": "2021-12-29T12:26:32.276Z"
   },
   {
    "duration": 7,
    "start_time": "2021-12-29T12:26:32.768Z"
   },
   {
    "duration": 14,
    "start_time": "2021-12-29T12:26:32.777Z"
   },
   {
    "duration": 215,
    "start_time": "2021-12-29T12:26:32.793Z"
   },
   {
    "duration": 9,
    "start_time": "2021-12-29T12:26:33.010Z"
   },
   {
    "duration": 15,
    "start_time": "2021-12-29T12:26:33.021Z"
   },
   {
    "duration": 39,
    "start_time": "2021-12-29T12:26:33.039Z"
   },
   {
    "duration": 663,
    "start_time": "2021-12-29T12:29:00.232Z"
   },
   {
    "duration": 75,
    "start_time": "2021-12-29T12:29:40.422Z"
   },
   {
    "duration": 1581,
    "start_time": "2021-12-29T12:30:03.133Z"
   },
   {
    "duration": 824,
    "start_time": "2021-12-29T12:30:04.717Z"
   },
   {
    "duration": 24,
    "start_time": "2021-12-29T12:30:05.545Z"
   },
   {
    "duration": 11,
    "start_time": "2021-12-29T12:30:05.573Z"
   },
   {
    "duration": 29,
    "start_time": "2021-12-29T12:30:05.587Z"
   },
   {
    "duration": 8,
    "start_time": "2021-12-29T12:30:05.618Z"
   },
   {
    "duration": 838,
    "start_time": "2021-12-29T12:30:05.629Z"
   },
   {
    "duration": 28,
    "start_time": "2021-12-29T12:30:06.471Z"
   },
   {
    "duration": 9,
    "start_time": "2021-12-29T12:30:06.503Z"
   },
   {
    "duration": 398,
    "start_time": "2021-12-29T12:30:06.515Z"
   },
   {
    "duration": 27,
    "start_time": "2021-12-29T12:30:06.916Z"
   },
   {
    "duration": 29,
    "start_time": "2021-12-29T12:30:06.946Z"
   },
   {
    "duration": 627,
    "start_time": "2021-12-29T12:30:06.978Z"
   },
   {
    "duration": 28,
    "start_time": "2021-12-29T12:30:07.608Z"
   },
   {
    "duration": 432,
    "start_time": "2021-12-29T12:30:07.639Z"
   },
   {
    "duration": 715,
    "start_time": "2021-12-29T12:30:08.073Z"
   },
   {
    "duration": 730,
    "start_time": "2021-12-29T12:30:08.792Z"
   },
   {
    "duration": 663,
    "start_time": "2021-12-29T12:30:09.525Z"
   },
   {
    "duration": 279,
    "start_time": "2021-12-29T12:30:10.192Z"
   },
   {
    "duration": 321,
    "start_time": "2021-12-29T12:30:10.474Z"
   },
   {
    "duration": 435,
    "start_time": "2021-12-29T12:30:10.797Z"
   },
   {
    "duration": 7,
    "start_time": "2021-12-29T12:30:11.234Z"
   },
   {
    "duration": 18,
    "start_time": "2021-12-29T12:30:11.266Z"
   },
   {
    "duration": 19,
    "start_time": "2021-12-29T12:30:11.288Z"
   },
   {
    "duration": 17,
    "start_time": "2021-12-29T12:30:11.310Z"
   },
   {
    "duration": 58,
    "start_time": "2021-12-29T12:30:11.330Z"
   },
   {
    "duration": 89,
    "start_time": "2021-12-29T12:30:11.392Z"
   },
   {
    "duration": 8,
    "start_time": "2021-12-29T12:30:11.483Z"
   },
   {
    "duration": 26,
    "start_time": "2021-12-29T12:30:11.493Z"
   },
   {
    "duration": 14,
    "start_time": "2021-12-29T12:30:11.521Z"
   },
   {
    "duration": 496,
    "start_time": "2021-12-29T12:30:11.567Z"
   },
   {
    "duration": 15,
    "start_time": "2021-12-29T12:30:12.067Z"
   },
   {
    "duration": 27,
    "start_time": "2021-12-29T12:30:12.085Z"
   },
   {
    "duration": 7,
    "start_time": "2021-12-29T12:30:12.115Z"
   },
   {
    "duration": 311,
    "start_time": "2021-12-29T12:30:12.126Z"
   },
   {
    "duration": 390,
    "start_time": "2021-12-29T12:30:12.441Z"
   },
   {
    "duration": 65,
    "start_time": "2021-12-29T12:30:12.835Z"
   },
   {
    "duration": 243,
    "start_time": "2021-12-29T12:30:12.903Z"
   },
   {
    "duration": 17,
    "start_time": "2021-12-29T12:30:13.149Z"
   },
   {
    "duration": 8,
    "start_time": "2021-12-29T12:30:13.169Z"
   },
   {
    "duration": 12,
    "start_time": "2021-12-29T12:30:13.180Z"
   },
   {
    "duration": 15,
    "start_time": "2021-12-29T12:30:13.195Z"
   },
   {
    "duration": 61,
    "start_time": "2021-12-29T12:30:13.213Z"
   },
   {
    "duration": 8,
    "start_time": "2021-12-29T12:30:13.277Z"
   },
   {
    "duration": 21,
    "start_time": "2021-12-29T12:30:13.287Z"
   },
   {
    "duration": 567,
    "start_time": "2021-12-29T12:30:13.311Z"
   },
   {
    "duration": 8,
    "start_time": "2021-12-29T12:30:13.882Z"
   },
   {
    "duration": 18,
    "start_time": "2021-12-29T12:30:13.895Z"
   },
   {
    "duration": 236,
    "start_time": "2021-12-29T12:30:13.915Z"
   },
   {
    "duration": 14,
    "start_time": "2021-12-29T12:30:14.154Z"
   },
   {
    "duration": 16,
    "start_time": "2021-12-29T12:30:14.171Z"
   },
   {
    "duration": 15,
    "start_time": "2021-12-29T12:30:14.190Z"
   },
   {
    "duration": 41,
    "start_time": "2021-12-29T12:31:24.778Z"
   },
   {
    "duration": 1600,
    "start_time": "2021-12-29T12:31:45.977Z"
   },
   {
    "duration": 108,
    "start_time": "2021-12-29T12:31:47.580Z"
   },
   {
    "duration": 7,
    "start_time": "2021-12-29T12:31:47.692Z"
   },
   {
    "duration": 17,
    "start_time": "2021-12-29T12:31:47.703Z"
   },
   {
    "duration": 67,
    "start_time": "2021-12-29T12:31:47.723Z"
   },
   {
    "duration": 10,
    "start_time": "2021-12-29T12:31:47.793Z"
   },
   {
    "duration": 693,
    "start_time": "2021-12-29T12:31:47.806Z"
   },
   {
    "duration": 27,
    "start_time": "2021-12-29T12:31:48.506Z"
   },
   {
    "duration": 31,
    "start_time": "2021-12-29T12:31:48.536Z"
   },
   {
    "duration": 345,
    "start_time": "2021-12-29T12:31:48.570Z"
   },
   {
    "duration": 48,
    "start_time": "2021-12-29T12:31:48.919Z"
   },
   {
    "duration": 11,
    "start_time": "2021-12-29T12:31:48.970Z"
   },
   {
    "duration": 434,
    "start_time": "2021-12-29T12:31:48.984Z"
   },
   {
    "duration": 21,
    "start_time": "2021-12-29T12:31:49.420Z"
   },
   {
    "duration": 411,
    "start_time": "2021-12-29T12:31:49.443Z"
   },
   {
    "duration": 559,
    "start_time": "2021-12-29T12:31:49.857Z"
   },
   {
    "duration": 499,
    "start_time": "2021-12-29T12:31:50.419Z"
   },
   {
    "duration": 563,
    "start_time": "2021-12-29T12:31:50.920Z"
   },
   {
    "duration": 234,
    "start_time": "2021-12-29T12:31:51.486Z"
   },
   {
    "duration": 331,
    "start_time": "2021-12-29T12:31:51.722Z"
   },
   {
    "duration": 564,
    "start_time": "2021-12-29T12:31:52.056Z"
   },
   {
    "duration": 6,
    "start_time": "2021-12-29T12:31:52.623Z"
   },
   {
    "duration": 38,
    "start_time": "2021-12-29T12:31:52.635Z"
   },
   {
    "duration": 19,
    "start_time": "2021-12-29T12:31:52.677Z"
   },
   {
    "duration": 20,
    "start_time": "2021-12-29T12:31:52.699Z"
   },
   {
    "duration": 70,
    "start_time": "2021-12-29T12:31:52.722Z"
   },
   {
    "duration": 50,
    "start_time": "2021-12-29T12:31:52.795Z"
   },
   {
    "duration": 26,
    "start_time": "2021-12-29T12:31:52.847Z"
   },
   {
    "duration": 19,
    "start_time": "2021-12-29T12:31:52.876Z"
   },
   {
    "duration": 17,
    "start_time": "2021-12-29T12:31:52.898Z"
   },
   {
    "duration": 529,
    "start_time": "2021-12-29T12:31:52.919Z"
   },
   {
    "duration": 22,
    "start_time": "2021-12-29T12:31:53.451Z"
   },
   {
    "duration": 16,
    "start_time": "2021-12-29T12:31:53.475Z"
   },
   {
    "duration": 7,
    "start_time": "2021-12-29T12:31:53.494Z"
   },
   {
    "duration": 241,
    "start_time": "2021-12-29T12:31:53.505Z"
   },
   {
    "duration": 265,
    "start_time": "2021-12-29T12:31:53.749Z"
   },
   {
    "duration": 66,
    "start_time": "2021-12-29T12:31:54.016Z"
   },
   {
    "duration": 317,
    "start_time": "2021-12-29T12:31:54.085Z"
   },
   {
    "duration": 10,
    "start_time": "2021-12-29T12:31:54.405Z"
   },
   {
    "duration": 9,
    "start_time": "2021-12-29T12:31:54.418Z"
   },
   {
    "duration": 43,
    "start_time": "2021-12-29T12:31:54.429Z"
   },
   {
    "duration": 15,
    "start_time": "2021-12-29T12:31:54.475Z"
   },
   {
    "duration": 19,
    "start_time": "2021-12-29T12:31:54.492Z"
   },
   {
    "duration": 52,
    "start_time": "2021-12-29T12:31:54.515Z"
   },
   {
    "duration": 16,
    "start_time": "2021-12-29T12:31:54.570Z"
   },
   {
    "duration": 482,
    "start_time": "2021-12-29T12:31:54.589Z"
   },
   {
    "duration": 6,
    "start_time": "2021-12-29T12:31:55.075Z"
   },
   {
    "duration": 19,
    "start_time": "2021-12-29T12:31:55.084Z"
   },
   {
    "duration": 249,
    "start_time": "2021-12-29T12:31:55.106Z"
   },
   {
    "duration": 11,
    "start_time": "2021-12-29T12:31:55.357Z"
   },
   {
    "duration": 15,
    "start_time": "2021-12-29T12:31:55.370Z"
   },
   {
    "duration": 19,
    "start_time": "2021-12-29T12:31:55.387Z"
   },
   {
    "duration": 45,
    "start_time": "2021-12-29T12:33:23.513Z"
   },
   {
    "duration": 42,
    "start_time": "2021-12-29T12:50:41.310Z"
   },
   {
    "duration": 42,
    "start_time": "2021-12-29T12:51:09.622Z"
   },
   {
    "duration": 1773,
    "start_time": "2021-12-29T12:51:19.948Z"
   },
   {
    "duration": 114,
    "start_time": "2021-12-29T12:51:21.724Z"
   },
   {
    "duration": 6,
    "start_time": "2021-12-29T12:51:21.842Z"
   },
   {
    "duration": 11,
    "start_time": "2021-12-29T12:51:21.867Z"
   },
   {
    "duration": 30,
    "start_time": "2021-12-29T12:51:21.881Z"
   },
   {
    "duration": 9,
    "start_time": "2021-12-29T12:51:21.914Z"
   },
   {
    "duration": 672,
    "start_time": "2021-12-29T12:51:21.925Z"
   },
   {
    "duration": 46,
    "start_time": "2021-12-29T12:51:22.603Z"
   },
   {
    "duration": 21,
    "start_time": "2021-12-29T12:51:22.652Z"
   },
   {
    "duration": 357,
    "start_time": "2021-12-29T12:51:22.676Z"
   },
   {
    "duration": 40,
    "start_time": "2021-12-29T12:51:23.035Z"
   },
   {
    "duration": 16,
    "start_time": "2021-12-29T12:51:23.077Z"
   },
   {
    "duration": 488,
    "start_time": "2021-12-29T12:51:23.095Z"
   },
   {
    "duration": 34,
    "start_time": "2021-12-29T12:51:23.586Z"
   },
   {
    "duration": 435,
    "start_time": "2021-12-29T12:51:23.623Z"
   },
   {
    "duration": 550,
    "start_time": "2021-12-29T12:51:24.066Z"
   },
   {
    "duration": 521,
    "start_time": "2021-12-29T12:51:24.619Z"
   },
   {
    "duration": 551,
    "start_time": "2021-12-29T12:51:25.143Z"
   },
   {
    "duration": 242,
    "start_time": "2021-12-29T12:51:25.696Z"
   },
   {
    "duration": 319,
    "start_time": "2021-12-29T12:51:25.940Z"
   },
   {
    "duration": 448,
    "start_time": "2021-12-29T12:51:26.261Z"
   },
   {
    "duration": 6,
    "start_time": "2021-12-29T12:51:26.712Z"
   },
   {
    "duration": 21,
    "start_time": "2021-12-29T12:51:26.723Z"
   },
   {
    "duration": 35,
    "start_time": "2021-12-29T12:51:26.747Z"
   },
   {
    "duration": 19,
    "start_time": "2021-12-29T12:51:26.785Z"
   },
   {
    "duration": 63,
    "start_time": "2021-12-29T12:51:26.806Z"
   },
   {
    "duration": 48,
    "start_time": "2021-12-29T12:51:26.871Z"
   },
   {
    "duration": 8,
    "start_time": "2021-12-29T12:51:26.921Z"
   },
   {
    "duration": 46,
    "start_time": "2021-12-29T12:51:26.932Z"
   },
   {
    "duration": 15,
    "start_time": "2021-12-29T12:51:26.981Z"
   },
   {
    "duration": 474,
    "start_time": "2021-12-29T12:51:26.998Z"
   },
   {
    "duration": 14,
    "start_time": "2021-12-29T12:51:27.475Z"
   },
   {
    "duration": 16,
    "start_time": "2021-12-29T12:51:27.492Z"
   },
   {
    "duration": 7,
    "start_time": "2021-12-29T12:51:27.511Z"
   },
   {
    "duration": 230,
    "start_time": "2021-12-29T12:51:27.521Z"
   },
   {
    "duration": 253,
    "start_time": "2021-12-29T12:51:27.753Z"
   },
   {
    "duration": 68,
    "start_time": "2021-12-29T12:51:28.009Z"
   },
   {
    "duration": 248,
    "start_time": "2021-12-29T12:51:28.079Z"
   },
   {
    "duration": 11,
    "start_time": "2021-12-29T12:51:28.330Z"
   },
   {
    "duration": 23,
    "start_time": "2021-12-29T12:51:28.344Z"
   },
   {
    "duration": 9,
    "start_time": "2021-12-29T12:51:28.371Z"
   },
   {
    "duration": 15,
    "start_time": "2021-12-29T12:51:28.383Z"
   },
   {
    "duration": 16,
    "start_time": "2021-12-29T12:51:28.401Z"
   },
   {
    "duration": 7,
    "start_time": "2021-12-29T12:51:28.469Z"
   },
   {
    "duration": 18,
    "start_time": "2021-12-29T12:51:28.478Z"
   },
   {
    "duration": 535,
    "start_time": "2021-12-29T12:51:28.499Z"
   },
   {
    "duration": 7,
    "start_time": "2021-12-29T12:51:29.037Z"
   },
   {
    "duration": 33,
    "start_time": "2021-12-29T12:51:29.047Z"
   },
   {
    "duration": 229,
    "start_time": "2021-12-29T12:51:29.083Z"
   },
   {
    "duration": 10,
    "start_time": "2021-12-29T12:51:29.315Z"
   },
   {
    "duration": 14,
    "start_time": "2021-12-29T12:51:29.328Z"
   },
   {
    "duration": 15,
    "start_time": "2021-12-29T12:51:29.368Z"
   },
   {
    "duration": 74,
    "start_time": "2021-12-29T12:52:52.148Z"
   },
   {
    "duration": 73,
    "start_time": "2021-12-29T12:53:06.691Z"
   },
   {
    "duration": 79,
    "start_time": "2021-12-29T12:54:25.097Z"
   },
   {
    "duration": 1598,
    "start_time": "2021-12-29T12:56:02.069Z"
   },
   {
    "duration": 106,
    "start_time": "2021-12-29T12:56:03.670Z"
   },
   {
    "duration": 7,
    "start_time": "2021-12-29T12:56:03.780Z"
   },
   {
    "duration": 15,
    "start_time": "2021-12-29T12:56:03.789Z"
   },
   {
    "duration": 61,
    "start_time": "2021-12-29T12:56:03.806Z"
   },
   {
    "duration": 8,
    "start_time": "2021-12-29T12:56:03.870Z"
   },
   {
    "duration": 704,
    "start_time": "2021-12-29T12:56:03.881Z"
   },
   {
    "duration": 86,
    "start_time": "2021-12-29T12:56:04.588Z"
   },
   {
    "duration": 9,
    "start_time": "2021-12-29T12:56:04.679Z"
   },
   {
    "duration": 367,
    "start_time": "2021-12-29T12:56:04.691Z"
   },
   {
    "duration": 29,
    "start_time": "2021-12-29T12:56:05.060Z"
   },
   {
    "duration": 11,
    "start_time": "2021-12-29T12:56:05.092Z"
   },
   {
    "duration": 448,
    "start_time": "2021-12-29T12:56:05.105Z"
   },
   {
    "duration": 25,
    "start_time": "2021-12-29T12:56:05.556Z"
   },
   {
    "duration": 409,
    "start_time": "2021-12-29T12:56:05.584Z"
   },
   {
    "duration": 515,
    "start_time": "2021-12-29T12:56:05.996Z"
   },
   {
    "duration": 495,
    "start_time": "2021-12-29T12:56:06.513Z"
   },
   {
    "duration": 531,
    "start_time": "2021-12-29T12:56:07.010Z"
   },
   {
    "duration": 221,
    "start_time": "2021-12-29T12:56:07.544Z"
   },
   {
    "duration": 306,
    "start_time": "2021-12-29T12:56:07.768Z"
   },
   {
    "duration": 443,
    "start_time": "2021-12-29T12:56:08.076Z"
   },
   {
    "duration": 7,
    "start_time": "2021-12-29T12:56:08.521Z"
   },
   {
    "duration": 43,
    "start_time": "2021-12-29T12:56:08.531Z"
   },
   {
    "duration": 17,
    "start_time": "2021-12-29T12:56:08.576Z"
   },
   {
    "duration": 16,
    "start_time": "2021-12-29T12:56:08.596Z"
   },
   {
    "duration": 65,
    "start_time": "2021-12-29T12:56:08.615Z"
   },
   {
    "duration": 47,
    "start_time": "2021-12-29T12:56:08.686Z"
   },
   {
    "duration": 9,
    "start_time": "2021-12-29T12:56:08.736Z"
   },
   {
    "duration": 18,
    "start_time": "2021-12-29T12:56:08.768Z"
   },
   {
    "duration": 14,
    "start_time": "2021-12-29T12:56:08.789Z"
   },
   {
    "duration": 530,
    "start_time": "2021-12-29T12:56:08.806Z"
   },
   {
    "duration": 14,
    "start_time": "2021-12-29T12:56:09.338Z"
   },
   {
    "duration": 25,
    "start_time": "2021-12-29T12:56:09.355Z"
   },
   {
    "duration": 9,
    "start_time": "2021-12-29T12:56:09.383Z"
   },
   {
    "duration": 233,
    "start_time": "2021-12-29T12:56:09.394Z"
   },
   {
    "duration": 260,
    "start_time": "2021-12-29T12:56:09.630Z"
   },
   {
    "duration": 53,
    "start_time": "2021-12-29T12:56:09.893Z"
   },
   {
    "duration": 246,
    "start_time": "2021-12-29T12:56:09.949Z"
   },
   {
    "duration": 9,
    "start_time": "2021-12-29T12:56:10.198Z"
   },
   {
    "duration": 8,
    "start_time": "2021-12-29T12:56:10.210Z"
   },
   {
    "duration": 8,
    "start_time": "2021-12-29T12:56:10.221Z"
   },
   {
    "duration": 11,
    "start_time": "2021-12-29T12:56:10.268Z"
   },
   {
    "duration": 15,
    "start_time": "2021-12-29T12:56:10.282Z"
   },
   {
    "duration": 9,
    "start_time": "2021-12-29T12:56:10.300Z"
   },
   {
    "duration": 57,
    "start_time": "2021-12-29T12:56:10.312Z"
   },
   {
    "duration": 464,
    "start_time": "2021-12-29T12:56:10.372Z"
   },
   {
    "duration": 5,
    "start_time": "2021-12-29T12:56:10.839Z"
   },
   {
    "duration": 28,
    "start_time": "2021-12-29T12:56:10.846Z"
   },
   {
    "duration": 210,
    "start_time": "2021-12-29T12:56:10.876Z"
   },
   {
    "duration": 8,
    "start_time": "2021-12-29T12:56:11.088Z"
   },
   {
    "duration": 12,
    "start_time": "2021-12-29T12:56:11.098Z"
   },
   {
    "duration": 15,
    "start_time": "2021-12-29T12:56:11.113Z"
   },
   {
    "duration": 100,
    "start_time": "2021-12-29T13:07:06.126Z"
   },
   {
    "duration": 3668,
    "start_time": "2021-12-29T13:22:41.224Z"
   },
   {
    "duration": 1403,
    "start_time": "2021-12-29T13:23:21.424Z"
   },
   {
    "duration": 105,
    "start_time": "2021-12-29T13:34:36.121Z"
   },
   {
    "duration": 27,
    "start_time": "2021-12-29T13:37:56.442Z"
   },
   {
    "duration": 12,
    "start_time": "2021-12-29T13:57:26.175Z"
   },
   {
    "duration": 31,
    "start_time": "2021-12-29T14:00:01.183Z"
   },
   {
    "duration": 111,
    "start_time": "2021-12-29T14:13:04.208Z"
   },
   {
    "duration": 1268,
    "start_time": "2021-12-29T14:13:49.245Z"
   },
   {
    "duration": 7,
    "start_time": "2021-12-29T14:15:09.157Z"
   },
   {
    "duration": 1558,
    "start_time": "2021-12-29T14:15:39.617Z"
   },
   {
    "duration": 106,
    "start_time": "2021-12-29T14:15:41.178Z"
   },
   {
    "duration": 6,
    "start_time": "2021-12-29T14:15:41.287Z"
   },
   {
    "duration": 13,
    "start_time": "2021-12-29T14:15:41.296Z"
   },
   {
    "duration": 62,
    "start_time": "2021-12-29T14:15:41.312Z"
   },
   {
    "duration": 7,
    "start_time": "2021-12-29T14:15:41.377Z"
   },
   {
    "duration": 662,
    "start_time": "2021-12-29T14:15:41.387Z"
   },
   {
    "duration": 76,
    "start_time": "2021-12-29T14:15:42.054Z"
   },
   {
    "duration": 32,
    "start_time": "2021-12-29T14:15:42.135Z"
   },
   {
    "duration": 344,
    "start_time": "2021-12-29T14:15:42.170Z"
   },
   {
    "duration": 7,
    "start_time": "2021-12-29T14:15:42.516Z"
   },
   {
    "duration": 305,
    "start_time": "2021-12-29T14:15:42.525Z"
   },
   {
    "duration": 42,
    "start_time": "2021-12-29T14:15:42.833Z"
   },
   {
    "duration": 13,
    "start_time": "2021-12-29T14:15:42.877Z"
   },
   {
    "duration": 544,
    "start_time": "2021-12-29T14:15:42.892Z"
   },
   {
    "duration": 30,
    "start_time": "2021-12-29T14:15:43.438Z"
   },
   {
    "duration": 419,
    "start_time": "2021-12-29T14:15:43.470Z"
   },
   {
    "duration": 506,
    "start_time": "2021-12-29T14:15:43.892Z"
   },
   {
    "duration": 17,
    "start_time": "2021-12-29T14:15:44.401Z"
   },
   {
    "duration": 148,
    "start_time": "2021-12-29T14:15:44.421Z"
   },
   {
    "duration": 414,
    "start_time": "2021-12-29T14:15:44.572Z"
   },
   {
    "duration": 505,
    "start_time": "2021-12-29T14:15:44.989Z"
   },
   {
    "duration": 307,
    "start_time": "2021-12-29T14:15:45.500Z"
   },
   {
    "duration": 413,
    "start_time": "2021-12-29T14:15:45.812Z"
   },
   {
    "duration": 474,
    "start_time": "2021-12-29T14:15:46.227Z"
   },
   {
    "duration": 6,
    "start_time": "2021-12-29T14:15:46.703Z"
   },
   {
    "duration": 20,
    "start_time": "2021-12-29T14:15:46.712Z"
   },
   {
    "duration": 47,
    "start_time": "2021-12-29T14:15:46.734Z"
   },
   {
    "duration": 18,
    "start_time": "2021-12-29T14:15:46.784Z"
   },
   {
    "duration": 32,
    "start_time": "2021-12-29T14:15:46.805Z"
   },
   {
    "duration": 44,
    "start_time": "2021-12-29T14:15:46.868Z"
   },
   {
    "duration": 9,
    "start_time": "2021-12-29T14:15:46.915Z"
   },
   {
    "duration": 42,
    "start_time": "2021-12-29T14:15:46.927Z"
   },
   {
    "duration": 15,
    "start_time": "2021-12-29T14:15:46.972Z"
   },
   {
    "duration": 478,
    "start_time": "2021-12-29T14:15:46.989Z"
   },
   {
    "duration": 14,
    "start_time": "2021-12-29T14:15:47.470Z"
   },
   {
    "duration": 18,
    "start_time": "2021-12-29T14:15:47.486Z"
   },
   {
    "duration": 12,
    "start_time": "2021-12-29T14:15:47.507Z"
   },
   {
    "duration": 229,
    "start_time": "2021-12-29T14:15:47.521Z"
   },
   {
    "duration": 251,
    "start_time": "2021-12-29T14:15:47.752Z"
   },
   {
    "duration": 63,
    "start_time": "2021-12-29T14:15:48.006Z"
   },
   {
    "duration": 255,
    "start_time": "2021-12-29T14:15:48.071Z"
   },
   {
    "duration": 8,
    "start_time": "2021-12-29T14:15:48.328Z"
   },
   {
    "duration": 31,
    "start_time": "2021-12-29T14:15:48.339Z"
   },
   {
    "duration": 18,
    "start_time": "2021-12-29T14:15:48.373Z"
   },
   {
    "duration": 18,
    "start_time": "2021-12-29T14:15:48.394Z"
   },
   {
    "duration": 14,
    "start_time": "2021-12-29T14:15:48.415Z"
   },
   {
    "duration": 13,
    "start_time": "2021-12-29T14:15:48.432Z"
   },
   {
    "duration": 32,
    "start_time": "2021-12-29T14:15:48.447Z"
   },
   {
    "duration": 471,
    "start_time": "2021-12-29T14:15:48.482Z"
   },
   {
    "duration": 15,
    "start_time": "2021-12-29T14:15:48.955Z"
   },
   {
    "duration": 16,
    "start_time": "2021-12-29T14:15:48.973Z"
   },
   {
    "duration": 235,
    "start_time": "2021-12-29T14:15:48.992Z"
   },
   {
    "duration": 10,
    "start_time": "2021-12-29T14:15:49.230Z"
   },
   {
    "duration": 32,
    "start_time": "2021-12-29T14:15:49.242Z"
   },
   {
    "duration": 16,
    "start_time": "2021-12-29T14:15:49.276Z"
   },
   {
    "duration": 1834,
    "start_time": "2021-12-29T14:21:16.144Z"
   },
   {
    "duration": 104,
    "start_time": "2021-12-29T14:21:17.981Z"
   },
   {
    "duration": 6,
    "start_time": "2021-12-29T14:21:18.088Z"
   },
   {
    "duration": 15,
    "start_time": "2021-12-29T14:21:18.097Z"
   },
   {
    "duration": 61,
    "start_time": "2021-12-29T14:21:18.115Z"
   },
   {
    "duration": 10,
    "start_time": "2021-12-29T14:21:18.178Z"
   },
   {
    "duration": 685,
    "start_time": "2021-12-29T14:21:18.190Z"
   },
   {
    "duration": 92,
    "start_time": "2021-12-29T14:21:18.879Z"
   },
   {
    "duration": 9,
    "start_time": "2021-12-29T14:21:18.974Z"
   },
   {
    "duration": 358,
    "start_time": "2021-12-29T14:21:18.985Z"
   },
   {
    "duration": 295,
    "start_time": "2021-12-29T14:21:19.346Z"
   },
   {
    "duration": 35,
    "start_time": "2021-12-29T14:21:19.643Z"
   },
   {
    "duration": 11,
    "start_time": "2021-12-29T14:21:19.680Z"
   },
   {
    "duration": 445,
    "start_time": "2021-12-29T14:21:19.693Z"
   },
   {
    "duration": 35,
    "start_time": "2021-12-29T14:21:20.142Z"
   },
   {
    "duration": 411,
    "start_time": "2021-12-29T14:21:20.180Z"
   },
   {
    "duration": 592,
    "start_time": "2021-12-29T14:21:20.594Z"
   },
   {
    "duration": 537,
    "start_time": "2021-12-29T14:21:21.188Z"
   },
   {
    "duration": 533,
    "start_time": "2021-12-29T14:21:21.727Z"
   },
   {
    "duration": 238,
    "start_time": "2021-12-29T14:21:22.262Z"
   },
   {
    "duration": 312,
    "start_time": "2021-12-29T14:21:22.502Z"
   },
   {
    "duration": 485,
    "start_time": "2021-12-29T14:21:22.817Z"
   },
   {
    "duration": 6,
    "start_time": "2021-12-29T14:21:23.308Z"
   },
   {
    "duration": 20,
    "start_time": "2021-12-29T14:21:23.318Z"
   },
   {
    "duration": 41,
    "start_time": "2021-12-29T14:21:23.341Z"
   },
   {
    "duration": 27,
    "start_time": "2021-12-29T14:21:23.384Z"
   },
   {
    "duration": 65,
    "start_time": "2021-12-29T14:21:23.413Z"
   },
   {
    "duration": 47,
    "start_time": "2021-12-29T14:21:23.481Z"
   },
   {
    "duration": 9,
    "start_time": "2021-12-29T14:21:23.531Z"
   },
   {
    "duration": 18,
    "start_time": "2021-12-29T14:21:23.568Z"
   },
   {
    "duration": 14,
    "start_time": "2021-12-29T14:21:23.589Z"
   },
   {
    "duration": 523,
    "start_time": "2021-12-29T14:21:23.606Z"
   },
   {
    "duration": 15,
    "start_time": "2021-12-29T14:21:24.131Z"
   },
   {
    "duration": 28,
    "start_time": "2021-12-29T14:21:24.149Z"
   },
   {
    "duration": 7,
    "start_time": "2021-12-29T14:21:24.179Z"
   },
   {
    "duration": 224,
    "start_time": "2021-12-29T14:21:24.188Z"
   },
   {
    "duration": 250,
    "start_time": "2021-12-29T14:21:24.414Z"
   },
   {
    "duration": 48,
    "start_time": "2021-12-29T14:21:24.667Z"
   },
   {
    "duration": 223,
    "start_time": "2021-12-29T14:21:24.718Z"
   },
   {
    "duration": 8,
    "start_time": "2021-12-29T14:21:24.943Z"
   },
   {
    "duration": 14,
    "start_time": "2021-12-29T14:21:24.953Z"
   },
   {
    "duration": 11,
    "start_time": "2021-12-29T14:21:24.970Z"
   },
   {
    "duration": 13,
    "start_time": "2021-12-29T14:21:24.983Z"
   },
   {
    "duration": 14,
    "start_time": "2021-12-29T14:21:24.999Z"
   },
   {
    "duration": 54,
    "start_time": "2021-12-29T14:21:25.015Z"
   },
   {
    "duration": 15,
    "start_time": "2021-12-29T14:21:25.071Z"
   },
   {
    "duration": 474,
    "start_time": "2021-12-29T14:21:25.089Z"
   },
   {
    "duration": 6,
    "start_time": "2021-12-29T14:21:25.567Z"
   },
   {
    "duration": 14,
    "start_time": "2021-12-29T14:21:25.575Z"
   },
   {
    "duration": 244,
    "start_time": "2021-12-29T14:21:25.592Z"
   },
   {
    "duration": 10,
    "start_time": "2021-12-29T14:21:25.839Z"
   },
   {
    "duration": 11,
    "start_time": "2021-12-29T14:21:25.868Z"
   },
   {
    "duration": 14,
    "start_time": "2021-12-29T14:21:25.882Z"
   },
   {
    "duration": 10,
    "start_time": "2021-12-29T15:55:17.629Z"
   },
   {
    "duration": 16,
    "start_time": "2021-12-29T16:02:45.345Z"
   },
   {
    "duration": 785,
    "start_time": "2021-12-29T16:04:53.203Z"
   },
   {
    "duration": 368,
    "start_time": "2021-12-29T16:05:07.064Z"
   },
   {
    "duration": 1738,
    "start_time": "2021-12-29T16:05:31.156Z"
   },
   {
    "duration": 113,
    "start_time": "2021-12-29T16:05:32.898Z"
   },
   {
    "duration": 6,
    "start_time": "2021-12-29T16:05:33.014Z"
   },
   {
    "duration": 19,
    "start_time": "2021-12-29T16:05:33.023Z"
   },
   {
    "duration": 36,
    "start_time": "2021-12-29T16:05:33.069Z"
   },
   {
    "duration": 10,
    "start_time": "2021-12-29T16:05:33.107Z"
   },
   {
    "duration": 704,
    "start_time": "2021-12-29T16:05:33.120Z"
   },
   {
    "duration": 85,
    "start_time": "2021-12-29T16:05:33.830Z"
   },
   {
    "duration": 11,
    "start_time": "2021-12-29T16:05:33.918Z"
   },
   {
    "duration": 400,
    "start_time": "2021-12-29T16:05:33.931Z"
   },
   {
    "duration": 378,
    "start_time": "2021-12-29T16:05:34.334Z"
   },
   {
    "duration": 25,
    "start_time": "2021-12-29T16:05:34.715Z"
   },
   {
    "duration": 32,
    "start_time": "2021-12-29T16:05:34.743Z"
   },
   {
    "duration": 507,
    "start_time": "2021-12-29T16:05:34.778Z"
   },
   {
    "duration": 23,
    "start_time": "2021-12-29T16:05:35.289Z"
   },
   {
    "duration": 426,
    "start_time": "2021-12-29T16:05:35.315Z"
   },
   {
    "duration": 559,
    "start_time": "2021-12-29T16:05:35.744Z"
   },
   {
    "duration": 617,
    "start_time": "2021-12-29T16:05:36.306Z"
   },
   {
    "duration": 563,
    "start_time": "2021-12-29T16:05:36.926Z"
   },
   {
    "duration": 220,
    "start_time": "2021-12-29T16:05:37.493Z"
   },
   {
    "duration": 322,
    "start_time": "2021-12-29T16:05:37.717Z"
   },
   {
    "duration": 479,
    "start_time": "2021-12-29T16:05:38.042Z"
   },
   {
    "duration": 6,
    "start_time": "2021-12-29T16:05:38.528Z"
   },
   {
    "duration": 37,
    "start_time": "2021-12-29T16:05:38.538Z"
   },
   {
    "duration": 19,
    "start_time": "2021-12-29T16:05:38.578Z"
   },
   {
    "duration": 17,
    "start_time": "2021-12-29T16:05:38.600Z"
   },
   {
    "duration": 91,
    "start_time": "2021-12-29T16:05:38.621Z"
   },
   {
    "duration": 73,
    "start_time": "2021-12-29T16:05:38.716Z"
   },
   {
    "duration": 10,
    "start_time": "2021-12-29T16:05:38.791Z"
   },
   {
    "duration": 22,
    "start_time": "2021-12-29T16:05:38.804Z"
   },
   {
    "duration": 46,
    "start_time": "2021-12-29T16:05:38.828Z"
   },
   {
    "duration": 485,
    "start_time": "2021-12-29T16:05:38.877Z"
   },
   {
    "duration": 17,
    "start_time": "2021-12-29T16:05:39.368Z"
   },
   {
    "duration": 17,
    "start_time": "2021-12-29T16:05:39.388Z"
   },
   {
    "duration": 7,
    "start_time": "2021-12-29T16:05:39.408Z"
   },
   {
    "duration": 240,
    "start_time": "2021-12-29T16:05:39.417Z"
   },
   {
    "duration": 264,
    "start_time": "2021-12-29T16:05:39.660Z"
   },
   {
    "duration": 82,
    "start_time": "2021-12-29T16:05:39.927Z"
   },
   {
    "duration": 280,
    "start_time": "2021-12-29T16:05:40.012Z"
   },
   {
    "duration": 8,
    "start_time": "2021-12-29T16:05:40.294Z"
   },
   {
    "duration": 9,
    "start_time": "2021-12-29T16:05:40.304Z"
   },
   {
    "duration": 7,
    "start_time": "2021-12-29T16:05:40.316Z"
   },
   {
    "duration": 46,
    "start_time": "2021-12-29T16:05:40.325Z"
   },
   {
    "duration": 15,
    "start_time": "2021-12-29T16:05:40.373Z"
   },
   {
    "duration": 7,
    "start_time": "2021-12-29T16:05:40.391Z"
   },
   {
    "duration": 16,
    "start_time": "2021-12-29T16:05:40.400Z"
   },
   {
    "duration": 537,
    "start_time": "2021-12-29T16:05:40.418Z"
   },
   {
    "duration": 13,
    "start_time": "2021-12-29T16:05:40.959Z"
   },
   {
    "duration": 15,
    "start_time": "2021-12-29T16:05:40.975Z"
   },
   {
    "duration": 287,
    "start_time": "2021-12-29T16:05:40.993Z"
   },
   {
    "duration": 8,
    "start_time": "2021-12-29T16:05:41.283Z"
   },
   {
    "duration": 424,
    "start_time": "2021-12-29T16:05:41.294Z"
   },
   {
    "duration": -375,
    "start_time": "2021-12-29T16:05:42.095Z"
   },
   {
    "duration": 13,
    "start_time": "2021-12-29T16:06:35.703Z"
   },
   {
    "duration": 16,
    "start_time": "2021-12-29T16:10:22.125Z"
   },
   {
    "duration": 1538,
    "start_time": "2021-12-29T16:31:08.230Z"
   },
   {
    "duration": 108,
    "start_time": "2021-12-29T16:31:09.771Z"
   },
   {
    "duration": 5,
    "start_time": "2021-12-29T16:31:09.882Z"
   },
   {
    "duration": 11,
    "start_time": "2021-12-29T16:31:09.890Z"
   },
   {
    "duration": 63,
    "start_time": "2021-12-29T16:31:09.903Z"
   },
   {
    "duration": 8,
    "start_time": "2021-12-29T16:31:09.969Z"
   },
   {
    "duration": 30,
    "start_time": "2021-12-29T16:31:09.979Z"
   },
   {
    "duration": 79,
    "start_time": "2021-12-29T16:31:10.013Z"
   },
   {
    "duration": 10,
    "start_time": "2021-12-29T16:31:10.095Z"
   },
   {
    "duration": 18,
    "start_time": "2021-12-29T16:31:10.107Z"
   },
   {
    "duration": 48,
    "start_time": "2021-12-29T16:31:10.128Z"
   },
   {
    "duration": 663,
    "start_time": "2021-12-29T16:31:10.178Z"
   },
   {
    "duration": 82,
    "start_time": "2021-12-29T16:31:10.844Z"
   },
   {
    "duration": 10,
    "start_time": "2021-12-29T16:31:10.930Z"
   },
   {
    "duration": 343,
    "start_time": "2021-12-29T16:31:10.966Z"
   },
   {
    "duration": 303,
    "start_time": "2021-12-29T16:31:11.312Z"
   },
   {
    "duration": 49,
    "start_time": "2021-12-29T16:31:11.618Z"
   },
   {
    "duration": 11,
    "start_time": "2021-12-29T16:31:11.670Z"
   },
   {
    "duration": 440,
    "start_time": "2021-12-29T16:31:11.684Z"
   },
   {
    "duration": 23,
    "start_time": "2021-12-29T16:31:12.127Z"
   },
   {
    "duration": 403,
    "start_time": "2021-12-29T16:31:12.152Z"
   },
   {
    "duration": 540,
    "start_time": "2021-12-29T16:31:12.558Z"
   },
   {
    "duration": 497,
    "start_time": "2021-12-29T16:31:13.104Z"
   },
   {
    "duration": 508,
    "start_time": "2021-12-29T16:31:13.604Z"
   },
   {
    "duration": 202,
    "start_time": "2021-12-29T16:31:14.114Z"
   },
   {
    "duration": 355,
    "start_time": "2021-12-29T16:31:14.319Z"
   },
   {
    "duration": 450,
    "start_time": "2021-12-29T16:31:14.677Z"
   },
   {
    "duration": 7,
    "start_time": "2021-12-29T16:31:15.130Z"
   },
   {
    "duration": 40,
    "start_time": "2021-12-29T16:31:15.140Z"
   },
   {
    "duration": 18,
    "start_time": "2021-12-29T16:31:15.183Z"
   },
   {
    "duration": 18,
    "start_time": "2021-12-29T16:31:15.204Z"
   },
   {
    "duration": 521,
    "start_time": "2021-12-29T16:31:15.224Z"
   },
   {
    "duration": 25,
    "start_time": "2021-12-29T16:31:15.748Z"
   },
   {
    "duration": 17,
    "start_time": "2021-12-29T16:31:15.776Z"
   },
   {
    "duration": 12,
    "start_time": "2021-12-29T16:31:15.795Z"
   },
   {
    "duration": 230,
    "start_time": "2021-12-29T16:31:15.810Z"
   },
   {
    "duration": 248,
    "start_time": "2021-12-29T16:31:16.043Z"
   },
   {
    "duration": 54,
    "start_time": "2021-12-29T16:31:16.294Z"
   },
   {
    "duration": 227,
    "start_time": "2021-12-29T16:31:16.367Z"
   },
   {
    "duration": 9,
    "start_time": "2021-12-29T16:31:16.596Z"
   },
   {
    "duration": 9,
    "start_time": "2021-12-29T16:31:16.608Z"
   },
   {
    "duration": 7,
    "start_time": "2021-12-29T16:31:16.619Z"
   },
   {
    "duration": 51,
    "start_time": "2021-12-29T16:31:16.628Z"
   },
   {
    "duration": 16,
    "start_time": "2021-12-29T16:31:16.681Z"
   },
   {
    "duration": 7,
    "start_time": "2021-12-29T16:31:16.700Z"
   },
   {
    "duration": 15,
    "start_time": "2021-12-29T16:31:16.709Z"
   },
   {
    "duration": 517,
    "start_time": "2021-12-29T16:31:16.727Z"
   },
   {
    "duration": 6,
    "start_time": "2021-12-29T16:31:17.246Z"
   },
   {
    "duration": 14,
    "start_time": "2021-12-29T16:31:17.266Z"
   },
   {
    "duration": 218,
    "start_time": "2021-12-29T16:31:17.283Z"
   },
   {
    "duration": 9,
    "start_time": "2021-12-29T16:31:17.503Z"
   },
   {
    "duration": 14,
    "start_time": "2021-12-29T16:31:17.515Z"
   },
   {
    "duration": 42,
    "start_time": "2021-12-29T16:31:17.532Z"
   },
   {
    "duration": 1558,
    "start_time": "2021-12-29T16:39:44.409Z"
   },
   {
    "duration": 100,
    "start_time": "2021-12-29T16:39:45.970Z"
   },
   {
    "duration": 6,
    "start_time": "2021-12-29T16:39:46.072Z"
   },
   {
    "duration": 10,
    "start_time": "2021-12-29T16:39:46.081Z"
   },
   {
    "duration": 30,
    "start_time": "2021-12-29T16:39:46.093Z"
   },
   {
    "duration": 46,
    "start_time": "2021-12-29T16:39:46.126Z"
   },
   {
    "duration": 31,
    "start_time": "2021-12-29T16:39:46.175Z"
   },
   {
    "duration": 70,
    "start_time": "2021-12-29T16:39:46.209Z"
   },
   {
    "duration": 14,
    "start_time": "2021-12-29T16:39:46.282Z"
   },
   {
    "duration": 16,
    "start_time": "2021-12-29T16:39:46.299Z"
   },
   {
    "duration": 14,
    "start_time": "2021-12-29T16:39:46.318Z"
   },
   {
    "duration": 673,
    "start_time": "2021-12-29T16:39:46.367Z"
   },
   {
    "duration": 77,
    "start_time": "2021-12-29T16:39:47.042Z"
   },
   {
    "duration": 13,
    "start_time": "2021-12-29T16:39:47.122Z"
   },
   {
    "duration": 355,
    "start_time": "2021-12-29T16:39:47.137Z"
   },
   {
    "duration": 302,
    "start_time": "2021-12-29T16:39:47.495Z"
   },
   {
    "duration": 25,
    "start_time": "2021-12-29T16:39:47.800Z"
   },
   {
    "duration": 10,
    "start_time": "2021-12-29T16:39:47.828Z"
   },
   {
    "duration": 426,
    "start_time": "2021-12-29T16:39:47.867Z"
   },
   {
    "duration": 21,
    "start_time": "2021-12-29T16:39:48.296Z"
   },
   {
    "duration": 410,
    "start_time": "2021-12-29T16:39:48.320Z"
   },
   {
    "duration": 568,
    "start_time": "2021-12-29T16:39:48.732Z"
   },
   {
    "duration": 514,
    "start_time": "2021-12-29T16:39:49.305Z"
   },
   {
    "duration": 569,
    "start_time": "2021-12-29T16:39:49.822Z"
   },
   {
    "duration": 227,
    "start_time": "2021-12-29T16:39:50.393Z"
   },
   {
    "duration": 305,
    "start_time": "2021-12-29T16:39:50.623Z"
   },
   {
    "duration": 504,
    "start_time": "2021-12-29T16:39:50.931Z"
   },
   {
    "duration": 7,
    "start_time": "2021-12-29T16:39:51.438Z"
   },
   {
    "duration": 30,
    "start_time": "2021-12-29T16:39:51.448Z"
   },
   {
    "duration": 25,
    "start_time": "2021-12-29T16:39:51.480Z"
   },
   {
    "duration": 24,
    "start_time": "2021-12-29T16:39:51.508Z"
   },
   {
    "duration": 507,
    "start_time": "2021-12-29T16:39:51.535Z"
   },
   {
    "duration": 25,
    "start_time": "2021-12-29T16:39:52.044Z"
   },
   {
    "duration": 17,
    "start_time": "2021-12-29T16:39:52.072Z"
   },
   {
    "duration": 7,
    "start_time": "2021-12-29T16:39:52.092Z"
   },
   {
    "duration": 237,
    "start_time": "2021-12-29T16:39:52.101Z"
   },
   {
    "duration": 249,
    "start_time": "2021-12-29T16:39:52.341Z"
   },
   {
    "duration": 50,
    "start_time": "2021-12-29T16:39:52.592Z"
   },
   {
    "duration": 281,
    "start_time": "2021-12-29T16:39:52.644Z"
   },
   {
    "duration": 9,
    "start_time": "2021-12-29T16:39:52.928Z"
   },
   {
    "duration": 29,
    "start_time": "2021-12-29T16:39:52.940Z"
   },
   {
    "duration": 6,
    "start_time": "2021-12-29T16:39:52.971Z"
   },
   {
    "duration": 15,
    "start_time": "2021-12-29T16:39:52.980Z"
   },
   {
    "duration": 14,
    "start_time": "2021-12-29T16:39:52.997Z"
   },
   {
    "duration": 10,
    "start_time": "2021-12-29T16:39:53.014Z"
   },
   {
    "duration": 17,
    "start_time": "2021-12-29T16:39:53.069Z"
   },
   {
    "duration": 471,
    "start_time": "2021-12-29T16:39:53.089Z"
   },
   {
    "duration": 11,
    "start_time": "2021-12-29T16:39:53.562Z"
   },
   {
    "duration": 16,
    "start_time": "2021-12-29T16:39:53.575Z"
   },
   {
    "duration": 284,
    "start_time": "2021-12-29T16:39:53.593Z"
   },
   {
    "duration": 7,
    "start_time": "2021-12-29T16:39:53.880Z"
   },
   {
    "duration": 14,
    "start_time": "2021-12-29T16:39:53.890Z"
   },
   {
    "duration": 14,
    "start_time": "2021-12-29T16:39:53.907Z"
   },
   {
    "duration": 1453,
    "start_time": "2021-12-30T08:45:55.928Z"
   },
   {
    "duration": 100,
    "start_time": "2021-12-30T08:45:57.384Z"
   },
   {
    "duration": 6,
    "start_time": "2021-12-30T08:45:57.488Z"
   },
   {
    "duration": 11,
    "start_time": "2021-12-30T08:45:57.525Z"
   },
   {
    "duration": 28,
    "start_time": "2021-12-30T08:45:57.539Z"
   },
   {
    "duration": 7,
    "start_time": "2021-12-30T08:45:57.570Z"
   },
   {
    "duration": 68,
    "start_time": "2021-12-30T08:45:57.579Z"
   },
   {
    "duration": 43,
    "start_time": "2021-12-30T08:45:57.651Z"
   },
   {
    "duration": 37,
    "start_time": "2021-12-30T08:45:57.697Z"
   },
   {
    "duration": 17,
    "start_time": "2021-12-30T08:45:57.736Z"
   },
   {
    "duration": 14,
    "start_time": "2021-12-30T08:45:57.755Z"
   },
   {
    "duration": 97141,
    "start_time": "2021-12-30T08:45:57.771Z"
   },
   {
    "duration": 70,
    "start_time": "2021-12-30T08:47:34.915Z"
   },
   {
    "duration": 8,
    "start_time": "2021-12-30T08:47:34.988Z"
   },
   {
    "duration": 342,
    "start_time": "2021-12-30T08:47:34.998Z"
   },
   {
    "duration": 283,
    "start_time": "2021-12-30T08:47:35.343Z"
   },
   {
    "duration": 22,
    "start_time": "2021-12-30T08:47:35.628Z"
   },
   {
    "duration": 13,
    "start_time": "2021-12-30T08:47:35.652Z"
   },
   {
    "duration": 398,
    "start_time": "2021-12-30T08:47:35.667Z"
   },
   {
    "duration": 21,
    "start_time": "2021-12-30T08:47:36.067Z"
   },
   {
    "duration": 438,
    "start_time": "2021-12-30T08:47:36.090Z"
   },
   {
    "duration": 623,
    "start_time": "2021-12-30T08:47:36.530Z"
   },
   {
    "duration": 586,
    "start_time": "2021-12-30T08:47:37.158Z"
   },
   {
    "duration": 480,
    "start_time": "2021-12-30T08:47:37.747Z"
   },
   {
    "duration": 230,
    "start_time": "2021-12-30T08:47:38.229Z"
   },
   {
    "duration": 292,
    "start_time": "2021-12-30T08:47:38.461Z"
   },
   {
    "duration": 425,
    "start_time": "2021-12-30T08:47:38.755Z"
   },
   {
    "duration": 5,
    "start_time": "2021-12-30T08:47:39.183Z"
   },
   {
    "duration": 34,
    "start_time": "2021-12-30T08:47:39.191Z"
   },
   {
    "duration": 15,
    "start_time": "2021-12-30T08:47:39.228Z"
   },
   {
    "duration": 16,
    "start_time": "2021-12-30T08:47:39.245Z"
   },
   {
    "duration": 548,
    "start_time": "2021-12-30T08:47:39.264Z"
   },
   {
    "duration": 18,
    "start_time": "2021-12-30T08:47:39.815Z"
   },
   {
    "duration": 18,
    "start_time": "2021-12-30T08:47:39.835Z"
   },
   {
    "duration": 6,
    "start_time": "2021-12-30T08:47:39.855Z"
   },
   {
    "duration": 212,
    "start_time": "2021-12-30T08:47:39.864Z"
   },
   {
    "duration": 233,
    "start_time": "2021-12-30T08:47:40.078Z"
   },
   {
    "duration": 55,
    "start_time": "2021-12-30T08:47:40.313Z"
   },
   {
    "duration": 240,
    "start_time": "2021-12-30T08:47:40.371Z"
   },
   {
    "duration": 10,
    "start_time": "2021-12-30T08:47:40.613Z"
   },
   {
    "duration": 7,
    "start_time": "2021-12-30T08:47:40.625Z"
   },
   {
    "duration": 7,
    "start_time": "2021-12-30T08:47:40.635Z"
   },
   {
    "duration": 11,
    "start_time": "2021-12-30T08:47:40.644Z"
   },
   {
    "duration": 14,
    "start_time": "2021-12-30T08:47:40.657Z"
   },
   {
    "duration": 52,
    "start_time": "2021-12-30T08:47:40.674Z"
   },
   {
    "duration": 15,
    "start_time": "2021-12-30T08:47:40.729Z"
   },
   {
    "duration": 444,
    "start_time": "2021-12-30T08:47:40.747Z"
   },
   {
    "duration": 6,
    "start_time": "2021-12-30T08:47:41.194Z"
   },
   {
    "duration": 30,
    "start_time": "2021-12-30T08:47:41.203Z"
   },
   {
    "duration": 215,
    "start_time": "2021-12-30T08:47:41.236Z"
   },
   {
    "duration": 10,
    "start_time": "2021-12-30T08:47:41.453Z"
   },
   {
    "duration": 32,
    "start_time": "2021-12-30T08:47:41.465Z"
   },
   {
    "duration": 13,
    "start_time": "2021-12-30T08:47:41.499Z"
   },
   {
    "duration": 11,
    "start_time": "2021-12-30T08:57:58.746Z"
   },
   {
    "duration": 7,
    "start_time": "2021-12-30T09:21:41.633Z"
   },
   {
    "duration": 360,
    "start_time": "2021-12-30T13:47:15.067Z"
   },
   {
    "duration": 296,
    "start_time": "2021-12-30T13:48:31.559Z"
   },
   {
    "duration": 1761,
    "start_time": "2021-12-30T13:48:49.530Z"
   },
   {
    "duration": 134,
    "start_time": "2021-12-30T13:48:51.293Z"
   },
   {
    "duration": 7,
    "start_time": "2021-12-30T13:48:51.431Z"
   },
   {
    "duration": 13,
    "start_time": "2021-12-30T13:48:51.441Z"
   },
   {
    "duration": 29,
    "start_time": "2021-12-30T13:48:51.456Z"
   },
   {
    "duration": 39,
    "start_time": "2021-12-30T13:48:51.489Z"
   },
   {
    "duration": 31,
    "start_time": "2021-12-30T13:48:51.532Z"
   },
   {
    "duration": 71,
    "start_time": "2021-12-30T13:48:51.567Z"
   },
   {
    "duration": 14,
    "start_time": "2021-12-30T13:48:51.641Z"
   },
   {
    "duration": 17,
    "start_time": "2021-12-30T13:48:51.657Z"
   },
   {
    "duration": 46,
    "start_time": "2021-12-30T13:48:51.676Z"
   },
   {
    "duration": 744,
    "start_time": "2021-12-30T13:48:51.724Z"
   },
   {
    "duration": 112,
    "start_time": "2021-12-30T13:48:52.471Z"
   },
   {
    "duration": 9529,
    "start_time": "2021-12-30T13:48:52.586Z"
   },
   {
    "duration": -1889,
    "start_time": "2021-12-30T13:49:04.011Z"
   },
   {
    "duration": -1903,
    "start_time": "2021-12-30T13:49:04.027Z"
   },
   {
    "duration": -1953,
    "start_time": "2021-12-30T13:49:04.080Z"
   },
   {
    "duration": -1968,
    "start_time": "2021-12-30T13:49:04.098Z"
   },
   {
    "duration": -1983,
    "start_time": "2021-12-30T13:49:04.115Z"
   },
   {
    "duration": -1999,
    "start_time": "2021-12-30T13:49:04.133Z"
   },
   {
    "duration": -2012,
    "start_time": "2021-12-30T13:49:04.148Z"
   },
   {
    "duration": -2046,
    "start_time": "2021-12-30T13:49:04.184Z"
   },
   {
    "duration": -2060,
    "start_time": "2021-12-30T13:49:04.200Z"
   },
   {
    "duration": -2076,
    "start_time": "2021-12-30T13:49:04.218Z"
   },
   {
    "duration": -2091,
    "start_time": "2021-12-30T13:49:04.234Z"
   },
   {
    "duration": -2106,
    "start_time": "2021-12-30T13:49:04.251Z"
   },
   {
    "duration": -2119,
    "start_time": "2021-12-30T13:49:04.267Z"
   },
   {
    "duration": -2154,
    "start_time": "2021-12-30T13:49:04.303Z"
   },
   {
    "duration": -2170,
    "start_time": "2021-12-30T13:49:04.320Z"
   },
   {
    "duration": -2187,
    "start_time": "2021-12-30T13:49:04.339Z"
   },
   {
    "duration": -2201,
    "start_time": "2021-12-30T13:49:04.354Z"
   },
   {
    "duration": -2217,
    "start_time": "2021-12-30T13:49:04.372Z"
   },
   {
    "duration": -2232,
    "start_time": "2021-12-30T13:49:04.388Z"
   },
   {
    "duration": -2264,
    "start_time": "2021-12-30T13:49:04.421Z"
   },
   {
    "duration": -2279,
    "start_time": "2021-12-30T13:49:04.438Z"
   },
   {
    "duration": -2298,
    "start_time": "2021-12-30T13:49:04.458Z"
   },
   {
    "duration": -2312,
    "start_time": "2021-12-30T13:49:04.473Z"
   },
   {
    "duration": -2328,
    "start_time": "2021-12-30T13:49:04.491Z"
   },
   {
    "duration": -2345,
    "start_time": "2021-12-30T13:49:04.509Z"
   },
   {
    "duration": -2378,
    "start_time": "2021-12-30T13:49:04.544Z"
   },
   {
    "duration": -2393,
    "start_time": "2021-12-30T13:49:04.560Z"
   },
   {
    "duration": -2355,
    "start_time": "2021-12-30T13:49:04.578Z"
   },
   {
    "duration": -2369,
    "start_time": "2021-12-30T13:49:04.593Z"
   },
   {
    "duration": -2385,
    "start_time": "2021-12-30T13:49:04.611Z"
   },
   {
    "duration": -2400,
    "start_time": "2021-12-30T13:49:04.627Z"
   },
   {
    "duration": -2432,
    "start_time": "2021-12-30T13:49:04.661Z"
   },
   {
    "duration": -2447,
    "start_time": "2021-12-30T13:49:04.677Z"
   },
   {
    "duration": -2463,
    "start_time": "2021-12-30T13:49:04.695Z"
   },
   {
    "duration": -2478,
    "start_time": "2021-12-30T13:49:04.711Z"
   },
   {
    "duration": -2493,
    "start_time": "2021-12-30T13:49:04.728Z"
   },
   {
    "duration": -2506,
    "start_time": "2021-12-30T13:49:04.743Z"
   },
   {
    "duration": -2540,
    "start_time": "2021-12-30T13:49:04.778Z"
   },
   {
    "duration": -2554,
    "start_time": "2021-12-30T13:49:04.794Z"
   },
   {
    "duration": -2570,
    "start_time": "2021-12-30T13:49:04.811Z"
   },
   {
    "duration": -2583,
    "start_time": "2021-12-30T13:49:04.826Z"
   },
   {
    "duration": 1087,
    "start_time": "2021-12-30T13:50:13.963Z"
   },
   {
    "duration": 982,
    "start_time": "2021-12-30T13:50:48.380Z"
   },
   {
    "duration": 1519,
    "start_time": "2021-12-30T13:56:18.810Z"
   },
   {
    "duration": 1602,
    "start_time": "2021-12-30T13:56:57.807Z"
   },
   {
    "duration": 1348,
    "start_time": "2021-12-30T13:57:35.499Z"
   },
   {
    "duration": 1075,
    "start_time": "2021-12-30T14:07:10.652Z"
   },
   {
    "duration": 943,
    "start_time": "2021-12-30T14:08:16.580Z"
   },
   {
    "duration": 1276,
    "start_time": "2021-12-30T14:09:05.149Z"
   },
   {
    "duration": 1443,
    "start_time": "2021-12-30T14:11:27.084Z"
   },
   {
    "duration": 798,
    "start_time": "2021-12-30T14:12:28.372Z"
   },
   {
    "duration": 903,
    "start_time": "2021-12-30T14:14:14.627Z"
   },
   {
    "duration": 859,
    "start_time": "2021-12-30T14:14:42.575Z"
   },
   {
    "duration": 935,
    "start_time": "2021-12-30T14:15:32.069Z"
   },
   {
    "duration": 1588,
    "start_time": "2021-12-30T14:15:50.378Z"
   },
   {
    "duration": 1064,
    "start_time": "2021-12-30T14:16:02.693Z"
   },
   {
    "duration": 1075,
    "start_time": "2021-12-30T14:16:18.699Z"
   },
   {
    "duration": 945,
    "start_time": "2021-12-30T14:17:49.939Z"
   },
   {
    "duration": 3233,
    "start_time": "2021-12-30T14:18:47.462Z"
   },
   {
    "duration": 1282,
    "start_time": "2021-12-30T14:20:40.228Z"
   },
   {
    "duration": 4137,
    "start_time": "2021-12-30T14:21:33.026Z"
   },
   {
    "duration": 1334,
    "start_time": "2021-12-30T14:21:54.038Z"
   },
   {
    "duration": 4424,
    "start_time": "2021-12-30T14:22:45.296Z"
   },
   {
    "duration": 317,
    "start_time": "2021-12-30T14:25:31.013Z"
   },
   {
    "duration": 1121,
    "start_time": "2021-12-30T14:25:53.856Z"
   },
   {
    "duration": 7414,
    "start_time": "2021-12-30T14:27:08.728Z"
   },
   {
    "duration": 1295,
    "start_time": "2021-12-30T14:28:08.330Z"
   },
   {
    "duration": 3591,
    "start_time": "2021-12-30T14:28:45.085Z"
   },
   {
    "duration": 436,
    "start_time": "2021-12-30T14:29:42.630Z"
   },
   {
    "duration": 9220,
    "start_time": "2021-12-30T14:34:45.436Z"
   },
   {
    "duration": 7967,
    "start_time": "2021-12-30T14:41:22.823Z"
   },
   {
    "duration": 7509,
    "start_time": "2021-12-30T14:42:16.314Z"
   },
   {
    "duration": 1471,
    "start_time": "2021-12-30T14:43:08.926Z"
   },
   {
    "duration": 107,
    "start_time": "2021-12-30T14:43:10.400Z"
   },
   {
    "duration": 6,
    "start_time": "2021-12-30T14:43:10.511Z"
   },
   {
    "duration": 10,
    "start_time": "2021-12-30T14:43:10.520Z"
   },
   {
    "duration": 26,
    "start_time": "2021-12-30T14:43:10.533Z"
   },
   {
    "duration": 8,
    "start_time": "2021-12-30T14:43:10.561Z"
   },
   {
    "duration": 66,
    "start_time": "2021-12-30T14:43:10.571Z"
   },
   {
    "duration": 44,
    "start_time": "2021-12-30T14:43:10.641Z"
   },
   {
    "duration": 37,
    "start_time": "2021-12-30T14:43:10.688Z"
   },
   {
    "duration": 19,
    "start_time": "2021-12-30T14:43:10.728Z"
   },
   {
    "duration": 14,
    "start_time": "2021-12-30T14:43:10.749Z"
   },
   {
    "duration": 724,
    "start_time": "2021-12-30T14:43:10.765Z"
   },
   {
    "duration": 84,
    "start_time": "2021-12-30T14:43:11.492Z"
   },
   {
    "duration": 7324,
    "start_time": "2021-12-30T14:43:11.579Z"
   },
   {
    "duration": -1952,
    "start_time": "2021-12-30T14:43:20.861Z"
   },
   {
    "duration": -1967,
    "start_time": "2021-12-30T14:43:20.878Z"
   },
   {
    "duration": -2002,
    "start_time": "2021-12-30T14:43:20.914Z"
   },
   {
    "duration": -2019,
    "start_time": "2021-12-30T14:43:20.932Z"
   },
   {
    "duration": -2036,
    "start_time": "2021-12-30T14:43:20.951Z"
   },
   {
    "duration": -2052,
    "start_time": "2021-12-30T14:43:20.968Z"
   },
   {
    "duration": -2069,
    "start_time": "2021-12-30T14:43:20.987Z"
   },
   {
    "duration": -2083,
    "start_time": "2021-12-30T14:43:21.002Z"
   },
   {
    "duration": -2116,
    "start_time": "2021-12-30T14:43:21.038Z"
   },
   {
    "duration": -2132,
    "start_time": "2021-12-30T14:43:21.055Z"
   },
   {
    "duration": -2149,
    "start_time": "2021-12-30T14:43:21.073Z"
   },
   {
    "duration": -2163,
    "start_time": "2021-12-30T14:43:21.089Z"
   },
   {
    "duration": -2180,
    "start_time": "2021-12-30T14:43:21.107Z"
   },
   {
    "duration": -2194,
    "start_time": "2021-12-30T14:43:21.123Z"
   },
   {
    "duration": -2229,
    "start_time": "2021-12-30T14:43:21.159Z"
   },
   {
    "duration": -2242,
    "start_time": "2021-12-30T14:43:21.174Z"
   },
   {
    "duration": -2259,
    "start_time": "2021-12-30T14:43:21.192Z"
   },
   {
    "duration": -2273,
    "start_time": "2021-12-30T14:43:21.208Z"
   },
   {
    "duration": -2290,
    "start_time": "2021-12-30T14:43:21.226Z"
   },
   {
    "duration": -2304,
    "start_time": "2021-12-30T14:43:21.242Z"
   },
   {
    "duration": -2337,
    "start_time": "2021-12-30T14:43:21.277Z"
   },
   {
    "duration": -2352,
    "start_time": "2021-12-30T14:43:21.294Z"
   },
   {
    "duration": -2369,
    "start_time": "2021-12-30T14:43:21.312Z"
   },
   {
    "duration": -2383,
    "start_time": "2021-12-30T14:43:21.328Z"
   },
   {
    "duration": -2399,
    "start_time": "2021-12-30T14:43:21.346Z"
   },
   {
    "duration": -2415,
    "start_time": "2021-12-30T14:43:21.363Z"
   },
   {
    "duration": -2448,
    "start_time": "2021-12-30T14:43:21.397Z"
   },
   {
    "duration": -2462,
    "start_time": "2021-12-30T14:43:21.413Z"
   },
   {
    "duration": -2479,
    "start_time": "2021-12-30T14:43:21.431Z"
   },
   {
    "duration": -2494,
    "start_time": "2021-12-30T14:43:21.447Z"
   },
   {
    "duration": -2509,
    "start_time": "2021-12-30T14:43:21.464Z"
   },
   {
    "duration": -2525,
    "start_time": "2021-12-30T14:43:21.481Z"
   },
   {
    "duration": -2565,
    "start_time": "2021-12-30T14:43:21.523Z"
   },
   {
    "duration": -2582,
    "start_time": "2021-12-30T14:43:21.541Z"
   },
   {
    "duration": -2599,
    "start_time": "2021-12-30T14:43:21.560Z"
   },
   {
    "duration": -2613,
    "start_time": "2021-12-30T14:43:21.576Z"
   },
   {
    "duration": -2631,
    "start_time": "2021-12-30T14:43:21.595Z"
   },
   {
    "duration": -2592,
    "start_time": "2021-12-30T14:43:21.615Z"
   },
   {
    "duration": -2631,
    "start_time": "2021-12-30T14:43:21.655Z"
   },
   {
    "duration": -2649,
    "start_time": "2021-12-30T14:43:21.675Z"
   },
   {
    "duration": -2669,
    "start_time": "2021-12-30T14:43:21.696Z"
   },
   {
    "duration": 1889,
    "start_time": "2021-12-30T14:49:28.845Z"
   },
   {
    "duration": 111,
    "start_time": "2021-12-30T14:49:30.738Z"
   },
   {
    "duration": 6,
    "start_time": "2021-12-30T14:49:30.852Z"
   },
   {
    "duration": 18,
    "start_time": "2021-12-30T14:49:30.862Z"
   },
   {
    "duration": 77,
    "start_time": "2021-12-30T14:49:30.883Z"
   },
   {
    "duration": 7,
    "start_time": "2021-12-30T14:49:30.963Z"
   },
   {
    "duration": 67,
    "start_time": "2021-12-30T14:49:30.973Z"
   },
   {
    "duration": 48,
    "start_time": "2021-12-30T14:49:31.046Z"
   },
   {
    "duration": 40,
    "start_time": "2021-12-30T14:49:31.097Z"
   },
   {
    "duration": 17,
    "start_time": "2021-12-30T14:49:31.140Z"
   },
   {
    "duration": 17,
    "start_time": "2021-12-30T14:49:31.160Z"
   },
   {
    "duration": 760,
    "start_time": "2021-12-30T14:49:31.180Z"
   },
   {
    "duration": 93,
    "start_time": "2021-12-30T14:49:31.943Z"
   },
   {
    "duration": 20,
    "start_time": "2021-12-30T14:49:32.038Z"
   },
   {
    "duration": 311,
    "start_time": "2021-12-30T14:49:32.061Z"
   },
   {
    "duration": 292,
    "start_time": "2021-12-30T14:49:32.375Z"
   },
   {
    "duration": 22,
    "start_time": "2021-12-30T14:49:32.669Z"
   },
   {
    "duration": 39,
    "start_time": "2021-12-30T14:49:32.694Z"
   },
   {
    "duration": 398,
    "start_time": "2021-12-30T14:49:32.736Z"
   },
   {
    "duration": 25,
    "start_time": "2021-12-30T14:49:33.137Z"
   },
   {
    "duration": 394,
    "start_time": "2021-12-30T14:49:33.165Z"
   },
   {
    "duration": 559,
    "start_time": "2021-12-30T14:49:33.562Z"
   },
   {
    "duration": 478,
    "start_time": "2021-12-30T14:49:34.126Z"
   },
   {
    "duration": 489,
    "start_time": "2021-12-30T14:49:34.609Z"
   },
   {
    "duration": 254,
    "start_time": "2021-12-30T14:49:35.101Z"
   },
   {
    "duration": 280,
    "start_time": "2021-12-30T14:49:35.357Z"
   },
   {
    "duration": 422,
    "start_time": "2021-12-30T14:49:35.639Z"
   },
   {
    "duration": 6,
    "start_time": "2021-12-30T14:49:36.064Z"
   },
   {
    "duration": 17,
    "start_time": "2021-12-30T14:49:36.073Z"
   },
   {
    "duration": 41,
    "start_time": "2021-12-30T14:49:36.093Z"
   },
   {
    "duration": 17,
    "start_time": "2021-12-30T14:49:36.137Z"
   },
   {
    "duration": 448,
    "start_time": "2021-12-30T14:49:36.156Z"
   },
   {
    "duration": 19,
    "start_time": "2021-12-30T14:49:36.606Z"
   },
   {
    "duration": 15,
    "start_time": "2021-12-30T14:49:36.627Z"
   },
   {
    "duration": 5,
    "start_time": "2021-12-30T14:49:36.644Z"
   },
   {
    "duration": 221,
    "start_time": "2021-12-30T14:49:36.652Z"
   },
   {
    "duration": 226,
    "start_time": "2021-12-30T14:49:36.875Z"
   },
   {
    "duration": 57,
    "start_time": "2021-12-30T14:49:37.103Z"
   },
   {
    "duration": 215,
    "start_time": "2021-12-30T14:49:37.162Z"
   },
   {
    "duration": 8,
    "start_time": "2021-12-30T14:49:37.379Z"
   },
   {
    "duration": 17,
    "start_time": "2021-12-30T14:49:37.389Z"
   },
   {
    "duration": 6,
    "start_time": "2021-12-30T14:49:37.423Z"
   },
   {
    "duration": 12,
    "start_time": "2021-12-30T14:49:37.432Z"
   },
   {
    "duration": 14,
    "start_time": "2021-12-30T14:49:37.446Z"
   },
   {
    "duration": 7,
    "start_time": "2021-12-30T14:49:37.462Z"
   },
   {
    "duration": 59,
    "start_time": "2021-12-30T14:49:37.471Z"
   },
   {
    "duration": 442,
    "start_time": "2021-12-30T14:49:37.532Z"
   },
   {
    "duration": 5,
    "start_time": "2021-12-30T14:49:37.977Z"
   },
   {
    "duration": 28,
    "start_time": "2021-12-30T14:49:37.985Z"
   },
   {
    "duration": 216,
    "start_time": "2021-12-30T14:49:38.016Z"
   },
   {
    "duration": 7,
    "start_time": "2021-12-30T14:49:38.234Z"
   },
   {
    "duration": 16,
    "start_time": "2021-12-30T14:49:38.244Z"
   },
   {
    "duration": 12,
    "start_time": "2021-12-30T14:49:38.263Z"
   }
  ],
  "kernelspec": {
   "display_name": "Python 3",
   "language": "python",
   "name": "python3"
  },
  "language_info": {
   "codemirror_mode": {
    "name": "ipython",
    "version": 3
   },
   "file_extension": ".py",
   "mimetype": "text/x-python",
   "name": "python",
   "nbconvert_exporter": "python",
   "pygments_lexer": "ipython3",
   "version": "3.7.8"
  },
  "toc": {
   "base_numbering": 1,
   "nav_menu": {
    "height": "454px",
    "width": "735px"
   },
   "number_sections": true,
   "sideBar": true,
   "skip_h1_title": true,
   "title_cell": "Table of Contents",
   "title_sidebar": "Contents",
   "toc_cell": false,
   "toc_position": {},
   "toc_section_display": true,
   "toc_window_display": false
  }
 },
 "nbformat": 4,
 "nbformat_minor": 2
}
